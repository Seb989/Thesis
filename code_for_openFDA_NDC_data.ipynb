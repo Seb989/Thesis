{
 "cells": [
  {
   "cell_type": "code",
   "execution_count": 5,
   "metadata": {},
   "outputs": [],
   "source": [
    "import json\n",
    "import regex as re\n",
    "\n",
    "from ast import literal_eval\n",
    "\n",
    "import pandas as pd\n",
    "\n",
    "import dtale\n",
    "\n",
    "pd.set_option('display.max_columns', None) # display all columns in DF"
   ]
  },
  {
   "cell_type": "markdown",
   "metadata": {},
   "source": [
    "# Data from OpenFDA NDC"
   ]
  },
  {
   "cell_type": "code",
   "execution_count": 6,
   "metadata": {},
   "outputs": [
    {
     "name": "stdout",
     "output_type": "stream",
     "text": [
      "130115\n"
     ]
    }
   ],
   "source": [
    "with open('raw_openFDA_org_NDC_data.json', 'r') as f: # reading download json file\n",
    "    data = json.load(f)\n",
    "    \n",
    "df_openFDA_NDC_org = pd.DataFrame(data['results']) # creating a DataFrame\n",
    "\n",
    "print(len(df_openFDA_NDC_org))"
   ]
  },
  {
   "cell_type": "code",
   "execution_count": 7,
   "metadata": {},
   "outputs": [
    {
     "data": {
      "text/html": [
       "<div>\n",
       "<style scoped>\n",
       "    .dataframe tbody tr th:only-of-type {\n",
       "        vertical-align: middle;\n",
       "    }\n",
       "\n",
       "    .dataframe tbody tr th {\n",
       "        vertical-align: top;\n",
       "    }\n",
       "\n",
       "    .dataframe thead th {\n",
       "        text-align: right;\n",
       "    }\n",
       "</style>\n",
       "<table border=\"1\" class=\"dataframe\">\n",
       "  <thead>\n",
       "    <tr style=\"text-align: right;\">\n",
       "      <th></th>\n",
       "      <th>product_ndc</th>\n",
       "      <th>generic_name</th>\n",
       "      <th>labeler_name</th>\n",
       "      <th>brand_name</th>\n",
       "      <th>finished</th>\n",
       "      <th>packaging</th>\n",
       "      <th>listing_expiration_date</th>\n",
       "      <th>openfda</th>\n",
       "      <th>marketing_category</th>\n",
       "      <th>dosage_form</th>\n",
       "      <th>spl_id</th>\n",
       "      <th>product_type</th>\n",
       "      <th>marketing_start_date</th>\n",
       "      <th>product_id</th>\n",
       "      <th>application_number</th>\n",
       "      <th>brand_name_base</th>\n",
       "      <th>marketing_end_date</th>\n",
       "      <th>active_ingredients</th>\n",
       "      <th>route</th>\n",
       "      <th>pharm_class</th>\n",
       "      <th>brand_name_suffix</th>\n",
       "      <th>dea_schedule</th>\n",
       "    </tr>\n",
       "  </thead>\n",
       "  <tbody>\n",
       "    <tr>\n",
       "      <th>0</th>\n",
       "      <td>72835-601</td>\n",
       "      <td>Mometasone Furoate and Dimethicone</td>\n",
       "      <td>V2 Pharma, LLC</td>\n",
       "      <td>Quinixil</td>\n",
       "      <td>True</td>\n",
       "      <td>[{'package_ndc': '72835-601-02', 'description'...</td>\n",
       "      <td>20231231</td>\n",
       "      <td>{'manufacturer_name': ['V2 Pharma, LLC'], 'rxc...</td>\n",
       "      <td>ANDA</td>\n",
       "      <td>KIT</td>\n",
       "      <td>d371387b-e6d5-4e49-a489-57ad96af442a</td>\n",
       "      <td>HUMAN PRESCRIPTION DRUG</td>\n",
       "      <td>20190603</td>\n",
       "      <td>72835-601_d371387b-e6d5-4e49-a489-57ad96af442a</td>\n",
       "      <td>ANDA076216</td>\n",
       "      <td>Quinixil</td>\n",
       "      <td>NaN</td>\n",
       "      <td>NaN</td>\n",
       "      <td>NaN</td>\n",
       "      <td>NaN</td>\n",
       "      <td>NaN</td>\n",
       "      <td>NaN</td>\n",
       "    </tr>\n",
       "    <tr>\n",
       "      <th>1</th>\n",
       "      <td>0472-0735</td>\n",
       "      <td>Miconazole Nitrate</td>\n",
       "      <td>Actavis Pharma, Inc.</td>\n",
       "      <td>Antifungal</td>\n",
       "      <td>True</td>\n",
       "      <td>[{'package_ndc': '0472-0735-14', 'description'...</td>\n",
       "      <td>NaN</td>\n",
       "      <td>{'manufacturer_name': ['Actavis Pharma, Inc.']...</td>\n",
       "      <td>OTC MONOGRAPH FINAL</td>\n",
       "      <td>CREAM</td>\n",
       "      <td>e344ee5c-3151-48e3-a5d4-f48011aed57b</td>\n",
       "      <td>HUMAN OTC DRUG</td>\n",
       "      <td>19970601</td>\n",
       "      <td>0472-0735_e344ee5c-3151-48e3-a5d4-f48011aed57b</td>\n",
       "      <td>part333C</td>\n",
       "      <td>Antifungal</td>\n",
       "      <td>20221130</td>\n",
       "      <td>[{'name': 'MICONAZOLE NITRATE', 'strength': '2...</td>\n",
       "      <td>[TOPICAL]</td>\n",
       "      <td>[Azole Antifungal [EPC], Azoles [CS]]</td>\n",
       "      <td>NaN</td>\n",
       "      <td>NaN</td>\n",
       "    </tr>\n",
       "    <tr>\n",
       "      <th>2</th>\n",
       "      <td>72839-961</td>\n",
       "      <td>Miconazole Nitrate 2%</td>\n",
       "      <td>Derma Care Research Labs, LLC</td>\n",
       "      <td>Warrior Antifungal Foot</td>\n",
       "      <td>True</td>\n",
       "      <td>[{'package_ndc': '72839-961-02', 'description'...</td>\n",
       "      <td>20221231</td>\n",
       "      <td>{'manufacturer_name': ['Derma Care Research La...</td>\n",
       "      <td>OTC MONOGRAPH FINAL</td>\n",
       "      <td>POWDER</td>\n",
       "      <td>cf2e9dc1-275c-4454-e053-2995a90af295</td>\n",
       "      <td>HUMAN OTC DRUG</td>\n",
       "      <td>20210202</td>\n",
       "      <td>72839-961_cf2e9dc1-275c-4454-e053-2995a90af295</td>\n",
       "      <td>part333C</td>\n",
       "      <td>Warrior Antifungal Foot</td>\n",
       "      <td>NaN</td>\n",
       "      <td>[{'name': 'MICONAZOLE NITRATE', 'strength': '2...</td>\n",
       "      <td>[TOPICAL]</td>\n",
       "      <td>[Azole Antifungal [EPC], Azoles [CS]]</td>\n",
       "      <td>NaN</td>\n",
       "      <td>NaN</td>\n",
       "    </tr>\n",
       "    <tr>\n",
       "      <th>3</th>\n",
       "      <td>0472-0804</td>\n",
       "      <td>desonide</td>\n",
       "      <td>Actavis Pharma, Inc.</td>\n",
       "      <td>Desonide</td>\n",
       "      <td>True</td>\n",
       "      <td>[{'package_ndc': '0472-0804-15', 'description'...</td>\n",
       "      <td>20221231</td>\n",
       "      <td>{'manufacturer_name': ['Actavis Pharma, Inc.']...</td>\n",
       "      <td>NDA AUTHORIZED GENERIC</td>\n",
       "      <td>CREAM</td>\n",
       "      <td>8d3633e6-80d9-4779-862a-b608180e202a</td>\n",
       "      <td>HUMAN PRESCRIPTION DRUG</td>\n",
       "      <td>20130801</td>\n",
       "      <td>0472-0804_8d3633e6-80d9-4779-862a-b608180e202a</td>\n",
       "      <td>NDA019048</td>\n",
       "      <td>Desonide</td>\n",
       "      <td>NaN</td>\n",
       "      <td>[{'name': 'DESONIDE', 'strength': '.5 mg/g'}]</td>\n",
       "      <td>[TOPICAL]</td>\n",
       "      <td>[Corticosteroid Hormone Receptor Agonists [MoA...</td>\n",
       "      <td>NaN</td>\n",
       "      <td>NaN</td>\n",
       "    </tr>\n",
       "    <tr>\n",
       "      <th>4</th>\n",
       "      <td>72843-461</td>\n",
       "      <td>DESMOPRESSIN ACETATE</td>\n",
       "      <td>UBI Pharma Inc.</td>\n",
       "      <td>DESMOPRESSIN ACETATE</td>\n",
       "      <td>True</td>\n",
       "      <td>[{'package_ndc': '72843-461-10', 'description'...</td>\n",
       "      <td>20221231</td>\n",
       "      <td>{'manufacturer_name': ['UBI Pharma Inc.'], 'rx...</td>\n",
       "      <td>ANDA</td>\n",
       "      <td>INJECTION</td>\n",
       "      <td>b01c1ff8-764d-360e-e053-2995a90aa0bd</td>\n",
       "      <td>HUMAN PRESCRIPTION DRUG</td>\n",
       "      <td>20200917</td>\n",
       "      <td>72843-461_b01c1ff8-764d-360e-e053-2995a90aa0bd</td>\n",
       "      <td>ANDA210223</td>\n",
       "      <td>DESMOPRESSIN ACETATE</td>\n",
       "      <td>NaN</td>\n",
       "      <td>[{'name': 'DESMOPRESSIN ACETATE', 'strength': ...</td>\n",
       "      <td>[INTRAVENOUS, SUBCUTANEOUS]</td>\n",
       "      <td>[Factor VIII Activator [EPC], Increased Coagul...</td>\n",
       "      <td>NaN</td>\n",
       "      <td>NaN</td>\n",
       "    </tr>\n",
       "  </tbody>\n",
       "</table>\n",
       "</div>"
      ],
      "text/plain": [
       "  product_ndc                        generic_name  \\\n",
       "0   72835-601  Mometasone Furoate and Dimethicone   \n",
       "1   0472-0735                  Miconazole Nitrate   \n",
       "2   72839-961               Miconazole Nitrate 2%   \n",
       "3   0472-0804                            desonide   \n",
       "4   72843-461                DESMOPRESSIN ACETATE   \n",
       "\n",
       "                    labeler_name               brand_name  finished  \\\n",
       "0                 V2 Pharma, LLC                 Quinixil      True   \n",
       "1           Actavis Pharma, Inc.               Antifungal      True   \n",
       "2  Derma Care Research Labs, LLC  Warrior Antifungal Foot      True   \n",
       "3           Actavis Pharma, Inc.                 Desonide      True   \n",
       "4                UBI Pharma Inc.     DESMOPRESSIN ACETATE      True   \n",
       "\n",
       "                                           packaging listing_expiration_date  \\\n",
       "0  [{'package_ndc': '72835-601-02', 'description'...                20231231   \n",
       "1  [{'package_ndc': '0472-0735-14', 'description'...                     NaN   \n",
       "2  [{'package_ndc': '72839-961-02', 'description'...                20221231   \n",
       "3  [{'package_ndc': '0472-0804-15', 'description'...                20221231   \n",
       "4  [{'package_ndc': '72843-461-10', 'description'...                20221231   \n",
       "\n",
       "                                             openfda      marketing_category  \\\n",
       "0  {'manufacturer_name': ['V2 Pharma, LLC'], 'rxc...                    ANDA   \n",
       "1  {'manufacturer_name': ['Actavis Pharma, Inc.']...     OTC MONOGRAPH FINAL   \n",
       "2  {'manufacturer_name': ['Derma Care Research La...     OTC MONOGRAPH FINAL   \n",
       "3  {'manufacturer_name': ['Actavis Pharma, Inc.']...  NDA AUTHORIZED GENERIC   \n",
       "4  {'manufacturer_name': ['UBI Pharma Inc.'], 'rx...                    ANDA   \n",
       "\n",
       "  dosage_form                                spl_id             product_type  \\\n",
       "0         KIT  d371387b-e6d5-4e49-a489-57ad96af442a  HUMAN PRESCRIPTION DRUG   \n",
       "1       CREAM  e344ee5c-3151-48e3-a5d4-f48011aed57b           HUMAN OTC DRUG   \n",
       "2      POWDER  cf2e9dc1-275c-4454-e053-2995a90af295           HUMAN OTC DRUG   \n",
       "3       CREAM  8d3633e6-80d9-4779-862a-b608180e202a  HUMAN PRESCRIPTION DRUG   \n",
       "4   INJECTION  b01c1ff8-764d-360e-e053-2995a90aa0bd  HUMAN PRESCRIPTION DRUG   \n",
       "\n",
       "  marketing_start_date                                      product_id  \\\n",
       "0             20190603  72835-601_d371387b-e6d5-4e49-a489-57ad96af442a   \n",
       "1             19970601  0472-0735_e344ee5c-3151-48e3-a5d4-f48011aed57b   \n",
       "2             20210202  72839-961_cf2e9dc1-275c-4454-e053-2995a90af295   \n",
       "3             20130801  0472-0804_8d3633e6-80d9-4779-862a-b608180e202a   \n",
       "4             20200917  72843-461_b01c1ff8-764d-360e-e053-2995a90aa0bd   \n",
       "\n",
       "  application_number          brand_name_base marketing_end_date  \\\n",
       "0         ANDA076216                 Quinixil                NaN   \n",
       "1           part333C               Antifungal           20221130   \n",
       "2           part333C  Warrior Antifungal Foot                NaN   \n",
       "3          NDA019048                 Desonide                NaN   \n",
       "4         ANDA210223     DESMOPRESSIN ACETATE                NaN   \n",
       "\n",
       "                                  active_ingredients  \\\n",
       "0                                                NaN   \n",
       "1  [{'name': 'MICONAZOLE NITRATE', 'strength': '2...   \n",
       "2  [{'name': 'MICONAZOLE NITRATE', 'strength': '2...   \n",
       "3      [{'name': 'DESONIDE', 'strength': '.5 mg/g'}]   \n",
       "4  [{'name': 'DESMOPRESSIN ACETATE', 'strength': ...   \n",
       "\n",
       "                         route  \\\n",
       "0                          NaN   \n",
       "1                    [TOPICAL]   \n",
       "2                    [TOPICAL]   \n",
       "3                    [TOPICAL]   \n",
       "4  [INTRAVENOUS, SUBCUTANEOUS]   \n",
       "\n",
       "                                         pharm_class brand_name_suffix  \\\n",
       "0                                                NaN               NaN   \n",
       "1              [Azole Antifungal [EPC], Azoles [CS]]               NaN   \n",
       "2              [Azole Antifungal [EPC], Azoles [CS]]               NaN   \n",
       "3  [Corticosteroid Hormone Receptor Agonists [MoA...               NaN   \n",
       "4  [Factor VIII Activator [EPC], Increased Coagul...               NaN   \n",
       "\n",
       "  dea_schedule  \n",
       "0          NaN  \n",
       "1          NaN  \n",
       "2          NaN  \n",
       "3          NaN  \n",
       "4          NaN  "
      ]
     },
     "execution_count": 7,
     "metadata": {},
     "output_type": "execute_result"
    }
   ],
   "source": [
    "df_openFDA_NDC_org.head()"
   ]
  },
  {
   "cell_type": "markdown",
   "metadata": {},
   "source": [
    "Removing unwished data"
   ]
  },
  {
   "cell_type": "markdown",
   "metadata": {},
   "source": [
    "Removing all non human prescription drugs and drugs of the type: EMERGENCY USE AUTHORIZATION, UNAPPROVED DRUG FOR USE IN DRUG SHORTAGE, UNAPPROVED DRUG OTHER. ALso removing not finished drugs as well as marketing category: UNAPPROVED MEDICAL GAS, DRUG FOR FURTHER PROCESSING and UNAPPROVED HOMEOPATHIC"
   ]
  },
  {
   "cell_type": "code",
   "execution_count": 9,
   "metadata": {},
   "outputs": [],
   "source": [
    "df_openFDA_NDC = df_openFDA_NDC_org\n",
    "df_openFDA_NDC = df_openFDA_NDC.loc[df_openFDA_NDC['finished'] != 'TRUE']"
   ]
  },
  {
   "cell_type": "code",
   "execution_count": 10,
   "metadata": {},
   "outputs": [],
   "source": [
    "df_openFDA_NDC = df_openFDA_NDC.loc[df_openFDA_NDC['product_type'] == 'HUMAN PRESCRIPTION DRUG']"
   ]
  },
  {
   "cell_type": "code",
   "execution_count": 11,
   "metadata": {},
   "outputs": [],
   "source": [
    "df_openFDA_NDC = df_openFDA_NDC.loc[df_openFDA_NDC['marketing_category'] != 'EMERGENCY USE AUTHORIZATION']\n",
    "df_openFDA_NDC = df_openFDA_NDC.loc[df_openFDA_NDC['marketing_category'] != 'UNAPPROVED DRUG FOR USE IN DRUG SHORTAGE']\n",
    "df_openFDA_NDC = df_openFDA_NDC.loc[df_openFDA_NDC['marketing_category'] != 'UNAPPROVED DRUG OTHER']\n",
    "df_openFDA_NDC = df_openFDA_NDC.loc[df_openFDA_NDC['marketing_category'] != 'UNAPPROVED MEDICAL GAS']\n",
    "df_openFDA_NDC = df_openFDA_NDC.loc[df_openFDA_NDC['marketing_category'] != 'DRUG FOR FURTHER PROCESSING']\n",
    "df_openFDA_NDC = df_openFDA_NDC.loc[df_openFDA_NDC['marketing_category'] != 'UNAPPROVED HOMEOPATHIC']"
   ]
  },
  {
   "cell_type": "code",
   "execution_count": 12,
   "metadata": {},
   "outputs": [
    {
     "data": {
      "text/plain": [
       "48846"
      ]
     },
     "execution_count": 12,
     "metadata": {},
     "output_type": "execute_result"
    }
   ],
   "source": [
    "len(df_openFDA_NDC)"
   ]
  },
  {
   "cell_type": "markdown",
   "metadata": {},
   "source": [
    "Unpacking active ingredients from results"
   ]
  },
  {
   "cell_type": "code",
   "execution_count": 13,
   "metadata": {
    "scrolled": true
   },
   "outputs": [
    {
     "name": "stderr",
     "output_type": "stream",
     "text": [
      "2022-03-22 08:49:49,787 - INFO     - NumExpr defaulting to 4 threads.\n"
     ]
    }
   ],
   "source": [
    "df_openFDA_NDC_active_ingredients = pd.DataFrame(df_openFDA_NDC['active_ingredients'])\n",
    "\n",
    "df_openFDA_NDC_active_ingredients['org_index'] = df_openFDA_NDC_active_ingredients.index\n",
    "\n",
    "df_openFDA_NDC_active_ingredients = df_openFDA_NDC_active_ingredients.dropna(subset = ['active_ingredients'])\n",
    "\n",
    "df_openFDA_NDC_active_ingredients = df_openFDA_NDC_active_ingredients.explode('active_ingredients')\n",
    "\n",
    "count = 0\n",
    "\n",
    "for i, j in zip(df_openFDA_NDC_active_ingredients['active_ingredients'], df_openFDA_NDC_active_ingredients['org_index']): # normalizing product and adding id for merge\n",
    "    \n",
    "    count = count + 1\n",
    "    \n",
    "    df_temp = pd.DataFrame(pd.json_normalize(i))\n",
    "    df_temp['org_index'] = j\n",
    "    \n",
    "    if count == 1:\n",
    "        df_openFDA_NDC_active_ingredients_nor = df_temp\n",
    "    else:\n",
    "        df_openFDA_NDC_active_ingredients_nor = pd.concat([df_openFDA_NDC_active_ingredients_nor, df_temp])\n",
    "        \n",
    "df_openFDA_NDC_active_ingredients_nor = df_openFDA_NDC_active_ingredients_nor.set_index('org_index')"
   ]
  },
  {
   "cell_type": "markdown",
   "metadata": {},
   "source": [
    "Merging the unpacked data with the orig. data "
   ]
  },
  {
   "cell_type": "code",
   "execution_count": 14,
   "metadata": {},
   "outputs": [],
   "source": [
    "df_openFDA_NDC = pd.merge(df_openFDA_NDC_active_ingredients_nor, df_openFDA_NDC,  left_index = True, right_index = True, how = 'right')"
   ]
  },
  {
   "cell_type": "code",
   "execution_count": 15,
   "metadata": {},
   "outputs": [
    {
     "data": {
      "text/plain": [
       "55363"
      ]
     },
     "execution_count": 15,
     "metadata": {},
     "output_type": "execute_result"
    }
   ],
   "source": [
    "len(df_openFDA_NDC)"
   ]
  },
  {
   "cell_type": "markdown",
   "metadata": {},
   "source": [
    "Removing unique ids without a name or strength"
   ]
  },
  {
   "cell_type": "code",
   "execution_count": 16,
   "metadata": {},
   "outputs": [],
   "source": [
    "df_openFDA_NDC = df_openFDA_NDC.dropna(subset=['name', 'strength'])"
   ]
  },
  {
   "cell_type": "code",
   "execution_count": 17,
   "metadata": {},
   "outputs": [
    {
     "data": {
      "text/plain": [
       "54485"
      ]
     },
     "execution_count": 17,
     "metadata": {},
     "output_type": "execute_result"
    }
   ],
   "source": [
    "len(df_openFDA_NDC)"
   ]
  },
  {
   "cell_type": "markdown",
   "metadata": {},
   "source": [
    "Unpacking is original packager from openfda under results"
   ]
  },
  {
   "cell_type": "code",
   "execution_count": null,
   "metadata": {},
   "outputs": [],
   "source": [
    "df_openFDA_NDC_openFDA_org_pack = pd.DataFrame(df_openFDA_NDC['openfda'])\n",
    "\n",
    "df_openFDA_NDC_openFDA_org_pack['org_index'] = df_openFDA_NDC_openFDA_org_pack.index\n",
    "\n",
    "count = 0\n",
    "\n",
    "for i, j in zip(df_openFDA_NDC_openFDA_org_pack['openfda'], df_openFDA_NDC_openFDA_org_pack['org_index']): # normalizing product and adding id for merge\n",
    "    \n",
    "    count = count + 1\n",
    "    \n",
    "    df_temp = pd.DataFrame(pd.json_normalize(i))\n",
    "    df_temp['org_index'] = j\n",
    "    \n",
    "    if count == 1:\n",
    "        df_openFDA_NDC_openFDA_org_pack_nor = df_temp\n",
    "    else:\n",
    "        df_openFDA_NDC_openFDA_org_pack_nor = pd.concat([df_openFDA_NDC_openFDA_org_pack_nor, df_temp])\n",
    "        \n",
    "df_openFDA_NDC_openFDA_org_pack_nor = df_openFDA_NDC_openFDA_org_pack_nor.set_index('org_index')\n",
    "\n",
    "df_openFDA_NDC_openFDA_org_pack_nor = pd.DataFrame(df_openFDA_NDC_openFDA_org_pack_nor['is_original_packager'])\n",
    "\n",
    "df_openFDA_NDC_openFDA_org_pack_nor = df_openFDA_NDC_openFDA_org_pack_nor.explode('is_original_packager')\n",
    "\n",
    "df_openFDA_NDC_openFDA_org_pack_nor = df_openFDA_NDC_openFDA_org_pack_nor.dropna()"
   ]
  },
  {
   "cell_type": "markdown",
   "metadata": {},
   "source": [
    "Merging the unpacked data with the orig. data"
   ]
  },
  {
   "cell_type": "code",
   "execution_count": null,
   "metadata": {},
   "outputs": [],
   "source": [
    "df_openFDA_NDC = pd.merge(df_openFDA_NDC_openFDA_org_pack_nor, df_openFDA_NDC,  left_index = True, right_index = True, how = 'right')"
   ]
  },
  {
   "cell_type": "code",
   "execution_count": null,
   "metadata": {},
   "outputs": [],
   "source": [
    "len(df_openFDA_NDC)"
   ]
  },
  {
   "cell_type": "markdown",
   "metadata": {},
   "source": [
    "### Data Manipulation"
   ]
  },
  {
   "cell_type": "markdown",
   "metadata": {},
   "source": [
    "Splitting ndc into labeler and product code"
   ]
  },
  {
   "cell_type": "code",
   "execution_count": null,
   "metadata": {},
   "outputs": [],
   "source": [
    "df_temp = df_openFDA_NDC['product_ndc'].str.split(\"-\", n = 1, expand = True)\n",
    "df_openFDA_NDC['labeler_code']= df_temp[0]\n",
    "df_openFDA_NDC['labeler_code'] = pd.to_numeric(df_openFDA_NDC['labeler_code'])\n",
    "df_openFDA_NDC['product_code']= df_temp[1]\n",
    "df_openFDA_NDC['product_code'] = pd.to_numeric(df_openFDA_NDC['product_code'])"
   ]
  },
  {
   "cell_type": "markdown",
   "metadata": {},
   "source": [
    "Clearing route for characters that are not a letters or numbers"
   ]
  },
  {
   "cell_type": "code",
   "execution_count": null,
   "metadata": {},
   "outputs": [],
   "source": [
    "df_openFDA_NDC['route'] = df_openFDA_NDC['route'].astype(str).apply(lambda x: re.sub('[^A-Za-z0-9]+', '', x)) "
   ]
  },
  {
   "cell_type": "markdown",
   "metadata": {},
   "source": [
    "Creating an unique id"
   ]
  },
  {
   "cell_type": "code",
   "execution_count": null,
   "metadata": {},
   "outputs": [],
   "source": [
    "df_openFDA_NDC['generic_name'] = df_openFDA_NDC['name'].str.strip()\n",
    "df_openFDA_NDC['dosage_form'] = df_openFDA_NDC['dosage_form'].str.strip()\n",
    "df_openFDA_NDC['route'] = df_openFDA_NDC['route'].str.strip()\n",
    "df_openFDA_NDC['strength'] = df_openFDA_NDC['strength'].str.strip()\n",
    "\n",
    "df_openFDA_NDC['unique_id'] = df_openFDA_NDC['name'].astype(str) + '-' + df_openFDA_NDC['dosage_form'].astype(str) + '-' + df_openFDA_NDC['route'].astype(str) + '-' + df_openFDA_NDC['strength'].astype(str)\n",
    "df_openFDA_NDC['unique_id'] = df_openFDA_NDC['unique_id'].str.lower()"
   ]
  },
  {
   "cell_type": "markdown",
   "metadata": {},
   "source": [
    "Removing duplicates based on unique id, labeler and product code"
   ]
  },
  {
   "cell_type": "code",
   "execution_count": null,
   "metadata": {},
   "outputs": [],
   "source": [
    "df_openFDA_NDC = df_openFDA_NDC.drop_duplicates(subset = ['unique_id', 'labeler_code', 'product_code'])\n",
    "print(len(df_openFDA_NDC))"
   ]
  },
  {
   "cell_type": "markdown",
   "metadata": {},
   "source": [
    "Adding false with unique ids that are not org. packed"
   ]
  },
  {
   "cell_type": "code",
   "execution_count": null,
   "metadata": {},
   "outputs": [],
   "source": [
    "df_openFDA_NDC['is_original_packager'] = df_openFDA_NDC['is_original_packager'].fillna(False)"
   ]
  },
  {
   "cell_type": "markdown",
   "metadata": {},
   "source": [
    "Removing unique ids without a name, strength or pharm_class"
   ]
  },
  {
   "cell_type": "code",
   "execution_count": null,
   "metadata": {},
   "outputs": [],
   "source": [
    "df_openFDA_NDC = df_openFDA_NDC.dropna(subset=['name', 'strength', 'pharm_class'])"
   ]
  },
  {
   "cell_type": "markdown",
   "metadata": {},
   "source": [
    "# Downloading output"
   ]
  },
  {
   "cell_type": "code",
   "execution_count": null,
   "metadata": {},
   "outputs": [],
   "source": [
    "df_openFDA_NDC.to_csv('raw_openFDA_NDC_data.csv', sep = '~', index = False)"
   ]
  },
  {
   "cell_type": "code",
   "execution_count": null,
   "metadata": {},
   "outputs": [],
   "source": []
  }
 ],
 "metadata": {
  "kernelspec": {
   "display_name": "Python 3",
   "language": "python",
   "name": "python3"
  },
  "language_info": {
   "codemirror_mode": {
    "name": "ipython",
    "version": 3
   },
   "file_extension": ".py",
   "mimetype": "text/x-python",
   "name": "python",
   "nbconvert_exporter": "python",
   "pygments_lexer": "ipython3",
   "version": "3.8.5"
  }
 },
 "nbformat": 4,
 "nbformat_minor": 4
}
