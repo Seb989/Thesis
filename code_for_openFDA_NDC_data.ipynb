{
 "cells": [
  {
   "cell_type": "code",
   "execution_count": 1,
   "metadata": {},
   "outputs": [],
   "source": [
    "import json\n",
    "import regex as re\n",
    "\n",
    "import pandas as pd\n",
    "\n",
    "pd.set_option('display.max_columns', None) # display all columns in DF"
   ]
  },
  {
   "cell_type": "markdown",
   "metadata": {},
   "source": [
    "# Data from OpenFDA NDC"
   ]
  },
  {
   "cell_type": "code",
   "execution_count": 2,
   "metadata": {},
   "outputs": [
    {
     "name": "stdout",
     "output_type": "stream",
     "text": [
      "130115\n"
     ]
    }
   ],
   "source": [
    "with open('raw_openFDA_org_NDC_data.json', 'r') as f: # reading download json file\n",
    "    data = json.load(f)\n",
    "    \n",
    "df_openFDA_NDC = pd.DataFrame(data['results']) # creating a DataFrame\n",
    "\n",
    "print(len(df_openFDA_NDC))"
   ]
  },
  {
   "cell_type": "markdown",
   "metadata": {},
   "source": [
    "### Data manipulation"
   ]
  },
  {
   "cell_type": "markdown",
   "metadata": {},
   "source": [
    "Removing all non human prescription drugs and drugs of the type: EMERGENCY USE AUTHORIZATION, UNAPPROVED DRUG FOR USE IN DRUG SHORTAGE, UNAPPROVED DRUG OTHER"
   ]
  },
  {
   "cell_type": "code",
   "execution_count": 3,
   "metadata": {},
   "outputs": [],
   "source": [
    "df_openFDA_NDC = df_openFDA_NDC.loc[df_openFDA_NDC['product_type'] == 'HUMAN PRESCRIPTION DRUG']"
   ]
  },
  {
   "cell_type": "code",
   "execution_count": 4,
   "metadata": {},
   "outputs": [],
   "source": [
    "df_openFDA_NDC = df_openFDA_NDC.loc[df_openFDA_NDC['marketing_category'] != 'EMERGENCY USE AUTHORIZATION']\n",
    "df_openFDA_NDC = df_openFDA_NDC.loc[df_openFDA_NDC['marketing_category'] != 'UNAPPROVED DRUG FOR USE IN DRUG SHORTAGE']\n",
    "df_openFDA_NDC = df_openFDA_NDC.loc[df_openFDA_NDC['marketing_category'] != 'UNAPPROVED DRUG OTHER']"
   ]
  },
  {
   "cell_type": "markdown",
   "metadata": {},
   "source": [
    "Splitting ndc into labeler and product code"
   ]
  },
  {
   "cell_type": "code",
   "execution_count": 5,
   "metadata": {},
   "outputs": [],
   "source": [
    "df_temp = df_openFDA_NDC['product_ndc'].str.split(\"-\", n = 1, expand = True)\n",
    "df_openFDA_NDC['labeler_code']= df_temp[0]\n",
    "df_openFDA_NDC['labeler_code'] = pd.to_numeric(df_openFDA_NDC['labeler_code'])\n",
    "df_openFDA_NDC['product_code']= df_temp[1]\n",
    "df_openFDA_NDC['product_code'] = pd.to_numeric(df_openFDA_NDC['product_code'])"
   ]
  },
  {
   "cell_type": "markdown",
   "metadata": {},
   "source": [
    "Clearing route for characters that are not a letters or numbers"
   ]
  },
  {
   "cell_type": "code",
   "execution_count": 6,
   "metadata": {},
   "outputs": [],
   "source": [
    "df_openFDA_NDC['route'] = df_openFDA_NDC['route'].astype(str).apply(lambda x: re.sub('[^A-Za-z0-9]+', '', x)) "
   ]
  },
  {
   "cell_type": "markdown",
   "metadata": {},
   "source": [
    "Creating an unique id"
   ]
  },
  {
   "cell_type": "code",
   "execution_count": 7,
   "metadata": {},
   "outputs": [],
   "source": [
    "df_openFDA_NDC['unique_id'] = df_openFDA_NDC['generic_name'].astype(str) + '-' + df_openFDA_NDC['dosage_form'].astype(str) + '-' + df_openFDA_NDC['route'].astype(str)"
   ]
  },
  {
   "cell_type": "markdown",
   "metadata": {},
   "source": [
    "Removing duplicates based on unique id, labeler and product code"
   ]
  },
  {
   "cell_type": "code",
   "execution_count": 8,
   "metadata": {},
   "outputs": [
    {
     "name": "stdout",
     "output_type": "stream",
     "text": [
      "48907\n"
     ]
    }
   ],
   "source": [
    "df_openFDA_NDC = df_openFDA_NDC.drop_duplicates(subset = ['unique_id', 'labeler_code', 'product_code'])\n",
    "print(len(df_openFDA_NDC))"
   ]
  },
  {
   "cell_type": "markdown",
   "metadata": {},
   "source": [
    "# Downloading output"
   ]
  },
  {
   "cell_type": "code",
   "execution_count": 9,
   "metadata": {},
   "outputs": [],
   "source": [
    "df_openFDA_NDC.to_csv('raw_openFDA_NDC_data.csv', sep = '~', index = False)"
   ]
  },
  {
   "cell_type": "code",
   "execution_count": null,
   "metadata": {},
   "outputs": [],
   "source": []
  }
 ],
 "metadata": {
  "kernelspec": {
   "display_name": "Python 3",
   "language": "python",
   "name": "python3"
  },
  "language_info": {
   "codemirror_mode": {
    "name": "ipython",
    "version": 3
   },
   "file_extension": ".py",
   "mimetype": "text/x-python",
   "name": "python",
   "nbconvert_exporter": "python",
   "pygments_lexer": "ipython3",
   "version": "3.8.5"
  }
 },
 "nbformat": 4,
 "nbformat_minor": 4
}
