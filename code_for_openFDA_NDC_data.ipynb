{
 "cells": [
  {
   "cell_type": "markdown",
   "metadata": {},
   "source": [
    "# Libraries"
   ]
  },
  {
   "cell_type": "code",
   "execution_count": 159,
   "metadata": {},
   "outputs": [],
   "source": [
    "import json\n",
    "import regex as re\n",
    "\n",
    "from ast import literal_eval\n",
    "\n",
    "import pandas as pd\n",
    "import numpy as np\n",
    "\n",
    "import dtale\n",
    "\n",
    "pd.set_option('display.max_columns', None) # display all columns in DF"
   ]
  },
  {
   "cell_type": "markdown",
   "metadata": {},
   "source": [
    "# Data from OpenFDA NDC"
   ]
  },
  {
   "cell_type": "markdown",
   "metadata": {},
   "source": [
    "The file \"raw_openFDA_org_NDC_data.json\" can be downloaded at openFDA. Use the following link: https://download.open.fda.gov/drug/ndc/drug-ndc-0001-of-0001.json.zip"
   ]
  },
  {
   "cell_type": "code",
   "execution_count": 160,
   "metadata": {},
   "outputs": [
    {
     "name": "stdout",
     "output_type": "stream",
     "text": [
      "130115\n"
     ]
    }
   ],
   "source": [
    "with open('raw_openFDA_org_NDC_data.json', 'r') as f: # reading download json file\n",
    "    data = json.load(f)\n",
    "    \n",
    "df_openFDA_NDC_org = pd.DataFrame(data['results']) # creating a DataFrame\n",
    "\n",
    "print(len(df_openFDA_NDC_org))"
   ]
  },
  {
   "cell_type": "markdown",
   "metadata": {},
   "source": [
    "Removing unwished data"
   ]
  },
  {
   "cell_type": "markdown",
   "metadata": {},
   "source": [
    "Removing all non human prescription drugs and drugs of the type: EMERGENCY USE AUTHORIZATION, UNAPPROVED DRUG FOR USE IN DRUG SHORTAGE, UNAPPROVED DRUG OTHER. ALso removing not finished drugs as well as marketing category: UNAPPROVED MEDICAL GAS, DRUG FOR FURTHER PROCESSING and UNAPPROVED HOMEOPATHIC"
   ]
  },
  {
   "cell_type": "code",
   "execution_count": 161,
   "metadata": {},
   "outputs": [],
   "source": [
    "df_openFDA_NDC = df_openFDA_NDC_org\n",
    "df_openFDA_NDC = df_openFDA_NDC.loc[df_openFDA_NDC['finished'] != 'TRUE']"
   ]
  },
  {
   "cell_type": "code",
   "execution_count": 162,
   "metadata": {},
   "outputs": [],
   "source": [
    "df_openFDA_NDC = df_openFDA_NDC.loc[df_openFDA_NDC['product_type'] == 'HUMAN PRESCRIPTION DRUG']"
   ]
  },
  {
   "cell_type": "code",
   "execution_count": 163,
   "metadata": {},
   "outputs": [],
   "source": [
    "df_openFDA_NDC = df_openFDA_NDC.loc[df_openFDA_NDC['marketing_category'] != 'EMERGENCY USE AUTHORIZATION']\n",
    "df_openFDA_NDC = df_openFDA_NDC.loc[df_openFDA_NDC['marketing_category'] != 'UNAPPROVED DRUG FOR USE IN DRUG SHORTAGE']\n",
    "df_openFDA_NDC = df_openFDA_NDC.loc[df_openFDA_NDC['marketing_category'] != 'UNAPPROVED DRUG OTHER']\n",
    "df_openFDA_NDC = df_openFDA_NDC.loc[df_openFDA_NDC['marketing_category'] != 'UNAPPROVED MEDICAL GAS']\n",
    "df_openFDA_NDC = df_openFDA_NDC.loc[df_openFDA_NDC['marketing_category'] != 'DRUG FOR FURTHER PROCESSING']\n",
    "df_openFDA_NDC = df_openFDA_NDC.loc[df_openFDA_NDC['marketing_category'] != 'UNAPPROVED HOMEOPATHIC']"
   ]
  },
  {
   "cell_type": "markdown",
   "metadata": {},
   "source": [
    "Removing drugs without active ingredients"
   ]
  },
  {
   "cell_type": "code",
   "execution_count": 164,
   "metadata": {},
   "outputs": [],
   "source": [
    "df_openFDA_NDC = df_openFDA_NDC.dropna(subset = ['active_ingredients'])"
   ]
  },
  {
   "cell_type": "code",
   "execution_count": 165,
   "metadata": {},
   "outputs": [
    {
     "data": {
      "text/plain": [
       "47968"
      ]
     },
     "execution_count": 165,
     "metadata": {},
     "output_type": "execute_result"
    }
   ],
   "source": [
    "len(df_openFDA_NDC)"
   ]
  },
  {
   "cell_type": "markdown",
   "metadata": {},
   "source": [
    "# Unpacking"
   ]
  },
  {
   "cell_type": "markdown",
   "metadata": {},
   "source": [
    "### Unpacking is original packager from openfda under results"
   ]
  },
  {
   "cell_type": "code",
   "execution_count": 166,
   "metadata": {},
   "outputs": [],
   "source": [
    "df_openFDA_NDC_openFDA_org_pack = pd.DataFrame(df_openFDA_NDC['openfda'])\n",
    "\n",
    "df_openFDA_NDC_openFDA_org_pack['org_index'] = df_openFDA_NDC_openFDA_org_pack.index\n",
    "\n",
    "count = 0\n",
    "\n",
    "for i, j in zip(df_openFDA_NDC_openFDA_org_pack['openfda'], df_openFDA_NDC_openFDA_org_pack['org_index']): # normalizing product and adding id for merge\n",
    "    \n",
    "    count = count + 1\n",
    "    \n",
    "    df_temp = pd.DataFrame(pd.json_normalize(i))\n",
    "    df_temp['org_index'] = j\n",
    "    \n",
    "    if count == 1:\n",
    "        df_openFDA_NDC_openFDA_org_pack_nor = df_temp\n",
    "    else:\n",
    "        df_openFDA_NDC_openFDA_org_pack_nor = pd.concat([df_openFDA_NDC_openFDA_org_pack_nor, df_temp])\n",
    "        \n",
    "df_openFDA_NDC_openFDA_org_pack_nor = df_openFDA_NDC_openFDA_org_pack_nor.set_index('org_index')\n",
    "\n",
    "df_openFDA_NDC_openFDA_org_pack_nor = pd.DataFrame(df_openFDA_NDC_openFDA_org_pack_nor['is_original_packager'])\n",
    "\n",
    "df_openFDA_NDC_openFDA_org_pack_nor = df_openFDA_NDC_openFDA_org_pack_nor.explode('is_original_packager')\n",
    "\n",
    "df_openFDA_NDC_openFDA_org_pack_nor = df_openFDA_NDC_openFDA_org_pack_nor.dropna()"
   ]
  },
  {
   "cell_type": "markdown",
   "metadata": {},
   "source": [
    "Merging with the orig. data"
   ]
  },
  {
   "cell_type": "code",
   "execution_count": 167,
   "metadata": {},
   "outputs": [],
   "source": [
    "df_openFDA_NDC = pd.merge(df_openFDA_NDC, df_openFDA_NDC_openFDA_org_pack_nor,  left_index = True, right_index = True, how = 'left')"
   ]
  },
  {
   "cell_type": "code",
   "execution_count": 168,
   "metadata": {},
   "outputs": [
    {
     "data": {
      "text/plain": [
       "47968"
      ]
     },
     "execution_count": 168,
     "metadata": {},
     "output_type": "execute_result"
    }
   ],
   "source": [
    "len(df_openFDA_NDC)"
   ]
  },
  {
   "cell_type": "markdown",
   "metadata": {},
   "source": [
    "### Unpacking active ingredients from results"
   ]
  },
  {
   "cell_type": "code",
   "execution_count": 169,
   "metadata": {},
   "outputs": [],
   "source": [
    "df_openFDA_NDC_active_ingredients = pd.DataFrame(df_openFDA_NDC['active_ingredients'])\n",
    "\n",
    "df_openFDA_NDC_active_ingredients['org_index'] = df_openFDA_NDC_active_ingredients.index\n",
    "\n",
    "df_openFDA_NDC_active_ingredients = df_openFDA_NDC_active_ingredients.dropna(subset = ['active_ingredients'])\n",
    "\n",
    "df_openFDA_NDC_active_ingredients = df_openFDA_NDC_active_ingredients.explode('active_ingredients')\n",
    "\n",
    "count = 0\n",
    "\n",
    "for i, j in zip(df_openFDA_NDC_active_ingredients['active_ingredients'], df_openFDA_NDC_active_ingredients['org_index']): # normalizing product and adding id for merge\n",
    "    \n",
    "    count = count + 1\n",
    "    \n",
    "    df_temp = pd.DataFrame(pd.json_normalize(i))\n",
    "    df_temp['org_index'] = j\n",
    "    \n",
    "    if count == 1:\n",
    "        df_openFDA_NDC_active_ingredients_nor = df_temp\n",
    "    else:\n",
    "        df_openFDA_NDC_active_ingredients_nor = pd.concat([df_openFDA_NDC_active_ingredients_nor, df_temp])\n",
    "        \n",
    "df_openFDA_NDC_active_ingredients_nor = df_openFDA_NDC_active_ingredients_nor.set_index('org_index')"
   ]
  },
  {
   "cell_type": "markdown",
   "metadata": {},
   "source": [
    "Creating a list to take multiple values for the same drug into account"
   ]
  },
  {
   "cell_type": "code",
   "execution_count": 170,
   "metadata": {},
   "outputs": [],
   "source": [
    "df_openFDA_NDC_active_ingredients_nor = df_openFDA_NDC_active_ingredients_nor.reset_index()"
   ]
  },
  {
   "cell_type": "code",
   "execution_count": 171,
   "metadata": {},
   "outputs": [],
   "source": [
    "df_openFDA_NDC_active_ingredients_nor_name = pd.DataFrame(df_openFDA_NDC_active_ingredients_nor.groupby('org_index').apply(lambda x: (x['name'].values).tolist()))\n",
    "df_openFDA_NDC_active_ingredients_nor_strength = pd.DataFrame(df_openFDA_NDC_active_ingredients_nor.groupby('org_index').apply(lambda x: (x['strength'].values).tolist()))\n",
    "\n",
    "df_openFDA_NDC_active_ingredients_nor_name_stregnth = pd.merge(df_openFDA_NDC_active_ingredients_nor_name, df_openFDA_NDC_active_ingredients_nor_strength,  left_index = True, right_index = True, how = 'inner')\n",
    "df_openFDA_NDC_active_ingredients_nor_name_stregnth = df_openFDA_NDC_active_ingredients_nor_name_stregnth.rename(columns = {'0_x': 'name', '0_y': 'strength'})"
   ]
  },
  {
   "cell_type": "markdown",
   "metadata": {},
   "source": [
    "Merging with the orig. data"
   ]
  },
  {
   "cell_type": "code",
   "execution_count": 172,
   "metadata": {},
   "outputs": [],
   "source": [
    "df_openFDA_NDC = pd.merge(df_openFDA_NDC, df_openFDA_NDC_active_ingredients_nor_name_stregnth,  left_index = True, right_index = True, how = 'left')"
   ]
  },
  {
   "cell_type": "code",
   "execution_count": 173,
   "metadata": {},
   "outputs": [
    {
     "data": {
      "text/plain": [
       "47968"
      ]
     },
     "execution_count": 173,
     "metadata": {},
     "output_type": "execute_result"
    }
   ],
   "source": [
    "len(df_openFDA_NDC)"
   ]
  },
  {
   "cell_type": "markdown",
   "metadata": {},
   "source": [
    "### Data Manipulation"
   ]
  },
  {
   "cell_type": "markdown",
   "metadata": {},
   "source": [
    "Splitting ndc into labeler and product code"
   ]
  },
  {
   "cell_type": "code",
   "execution_count": 174,
   "metadata": {},
   "outputs": [],
   "source": [
    "df_temp = df_openFDA_NDC['product_ndc'].str.split(\"-\", n = 1, expand = True)\n",
    "df_openFDA_NDC['labeler_code']= df_temp[0]\n",
    "df_openFDA_NDC['labeler_code'] = pd.to_numeric(df_openFDA_NDC['labeler_code'])\n",
    "df_openFDA_NDC['product_code']= df_temp[1]\n",
    "df_openFDA_NDC['product_code'] = pd.to_numeric(df_openFDA_NDC['product_code'])"
   ]
  },
  {
   "cell_type": "markdown",
   "metadata": {},
   "source": [
    "Clearing route for characters that are not a letters or numbers"
   ]
  },
  {
   "cell_type": "code",
   "execution_count": 175,
   "metadata": {},
   "outputs": [],
   "source": [
    "df_openFDA_NDC['route'] = df_openFDA_NDC['route'].astype(str).apply(lambda x: re.sub('[^A-Za-z0-9]+', '', x)) "
   ]
  },
  {
   "cell_type": "markdown",
   "metadata": {},
   "source": [
    "Creating an unique id"
   ]
  },
  {
   "cell_type": "code",
   "execution_count": 176,
   "metadata": {},
   "outputs": [],
   "source": [
    "df_openFDA_NDC['generic_name'] = df_openFDA_NDC['generic_name'].str.strip()\n",
    "df_openFDA_NDC['dosage_form'] = df_openFDA_NDC['dosage_form'].str.strip()\n",
    "df_openFDA_NDC['route'] = df_openFDA_NDC['route'].str.strip()\n",
    "\n",
    "df_openFDA_NDC['unique_id'] = df_openFDA_NDC['generic_name'].astype(str) + '-' + df_openFDA_NDC['dosage_form'].astype(str) + '-' + df_openFDA_NDC['route'].astype(str) + '-' +df_openFDA_NDC['strength'].astype(str)\n",
    "df_openFDA_NDC['unique_id'] = df_openFDA_NDC['unique_id'].str.lower()"
   ]
  },
  {
   "cell_type": "markdown",
   "metadata": {},
   "source": [
    "Removing duplicates based on unique id, labeler and product code"
   ]
  },
  {
   "cell_type": "code",
   "execution_count": 177,
   "metadata": {},
   "outputs": [],
   "source": [
    "df_openFDA_NDC = df_openFDA_NDC.drop_duplicates(subset = ['labeler_code', 'product_code'], keep = 'first')"
   ]
  },
  {
   "cell_type": "code",
   "execution_count": 178,
   "metadata": {},
   "outputs": [
    {
     "data": {
      "text/plain": [
       "47387"
      ]
     },
     "execution_count": 178,
     "metadata": {},
     "output_type": "execute_result"
    }
   ],
   "source": [
    "len(df_openFDA_NDC)"
   ]
  },
  {
   "cell_type": "markdown",
   "metadata": {},
   "source": [
    "# Downloading output"
   ]
  },
  {
   "cell_type": "code",
   "execution_count": null,
   "metadata": {},
   "outputs": [],
   "source": [
    "df_openFDA_NDC.to_csv('raw_openFDA_NDC_data.csv', sep = '~', index = False)"
   ]
  }
 ],
 "metadata": {
  "kernelspec": {
   "display_name": "Python 3 (ipykernel)",
   "language": "python",
   "name": "python3"
  },
  "language_info": {
   "codemirror_mode": {
    "name": "ipython",
    "version": 3
   },
   "file_extension": ".py",
   "mimetype": "text/x-python",
   "name": "python",
   "nbconvert_exporter": "python",
   "pygments_lexer": "ipython3",
   "version": "3.9.7"
  }
 },
 "nbformat": 4,
 "nbformat_minor": 4
}
