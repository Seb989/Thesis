{
 "cells": [
  {
   "cell_type": "markdown",
   "metadata": {},
   "source": [
    "# Libraries"
   ]
  },
  {
   "cell_type": "code",
   "execution_count": 42,
   "metadata": {},
   "outputs": [],
   "source": [
    "import requests\n",
    "\n",
    "import numpy as np\n",
    "import pandas as pd\n",
    "\n",
    "import datetime as dt\n",
    "\n",
    "import matplotlib.pyplot as plt\n",
    "import seaborn as sns\n",
    "\n",
    "from ast import literal_eval\n",
    "\n",
    "pd.set_option('display.max_columns', None) # display all columns in DF"
   ]
  },
  {
   "cell_type": "markdown",
   "metadata": {},
   "source": [
    "# Uploading raw data"
   ]
  },
  {
   "cell_type": "code",
   "execution_count": 43,
   "metadata": {},
   "outputs": [],
   "source": [
    "df_openFDA_NDC = pd.read_csv('raw_openFDA_NDC_data.csv', sep = '~')\n",
    "df_medicaid = pd.read_csv('raw_medicaid_data.csv', sep = '~')\n",
    "df_PPI = pd.read_excel('PPI industry data for Pharmaceutical preparation manufacturing.xlsx', skiprows = 10)\n",
    "df_NIH = pd.read_csv('nih_data.csv', sep = '~')"
   ]
  },
  {
   "cell_type": "markdown",
   "metadata": {},
   "source": [
    "# Data manipulation: Raw data"
   ]
  },
  {
   "cell_type": "markdown",
   "metadata": {},
   "source": [
    "### OpenFDA NDC"
   ]
  },
  {
   "cell_type": "markdown",
   "metadata": {},
   "source": [
    "Clearing nda"
   ]
  },
  {
   "cell_type": "code",
   "execution_count": 44,
   "metadata": {},
   "outputs": [],
   "source": [
    "df_openFDA_NDC['NDA #'] = df_openFDA_NDC['application_number'].str.replace(r'\\D', '')\n",
    "df_openFDA_NDC['NDA #'] = pd.to_numeric(df_openFDA_NDC['NDA #'])"
   ]
  },
  {
   "cell_type": "markdown",
   "metadata": {},
   "source": [
    "### Medicaid"
   ]
  },
  {
   "cell_type": "markdown",
   "metadata": {},
   "source": [
    "Clearing labeler and product code"
   ]
  },
  {
   "cell_type": "code",
   "execution_count": 45,
   "metadata": {},
   "outputs": [],
   "source": [
    "df_medicaid['labeler_code'] = pd.to_numeric(df_medicaid['labeler_code'])\n",
    "df_medicaid['product_code'] = pd.to_numeric(df_medicaid['product_code'])"
   ]
  },
  {
   "cell_type": "markdown",
   "metadata": {},
   "source": [
    "Creating a date"
   ]
  },
  {
   "cell_type": "code",
   "execution_count": 46,
   "metadata": {},
   "outputs": [],
   "source": [
    "df_medicaid['date'] = 'Q' + df_medicaid['quarter'].astype(str) + ' ' + df_medicaid['year'].astype(str)\n",
    "df_medicaid['date'] = pd.to_datetime(df_medicaid['date'].str.replace(r'(Q\\d) (\\d+)', r'\\2-\\1'), errors='coerce')"
   ]
  },
  {
   "cell_type": "markdown",
   "metadata": {},
   "source": [
    "### PPI"
   ]
  },
  {
   "cell_type": "markdown",
   "metadata": {},
   "source": [
    "Creating a date"
   ]
  },
  {
   "cell_type": "code",
   "execution_count": 47,
   "metadata": {},
   "outputs": [],
   "source": [
    "df_PPI['Period'] = df_PPI['Period'].str.replace(r'\\D', '')\n",
    "df_PPI['Period'] = pd.to_numeric(df_PPI['Period'])\n",
    "df_PPI['day'] = 1\n",
    "df_PPI['date'] = pd.to_datetime(dict(year = df_PPI['Year'], month = df_PPI['Period'], day= df_PPI['day']))"
   ]
  },
  {
   "cell_type": "markdown",
   "metadata": {},
   "source": [
    "Calculating PPI multiplier"
   ]
  },
  {
   "cell_type": "code",
   "execution_count": 48,
   "metadata": {},
   "outputs": [],
   "source": [
    "df_PPI['Value'] = pd.to_numeric(df_PPI['Value'])\n",
    "df_PPI['PPI_multiplier'] = df_PPI['Value'].iloc[-1] / df_PPI['Value']"
   ]
  },
  {
   "cell_type": "markdown",
   "metadata": {},
   "source": [
    "### NIH"
   ]
  },
  {
   "cell_type": "markdown",
   "metadata": {},
   "source": [
    "Selecting only Established Pharmacologic Class (EPC)"
   ]
  },
  {
   "cell_type": "code",
   "execution_count": 49,
   "metadata": {},
   "outputs": [],
   "source": [
    "df_NIH = df_NIH.loc[df_NIH['rxclassMinConceptItem.classType'] == 'EPC']\n",
    "df_NIH = df_NIH[['minConcept.name', 'rxclassMinConceptItem.className']]\n",
    "df_NIH = df_NIH.rename(columns = {'minConcept.name': 'generic_name', 'rxclassMinConceptItem.className': 'EPC'})"
   ]
  },
  {
   "cell_type": "markdown",
   "metadata": {},
   "source": [
    "# Merging raw data"
   ]
  },
  {
   "cell_type": "markdown",
   "metadata": {},
   "source": [
    "### Medicaid and PPI"
   ]
  },
  {
   "cell_type": "code",
   "execution_count": 50,
   "metadata": {},
   "outputs": [],
   "source": [
    "df_medicaid = pd.merge(df_medicaid, df_PPI, on = 'date', how = 'left')"
   ]
  },
  {
   "cell_type": "markdown",
   "metadata": {},
   "source": [
    "Adjusting for inflation"
   ]
  },
  {
   "cell_type": "code",
   "execution_count": 51,
   "metadata": {},
   "outputs": [],
   "source": [
    "df_medicaid['total_amount_reimbursed_adj'] = df_medicaid['total_amount_reimbursed'] * df_medicaid['PPI_multiplier']\n",
    "df_medicaid['price_per_unit_adj'] = df_medicaid['price_per_unit'] * df_medicaid['PPI_multiplier']"
   ]
  },
  {
   "cell_type": "markdown",
   "metadata": {},
   "source": [
    "Deleting redundant columns"
   ]
  },
  {
   "cell_type": "code",
   "execution_count": 52,
   "metadata": {},
   "outputs": [],
   "source": [
    "df_medicaid = df_medicaid.drop(columns=['Series ID', 'Year', 'Period', 'Value', 'Unnamed: 4', 'Unnamed: 5', 'day', 'PPI_multiplier'])"
   ]
  },
  {
   "cell_type": "markdown",
   "metadata": {},
   "source": [
    "### OpenFDA and Medicaid"
   ]
  },
  {
   "cell_type": "code",
   "execution_count": 53,
   "metadata": {},
   "outputs": [],
   "source": [
    "df_medicaid_openFDA = pd.merge(df_medicaid, df_openFDA_NDC, on = ['labeler_code', 'product_code'], how = 'inner')"
   ]
  },
  {
   "cell_type": "markdown",
   "metadata": {},
   "source": [
    "### OpenFDA, Medicaid and NIH"
   ]
  },
  {
   "cell_type": "code",
   "execution_count": 54,
   "metadata": {},
   "outputs": [],
   "source": [
    "df_consolidation_data = pd.merge(df_medicaid_openFDA, df_NIH, on = ['generic_name'], how = 'left')"
   ]
  },
  {
   "cell_type": "markdown",
   "metadata": {},
   "source": [
    "<p style=\"color:red\">Issue: We are only able add EPC to a small sample size.</p>"
   ]
  },
  {
   "cell_type": "code",
   "execution_count": 55,
   "metadata": {},
   "outputs": [
    {
     "name": "stdout",
     "output_type": "stream",
     "text": [
      "650875\n",
      "87002\n"
     ]
    }
   ],
   "source": [
    "print(len(df_consolidation_data))\n",
    "print(len(df_consolidation_data['EPC'].dropna()))"
   ]
  },
  {
   "cell_type": "markdown",
   "metadata": {},
   "source": [
    "# Raw output"
   ]
  },
  {
   "cell_type": "markdown",
   "metadata": {},
   "source": [
    "Calculating the average across drug strength "
   ]
  },
  {
   "cell_type": "code",
   "execution_count": 56,
   "metadata": {},
   "outputs": [],
   "source": [
    "df_consolidation_data = df_consolidation_data.set_index(['date', 'unique_id', 'marketing_category', 'brand_name', 'generic_name', 'labeler_name', 'is_original_packager']).groupby(level = ['date', 'unique_id', 'marketing_category', 'brand_name', 'generic_name', 'labeler_name', 'is_original_packager'])[['units_reimbursed', 'total_amount_reimbursed_adj', 'price_per_unit_adj']].agg('mean')\n",
    "df_consolidation_data = df_consolidation_data.reset_index()"
   ]
  },
  {
   "cell_type": "markdown",
   "metadata": {},
   "source": [
    "# Downloading raw output"
   ]
  },
  {
   "cell_type": "code",
   "execution_count": 58,
   "metadata": {},
   "outputs": [],
   "source": [
    "df_consolidation_data.to_csv('raw_consolidation_data.csv', sep = '~', index = False)"
   ]
  },
  {
   "cell_type": "markdown",
   "metadata": {},
   "source": [
    "# Descriptive statistics"
   ]
  },
  {
   "cell_type": "code",
   "execution_count": 59,
   "metadata": {},
   "outputs": [],
   "source": [
    "df = df_consolidation_data"
   ]
  },
  {
   "cell_type": "code",
   "execution_count": 60,
   "metadata": {
    "scrolled": true
   },
   "outputs": [
    {
     "data": {
      "text/html": [
       "<div>\n",
       "<style scoped>\n",
       "    .dataframe tbody tr th:only-of-type {\n",
       "        vertical-align: middle;\n",
       "    }\n",
       "\n",
       "    .dataframe tbody tr th {\n",
       "        vertical-align: top;\n",
       "    }\n",
       "\n",
       "    .dataframe thead th {\n",
       "        text-align: right;\n",
       "    }\n",
       "</style>\n",
       "<table border=\"1\" class=\"dataframe\">\n",
       "  <thead>\n",
       "    <tr style=\"text-align: right;\">\n",
       "      <th></th>\n",
       "      <th>marketing_category</th>\n",
       "      <th>unique_id</th>\n",
       "    </tr>\n",
       "  </thead>\n",
       "  <tbody>\n",
       "    <tr>\n",
       "      <th>0</th>\n",
       "      <td>ANDA</td>\n",
       "      <td>13675</td>\n",
       "    </tr>\n",
       "    <tr>\n",
       "      <th>1</th>\n",
       "      <td>BLA</td>\n",
       "      <td>443</td>\n",
       "    </tr>\n",
       "    <tr>\n",
       "      <th>2</th>\n",
       "      <td>NDA</td>\n",
       "      <td>4168</td>\n",
       "    </tr>\n",
       "    <tr>\n",
       "      <th>3</th>\n",
       "      <td>NDA AUTHORIZED GENERIC</td>\n",
       "      <td>833</td>\n",
       "    </tr>\n",
       "  </tbody>\n",
       "</table>\n",
       "</div>"
      ],
      "text/plain": [
       "       marketing_category  unique_id\n",
       "0                    ANDA      13675\n",
       "1                     BLA        443\n",
       "2                     NDA       4168\n",
       "3  NDA AUTHORIZED GENERIC        833"
      ]
     },
     "execution_count": 60,
     "metadata": {},
     "output_type": "execute_result"
    }
   ],
   "source": [
    "df_temp = df.drop_duplicates(subset = ['labeler_name', 'unique_id'])\n",
    "df_temp = df_temp.groupby(['marketing_category'])['unique_id'].count()\n",
    "df_temp = df_temp.reset_index()\n",
    "df_temp"
   ]
  },
  {
   "cell_type": "markdown",
   "metadata": {},
   "source": [
    "Number of unique drugs"
   ]
  },
  {
   "cell_type": "code",
   "execution_count": 61,
   "metadata": {},
   "outputs": [
    {
     "data": {
      "text/plain": [
       "8411"
      ]
     },
     "execution_count": 61,
     "metadata": {},
     "output_type": "execute_result"
    }
   ],
   "source": [
    "df_temp = df.drop_duplicates(subset = ['unique_id'])\n",
    "len(df_temp)"
   ]
  },
  {
   "cell_type": "markdown",
   "metadata": {},
   "source": [
    "Number of entrance (event) for unique drugs"
   ]
  },
  {
   "cell_type": "code",
   "execution_count": 62,
   "metadata": {},
   "outputs": [],
   "source": [
    "df = df_consolidation_data"
   ]
  },
  {
   "cell_type": "code",
   "execution_count": 63,
   "metadata": {},
   "outputs": [
    {
     "data": {
      "text/html": [
       "<div>\n",
       "<style scoped>\n",
       "    .dataframe tbody tr th:only-of-type {\n",
       "        vertical-align: middle;\n",
       "    }\n",
       "\n",
       "    .dataframe tbody tr th {\n",
       "        vertical-align: top;\n",
       "    }\n",
       "\n",
       "    .dataframe thead th {\n",
       "        text-align: right;\n",
       "    }\n",
       "</style>\n",
       "<table border=\"1\" class=\"dataframe\">\n",
       "  <thead>\n",
       "    <tr style=\"text-align: right;\">\n",
       "      <th></th>\n",
       "      <th>marketing_category</th>\n",
       "      <th>unique_id</th>\n",
       "      <th>entrance_count</th>\n",
       "    </tr>\n",
       "  </thead>\n",
       "  <tbody>\n",
       "    <tr>\n",
       "      <th>2187</th>\n",
       "      <td>ANDA</td>\n",
       "      <td>gabapentin-capsule-oral-300 mg/1</td>\n",
       "      <td>22</td>\n",
       "    </tr>\n",
       "    <tr>\n",
       "      <th>2186</th>\n",
       "      <td>ANDA</td>\n",
       "      <td>gabapentin-capsule-oral-100 mg/1</td>\n",
       "      <td>22</td>\n",
       "    </tr>\n",
       "    <tr>\n",
       "      <th>2188</th>\n",
       "      <td>ANDA</td>\n",
       "      <td>gabapentin-capsule-oral-400 mg/1</td>\n",
       "      <td>21</td>\n",
       "    </tr>\n",
       "    <tr>\n",
       "      <th>400</th>\n",
       "      <td>ANDA</td>\n",
       "      <td>atorvastatin calcium-tablet, film coated-oral-...</td>\n",
       "      <td>16</td>\n",
       "    </tr>\n",
       "    <tr>\n",
       "      <th>2358</th>\n",
       "      <td>ANDA</td>\n",
       "      <td>hydrocodone bitartrate and acetaminophen-table...</td>\n",
       "      <td>16</td>\n",
       "    </tr>\n",
       "    <tr>\n",
       "      <th>...</th>\n",
       "      <td>...</td>\n",
       "      <td>...</td>\n",
       "      <td>...</td>\n",
       "    </tr>\n",
       "    <tr>\n",
       "      <th>5155</th>\n",
       "      <td>BLA</td>\n",
       "      <td>(insulin degludec and liraglutide)-injection, ...</td>\n",
       "      <td>0</td>\n",
       "    </tr>\n",
       "    <tr>\n",
       "      <th>5154</th>\n",
       "      <td>BLA</td>\n",
       "      <td>(coagulation factor ix (recombinant), glycopeg...</td>\n",
       "      <td>0</td>\n",
       "    </tr>\n",
       "    <tr>\n",
       "      <th>5150</th>\n",
       "      <td>ANDA</td>\n",
       "      <td>zolpidem tartrate-tablet-sublingual-3.5 mg/1</td>\n",
       "      <td>0</td>\n",
       "    </tr>\n",
       "    <tr>\n",
       "      <th>5149</th>\n",
       "      <td>ANDA</td>\n",
       "      <td>zolpidem tartrate-tablet-sublingual-1.75 mg/1</td>\n",
       "      <td>0</td>\n",
       "    </tr>\n",
       "    <tr>\n",
       "      <th>10202</th>\n",
       "      <td>NDA AUTHORIZED GENERIC</td>\n",
       "      <td>zolpidem tartrate-tablet, film coated, extende...</td>\n",
       "      <td>0</td>\n",
       "    </tr>\n",
       "  </tbody>\n",
       "</table>\n",
       "<p>10203 rows × 3 columns</p>\n",
       "</div>"
      ],
      "text/plain": [
       "           marketing_category  \\\n",
       "2187                     ANDA   \n",
       "2186                     ANDA   \n",
       "2188                     ANDA   \n",
       "400                      ANDA   \n",
       "2358                     ANDA   \n",
       "...                       ...   \n",
       "5155                      BLA   \n",
       "5154                      BLA   \n",
       "5150                     ANDA   \n",
       "5149                     ANDA   \n",
       "10202  NDA AUTHORIZED GENERIC   \n",
       "\n",
       "                                               unique_id  entrance_count  \n",
       "2187                    gabapentin-capsule-oral-300 mg/1              22  \n",
       "2186                    gabapentin-capsule-oral-100 mg/1              22  \n",
       "2188                    gabapentin-capsule-oral-400 mg/1              21  \n",
       "400    atorvastatin calcium-tablet, film coated-oral-...              16  \n",
       "2358   hydrocodone bitartrate and acetaminophen-table...              16  \n",
       "...                                                  ...             ...  \n",
       "5155   (insulin degludec and liraglutide)-injection, ...               0  \n",
       "5154   (coagulation factor ix (recombinant), glycopeg...               0  \n",
       "5150        zolpidem tartrate-tablet-sublingual-3.5 mg/1               0  \n",
       "5149       zolpidem tartrate-tablet-sublingual-1.75 mg/1               0  \n",
       "10202  zolpidem tartrate-tablet, film coated, extende...               0  \n",
       "\n",
       "[10203 rows x 3 columns]"
      ]
     },
     "execution_count": 63,
     "metadata": {},
     "output_type": "execute_result"
    }
   ],
   "source": [
    "df_temp = df.drop_duplicates(subset = ['labeler_name', 'unique_id'])\n",
    "df_temp = df_temp.groupby(['marketing_category', 'unique_id'])['labeler_name'].count()\n",
    "df_temp = df_temp.reset_index()\n",
    "df_temp['entrance_count'] = pd.to_numeric(df_temp['labeler_name'])\n",
    "df_temp['entrance_count'] = df_temp['entrance_count'] - 1\n",
    "df_temp = df_temp.drop(columns = ['labeler_name'])\n",
    "df_temp.sort_values(by = ['entrance_count'], ascending=False)"
   ]
  },
  {
   "cell_type": "code",
   "execution_count": 64,
   "metadata": {},
   "outputs": [
    {
     "data": {
      "text/plain": [
       "(-0.023, 1.294]     8387\n",
       "(1.294, 2.588]       608\n",
       "(2.588, 3.882]       356\n",
       "(3.882, 5.176]       439\n",
       "(5.176, 6.471]       126\n",
       "(6.471, 7.765]        67\n",
       "(7.765, 9.059]       103\n",
       "(9.059, 10.353]       33\n",
       "(10.353, 11.647]      25\n",
       "(11.647, 12.941]      13\n",
       "(12.941, 14.235]      27\n",
       "(14.235, 15.529]      10\n",
       "(15.529, 16.824]       6\n",
       "(16.824, 18.118]       0\n",
       "(18.118, 19.412]       0\n",
       "(19.412, 20.706]       0\n",
       "(20.706, 22.0]         3\n",
       "Name: entrance_count, dtype: int64"
      ]
     },
     "execution_count": 64,
     "metadata": {},
     "output_type": "execute_result"
    }
   ],
   "source": [
    "df_temp['entrance_count'].value_counts(bins = 17, sort = False)"
   ]
  },
  {
   "cell_type": "markdown",
   "metadata": {},
   "source": [
    "For BLA only"
   ]
  },
  {
   "cell_type": "code",
   "execution_count": 65,
   "metadata": {},
   "outputs": [],
   "source": [
    "df_temp = df_temp[df_temp['marketing_category'] == 'BLA']"
   ]
  },
  {
   "cell_type": "code",
   "execution_count": 66,
   "metadata": {},
   "outputs": [
    {
     "data": {
      "text/plain": [
       "(-0.003, 0.5]    392\n",
       "(0.5, 1.0]        21\n",
       "(1.0, 1.5]         0\n",
       "(1.5, 2.0]         3\n",
       "Name: entrance_count, dtype: int64"
      ]
     },
     "execution_count": 66,
     "metadata": {},
     "output_type": "execute_result"
    }
   ],
   "source": [
    "df_temp['entrance_count'].value_counts(bins = 4, sort = False)"
   ]
  },
  {
   "cell_type": "markdown",
   "metadata": {},
   "source": [
    "Number of companies"
   ]
  },
  {
   "cell_type": "code",
   "execution_count": 67,
   "metadata": {},
   "outputs": [],
   "source": [
    "df = df_consolidation_data"
   ]
  },
  {
   "cell_type": "code",
   "execution_count": 68,
   "metadata": {},
   "outputs": [
    {
     "data": {
      "text/plain": [
       "labeler_name\n",
       "Aurobindo Pharma Limited               538\n",
       "Teva Pharmaceuticals USA, Inc.         493\n",
       "Mylan Pharmaceuticals Inc.             491\n",
       "Actavis Pharma, Inc.                   440\n",
       "Sun Pharmaceutical Industries, Inc.    398\n",
       "                                      ... \n",
       "Chiasma Inc.                             1\n",
       "Medimetriks Pharmaceuticals Inc          1\n",
       "Medstone Pharma LLC                      1\n",
       "Meitheal Pharmaceuticals Inc             1\n",
       "MorphoSys US Inc.                        1\n",
       "Name: labeler_name, Length: 852, dtype: int64"
      ]
     },
     "execution_count": 68,
     "metadata": {},
     "output_type": "execute_result"
    }
   ],
   "source": [
    "df_temp = df.drop_duplicates(subset = ['labeler_name', 'unique_id'])\n",
    "df_temp = df_temp.groupby(['labeler_name'])['labeler_name'].count()\n",
    "df_temp.sort_values(ascending=False)"
   ]
  },
  {
   "cell_type": "markdown",
   "metadata": {},
   "source": [
    "# First figure"
   ]
  },
  {
   "cell_type": "code",
   "execution_count": 73,
   "metadata": {},
   "outputs": [],
   "source": [
    "df = df_consolidation_data"
   ]
  },
  {
   "cell_type": "code",
   "execution_count": 75,
   "metadata": {},
   "outputs": [],
   "source": [
    "df_figure = df.loc[df['unique_id'] == 'olanzapine-tablet-oral-5 mg/1']"
   ]
  },
  {
   "cell_type": "code",
   "execution_count": 76,
   "metadata": {},
   "outputs": [],
   "source": [
    "df_figure = df_figure.groupby(['date', 'generic_name', 'labeler_name'])['price_per_unit_adj'].mean()\n",
    "df_figure = df_figure.reset_index()\n",
    "df_figure['ln_price_per_unit_adj'] = np.log(df_figure['price_per_unit_adj'])"
   ]
  },
  {
   "cell_type": "code",
   "execution_count": 78,
   "metadata": {
    "scrolled": true
   },
   "outputs": [
    {
     "data": {
      "text/plain": [
       "[Text(0.5, 0, 'Year'),\n",
       " Text(0, 0.5, 'Price Per Unit Adj. for Inflation'),\n",
       " Text(0.5, 1.0, 'Olanzapine')]"
      ]
     },
     "execution_count": 78,
     "metadata": {},
     "output_type": "execute_result"
    },
    {
     "data": {
      "image/png": "[encoded data removed]",
      "text/plain": [
       "<Figure size 432x288 with 1 Axes>"
      ]
     },
     "metadata": {
      "needs_background": "light"
     },
     "output_type": "display_data"
    }
   ],
   "source": [
    "p = sns.lineplot(data = df_figure, x = 'date', y = 'price_per_unit_adj', hue = 'labeler_name', ci = 0)\n",
    "plt.legend(bbox_to_anchor = (1.02, 1), loc = 'upper left', borderaxespad = 0)\n",
    "p.set(xlabel = 'Year', ylabel = 'Price Per Unit Adj. for Inflation', title = df_figure['generic_name'][0])"
   ]
  },
  {
   "cell_type": "code",
   "execution_count": 79,
   "metadata": {},
   "outputs": [
    {
     "data": {
      "text/plain": [
       "[Text(0.5, 0, 'Year'),\n",
       " Text(0, 0.5, 'Price Per Unit Adj. for Inflation'),\n",
       " Text(0.5, 1.0, 'Olanzapine')]"
      ]
     },
     "execution_count": 79,
     "metadata": {},
     "output_type": "execute_result"
    },
    {
     "data": {
      "image/png": "[encoded data removed]",
      "text/plain": [
       "<Figure size 432x288 with 1 Axes>"
      ]
     },
     "metadata": {
      "needs_background": "light"
     },
     "output_type": "display_data"
    }
   ],
   "source": [
    "p = sns.lineplot(data = df_figure, x = 'date', y = 'ln_price_per_unit_adj', hue = 'labeler_name', ci = 0)\n",
    "plt.legend(bbox_to_anchor = (1.02, 1), loc = 'upper left', borderaxespad = 0)\n",
    "p.set(xlabel = 'Year', ylabel = 'Price Per Unit Adj. for Inflation', title = df_figure['generic_name'][0])"
   ]
  },
  {
   "cell_type": "code",
   "execution_count": null,
   "metadata": {},
   "outputs": [],
   "source": [
    "df_figure.to_excel('output_for_one_drug.xlsx', index = False)"
   ]
  },
  {
   "cell_type": "code",
   "execution_count": null,
   "metadata": {},
   "outputs": [],
   "source": []
  }
 ],
 "metadata": {
  "kernelspec": {
   "display_name": "Python 3",
   "language": "python",
   "name": "python3"
  },
  "language_info": {
   "codemirror_mode": {
    "name": "ipython",
    "version": 3
   },
   "file_extension": ".py",
   "mimetype": "text/x-python",
   "name": "python",
   "nbconvert_exporter": "python",
   "pygments_lexer": "ipython3",
   "version": "3.8.5"
  }
 },
 "nbformat": 4,
 "nbformat_minor": 4
}
