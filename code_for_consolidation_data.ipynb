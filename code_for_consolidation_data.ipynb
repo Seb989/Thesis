{
 "cells": [
  {
   "cell_type": "markdown",
   "metadata": {},
   "source": [
    "# Libraries"
   ]
  },
  {
   "cell_type": "code",
   "execution_count": 138,
   "metadata": {},
   "outputs": [],
   "source": [
    "import requests\n",
    "\n",
    "import numpy as np\n",
    "import pandas as pd\n",
    "\n",
    "import datetime as dt\n",
    "\n",
    "import matplotlib.pyplot as plt\n",
    "import seaborn as sns\n",
    "\n",
    "from ast import literal_eval\n",
    "\n",
    "pd.set_option('display.max_columns', None) # display all columns in DF"
   ]
  },
  {
   "cell_type": "markdown",
   "metadata": {},
   "source": [
    "# Uploading data"
   ]
  },
  {
   "cell_type": "code",
   "execution_count": 101,
   "metadata": {},
   "outputs": [],
   "source": [
    "df_orangebook = pd.read_excel('Orange Book.xlsx', skiprows = 1)\n",
    "df_openFDA_NDC = pd.read_csv('raw_openFDA_NDC_data.csv', sep = '~')  \n",
    "df_medicaid = pd.read_csv('raw_medicaid_data.csv')\n",
    "df_PPI = pd.read_excel('PPI industry data for Pharmaceutical preparation manufacturing.xlsx', skiprows = 10)"
   ]
  },
  {
   "cell_type": "markdown",
   "metadata": {},
   "source": [
    "# Data manipulation"
   ]
  },
  {
   "cell_type": "markdown",
   "metadata": {},
   "source": [
    "### OpenFDA NDC"
   ]
  },
  {
   "cell_type": "markdown",
   "metadata": {},
   "source": [
    "Clearing nda"
   ]
  },
  {
   "cell_type": "code",
   "execution_count": 102,
   "metadata": {},
   "outputs": [],
   "source": [
    "df_openFDA_NDC['NDA #'] = df_openFDA_NDC['application_number'].str.replace(r'\\D', '')\n",
    "df_openFDA_NDC['NDA #'] = pd.to_numeric(df_openFDA_NDC['NDA #'])"
   ]
  },
  {
   "cell_type": "markdown",
   "metadata": {},
   "source": [
    "### Medicaid"
   ]
  },
  {
   "cell_type": "markdown",
   "metadata": {},
   "source": [
    "Clearing labeler and product code"
   ]
  },
  {
   "cell_type": "code",
   "execution_count": 103,
   "metadata": {},
   "outputs": [],
   "source": [
    "df_medicaid['labeler_code'] = pd.to_numeric(df_medicaid['labeler_code'])\n",
    "df_medicaid['product_code'] = pd.to_numeric(df_medicaid['product_code'])"
   ]
  },
  {
   "cell_type": "markdown",
   "metadata": {},
   "source": [
    "Creating a date"
   ]
  },
  {
   "cell_type": "code",
   "execution_count": 104,
   "metadata": {},
   "outputs": [],
   "source": [
    "df_medicaid['date'] = 'Q' + df_medicaid['quarter'].astype(str) + ' ' + df_medicaid['year'].astype(str)\n",
    "df_medicaid['date'] = pd.to_datetime(df_medicaid['date'].str.replace(r'(Q\\d) (\\d+)', r'\\2-\\1'), errors='coerce')"
   ]
  },
  {
   "cell_type": "markdown",
   "metadata": {},
   "source": [
    "### PPI"
   ]
  },
  {
   "cell_type": "markdown",
   "metadata": {},
   "source": [
    "Creating a date"
   ]
  },
  {
   "cell_type": "code",
   "execution_count": 105,
   "metadata": {},
   "outputs": [],
   "source": [
    "df_PPI['Period'] = df_PPI['Period'].str.replace(r'\\D', '')\n",
    "df_PPI['Period'] = pd.to_numeric(df_PPI['Period'])\n",
    "df_PPI['day'] = 1\n",
    "df_PPI['date'] = pd.to_datetime(dict(year = df_PPI['Year'], month = df_PPI['Period'], day= df_PPI['day']))"
   ]
  },
  {
   "cell_type": "markdown",
   "metadata": {},
   "source": [
    "Calculating PPI multiplier"
   ]
  },
  {
   "cell_type": "code",
   "execution_count": 106,
   "metadata": {},
   "outputs": [],
   "source": [
    "df_PPI['Value'] = pd.to_numeric(df_PPI['Value'])\n",
    "df_PPI['PPI_multiplier'] = df_PPI['Value'].iloc[-1] / df_PPI['Value']"
   ]
  },
  {
   "cell_type": "markdown",
   "metadata": {},
   "source": [
    "# Merging data"
   ]
  },
  {
   "cell_type": "markdown",
   "metadata": {},
   "source": [
    "### Orange Book and OpenFDA"
   ]
  },
  {
   "cell_type": "code",
   "execution_count": 107,
   "metadata": {},
   "outputs": [],
   "source": [
    "df = pd.merge(df_openFDA_NDC, df_orangebook, on = 'NDA #', how = 'left')"
   ]
  },
  {
   "cell_type": "markdown",
   "metadata": {},
   "source": [
    "### Medicaid and PPI"
   ]
  },
  {
   "cell_type": "code",
   "execution_count": 108,
   "metadata": {},
   "outputs": [],
   "source": [
    "df_medicaid = pd.merge(df_medicaid, df_PPI, on = 'date', how = 'left')"
   ]
  },
  {
   "cell_type": "markdown",
   "metadata": {},
   "source": [
    "Adjusting for inflation"
   ]
  },
  {
   "cell_type": "code",
   "execution_count": 109,
   "metadata": {},
   "outputs": [],
   "source": [
    "df_medicaid['price_per_unit_adj'] = df_medicaid['price_per_unit'] * df_medicaid['PPI_multiplier']"
   ]
  },
  {
   "cell_type": "markdown",
   "metadata": {},
   "source": [
    "Deleting redundant columns"
   ]
  },
  {
   "cell_type": "code",
   "execution_count": 110,
   "metadata": {},
   "outputs": [],
   "source": [
    "df_medicaid = df_medicaid.drop(columns=['Series ID', 'Year', 'Period', 'Value', 'Unnamed: 4', 'Unnamed: 5', 'day', 'PPI_multiplier'])"
   ]
  },
  {
   "cell_type": "markdown",
   "metadata": {},
   "source": [
    "### Orange Book, OpenFDA and Medicaid"
   ]
  },
  {
   "cell_type": "code",
   "execution_count": 111,
   "metadata": {},
   "outputs": [],
   "source": [
    "df_consolidation_data = pd.merge(df_medicaid, df_openFDA_NDC, on = ['labeler_code', 'product_code'], how = 'inner')"
   ]
  },
  {
   "cell_type": "markdown",
   "metadata": {},
   "source": [
    "# Downloading output"
   ]
  },
  {
   "cell_type": "code",
   "execution_count": 112,
   "metadata": {},
   "outputs": [],
   "source": [
    "df_consolidation_data.to_csv('raw_consolidation_data.csv', index = False)"
   ]
  },
  {
   "cell_type": "markdown",
   "metadata": {},
   "source": [
    "### Descriptive statistics"
   ]
  },
  {
   "cell_type": "code",
   "execution_count": 113,
   "metadata": {},
   "outputs": [],
   "source": [
    "df = df_consolidation_data"
   ]
  },
  {
   "cell_type": "code",
   "execution_count": 124,
   "metadata": {
    "scrolled": true
   },
   "outputs": [
    {
     "data": {
      "text/html": [
       "<div>\n",
       "<style scoped>\n",
       "    .dataframe tbody tr th:only-of-type {\n",
       "        vertical-align: middle;\n",
       "    }\n",
       "\n",
       "    .dataframe tbody tr th {\n",
       "        vertical-align: top;\n",
       "    }\n",
       "\n",
       "    .dataframe thead th {\n",
       "        text-align: right;\n",
       "    }\n",
       "</style>\n",
       "<table border=\"1\" class=\"dataframe\">\n",
       "  <thead>\n",
       "    <tr style=\"text-align: right;\">\n",
       "      <th></th>\n",
       "      <th>marketing_category</th>\n",
       "      <th>unique_id</th>\n",
       "    </tr>\n",
       "  </thead>\n",
       "  <tbody>\n",
       "    <tr>\n",
       "      <th>0</th>\n",
       "      <td>ANDA</td>\n",
       "      <td>6908</td>\n",
       "    </tr>\n",
       "    <tr>\n",
       "      <th>1</th>\n",
       "      <td>BLA</td>\n",
       "      <td>269</td>\n",
       "    </tr>\n",
       "    <tr>\n",
       "      <th>2</th>\n",
       "      <td>NDA</td>\n",
       "      <td>2039</td>\n",
       "    </tr>\n",
       "    <tr>\n",
       "      <th>3</th>\n",
       "      <td>NDA AUTHORIZED GENERIC</td>\n",
       "      <td>393</td>\n",
       "    </tr>\n",
       "  </tbody>\n",
       "</table>\n",
       "</div>"
      ],
      "text/plain": [
       "       marketing_category  unique_id\n",
       "0                    ANDA       6908\n",
       "1                     BLA        269\n",
       "2                     NDA       2039\n",
       "3  NDA AUTHORIZED GENERIC        393"
      ]
     },
     "execution_count": 124,
     "metadata": {},
     "output_type": "execute_result"
    }
   ],
   "source": [
    "df_temp = df.drop_duplicates(subset = ['labeler_name', 'unique_id'])\n",
    "df_temp = df_temp.groupby(['marketing_category'])['unique_id'].count()\n",
    "df_temp = df_temp.reset_index()\n",
    "df_temp"
   ]
  },
  {
   "cell_type": "markdown",
   "metadata": {},
   "source": [
    "Number of unique drugs"
   ]
  },
  {
   "cell_type": "code",
   "execution_count": 115,
   "metadata": {},
   "outputs": [
    {
     "data": {
      "text/plain": [
       "5412"
      ]
     },
     "execution_count": 115,
     "metadata": {},
     "output_type": "execute_result"
    }
   ],
   "source": [
    "df_temp = df.drop_duplicates(subset = ['unique_id'])\n",
    "len(df_temp)"
   ]
  },
  {
   "cell_type": "markdown",
   "metadata": {},
   "source": [
    "Number of entrance (event) for unique drugs"
   ]
  },
  {
   "cell_type": "code",
   "execution_count": 139,
   "metadata": {},
   "outputs": [
    {
     "data": {
      "text/html": [
       "<div>\n",
       "<style scoped>\n",
       "    .dataframe tbody tr th:only-of-type {\n",
       "        vertical-align: middle;\n",
       "    }\n",
       "\n",
       "    .dataframe tbody tr th {\n",
       "        vertical-align: top;\n",
       "    }\n",
       "\n",
       "    .dataframe thead th {\n",
       "        text-align: right;\n",
       "    }\n",
       "</style>\n",
       "<table border=\"1\" class=\"dataframe\">\n",
       "  <thead>\n",
       "    <tr style=\"text-align: right;\">\n",
       "      <th></th>\n",
       "      <th>unique_id</th>\n",
       "      <th>entrance_count</th>\n",
       "    </tr>\n",
       "  </thead>\n",
       "  <tbody>\n",
       "    <tr>\n",
       "      <th>1658</th>\n",
       "      <td>Hydrocodone Bitartrate and Acetaminophen-TABLE...</td>\n",
       "      <td>16</td>\n",
       "    </tr>\n",
       "    <tr>\n",
       "      <th>1546</th>\n",
       "      <td>Gabapentin-CAPSULE-ORAL</td>\n",
       "      <td>15</td>\n",
       "    </tr>\n",
       "    <tr>\n",
       "      <th>240</th>\n",
       "      <td>Aripiprazole-TABLET-ORAL</td>\n",
       "      <td>13</td>\n",
       "    </tr>\n",
       "    <tr>\n",
       "      <th>946</th>\n",
       "      <td>Daptomycin-INJECTION, POWDER, LYOPHILIZED, FOR...</td>\n",
       "      <td>13</td>\n",
       "    </tr>\n",
       "    <tr>\n",
       "      <th>1442</th>\n",
       "      <td>Fluconazole-TABLET-ORAL</td>\n",
       "      <td>12</td>\n",
       "    </tr>\n",
       "    <tr>\n",
       "      <th>...</th>\n",
       "      <td>...</td>\n",
       "      <td>...</td>\n",
       "    </tr>\n",
       "    <tr>\n",
       "      <th>2225</th>\n",
       "      <td>Metolazone-TABLET-ORAL</td>\n",
       "      <td>0</td>\n",
       "    </tr>\n",
       "    <tr>\n",
       "      <th>2226</th>\n",
       "      <td>Metoprolol Succinate-CAPSULE, EXTENDED RELEASE...</td>\n",
       "      <td>0</td>\n",
       "    </tr>\n",
       "    <tr>\n",
       "      <th>2228</th>\n",
       "      <td>Metoprolol Succinate-TABLET, FILM COATED, EXTE...</td>\n",
       "      <td>0</td>\n",
       "    </tr>\n",
       "    <tr>\n",
       "      <th>2229</th>\n",
       "      <td>Metoprolol Tartrate and Hydrochlorothiazide-TA...</td>\n",
       "      <td>0</td>\n",
       "    </tr>\n",
       "    <tr>\n",
       "      <th>5411</th>\n",
       "      <td>zonisamide-CAPSULE-ORAL</td>\n",
       "      <td>0</td>\n",
       "    </tr>\n",
       "  </tbody>\n",
       "</table>\n",
       "<p>5412 rows × 2 columns</p>\n",
       "</div>"
      ],
      "text/plain": [
       "                                              unique_id  entrance_count\n",
       "1658  Hydrocodone Bitartrate and Acetaminophen-TABLE...              16\n",
       "1546                            Gabapentin-CAPSULE-ORAL              15\n",
       "240                            Aripiprazole-TABLET-ORAL              13\n",
       "946   Daptomycin-INJECTION, POWDER, LYOPHILIZED, FOR...              13\n",
       "1442                            Fluconazole-TABLET-ORAL              12\n",
       "...                                                 ...             ...\n",
       "2225                             Metolazone-TABLET-ORAL               0\n",
       "2226  Metoprolol Succinate-CAPSULE, EXTENDED RELEASE...               0\n",
       "2228  Metoprolol Succinate-TABLET, FILM COATED, EXTE...               0\n",
       "2229  Metoprolol Tartrate and Hydrochlorothiazide-TA...               0\n",
       "5411                            zonisamide-CAPSULE-ORAL               0\n",
       "\n",
       "[5412 rows x 2 columns]"
      ]
     },
     "execution_count": 139,
     "metadata": {},
     "output_type": "execute_result"
    }
   ],
   "source": [
    "df_temp = df.drop_duplicates(subset = ['labeler_name', 'unique_id'])\n",
    "df_temp = df_temp.groupby(['unique_id'])['labeler_name'].count()\n",
    "df_temp = df_temp.reset_index()\n",
    "df_temp['entrance_count'] = pd.to_numeric(df_temp['labeler_name'])\n",
    "df_temp['entrance_count'] = df_temp['entrance_count'] - 1\n",
    "df_temp = df_temp.drop(columns = ['labeler_name'])\n",
    "df_temp.sort_values(by = ['entrance_count'], ascending=False)"
   ]
  },
  {
   "cell_type": "code",
   "execution_count": 148,
   "metadata": {},
   "outputs": [
    {
     "data": {
      "text/plain": [
       "(-0.017, 2.0]    4888\n",
       "(2.0, 4.0]        319\n",
       "(4.0, 6.0]        123\n",
       "(6.0, 8.0]         48\n",
       "(8.0, 10.0]        25\n",
       "(10.0, 12.0]        5\n",
       "(12.0, 14.0]        2\n",
       "(14.0, 16.0]        2\n",
       "Name: entrance_count, dtype: int64"
      ]
     },
     "execution_count": 148,
     "metadata": {},
     "output_type": "execute_result"
    }
   ],
   "source": [
    "df_temp['entrance_count'].value_counts(bins = 8, sort = False)"
   ]
  },
  {
   "cell_type": "code",
   "execution_count": 136,
   "metadata": {},
   "outputs": [
    {
     "data": {
      "text/html": [
       "<div>\n",
       "<style scoped>\n",
       "    .dataframe tbody tr th:only-of-type {\n",
       "        vertical-align: middle;\n",
       "    }\n",
       "\n",
       "    .dataframe tbody tr th {\n",
       "        vertical-align: top;\n",
       "    }\n",
       "\n",
       "    .dataframe thead th {\n",
       "        text-align: right;\n",
       "    }\n",
       "</style>\n",
       "<table border=\"1\" class=\"dataframe\">\n",
       "  <thead>\n",
       "    <tr style=\"text-align: right;\">\n",
       "      <th></th>\n",
       "      <th>unique_id</th>\n",
       "      <th>entrance_count</th>\n",
       "    </tr>\n",
       "  </thead>\n",
       "  <tbody>\n",
       "    <tr>\n",
       "      <th>2514</th>\n",
       "      <td>Olanzapine-TABLET-ORAL</td>\n",
       "      <td>3</td>\n",
       "    </tr>\n",
       "  </tbody>\n",
       "</table>\n",
       "</div>"
      ],
      "text/plain": [
       "                   unique_id  entrance_count\n",
       "2514  Olanzapine-TABLET-ORAL               3"
      ]
     },
     "execution_count": 136,
     "metadata": {},
     "output_type": "execute_result"
    }
   ],
   "source": [
    "df_figure = df_temp.loc[df_temp['unique_id'] == 'Olanzapine-TABLET-ORAL']\n",
    "df_figure"
   ]
  },
  {
   "cell_type": "markdown",
   "metadata": {},
   "source": [
    "# First figure"
   ]
  },
  {
   "cell_type": "code",
   "execution_count": 116,
   "metadata": {},
   "outputs": [],
   "source": [
    "df = df_consolidation_data"
   ]
  },
  {
   "cell_type": "code",
   "execution_count": 117,
   "metadata": {
    "scrolled": true
   },
   "outputs": [
    {
     "data": {
      "text/html": [
       "<div>\n",
       "<style scoped>\n",
       "    .dataframe tbody tr th:only-of-type {\n",
       "        vertical-align: middle;\n",
       "    }\n",
       "\n",
       "    .dataframe tbody tr th {\n",
       "        vertical-align: top;\n",
       "    }\n",
       "\n",
       "    .dataframe thead th {\n",
       "        text-align: right;\n",
       "    }\n",
       "</style>\n",
       "<table border=\"1\" class=\"dataframe\">\n",
       "  <thead>\n",
       "    <tr style=\"text-align: right;\">\n",
       "      <th></th>\n",
       "      <th>dataset</th>\n",
       "      <th>labeler_code</th>\n",
       "      <th>product_code</th>\n",
       "      <th>year</th>\n",
       "      <th>quarter</th>\n",
       "      <th>price_per_unit</th>\n",
       "      <th>date</th>\n",
       "      <th>price_per_unit_adj</th>\n",
       "      <th>product_ndc</th>\n",
       "      <th>generic_name</th>\n",
       "      <th>labeler_name</th>\n",
       "      <th>brand_name</th>\n",
       "      <th>finished</th>\n",
       "      <th>packaging</th>\n",
       "      <th>listing_expiration_date</th>\n",
       "      <th>openfda</th>\n",
       "      <th>marketing_category</th>\n",
       "      <th>dosage_form</th>\n",
       "      <th>spl_id</th>\n",
       "      <th>product_type</th>\n",
       "      <th>marketing_start_date</th>\n",
       "      <th>product_id</th>\n",
       "      <th>application_number</th>\n",
       "      <th>brand_name_base</th>\n",
       "      <th>marketing_end_date</th>\n",
       "      <th>active_ingredients</th>\n",
       "      <th>route</th>\n",
       "      <th>pharm_class</th>\n",
       "      <th>brand_name_suffix</th>\n",
       "      <th>dea_schedule</th>\n",
       "      <th>unique_id</th>\n",
       "      <th>NDA #</th>\n",
       "    </tr>\n",
       "  </thead>\n",
       "  <tbody>\n",
       "    <tr>\n",
       "      <th>0</th>\n",
       "      <td>State Drug Utilization Data 1999</td>\n",
       "      <td>2</td>\n",
       "      <td>4112</td>\n",
       "      <td>1999</td>\n",
       "      <td>1</td>\n",
       "      <td>4.226167</td>\n",
       "      <td>1999-01-01</td>\n",
       "      <td>11.973026</td>\n",
       "      <td>0002-4112</td>\n",
       "      <td>Olanzapine</td>\n",
       "      <td>Eli Lilly and Company</td>\n",
       "      <td>Zyprexa</td>\n",
       "      <td>True</td>\n",
       "      <td>[{'package_ndc': '0002-4112-30', 'description'...</td>\n",
       "      <td>20221231.0</td>\n",
       "      <td>{'manufacturer_name': ['Eli Lilly and Company'...</td>\n",
       "      <td>NDA</td>\n",
       "      <td>TABLET</td>\n",
       "      <td>d3dfec6e-4659-42ea-929f-7d9beb25a8a7</td>\n",
       "      <td>HUMAN PRESCRIPTION DRUG</td>\n",
       "      <td>19970623</td>\n",
       "      <td>0002-4112_d3dfec6e-4659-42ea-929f-7d9beb25a8a7</td>\n",
       "      <td>NDA020592</td>\n",
       "      <td>Zyprexa</td>\n",
       "      <td>NaN</td>\n",
       "      <td>[{'name': 'OLANZAPINE', 'strength': '2.5 mg/1'}]</td>\n",
       "      <td>ORAL</td>\n",
       "      <td>['Atypical Antipsychotic [EPC]']</td>\n",
       "      <td>NaN</td>\n",
       "      <td>NaN</td>\n",
       "      <td>Olanzapine-TABLET-ORAL</td>\n",
       "      <td>20592.0</td>\n",
       "    </tr>\n",
       "    <tr>\n",
       "      <th>1</th>\n",
       "      <td>State Drug Utilization Data 1999</td>\n",
       "      <td>2</td>\n",
       "      <td>4112</td>\n",
       "      <td>1999</td>\n",
       "      <td>2</td>\n",
       "      <td>4.254315</td>\n",
       "      <td>1999-04-01</td>\n",
       "      <td>12.016049</td>\n",
       "      <td>0002-4112</td>\n",
       "      <td>Olanzapine</td>\n",
       "      <td>Eli Lilly and Company</td>\n",
       "      <td>Zyprexa</td>\n",
       "      <td>True</td>\n",
       "      <td>[{'package_ndc': '0002-4112-30', 'description'...</td>\n",
       "      <td>20221231.0</td>\n",
       "      <td>{'manufacturer_name': ['Eli Lilly and Company'...</td>\n",
       "      <td>NDA</td>\n",
       "      <td>TABLET</td>\n",
       "      <td>d3dfec6e-4659-42ea-929f-7d9beb25a8a7</td>\n",
       "      <td>HUMAN PRESCRIPTION DRUG</td>\n",
       "      <td>19970623</td>\n",
       "      <td>0002-4112_d3dfec6e-4659-42ea-929f-7d9beb25a8a7</td>\n",
       "      <td>NDA020592</td>\n",
       "      <td>Zyprexa</td>\n",
       "      <td>NaN</td>\n",
       "      <td>[{'name': 'OLANZAPINE', 'strength': '2.5 mg/1'}]</td>\n",
       "      <td>ORAL</td>\n",
       "      <td>['Atypical Antipsychotic [EPC]']</td>\n",
       "      <td>NaN</td>\n",
       "      <td>NaN</td>\n",
       "      <td>Olanzapine-TABLET-ORAL</td>\n",
       "      <td>20592.0</td>\n",
       "    </tr>\n",
       "  </tbody>\n",
       "</table>\n",
       "</div>"
      ],
      "text/plain": [
       "                            dataset  labeler_code  product_code  year  \\\n",
       "0  State Drug Utilization Data 1999             2          4112  1999   \n",
       "1  State Drug Utilization Data 1999             2          4112  1999   \n",
       "\n",
       "   quarter  price_per_unit       date  price_per_unit_adj product_ndc  \\\n",
       "0        1        4.226167 1999-01-01           11.973026   0002-4112   \n",
       "1        2        4.254315 1999-04-01           12.016049   0002-4112   \n",
       "\n",
       "  generic_name           labeler_name brand_name  finished  \\\n",
       "0   Olanzapine  Eli Lilly and Company    Zyprexa      True   \n",
       "1   Olanzapine  Eli Lilly and Company    Zyprexa      True   \n",
       "\n",
       "                                           packaging  listing_expiration_date  \\\n",
       "0  [{'package_ndc': '0002-4112-30', 'description'...               20221231.0   \n",
       "1  [{'package_ndc': '0002-4112-30', 'description'...               20221231.0   \n",
       "\n",
       "                                             openfda marketing_category  \\\n",
       "0  {'manufacturer_name': ['Eli Lilly and Company'...                NDA   \n",
       "1  {'manufacturer_name': ['Eli Lilly and Company'...                NDA   \n",
       "\n",
       "  dosage_form                                spl_id             product_type  \\\n",
       "0      TABLET  d3dfec6e-4659-42ea-929f-7d9beb25a8a7  HUMAN PRESCRIPTION DRUG   \n",
       "1      TABLET  d3dfec6e-4659-42ea-929f-7d9beb25a8a7  HUMAN PRESCRIPTION DRUG   \n",
       "\n",
       "   marketing_start_date                                      product_id  \\\n",
       "0              19970623  0002-4112_d3dfec6e-4659-42ea-929f-7d9beb25a8a7   \n",
       "1              19970623  0002-4112_d3dfec6e-4659-42ea-929f-7d9beb25a8a7   \n",
       "\n",
       "  application_number brand_name_base  marketing_end_date  \\\n",
       "0          NDA020592         Zyprexa                 NaN   \n",
       "1          NDA020592         Zyprexa                 NaN   \n",
       "\n",
       "                                 active_ingredients route  \\\n",
       "0  [{'name': 'OLANZAPINE', 'strength': '2.5 mg/1'}]  ORAL   \n",
       "1  [{'name': 'OLANZAPINE', 'strength': '2.5 mg/1'}]  ORAL   \n",
       "\n",
       "                        pharm_class brand_name_suffix dea_schedule  \\\n",
       "0  ['Atypical Antipsychotic [EPC]']               NaN          NaN   \n",
       "1  ['Atypical Antipsychotic [EPC]']               NaN          NaN   \n",
       "\n",
       "                unique_id    NDA #  \n",
       "0  Olanzapine-TABLET-ORAL  20592.0  \n",
       "1  Olanzapine-TABLET-ORAL  20592.0  "
      ]
     },
     "execution_count": 117,
     "metadata": {},
     "output_type": "execute_result"
    }
   ],
   "source": [
    "df.head(2)"
   ]
  },
  {
   "cell_type": "code",
   "execution_count": 118,
   "metadata": {},
   "outputs": [],
   "source": [
    "df_figure = df.loc[df['unique_id'] == 'Olanzapine-TABLET-ORAL']"
   ]
  },
  {
   "cell_type": "code",
   "execution_count": 119,
   "metadata": {},
   "outputs": [],
   "source": [
    "df_figure = df_figure.groupby(['date', 'labeler_name'])['price_per_unit_adj'].mean()\n",
    "df_figure = df_figure.reset_index()"
   ]
  },
  {
   "cell_type": "code",
   "execution_count": 120,
   "metadata": {},
   "outputs": [
    {
     "data": {
      "text/html": [
       "<div>\n",
       "<style scoped>\n",
       "    .dataframe tbody tr th:only-of-type {\n",
       "        vertical-align: middle;\n",
       "    }\n",
       "\n",
       "    .dataframe tbody tr th {\n",
       "        vertical-align: top;\n",
       "    }\n",
       "\n",
       "    .dataframe thead th {\n",
       "        text-align: right;\n",
       "    }\n",
       "</style>\n",
       "<table border=\"1\" class=\"dataframe\">\n",
       "  <thead>\n",
       "    <tr style=\"text-align: right;\">\n",
       "      <th></th>\n",
       "      <th>date</th>\n",
       "      <th>labeler_name</th>\n",
       "      <th>price_per_unit_adj</th>\n",
       "    </tr>\n",
       "  </thead>\n",
       "  <tbody>\n",
       "    <tr>\n",
       "      <th>0</th>\n",
       "      <td>1999-01-01</td>\n",
       "      <td>Eli Lilly and Company</td>\n",
       "      <td>15.390808</td>\n",
       "    </tr>\n",
       "    <tr>\n",
       "      <th>1</th>\n",
       "      <td>1999-04-01</td>\n",
       "      <td>Eli Lilly and Company</td>\n",
       "      <td>15.442688</td>\n",
       "    </tr>\n",
       "    <tr>\n",
       "      <th>2</th>\n",
       "      <td>1999-07-01</td>\n",
       "      <td>Eli Lilly and Company</td>\n",
       "      <td>15.129313</td>\n",
       "    </tr>\n",
       "    <tr>\n",
       "      <th>3</th>\n",
       "      <td>1999-10-01</td>\n",
       "      <td>Eli Lilly and Company</td>\n",
       "      <td>15.120320</td>\n",
       "    </tr>\n",
       "    <tr>\n",
       "      <th>4</th>\n",
       "      <td>2000-01-01</td>\n",
       "      <td>Eli Lilly and Company</td>\n",
       "      <td>18.521581</td>\n",
       "    </tr>\n",
       "    <tr>\n",
       "      <th>...</th>\n",
       "      <td>...</td>\n",
       "      <td>...</td>\n",
       "      <td>...</td>\n",
       "    </tr>\n",
       "    <tr>\n",
       "      <th>156</th>\n",
       "      <td>2020-10-01</td>\n",
       "      <td>Virtus Pharmaceuticals, LLC</td>\n",
       "      <td>0.477556</td>\n",
       "    </tr>\n",
       "    <tr>\n",
       "      <th>157</th>\n",
       "      <td>2021-01-01</td>\n",
       "      <td>Aurobindo Pharma Limited</td>\n",
       "      <td>0.498138</td>\n",
       "    </tr>\n",
       "    <tr>\n",
       "      <th>158</th>\n",
       "      <td>2021-01-01</td>\n",
       "      <td>Eli Lilly and Company</td>\n",
       "      <td>19.330456</td>\n",
       "    </tr>\n",
       "    <tr>\n",
       "      <th>159</th>\n",
       "      <td>2021-01-01</td>\n",
       "      <td>Prasco Laboratories</td>\n",
       "      <td>0.481470</td>\n",
       "    </tr>\n",
       "    <tr>\n",
       "      <th>160</th>\n",
       "      <td>2021-01-01</td>\n",
       "      <td>Virtus Pharmaceuticals, LLC</td>\n",
       "      <td>0.470729</td>\n",
       "    </tr>\n",
       "  </tbody>\n",
       "</table>\n",
       "<p>161 rows × 3 columns</p>\n",
       "</div>"
      ],
      "text/plain": [
       "          date                 labeler_name  price_per_unit_adj\n",
       "0   1999-01-01        Eli Lilly and Company           15.390808\n",
       "1   1999-04-01        Eli Lilly and Company           15.442688\n",
       "2   1999-07-01        Eli Lilly and Company           15.129313\n",
       "3   1999-10-01        Eli Lilly and Company           15.120320\n",
       "4   2000-01-01        Eli Lilly and Company           18.521581\n",
       "..         ...                          ...                 ...\n",
       "156 2020-10-01  Virtus Pharmaceuticals, LLC            0.477556\n",
       "157 2021-01-01     Aurobindo Pharma Limited            0.498138\n",
       "158 2021-01-01        Eli Lilly and Company           19.330456\n",
       "159 2021-01-01          Prasco Laboratories            0.481470\n",
       "160 2021-01-01  Virtus Pharmaceuticals, LLC            0.470729\n",
       "\n",
       "[161 rows x 3 columns]"
      ]
     },
     "execution_count": 120,
     "metadata": {},
     "output_type": "execute_result"
    }
   ],
   "source": [
    "df_figure"
   ]
  },
  {
   "cell_type": "code",
   "execution_count": 121,
   "metadata": {
    "scrolled": true
   },
   "outputs": [
    {
     "data": {
      "text/plain": [
       "[Text(0.5, 0, 'Year'), Text(0, 0.5, 'Price Per Unit Adj. for Inflation')]"
      ]
     },
     "execution_count": 121,
     "metadata": {},
     "output_type": "execute_result"
    },
    {
     "data": {
      "image/png": "[encoded data removed]",
      "text/plain": [
       "<Figure size 432x288 with 1 Axes>"
      ]
     },
     "metadata": {
      "needs_background": "light"
     },
     "output_type": "display_data"
    }
   ],
   "source": [
    "p = sns.lineplot(data = df_figure, x = 'date', y = 'price_per_unit_adj', hue = 'labeler_name', ci = 0)\n",
    "plt.legend(bbox_to_anchor = (1.02, 1), loc = 'upper left', borderaxespad = 0)\n",
    "p.set(xlabel = 'Year', ylabel = 'Price Per Unit Adj. for Inflation')"
   ]
  },
  {
   "cell_type": "code",
   "execution_count": 25,
   "metadata": {},
   "outputs": [],
   "source": [
    "df_test.to_excel('output_for_one_drug.xlsx', index = False)"
   ]
  },
  {
   "cell_type": "code",
   "execution_count": null,
   "metadata": {},
   "outputs": [],
   "source": []
  }
 ],
 "metadata": {
  "kernelspec": {
   "display_name": "Python 3",
   "language": "python",
   "name": "python3"
  },
  "language_info": {
   "codemirror_mode": {
    "name": "ipython",
    "version": 3
   },
   "file_extension": ".py",
   "mimetype": "text/x-python",
   "name": "python",
   "nbconvert_exporter": "python",
   "pygments_lexer": "ipython3",
   "version": "3.8.5"
  }
 },
 "nbformat": 4,
 "nbformat_minor": 4
}
