{
 "cells": [
  {
   "cell_type": "markdown",
   "metadata": {},
   "source": [
    "# Libraries"
   ]
  },
  {
   "cell_type": "code",
   "execution_count": 330,
   "metadata": {},
   "outputs": [],
   "source": [
    "import requests\n",
    "\n",
    "import numpy as np\n",
    "import pandas as pd\n",
    "pd.set_option('display.max_columns', None) # display all columns in DF\n",
    "import dtale\n",
    "\n",
    "import datetime as dt\n",
    "\n",
    "import matplotlib.pyplot as plt\n",
    "import seaborn as sns\n",
    "\n",
    "from ast import literal_eval"
   ]
  },
  {
   "cell_type": "markdown",
   "metadata": {},
   "source": [
    "# Uploading raw data"
   ]
  },
  {
   "cell_type": "code",
   "execution_count": 331,
   "metadata": {},
   "outputs": [],
   "source": [
    "df_openFDA_NDC = pd.read_csv('raw_openFDA_NDC_data.csv', sep = '~')\n",
    "df_medicaid = pd.read_csv('raw_medicaid_data.csv', sep = '~')\n",
    "df_PPI = pd.read_excel('PPI industry data for Pharmaceutical preparation manufacturing.xlsx', skiprows = 10)\n",
    "df_atc = pd.read_excel('raw_atc_data.xlsx')"
   ]
  },
  {
   "cell_type": "markdown",
   "metadata": {},
   "source": [
    "# Data manipulation: Raw data"
   ]
  },
  {
   "cell_type": "markdown",
   "metadata": {},
   "source": [
    "### OpenFDA NDC"
   ]
  },
  {
   "cell_type": "markdown",
   "metadata": {},
   "source": [
    "Clearing nda"
   ]
  },
  {
   "cell_type": "code",
   "execution_count": 332,
   "metadata": {},
   "outputs": [],
   "source": [
    "df_openFDA_NDC['NDA #'] = df_openFDA_NDC['application_number'].str.replace(r'\\D', '')\n",
    "df_openFDA_NDC['NDA #'] = pd.to_numeric(df_openFDA_NDC['NDA #'])"
   ]
  },
  {
   "cell_type": "markdown",
   "metadata": {},
   "source": [
    "### Medicaid"
   ]
  },
  {
   "cell_type": "markdown",
   "metadata": {},
   "source": [
    "Clearing labeler and product code"
   ]
  },
  {
   "cell_type": "code",
   "execution_count": 333,
   "metadata": {},
   "outputs": [],
   "source": [
    "df_medicaid['labeler_code'] = pd.to_numeric(df_medicaid['labeler_code'])\n",
    "df_medicaid['product_code'] = pd.to_numeric(df_medicaid['product_code'])"
   ]
  },
  {
   "cell_type": "markdown",
   "metadata": {},
   "source": [
    "Creating a date"
   ]
  },
  {
   "cell_type": "code",
   "execution_count": 334,
   "metadata": {},
   "outputs": [],
   "source": [
    "df_medicaid['date'] = 'Q' + df_medicaid['quarter'].astype(str) + ' ' + df_medicaid['year'].astype(str)\n",
    "df_medicaid['date'] = pd.to_datetime(df_medicaid['date'].str.replace(r'(Q\\d) (\\d+)', r'\\2-\\1'), errors='coerce')"
   ]
  },
  {
   "cell_type": "markdown",
   "metadata": {},
   "source": [
    "### PPI"
   ]
  },
  {
   "cell_type": "markdown",
   "metadata": {},
   "source": [
    "Creating a date"
   ]
  },
  {
   "cell_type": "code",
   "execution_count": 335,
   "metadata": {},
   "outputs": [],
   "source": [
    "df_PPI['Period'] = df_PPI['Period'].str.replace(r'\\D', '')\n",
    "df_PPI['Period'] = pd.to_numeric(df_PPI['Period'])\n",
    "df_PPI['day'] = 1\n",
    "df_PPI['date'] = pd.to_datetime(dict(year = df_PPI['Year'], month = df_PPI['Period'], day= df_PPI['day']))"
   ]
  },
  {
   "cell_type": "markdown",
   "metadata": {},
   "source": [
    "Calculating PPI multiplier"
   ]
  },
  {
   "cell_type": "code",
   "execution_count": 336,
   "metadata": {},
   "outputs": [],
   "source": [
    "df_PPI['Value'] = pd.to_numeric(df_PPI['Value'])\n",
    "df_PPI['PPI_multiplier'] = df_PPI['Value'].iloc[-1] / df_PPI['Value']"
   ]
  },
  {
   "cell_type": "markdown",
   "metadata": {},
   "source": [
    "# Merging raw data"
   ]
  },
  {
   "cell_type": "markdown",
   "metadata": {},
   "source": [
    "### Medicaid and PPI"
   ]
  },
  {
   "cell_type": "code",
   "execution_count": 337,
   "metadata": {},
   "outputs": [],
   "source": [
    "df_medicaid = pd.merge(df_medicaid, df_PPI, on = 'date', how = 'left')"
   ]
  },
  {
   "cell_type": "markdown",
   "metadata": {},
   "source": [
    "Adjusting for inflation"
   ]
  },
  {
   "cell_type": "code",
   "execution_count": 338,
   "metadata": {},
   "outputs": [],
   "source": [
    "df_medicaid['total_amount_reimbursed_adj'] = df_medicaid['total_amount_reimbursed'] * df_medicaid['PPI_multiplier']\n",
    "df_medicaid['price_per_unit_adj'] = df_medicaid['price_per_unit'] * df_medicaid['PPI_multiplier']"
   ]
  },
  {
   "cell_type": "markdown",
   "metadata": {},
   "source": [
    "Deleting redundant columns"
   ]
  },
  {
   "cell_type": "code",
   "execution_count": 339,
   "metadata": {},
   "outputs": [],
   "source": [
    "df_medicaid = df_medicaid.drop(columns=['Series ID', 'Year', 'Period', 'Value', 'Unnamed: 4', 'Unnamed: 5', 'day', 'PPI_multiplier'])"
   ]
  },
  {
   "cell_type": "code",
   "execution_count": 340,
   "metadata": {},
   "outputs": [
    {
     "data": {
      "text/plain": [
       "2251895"
      ]
     },
     "execution_count": 340,
     "metadata": {},
     "output_type": "execute_result"
    }
   ],
   "source": [
    "len(df_medicaid)"
   ]
  },
  {
   "cell_type": "markdown",
   "metadata": {},
   "source": [
    "### OpenFDA and Medicaid"
   ]
  },
  {
   "cell_type": "markdown",
   "metadata": {},
   "source": [
    "Merging with Medicaid"
   ]
  },
  {
   "cell_type": "code",
   "execution_count": 341,
   "metadata": {},
   "outputs": [],
   "source": [
    "df_consolidation_data = pd.merge(df_medicaid, df_openFDA_NDC, on = ['labeler_code', 'product_code'], how = 'inner')"
   ]
  },
  {
   "cell_type": "code",
   "execution_count": 342,
   "metadata": {},
   "outputs": [
    {
     "data": {
      "text/plain": [
       "549813"
      ]
     },
     "execution_count": 342,
     "metadata": {},
     "output_type": "execute_result"
    }
   ],
   "source": [
    "len(df_consolidation_data)"
   ]
  },
  {
   "cell_type": "markdown",
   "metadata": {},
   "source": [
    "### OpenFDA, Medicaid and NLH"
   ]
  },
  {
   "cell_type": "markdown",
   "metadata": {},
   "source": [
    "Changing the name to capital letters"
   ]
  },
  {
   "cell_type": "code",
   "execution_count": 343,
   "metadata": {},
   "outputs": [],
   "source": [
    "df_temp = df_atc"
   ]
  },
  {
   "cell_type": "code",
   "execution_count": 344,
   "metadata": {},
   "outputs": [],
   "source": [
    "df_temp['RxNorm'] = df_atc['RxNorm'].str.upper()"
   ]
  },
  {
   "cell_type": "markdown",
   "metadata": {},
   "source": [
    "Merging on **name** with orig. data"
   ]
  },
  {
   "cell_type": "code",
   "execution_count": 345,
   "metadata": {},
   "outputs": [],
   "source": [
    "df_atc_temp = pd.merge(df_consolidation_data['generic_name'], df_temp[['RxNorm', 'Anatomical Therapeutic Chemical (ATC1)', 'ID (ATC1)']], left_on = ['generic_name'], right_on = ['RxNorm'], how = 'right')"
   ]
  },
  {
   "cell_type": "markdown",
   "metadata": {},
   "source": [
    "Creating dummy variables for ATC"
   ]
  },
  {
   "cell_type": "code",
   "execution_count": 346,
   "metadata": {},
   "outputs": [],
   "source": [
    "df_dummy_temp = pd.get_dummies(df_atc_temp['Anatomical Therapeutic Chemical (ATC1)'])"
   ]
  },
  {
   "cell_type": "markdown",
   "metadata": {},
   "source": [
    "Merging with orig. data"
   ]
  },
  {
   "cell_type": "code",
   "execution_count": 347,
   "metadata": {},
   "outputs": [],
   "source": [
    "df_atc_temp = pd.merge(df_atc_temp, df_dummy_temp, left_index = True, right_index = True, how = 'inner')"
   ]
  },
  {
   "cell_type": "markdown",
   "metadata": {},
   "source": [
    "Grouping by name to include multiple ATC for each drug "
   ]
  },
  {
   "cell_type": "code",
   "execution_count": 348,
   "metadata": {},
   "outputs": [],
   "source": [
    "df_atc_generic_name_temp = df_atc_temp.set_index(['generic_name']).groupby(level = ['generic_name'])[['Alimentary Tract And Metabolism ', 'Antiinfectives For Systemic Use', 'Antineoplastic And Immunomodulating Agents', 'Antiparasitic Products, Insecticides And Repellents', 'Blood And Blood Forming Organs', 'Cardiovascular System', 'Dermatologicals', 'Genito Urinary System And Sex Hormones', 'Musculo-Skeletal System', 'Nervous System', 'Respiratory System', 'Sensory Organs', 'Systemic Hormonal Preparations, Excl. Sex Hormones And Insulins', 'Various' ]].agg('sum')\n",
    "df_atc_generic_name_temp = df_atc_name_temp.reset_index()"
   ]
  },
  {
   "cell_type": "markdown",
   "metadata": {},
   "source": [
    "Changing the aggregated count to a dummy value"
   ]
  },
  {
   "cell_type": "code",
   "execution_count": 349,
   "metadata": {},
   "outputs": [],
   "source": [
    "df_atc_generic_name_temp['Alimentary Tract And Metabolism '] = [1 if atc > 0 else atc for atc in df_atc_generic_name_temp['Alimentary Tract And Metabolism ']]\n",
    "df_atc_generic_name_temp['Antiinfectives For Systemic Use'] = [1 if atc > 0 else atc for atc in df_atc_generic_name_temp['Antiinfectives For Systemic Use']]\n",
    "df_atc_generic_name_temp['Antineoplastic And Immunomodulating Agents'] = [1 if atc > 0 else atc for atc in df_atc_generic_name_temp['Antineoplastic And Immunomodulating Agents']]\n",
    "df_atc_generic_name_temp['Antiparasitic Products, Insecticides And Repellents'] = [1 if atc > 0 else atc for atc in df_atc_generic_name_temp['Antiparasitic Products, Insecticides And Repellents']]\n",
    "df_atc_generic_name_temp['Blood And Blood Forming Organs'] = [1 if atc > 0 else atc for atc in df_atc_generic_name_temp['Blood And Blood Forming Organs']]\n",
    "df_atc_generic_name_temp['Cardiovascular System'] = [1 if atc > 0 else atc for atc in df_atc_generic_name_temp['Cardiovascular System']]\n",
    "df_atc_generic_name_temp['Dermatologicals'] = [1 if atc > 0 else atc for atc in df_atc_generic_name_temp['Dermatologicals']]\n",
    "df_atc_generic_name_temp['Genito Urinary System And Sex Hormones'] = [1 if atc > 0 else atc for atc in df_atc_generic_name_temp['Genito Urinary System And Sex Hormones']]\n",
    "df_atc_generic_name_temp['Musculo-Skeletal System'] = [1 if atc > 0 else atc for atc in df_atc_generic_name_temp['Musculo-Skeletal System']]\n",
    "df_atc_generic_name_temp['Nervous System'] = [1 if atc > 0 else atc for atc in df_atc_generic_name_temp['Nervous System']]\n",
    "df_atc_generic_name_temp['Respiratory System'] = [1 if atc > 0 else atc for atc in df_atc_generic_name_temp['Respiratory System']]\n",
    "df_atc_generic_name_temp['Sensory Organs'] = [1 if atc > 0 else atc for atc in df_atc_generic_name_temp['Sensory Organs']]\n",
    "df_atc_generic_name_temp['Systemic Hormonal Preparations, Excl. Sex Hormones And Insulins'] = [1 if atc > 0 else atc for atc in df_atc_generic_name_temp['Systemic Hormonal Preparations, Excl. Sex Hormones And Insulins']]\n",
    "df_atc_generic_name_temp['Various'] = [1 if atc > 0 else atc for atc in df_atc_generic_name_temp['Various']]"
   ]
  },
  {
   "cell_type": "markdown",
   "metadata": {},
   "source": [
    "Merging with the consolidated data"
   ]
  },
  {
   "cell_type": "code",
   "execution_count": 350,
   "metadata": {},
   "outputs": [],
   "source": [
    "df_consolidation_data['generic_name'] = df_consolidation_data['generic_name'].str.upper()"
   ]
  },
  {
   "cell_type": "code",
   "execution_count": 351,
   "metadata": {},
   "outputs": [],
   "source": [
    "df_consolidation_data = pd.merge(df_consolidation_data, df_atc_generic_name_temp, left_on = ['generic_name'], right_on = ['generic_name'], how = 'left')\n",
    "df_consolidation_data = df_consolidation_data.drop(columns = ['index'])"
   ]
  },
  {
   "cell_type": "code",
   "execution_count": 352,
   "metadata": {},
   "outputs": [
    {
     "data": {
      "text/plain": [
       "549813"
      ]
     },
     "execution_count": 352,
     "metadata": {},
     "output_type": "execute_result"
    }
   ],
   "source": [
    "len(df_consolidation_data)"
   ]
  },
  {
   "cell_type": "markdown",
   "metadata": {},
   "source": [
    "# Grouping price and quantity"
   ]
  },
  {
   "cell_type": "markdown",
   "metadata": {},
   "source": [
    "Grouping price and quantity by unique id, labeler, year, and quarter and calculating price per unit adj. for the new data"
   ]
  },
  {
   "cell_type": "code",
   "execution_count": 353,
   "metadata": {},
   "outputs": [],
   "source": [
    "df_temp = df_consolidation_data.set_index(['unique_id', 'labeler_name', 'year', 'quarter']).groupby(level = ['unique_id', 'labeler_name', 'year', 'quarter'])[['units_reimbursed', 'total_amount_reimbursed_adj']].agg('sum')\n",
    "df_temp = df_temp.reset_index()\n",
    "\n",
    "df_temp['price_per_unit_adj'] = df_temp['total_amount_reimbursed_adj'] / df_temp['units_reimbursed']"
   ]
  },
  {
   "cell_type": "markdown",
   "metadata": {},
   "source": [
    "Dropping the price and quantity and duplicates from the old data"
   ]
  },
  {
   "cell_type": "code",
   "execution_count": 354,
   "metadata": {},
   "outputs": [],
   "source": [
    "df_consolidation_data = df_consolidation_data.drop(columns = ['units_reimbursed', 'total_amount_reimbursed', 'price_per_unit', 'total_amount_reimbursed_adj', 'price_per_unit_adj'])\n",
    "df_consolidation_data = df_consolidation_data.drop_duplicates(subset = ['unique_id', 'labeler_name', 'year', 'quarter'])"
   ]
  },
  {
   "cell_type": "markdown",
   "metadata": {},
   "source": [
    "Merging the org. data"
   ]
  },
  {
   "cell_type": "code",
   "execution_count": 355,
   "metadata": {},
   "outputs": [],
   "source": [
    "df_consolidation_data = pd.merge(df_consolidation_data, df_temp, left_on = ['unique_id', 'labeler_name', 'year', 'quarter'], right_on = ['unique_id', 'labeler_name', 'year', 'quarter'], how = 'right')"
   ]
  },
  {
   "cell_type": "code",
   "execution_count": 356,
   "metadata": {},
   "outputs": [
    {
     "data": {
      "text/plain": [
       "523938"
      ]
     },
     "execution_count": 356,
     "metadata": {},
     "output_type": "execute_result"
    }
   ],
   "source": [
    "len(df_consolidation_data)"
   ]
  },
  {
   "cell_type": "markdown",
   "metadata": {},
   "source": [
    "# Downloading raw output"
   ]
  },
  {
   "cell_type": "code",
   "execution_count": 357,
   "metadata": {},
   "outputs": [],
   "source": [
    "df_consolidation_data.to_csv('raw_consolidation_data.csv', sep = '~', index = False)"
   ]
  },
  {
   "cell_type": "markdown",
   "metadata": {},
   "source": [
    "# Count"
   ]
  },
  {
   "cell_type": "code",
   "execution_count": 358,
   "metadata": {},
   "outputs": [
    {
     "data": {
      "text/plain": [
       "17625"
      ]
     },
     "execution_count": 358,
     "metadata": {},
     "output_type": "execute_result"
    }
   ],
   "source": [
    "len(df_consolidation_data.drop_duplicates(subset = ['labeler_code', 'product_code'], keep = 'first'))"
   ]
  },
  {
   "cell_type": "code",
   "execution_count": 359,
   "metadata": {},
   "outputs": [
    {
     "data": {
      "text/plain": [
       "7214"
      ]
     },
     "execution_count": 359,
     "metadata": {},
     "output_type": "execute_result"
    },
    {
     "name": "stdout",
     "output_type": "stream",
     "text": [
      "Executing shutdown due to inactivity...\n",
      "Executing shutdown due to inactivity...\n"
     ]
    },
    {
     "name": "stderr",
     "output_type": "stream",
     "text": [
      "2022-03-22 21:46:24,825 - INFO     - Executing shutdown due to inactivity...\n"
     ]
    },
    {
     "name": "stdout",
     "output_type": "stream",
     "text": [
      "Executing shutdown...\n",
      "Executing shutdown...\n"
     ]
    },
    {
     "name": "stderr",
     "output_type": "stream",
     "text": [
      "2022-03-22 21:46:28,936 - INFO     - Executing shutdown...\n"
     ]
    }
   ],
   "source": [
    "len(df_consolidation_data.drop_duplicates(subset = ['unique_id'], keep = 'first'))"
   ]
  },
  {
   "cell_type": "code",
   "execution_count": null,
   "metadata": {},
   "outputs": [],
   "source": []
  }
 ],
 "metadata": {
  "kernelspec": {
   "display_name": "Python 3",
   "language": "python",
   "name": "python3"
  },
  "language_info": {
   "codemirror_mode": {
    "name": "ipython",
    "version": 3
   },
   "file_extension": ".py",
   "mimetype": "text/x-python",
   "name": "python",
   "nbconvert_exporter": "python",
   "pygments_lexer": "ipython3",
   "version": "3.8.5"
  }
 },
 "nbformat": 4,
 "nbformat_minor": 4
}
