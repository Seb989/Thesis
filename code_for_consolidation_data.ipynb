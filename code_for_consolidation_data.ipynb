{
 "cells": [
  {
   "cell_type": "markdown",
   "metadata": {},
   "source": [
    "# Libraries"
   ]
  },
  {
   "cell_type": "code",
   "execution_count": 72,
   "metadata": {},
   "outputs": [],
   "source": [
    "import requests\n",
    "\n",
    "import numpy as np\n",
    "import pandas as pd\n",
    "pd.set_option('display.max_columns', None) # display all columns in DF\n",
    "#pd.set_option('display.max_rows', None) # display all columns in DF\n",
    "\n",
    "import datetime as dt\n",
    "\n",
    "import matplotlib.pyplot as plt\n",
    "import seaborn as sns\n",
    "\n",
    "from ast import literal_eval"
   ]
  },
  {
   "cell_type": "markdown",
   "metadata": {},
   "source": [
    "# Uploading raw data"
   ]
  },
  {
   "cell_type": "code",
   "execution_count": 73,
   "metadata": {},
   "outputs": [],
   "source": [
    "df_openFDA_NDC = pd.read_csv('raw_openFDA_NDC_data.csv', sep = '~')\n",
    "df_medicaid = pd.read_csv('raw_medicaid_data.csv', sep = '~')\n",
    "df_PPI = pd.read_excel('PPI industry data for Pharmaceutical preparation manufacturing.xlsx', skiprows = 10)\n",
    "df_atc = pd.read_excel('raw_atc_data.xlsx')"
   ]
  },
  {
   "cell_type": "markdown",
   "metadata": {},
   "source": [
    "# Data manipulation: Raw data"
   ]
  },
  {
   "cell_type": "markdown",
   "metadata": {},
   "source": [
    "### OpenFDA NDC"
   ]
  },
  {
   "cell_type": "markdown",
   "metadata": {},
   "source": [
    "Clearing the labeler name"
   ]
  },
  {
   "cell_type": "code",
   "execution_count": 74,
   "metadata": {},
   "outputs": [],
   "source": [
    "df_label = df_openFDA_NDC\n",
    "df_label['labeler_name'] = df_openFDA_NDC['labeler_name'].replace(['Accord Healthcare Inc.','Accord Healthcare, Inc.','Accord Healthcare, Inc.,','Accord Healthcare','Accord BioPharma Inc.','Accord Healthcare, Inc'], 'Accord Healthcare Inc')\n",
    "df_label['labeler_name'] = df_openFDA_NDC['labeler_name'].replace('Afaxys Pharma, LLC', 'Afaxys Pharma LLC')\n",
    "df_label['labeler_name'] = df_openFDA_NDC['labeler_name'].replace('ACI Healthcare USA, Inc.', 'ACI Healthcare USA, Inc')\n",
    "df_label['labeler_name'] = df_openFDA_NDC['labeler_name'].replace('Alembic Pharmaceuticals, Inc.', 'Alembic Pharmaceuticals Inc.')\n",
    "df_label['labeler_name'] = df_openFDA_NDC['labeler_name'].replace('Alcon Laboratories, Inc.', 'Alcon, Inc.')\n",
    "df_label['labeler_name'] = df_openFDA_NDC['labeler_name'].replace('Almatica Pharma LLC', 'Almatica Pharma Inc.')\n",
    "df_label['labeler_name'] = df_openFDA_NDC['labeler_name'].replace('Amgen USA Inc.', 'Amgen Inc')\n",
    "df_label['labeler_name'] = df_openFDA_NDC['labeler_name'].replace('AMICI PHARMACEUTICALS LLC', 'Amici Pharmaceuticals LLC.')\n",
    "df_label['labeler_name'] = df_openFDA_NDC['labeler_name'].replace('Amneal Pharmaceuticals LLC', 'Amneal Pharmaceuticals')\n",
    "df_label['labeler_name'] = df_openFDA_NDC['labeler_name'].replace('Amryt Pharmaceutcials DAC', 'Amryt Pharmaceuticals DAC')\n",
    "df_label['labeler_name'] = df_openFDA_NDC['labeler_name'].replace(['APNAR PHARMA LP','Apnar Pharma LP'], 'Apnar Pharma')\n",
    "df_label['labeler_name'] = df_openFDA_NDC['labeler_name'].replace('APOTEX CORP.', 'Apotex Corp')\n",
    "df_label['labeler_name'] = df_openFDA_NDC['labeler_name'].replace('Alembic Pharmaceuticals, Inc.', 'Alembic Pharmaceuticals Inc.')\n",
    "df_label['labeler_name'] = df_openFDA_NDC['labeler_name'].replace('Alexion Pharmaceuticals, Inc.', 'Alexion Pharmaceuticals Inc.')\n",
    "df_label['labeler_name'] = df_openFDA_NDC['labeler_name'].replace(['Alvogen, Inc.','Alvogen'], 'Alvogen Inc.')\n",
    "df_label['labeler_name'] = df_openFDA_NDC['labeler_name'].replace(['Akorn','Akorn, Inc.'], 'Akorn Inc.')\n",
    "df_label['labeler_name'] = df_openFDA_NDC['labeler_name'].replace(['Amneal Pharmaceuticals NY LLC','Amneal Pharmaceuticals of New York LLC','Amneal Pharmaceuticals of New York, LLC'], 'Amneal Pharmaceuticals LLC')\n",
    "df_label['labeler_name'] = df_openFDA_NDC['labeler_name'].replace(['Areva Pharmaceuticals Inc.','Areva Pharmaceuticals, Inc.','Areva Pharmaceuticals,Inc.'], 'Areva Pharmaceuticals')\n",
    "df_label['labeler_name'] = df_openFDA_NDC['labeler_name'].replace('Amring Pharmaceuticals, Inc.', 'Amring Pharmaceuticals Inc.')\n",
    "df_label['labeler_name'] = df_openFDA_NDC['labeler_name'].replace('Apotex Corp.', 'Apotex Corp')\n",
    "df_label['labeler_name'] = df_openFDA_NDC['labeler_name'].replace('Aytu Therapeutics, LLC','Aytu Therapeutics')\n",
    "df_label['labeler_name'] = df_openFDA_NDC['labeler_name'].replace('Arbor Pharmaceuticals, Inc.', 'Arbor Pharmaceuticals')\n",
    "df_label['labeler_name'] = df_openFDA_NDC['labeler_name'].replace('Aurolife Pharma, LLC', 'Aurolife Pharma LLC')\n",
    "df_label['labeler_name'] = df_openFDA_NDC['labeler_name'].replace(['Baxter Healthcare Corporation','Baxter Healthcare CORP'], 'Baxter Healthcare Company')\n",
    "df_label['labeler_name'] = df_openFDA_NDC['labeler_name'].replace('Bausch & Lomb Incoporated', 'Bausch & Lomb Incorporated')\n",
    "df_label['labeler_name'] = df_openFDA_NDC['labeler_name'].replace(['Bausch Health US, LLC','Bausch Health Us, LLC','Bausch Health Americas Inc.'], 'Bausch Health US LLC')\n",
    "df_label['labeler_name'] = df_openFDA_NDC['labeler_name'].replace(['Bayshore Pharmaceuticals, LLC','Bayshore Pharmaceuticals LLC (NJ)'], 'Bayshore Pharmaceuticals LLC')\n",
    "df_label['labeler_name'] = df_openFDA_NDC['labeler_name'].replace(['Biocon Pharma Inc,','Biocomp Pharma, Inc.','Biocon Pharma Inc.','Biocon Pharma Inc.,'], 'Biocon Pharma Inc')\n",
    "df_label['labeler_name'] = df_openFDA_NDC['labeler_name'].replace('Biogen Inc.', 'Biogen')\n",
    "df_label['labeler_name'] = df_openFDA_NDC['labeler_name'].replace(['Bionpharma Inc.,','BionPharma Inc.,'], 'Bionpharma Inc.')\n",
    "df_label['labeler_name'] = df_openFDA_NDC['labeler_name'].replace(['BluePoint Labortories','BluePoint Laboratories Inc.','BluePoint'], 'BluePoint Laboratories')\n",
    "df_label['labeler_name'] = df_openFDA_NDC['labeler_name'].replace(['Burel Pharmaceuticals, LLC','Burel Pharma'], 'Burel Pharmaceuticals, Inc.')\n",
    "df_label['labeler_name'] = df_openFDA_NDC['labeler_name'].replace('Boehringer Ingelheim Pharmaceuticals, Inc.', 'Boehringer Ingelheim Pharmaceuticals Inc.')\n",
    "df_label['labeler_name'] = df_openFDA_NDC['labeler_name'].replace('Breckenridge Pharmaceutical, Inc.', 'Breckenridge Pharmaceutical, Inc')\n",
    "df_label['labeler_name'] = df_openFDA_NDC['labeler_name'].replace('Bionpharma Inc.,', 'Bionpharma Inc.')\n",
    "df_label['labeler_name'] = df_openFDA_NDC['labeler_name'].replace('Bristol-Myers Squibb/Sanofi Pharmaceuticals Partnership', 'Bristol-Myers Squibb Pharma Company')\n",
    "df_label['labeler_name'] = df_openFDA_NDC['labeler_name'].replace(['Camber Pharmaceuticals, Inc.','Camber Pharmaceuticals','Camber Pharmaceuticals Inc' ,'Camber Pharmaceuticals, Inc'], 'Camber Pharmaceutical Inc')\n",
    "df_label['labeler_name'] = df_openFDA_NDC['labeler_name'].replace('Chartwell RX, LLC.', 'Chartwell RX LLC')\n",
    "df_label['labeler_name'] = df_openFDA_NDC['labeler_name'].replace('Cameron Pharmaceuticals, LLC', 'Cameron Pharmaceuticals')\n",
    "df_label['labeler_name'] = df_openFDA_NDC['labeler_name'].replace('Carlsbad Technology, Inc.', 'Carlsbad Technology, Inc')\n",
    "df_label['labeler_name'] = df_openFDA_NDC['labeler_name'].replace(['Cipla USA Inc.,','CIPLA USA, Inc','Cipla USA, Inc.'], 'Cipla USA Inc.')\n",
    "df_label['labeler_name'] = df_openFDA_NDC['labeler_name'].replace('Civica, Inc.', 'Civica Inc.')\n",
    "df_label['labeler_name'] = df_openFDA_NDC['labeler_name'].replace('Covis Pharma US, Inc', 'Covis Pharma')\n",
    "df_label['labeler_name'] = df_openFDA_NDC['labeler_name'].replace('Currax Pharmaceuticals LLC dba Cypress, Hawthorn, Macoven', 'Currax Pharmaceuticals LLC')\n",
    "df_label['labeler_name'] = df_openFDA_NDC['labeler_name'].replace('Daiichi Sankyo, Inc.', 'Daiichi Sankyo Inc.')\n",
    "df_label['labeler_name'] = df_openFDA_NDC['labeler_name'].replace([\"Dr. Reddys Laboratories, Inc\",\"Dr. Reddys Laboratories, Inc.\",\"DR.REDDYS LABORATORIES INC\",\"Dr.Reddys Laboratories Limited\",\"Dr.Reddys Laboratories, Inc.\",\"Dr. Reddy's Laboratories Inc\", \"Dr. Reddys Laboratories Inc.\", \"Dr. Reddy's Laboratories Inc.\", \"Dr. Reddys Laboratories Inc.,\", \"Dr. Reddys Laboratories Limited\", \"Dr. Reddy's Laboratories Limited\", \"Dr. Reddy's Laboratories Ltd\", \"Dr. Reddy's Laboratories, Inc.\", \"Dr.Reddys Laboratories Inc\", \"Dr.Reddy's Laboratories Inc\", \"Dr.Reddys Laboratories Inc.,\", \"Dr.Reddy's Laboratories Inc.,\", \"Dr.Reddy's Laboratories Limited\", \"Dr.Reddy's Laboratories Ltd\", \"Dr.Reddy's Laboratories Ltd.\", \"Dr.Reddy's Laboratories, Inc.\" ,'Dr. Reddys Laboratories Inc'], 'Dr Reddys Laboratories Inc')\n",
    "df_label['labeler_name'] = df_openFDA_NDC['labeler_name'].replace(['Endo Pharmaceuticals Solutions Inc.','Endo Pharmaceuticals, Inc.'], 'Endo Pharmaceuticals Inc.')\n",
    "df_label['labeler_name'] = df_openFDA_NDC['labeler_name'].replace('ECI Pharmaceuticals, LLC', 'ECI Pharmaceuticals LLC')\n",
    "df_label['labeler_name'] = df_openFDA_NDC['labeler_name'].replace('Edenbridge Pharmaceuticals LLC.', 'Edenbridge Pharmaceuticals, LLC')\n",
    "df_label['labeler_name'] = df_openFDA_NDC['labeler_name'].replace('EPI Health, LLC', 'EPI Health, Inc')\n",
    "df_label['labeler_name'] = df_openFDA_NDC['labeler_name'].replace('EYWA Pharma Inc.', 'Eywa Pharma Inc')\n",
    "df_label['labeler_name'] = df_openFDA_NDC['labeler_name'].replace(['Epic Pharma,LLC', 'Epic Pharma, LLC'], 'Epic Pharma LLC')\n",
    "df_label['labeler_name'] = df_openFDA_NDC['labeler_name'].replace('Exelan Pharmaceuticals, Inc.', 'Exelan Pharmaceuticals Inc.')\n",
    "df_label['labeler_name'] = df_openFDA_NDC['labeler_name'].replace('EyePoint Pharmaceuticals US, Inc', 'EyePoint Pharmaceuticals, Inc')\n",
    "df_label['labeler_name'] = df_openFDA_NDC['labeler_name'].replace('Fortovia Therapeutics, Inc.', 'Fortovia Therapeutics Inc.')\n",
    "df_label['labeler_name'] = df_openFDA_NDC['labeler_name'].replace(['Fosun Pharma USA Inc.','FOSUN PHARMA USA INC.'], 'Fosun Pharma USA Inc')\n",
    "df_label['labeler_name'] = df_openFDA_NDC['labeler_name'].replace(['Fresenius Kabi, USA LLC','Fresenius Medical Care North America','Fresenius Kabi USA, LLC'], 'Fresenius Medical Care Holdings, Inc.')\n",
    "df_label['labeler_name'] = df_openFDA_NDC['labeler_name'].replace('Genentech, Inc.', 'Genentech Inc.')\n",
    "df_label['labeler_name'] = df_openFDA_NDC['labeler_name'].replace('GE Healthcare', 'GE Healthcare Inc.')\n",
    "df_label['labeler_name'] = df_openFDA_NDC['labeler_name'].replace('GALDERMA LABORATORIES, L.P', 'Galderma Laboratories, L.P.')\n",
    "df_label['labeler_name'] = df_openFDA_NDC['labeler_name'].replace('Gilead Sciences, Inc', 'Gilead Sciences')\n",
    "df_label['labeler_name'] = df_openFDA_NDC['labeler_name'].replace('GlaxoSmithKline Consumer Healthcare Holdings (US) LLC', 'GlaxoSmithKline LLC')\n",
    "df_label['labeler_name'] = df_openFDA_NDC['labeler_name'].replace(['Gilead Sciences, Inc.','Gilead Sciences, LLC'], 'Gilead Sciences, Inc')\n",
    "df_label['labeler_name'] = df_openFDA_NDC['labeler_name'].replace(['Glenmark Pharmaceuticals, Inc','Glenmark Pharmaceuticals Limited Inc., USA','Glenmark Pharmaceutcials Inc., USA','Glenmark Pharmaceuticals Inc., USA','Glenmark Pharmaceuticals Inc. USA','Glenmark Pharmaceuticals Inc.,USA','Gilead Sciences, LLC', 'Glenmark Pharmaceutials Inc., USA','Glenamrk Pharmaceuticals Inc., USA'], 'Glenmark Pharmaceuticals Inc., USA')\n",
    "df_label['labeler_name'] = df_openFDA_NDC['labeler_name'].replace('H2-Pharma, LLC', 'H2-Pharma LLC')\n",
    "df_label['labeler_name'] = df_openFDA_NDC['labeler_name'].replace('Harris Pharmaceutical, Inc.', 'Harris Pharmaceutical, Inc')\n",
    "df_label['labeler_name'] = df_openFDA_NDC['labeler_name'].replace(['Heritage Pharma Labs Inc. d/b/a Avet Pharmaceuticals Labs Inc.','Heritage Pharmaceuticals Inc d/b/a as Avet Pharmaceuticals Inc','HERITAGE PHARMACEUTICALS INC D/B/A AVET PHARMACEUTICALS INC','Heritage Pharmaceuticals Inc. d/b/a Avet Pharmaceuticals Inc.'], 'Heritage Pharmaceuticals Inc.')\n",
    "df_label['labeler_name'] = df_openFDA_NDC['labeler_name'].replace(['Hospira, Inc.','Hospira, Inc'], 'Hospira Inc.')\n",
    "df_label['labeler_name'] = df_openFDA_NDC['labeler_name'].replace('Hikma Pharmaceuticals USA Inc', 'Hikma Pharmaceuticals USA')\n",
    "df_label['labeler_name'] = df_openFDA_NDC['labeler_name'].replace('Hi-Tech Pharmacal Co., Inc.', 'Hi-Tech Pharmacal Co. Inc.')\n",
    "df_label['labeler_name'] = df_openFDA_NDC['labeler_name'].replace('HRA Pharma Rare Diseases', 'HRA Pharma America, Inc.')\n",
    "df_label['labeler_name'] = df_openFDA_NDC['labeler_name'].replace('Heron Therapeutics, Inc.', 'Heron Therapeutics')\n",
    "df_label['labeler_name'] = df_openFDA_NDC['labeler_name'].replace('Horizon Therapeutics USA, Inc.', 'Horizon Therapeutics, Inc.')\n",
    "df_label['labeler_name'] = df_openFDA_NDC['labeler_name'].replace(['Hikma Pharmaceuticals USA Inc.','Hikma Pharmceuticals USA Inc.','Hikma Specialty USA Inc.'], 'Hikma Pharmaceuticals USA Inc')\n",
    "df_label['labeler_name'] = df_openFDA_NDC['labeler_name'].replace('Ingenus Pharmaceuticals, LLC', 'Ingenus Pharmaceuticals LLC')\n",
    "df_label['labeler_name'] = df_openFDA_NDC['labeler_name'].replace('Jubilant Cadista Pharmaceuticals Inc.', 'Jubilant Cadista Pharmaceuticals Inc')\n",
    "df_label['labeler_name'] = df_openFDA_NDC['labeler_name'].replace(['Janssen Pharmaceuticals Inc.','Janssen Pharmaceuticals, Inc','Janssen Pharmaceuticals, Inc.','Janssen Products LP','Janssen Products, LP','Janssen Biotech, Inc.'], 'Janssen Pharmaceutical, Inc.')\n",
    "df_label['labeler_name'] = df_openFDA_NDC['labeler_name'].replace(['KVK-TECH, INC','KVK-TECH,INC'], 'KVK-Tech, Inc.')\n",
    "df_label['labeler_name'] = df_openFDA_NDC['labeler_name'].replace('KYOWA KIRIN, INC,', 'Kyowa Kirin, Inc.')\n",
    "df_label['labeler_name'] = df_openFDA_NDC['labeler_name'].replace(['Lannett Company, Inc.','Lannett Company Inc.'], 'Lannett Company, Inc')\n",
    "df_label['labeler_name'] = df_openFDA_NDC['labeler_name'].replace('Lifestar Pharma LLC.', 'Lifestar Pharma LLC')\n",
    "df_label['labeler_name'] = df_openFDA_NDC['labeler_name'].replace(['Lupin Pharmaceuticals, Inc.','Lupin Pharmaceuticals,Inc.'], 'Lupin Pharmaceuticals, Inc.')\n",
    "df_label['labeler_name'] = df_openFDA_NDC['labeler_name'].replace('Mayne Pharma Inc.', 'Mayne Pharma')\n",
    "df_label['labeler_name'] = df_openFDA_NDC['labeler_name'].replace(['McKesson Packaging Services Business Unit of McKesson Corporation','McKesson Corporation dba SKY Packaging'], 'McKesson Corporation')\n",
    "df_label['labeler_name'] = df_openFDA_NDC['labeler_name'].replace('MDD US Operations LLC, a subsidiary of Supernus Pharmaceuticals, Inc.', 'MDD US Operations, LLC')\n",
    "df_label['labeler_name'] = df_openFDA_NDC['labeler_name'].replace('Meda Pharmaceuticals Inc.', 'Meda Pharmaceuticals')\n",
    "df_label['labeler_name'] = df_openFDA_NDC['labeler_name'].replace(['Medimetriks Pharmaceuticals Inc','Medimetriks Pharmaceuticals, Inc.'],'Medimetriks Pharmaceuticals')\n",
    "df_label['labeler_name'] = df_openFDA_NDC['labeler_name'].replace('Meitheal Pharmaceuticals Inc.','Meitheal Pharmaceuticals Inc')\n",
    "df_label['labeler_name'] = df_openFDA_NDC['labeler_name'].replace('Merz Pharmaceuticals, LLC','Merz North America, Inc')\n",
    "df_label['labeler_name'] = df_openFDA_NDC['labeler_name'].replace(['Mylan Specialty L.P.','Mylan Pharmaceuticals Inc.','Mylan Institutional LLC'], 'Mylan Institutional Inc.')\n",
    "df_label['labeler_name'] = df_openFDA_NDC['labeler_name'].replace(['NorthStar RxLLC','Northstar RxLLC','Northstar Rx LLC.'], 'NorthStar Rx LLC')\n",
    "df_label['labeler_name'] = df_openFDA_NDC['labeler_name'].replace('Neos Therapeutics Brands, LLC', 'Neos Therapeutics LP')\n",
    "df_label['labeler_name'] = df_openFDA_NDC['labeler_name'].replace('Oceanside Pharmaceutials', 'Oceanside Pharmaceuticals')\n",
    "df_label['labeler_name'] = df_openFDA_NDC['labeler_name'].replace(['Nexus Pharamaceuticals Inc.','Nexus Pharmaceuticals Inc.'], 'Nexus Pharmaceuticals Inc')\n",
    "df_label['labeler_name'] = df_openFDA_NDC['labeler_name'].replace('Nostrum Laboratories, Inc.', 'Nostrum Laboratories Inc.')\n",
    "df_label['labeler_name'] = df_openFDA_NDC['labeler_name'].replace('NIVAGEN PHARMACEUTICALS, INC.', 'Nivagen Pharmaceuticals Inc')\n",
    "df_label['labeler_name'] = df_openFDA_NDC['labeler_name'].replace('Oceanside Pharmacueticals', 'Oceanside Pharmaceuticals')\n",
    "df_label['labeler_name'] = df_openFDA_NDC['labeler_name'].replace('Novo Nordisk Pharma, Inc.', 'Novo Nordisk')\n",
    "df_label['labeler_name'] = df_openFDA_NDC['labeler_name'].replace('OrchidPharma, Inc', 'OrchidPharma Inc')\n",
    "df_label['labeler_name'] = df_openFDA_NDC['labeler_name'].replace('Ohm Laboratories, Inc.', 'Ohm Laboratories Inc.')\n",
    "df_label['labeler_name'] = df_openFDA_NDC['labeler_name'].replace(['Par Pharmaceutical, Inc.','Par Pharmaceutical, Inc','Par Pharmaceutical Inc.'], 'Par Pharmaceutical')\n",
    "df_label['labeler_name'] = df_openFDA_NDC['labeler_name'].replace(['Pfizer Laboratories Div Pfizer Inc','Pfizer Labs, Division of Pfizer Inc.'], 'Pfizer, Inc.')\n",
    "df_label['labeler_name'] = df_openFDA_NDC['labeler_name'].replace(['Patriot Pharmaceuticals, LLC.','Patriot Pharmaceuticals, LLC','Patriot Pharmaceuticals LLC'], 'Patriot Pharmaceuticals')\n",
    "df_label['labeler_name'] = df_openFDA_NDC['labeler_name'].replace(['Perrigo Company','Perrigo New York Inc.'], 'Perrigo New York Inc')\n",
    "df_label['labeler_name'] = df_openFDA_NDC['labeler_name'].replace(['Pharmacia and Upjohn Company LLC','Pharmacia & Upjohn Company LLC'], 'Pharmacia and Upjohn Company')\n",
    "df_label['labeler_name'] = df_openFDA_NDC['labeler_name'].replace('PharmaDerm, A division of Fougera Pharmaceuticals Inc.', 'PharmaDerm a division of Fougera Pharmaceuticals Inc.')\n",
    "df_label['labeler_name'] = df_openFDA_NDC['labeler_name'].replace('Promius Pharma, LLC.', 'Promius Pharma, LLC')\n",
    "df_label['labeler_name'] = df_openFDA_NDC['labeler_name'].replace('Pharmaceutical Associates, Inc,', 'Pharmaceutical Associates, Inc.')\n",
    "df_label['labeler_name'] = df_openFDA_NDC['labeler_name'].replace(['Piramal Critical Care Inc.','Piramal Critical Care, Inc.'], 'Piramal Critical Care Inc')\n",
    "df_label['labeler_name'] = df_openFDA_NDC['labeler_name'].replace('Precision Dose, Inc.', 'Precision Dose Inc.')\n",
    "df_label['labeler_name'] = df_openFDA_NDC['labeler_name'].replace('PruGen Pharmaceuticals', 'PruGen, Inc.')\n",
    "df_label['labeler_name'] = df_openFDA_NDC['labeler_name'].replace('Prasco, LLC', 'Prasco Laboratories')\n",
    "df_label['labeler_name'] = df_openFDA_NDC['labeler_name'].replace('PURACAP LABORATORIES LLC DBA BLU PHARMACEUTICALS', 'PuraCap Laboratories, LLC')\n",
    "df_label['labeler_name'] = df_openFDA_NDC['labeler_name'].replace(['Rhodes Pharmaceuticals L.P.','Rhodes Pharmaceuticals L. P.'], 'Rhodes Pharmaceuticals')\n",
    "df_label['labeler_name'] = df_openFDA_NDC['labeler_name'].replace(['Rising Pharmaceuticals, Inc.','Rising Pharma Holdings, Inc.','Rising Pharamceuticals, Inc','Rising Pharmaceuticals Inc.','Rising Pharmaceuticals, Inc'], 'Rising Health, LLC')\n",
    "df_label['labeler_name'] = df_openFDA_NDC['labeler_name'].replace(['Salix Pharmaceuticals','Salix Pharmaceuticals, Inc.','Salix Pharmaceuticals, Inc'], 'Salix Pharmaceuticals Inc.')\n",
    "df_label['labeler_name'] = df_openFDA_NDC['labeler_name'].replace(['Sandoz Manufacturing Inc','Sandoz Inc.','SANDOZ INC.'], 'Sandoz Inc')\n",
    "df_label['labeler_name'] = df_openFDA_NDC['labeler_name'].replace(['sanof-aventis U.S. LLC','Sanofi Pasteur Inc.','Sanofi-Aventis U.S. LLC'], 'Sanofi US Corporation')\n",
    "df_label['labeler_name'] = df_openFDA_NDC['labeler_name'].replace(['Santarus, Inc..','Santarus, Inc.'], 'Santarus Inc.')\n",
    "df_label['labeler_name'] = df_openFDA_NDC['labeler_name'].replace('Seton Pharmaceuticals, LLC', 'Seton Pharmaceuticals')\n",
    "df_label['labeler_name'] = df_openFDA_NDC['labeler_name'].replace(['ScieGen Pharmaceuticals, Inc.','ScieGen Pharmaceuticals Inc','ScieGen Pharmaceuticals,Inc.'], 'ScieGen Pharmaceuticals, Inc')\n",
    "df_label['labeler_name'] = df_openFDA_NDC['labeler_name'].replace('Slate Run Pharmaceuticals, LLC', 'Slate Run Pharmaceuticals')\n",
    "df_label['labeler_name'] = df_openFDA_NDC['labeler_name'].replace(['Solco Healthcare US, LLC','Solco Healthcare US LLC','Solco Healthcare U.S., LLC','Solco healthcare U.S., LLC'], 'Solco Healthcare LLC')\n",
    "df_label['labeler_name'] = df_openFDA_NDC['labeler_name'].replace('Strides Pharma Science Limited', 'Strides Pharma Inc.')\n",
    "df_label['labeler_name'] = df_openFDA_NDC['labeler_name'].replace(['Sun Pharmaceutical Industries, Inc.','Sun Pharmaceutical Industries, Inc','SUN PHARMACEUTICAL INDUSTRIES, INC.','Sun Pharmaceutical Industries Inc.','Sun Pharmaceutical Industires Inc.'], 'Sun Pharmaceutical Industries Inc.')\n",
    "df_label['labeler_name'] = df_openFDA_NDC['labeler_name'].replace('SUNRISE PHARMACEUTICAL, INC','Sunrise Pharmaceutical, Inc.')\n",
    "df_label['labeler_name'] = df_openFDA_NDC['labeler_name'].replace('Supernus Pharmaceuticals, Inc.', 'Supernus Pharmaceuticals')\n",
    "df_label['labeler_name'] = df_openFDA_NDC['labeler_name'].replace('STI Pharma, LLC', 'STI Pharma LLC')\n",
    "df_label['labeler_name'] = df_openFDA_NDC['labeler_name'].replace(['Teva Neuroscience, Inc.','Teva Parenteral Medicines, Inc.','Teva Pharmaceuticals USA Inc.','Teva Pharmaceuticals USA, Inc.',\"Teva Women's Health, Inc.\",'Teva Respiratory, LLC','TEVA PHARMACEUTICALS USA, INC.','Teva Pharmaceuticals USA Inc','TEVA Pharmaceuticals USA Inc'], 'Teva Pharmaceuticals, Inc.')\n",
    "df_label['labeler_name'] = df_openFDA_NDC['labeler_name'].replace('TruPharma, LLC','TruPharma LLC')\n",
    "df_label['labeler_name'] = df_openFDA_NDC['labeler_name'].replace(['TAGI Pharma, Inc.','TAGI Pharma, Inc'], 'TAGI Pharma Inc.')\n",
    "df_label['labeler_name'] = df_openFDA_NDC['labeler_name'].replace(['Taro Pharmaceuticals U.S.A., Inc.','Taro Pharmaceuticals U.S.A., inc.'], 'Taro Pharmaceuticals U.S.A., Inc')\n",
    "df_label['labeler_name'] = df_openFDA_NDC['labeler_name'].replace('TerSera Therapeutics, LLC', 'TerSera Therapeutics LLC')\n",
    "df_label['labeler_name'] = df_openFDA_NDC['labeler_name'].replace('TIME CAP LABORATORIES, INC', 'TIME CAP LABORATORIES')\n",
    "df_label['labeler_name'] = df_openFDA_NDC['labeler_name'].replace(['Torrent Pharma, Inc.','Torrent Pharmaceuticals Limited','TORRENT PHARMACEUTICALS LIMITED'], 'Torrent Pharma Inc.')\n",
    "df_label['labeler_name'] = df_openFDA_NDC['labeler_name'].replace(['Upsher-Smith laboratories, LLC','Upsher-SmithLaboratories, LLC','Upsher-Smith Laboratories, LLC'], 'Upsher-Smith Laboratories, Inc.')\n",
    "df_label['labeler_name'] = df_openFDA_NDC['labeler_name'].replace(['Virtus Pharmaceuticals LLC','Virtus Pharmaceuticals, LLC'], 'Virtus Pharmaceuticals')\n",
    "df_label['labeler_name'] = df_openFDA_NDC['labeler_name'].replace('Vertical Pharmaceuticals, LLC', 'Vertical Pharmaceuticals, Inc.')\n",
    "df_label['labeler_name'] = df_openFDA_NDC['labeler_name'].replace('Vifor (International) Inc.', 'Vifor Pharma, Inc.')\n",
    "df_label['labeler_name'] = df_openFDA_NDC['labeler_name'].replace('Vyera Pharmaceuticals, LLC', 'Vyera Pharmaceuticals LLC')\n",
    "df_label['labeler_name'] = df_openFDA_NDC['labeler_name'].replace(['West-Ward Pharmaceuticals Inc.','West Ward Pharmaceuticals Corp.','West-Ward Pharmaceuticals Corp.'], 'West-Ward Pharmaceuticals Corp')\n",
    "df_label['labeler_name'] = df_openFDA_NDC['labeler_name'].replace('Westminster Pharmaceuticals, LLC', 'Westminster Pharmaceuticals')\n",
    "df_label['labeler_name'] = df_openFDA_NDC['labeler_name'].replace(['Wilshire Pharmaceuticals Inc','Wilshire Pharmaceuticals, Inc.','Wilshire Pharmaceuticals Inc.'], 'Wilshire Pharmaceuticals')\n",
    "df_label['labeler_name'] = df_openFDA_NDC['labeler_name'].replace('Xellia Pharmaceuticals USA LLC', 'Xellia Pharmaceuticals LLC')\n",
    "df_label['labeler_name'] = df_openFDA_NDC['labeler_name'].replace(['Xspire Pharma, LLC','Xiromed, LLC'], 'Xiromed LLC')\n",
    "df_label['labeler_name'] = df_openFDA_NDC['labeler_name'].replace('Xspire Pharma, Llc', 'Xspire Pharma')\n",
    "df_label['labeler_name'] = df_openFDA_NDC['labeler_name'].replace(['Zydus Pharmaceuticals USA Inc.','Zydus Pharmaceuticals (USA) Inc.'], 'Zydus Pharmaceuticals USA Inc')\n"
   ]
  },
  {
   "cell_type": "code",
   "execution_count": 75,
   "metadata": {},
   "outputs": [],
   "source": [
    "df_openFDA_NDC = df_label"
   ]
  },
  {
   "cell_type": "markdown",
   "metadata": {},
   "source": [
    "Clearing nda"
   ]
  },
  {
   "cell_type": "code",
   "execution_count": 76,
   "metadata": {},
   "outputs": [
    {
     "name": "stderr",
     "output_type": "stream",
     "text": [
      "C:\\Users\\sebas\\AppData\\Local\\Temp/ipykernel_3244/746985328.py:1: FutureWarning: The default value of regex will change from True to False in a future version.\n",
      "  df_openFDA_NDC['NDA #'] = df_openFDA_NDC['application_number'].str.replace(r'\\D', '')\n"
     ]
    }
   ],
   "source": [
    "df_openFDA_NDC['NDA #'] = df_openFDA_NDC['application_number'].str.replace(r'\\D', '')\n",
    "df_openFDA_NDC['NDA #'] = pd.to_numeric(df_openFDA_NDC['NDA #'])"
   ]
  },
  {
   "cell_type": "markdown",
   "metadata": {},
   "source": [
    "### Medicaid"
   ]
  },
  {
   "cell_type": "markdown",
   "metadata": {},
   "source": [
    "Clearing labeler and product code"
   ]
  },
  {
   "cell_type": "code",
   "execution_count": 77,
   "metadata": {},
   "outputs": [],
   "source": [
    "df_medicaid['labeler_code'] = pd.to_numeric(df_medicaid['labeler_code'])\n",
    "df_medicaid['product_code'] = pd.to_numeric(df_medicaid['product_code'])"
   ]
  },
  {
   "cell_type": "markdown",
   "metadata": {},
   "source": [
    "Creating a date"
   ]
  },
  {
   "cell_type": "code",
   "execution_count": 78,
   "metadata": {},
   "outputs": [
    {
     "name": "stderr",
     "output_type": "stream",
     "text": [
      "C:\\Users\\sebas\\AppData\\Local\\Temp/ipykernel_3244/2268266489.py:2: FutureWarning: The default value of regex will change from True to False in a future version.\n",
      "  df_medicaid['date'] = pd.to_datetime(df_medicaid['date'].str.replace(r'(Q\\d) (\\d+)', r'\\2-\\1'), errors='coerce')\n"
     ]
    }
   ],
   "source": [
    "df_medicaid['date'] = 'Q' + df_medicaid['quarter'].astype(str) + ' ' + df_medicaid['year'].astype(str)\n",
    "df_medicaid['date'] = pd.to_datetime(df_medicaid['date'].str.replace(r'(Q\\d) (\\d+)', r'\\2-\\1'), errors='coerce')"
   ]
  },
  {
   "cell_type": "markdown",
   "metadata": {},
   "source": [
    "### PPI"
   ]
  },
  {
   "cell_type": "markdown",
   "metadata": {},
   "source": [
    "Creating a date"
   ]
  },
  {
   "cell_type": "code",
   "execution_count": 79,
   "metadata": {},
   "outputs": [
    {
     "name": "stderr",
     "output_type": "stream",
     "text": [
      "C:\\Users\\sebas\\AppData\\Local\\Temp/ipykernel_3244/1936961686.py:1: FutureWarning: The default value of regex will change from True to False in a future version.\n",
      "  df_PPI['Period'] = df_PPI['Period'].str.replace(r'\\D', '')\n"
     ]
    }
   ],
   "source": [
    "df_PPI['Period'] = df_PPI['Period'].str.replace(r'\\D', '')\n",
    "df_PPI['Period'] = pd.to_numeric(df_PPI['Period'])\n",
    "df_PPI['day'] = 1\n",
    "df_PPI['date'] = pd.to_datetime(dict(year = df_PPI['Year'], month = df_PPI['Period'], day= df_PPI['day']))"
   ]
  },
  {
   "cell_type": "markdown",
   "metadata": {},
   "source": [
    "Calculating PPI multiplier"
   ]
  },
  {
   "cell_type": "code",
   "execution_count": 80,
   "metadata": {},
   "outputs": [],
   "source": [
    "df_PPI['Value'] = pd.to_numeric(df_PPI['Value'])\n",
    "df_PPI['PPI_multiplier'] = df_PPI['Value'].iloc[-1] / df_PPI['Value']"
   ]
  },
  {
   "cell_type": "markdown",
   "metadata": {},
   "source": [
    "# Merging raw data"
   ]
  },
  {
   "cell_type": "markdown",
   "metadata": {},
   "source": [
    "### Medicaid and PPI"
   ]
  },
  {
   "cell_type": "code",
   "execution_count": 81,
   "metadata": {},
   "outputs": [],
   "source": [
    "df_medicaid = pd.merge(df_medicaid, df_PPI, on = 'date', how = 'left')"
   ]
  },
  {
   "cell_type": "markdown",
   "metadata": {},
   "source": [
    "Adjusting for inflation"
   ]
  },
  {
   "cell_type": "code",
   "execution_count": 82,
   "metadata": {},
   "outputs": [],
   "source": [
    "df_medicaid['total_amount_reimbursed_adj'] = df_medicaid['total_amount_reimbursed'] * df_medicaid['PPI_multiplier']\n",
    "df_medicaid['price_per_unit_adj'] = df_medicaid['price_per_unit'] * df_medicaid['PPI_multiplier']"
   ]
  },
  {
   "cell_type": "markdown",
   "metadata": {},
   "source": [
    "Deleting redundant columns"
   ]
  },
  {
   "cell_type": "code",
   "execution_count": 83,
   "metadata": {},
   "outputs": [],
   "source": [
    "df_medicaid = df_medicaid.drop(columns=['Series ID', 'Year', 'Period', 'Value', 'day', 'PPI_multiplier'])"
   ]
  },
  {
   "cell_type": "code",
   "execution_count": 84,
   "metadata": {},
   "outputs": [
    {
     "data": {
      "text/plain": [
       "2251895"
      ]
     },
     "execution_count": 84,
     "metadata": {},
     "output_type": "execute_result"
    }
   ],
   "source": [
    "len(df_medicaid)"
   ]
  },
  {
   "cell_type": "markdown",
   "metadata": {},
   "source": [
    "### OpenFDA and Medicaid"
   ]
  },
  {
   "cell_type": "markdown",
   "metadata": {},
   "source": [
    "Merging with Medicaid"
   ]
  },
  {
   "cell_type": "code",
   "execution_count": 85,
   "metadata": {},
   "outputs": [],
   "source": [
    "df_consolidation_data = pd.merge(df_medicaid, df_openFDA_NDC, on = ['labeler_code', 'product_code'], how = 'inner')"
   ]
  },
  {
   "cell_type": "code",
   "execution_count": 86,
   "metadata": {},
   "outputs": [
    {
     "data": {
      "text/plain": [
       "549813"
      ]
     },
     "execution_count": 86,
     "metadata": {},
     "output_type": "execute_result"
    }
   ],
   "source": [
    "len(df_consolidation_data)"
   ]
  },
  {
   "cell_type": "markdown",
   "metadata": {},
   "source": [
    "### OpenFDA, Medicaid and NLH"
   ]
  },
  {
   "cell_type": "code",
   "execution_count": 87,
   "metadata": {},
   "outputs": [],
   "source": [
    "df_temp = df_atc"
   ]
  },
  {
   "cell_type": "markdown",
   "metadata": {},
   "source": [
    "Changing the name to capital letters"
   ]
  },
  {
   "cell_type": "code",
   "execution_count": 88,
   "metadata": {},
   "outputs": [],
   "source": [
    "df_temp['Source Name'] = df_temp['Source Name'].str.upper()"
   ]
  },
  {
   "cell_type": "markdown",
   "metadata": {},
   "source": [
    "Removing duplicates based on source name"
   ]
  },
  {
   "cell_type": "code",
   "execution_count": 89,
   "metadata": {},
   "outputs": [
    {
     "name": "stdout",
     "output_type": "stream",
     "text": [
      "4016\n",
      "3519\n"
     ]
    }
   ],
   "source": [
    "print(len(df_temp))\n",
    "df_temp = df_temp.drop_duplicates(subset = ['Source Name'])\n",
    "print(len(df_temp))"
   ]
  },
  {
   "cell_type": "markdown",
   "metadata": {},
   "source": [
    "Merging on **generic name** with orig. data and removing duplicates and N/A"
   ]
  },
  {
   "cell_type": "code",
   "execution_count": 90,
   "metadata": {},
   "outputs": [],
   "source": [
    "df_consolidation_data_temp = df_consolidation_data"
   ]
  },
  {
   "cell_type": "code",
   "execution_count": 91,
   "metadata": {},
   "outputs": [],
   "source": [
    "df_consolidation_data_temp['generic_name'] = df_consolidation_data_temp['generic_name'].str.upper()\n",
    "df_atc_generic_name_temp = pd.merge(df_consolidation_data_temp[['unique_id', 'generic_name']], df_temp[['Source Name', 'ATC (level 1)', 'ATC (level 2)', 'ATC (level 3)', 'ATC (level 4)', 'ATC (level 5)']], left_on = ['generic_name'], right_on = ['Source Name'], how = 'right')\n",
    "\n",
    "df_atc_generic_name_temp = df_atc_generic_name_temp.dropna(subset = ['unique_id'])\n",
    "df_atc_generic_name_temp = df_atc_generic_name_temp.drop_duplicates(subset = ['unique_id'])"
   ]
  },
  {
   "cell_type": "markdown",
   "metadata": {},
   "source": [
    "Merging on **brand name** with orig. data and removing duplicates and N/A"
   ]
  },
  {
   "cell_type": "code",
   "execution_count": 92,
   "metadata": {},
   "outputs": [],
   "source": [
    "df_consolidation_data_temp = df_consolidation_data"
   ]
  },
  {
   "cell_type": "code",
   "execution_count": 93,
   "metadata": {},
   "outputs": [],
   "source": [
    "df_consolidation_data_temp['brand_name'] = df_consolidation_data_temp['brand_name'].str.upper()\n",
    "df_atc_brand_name_temp = pd.merge(df_consolidation_data_temp[['unique_id', 'brand_name']], df_temp[['Source Name', 'ATC (level 1)', 'ATC (level 2)', 'ATC (level 3)', 'ATC (level 4)', 'ATC (level 5)']], left_on = ['brand_name'], right_on = ['Source Name'], how = 'right')\n",
    "\n",
    "df_atc_brand_name_temp = df_atc_brand_name_temp.dropna(subset = ['unique_id'])\n",
    "df_atc_brand_name_temp = df_atc_brand_name_temp.drop_duplicates(subset = ['unique_id'])"
   ]
  },
  {
   "cell_type": "markdown",
   "metadata": {},
   "source": [
    "Concating the DataFrames for the generic and brand name"
   ]
  },
  {
   "cell_type": "code",
   "execution_count": 94,
   "metadata": {},
   "outputs": [],
   "source": [
    "df_atc_generic_name_temp = df_atc_generic_name_temp.drop(columns = ['generic_name'])\n",
    "df_atc_brand_name_temp = df_atc_brand_name_temp.drop(columns = ['brand_name'])"
   ]
  },
  {
   "cell_type": "code",
   "execution_count": 95,
   "metadata": {},
   "outputs": [],
   "source": [
    "df_consolidation_atc_temp = pd.concat([df_atc_generic_name_temp, df_atc_brand_name_temp])"
   ]
  },
  {
   "cell_type": "markdown",
   "metadata": {},
   "source": [
    "Removing duplicates based on unique id"
   ]
  },
  {
   "cell_type": "code",
   "execution_count": 96,
   "metadata": {
    "scrolled": true
   },
   "outputs": [
    {
     "name": "stdout",
     "output_type": "stream",
     "text": [
      "7502\n",
      "5050\n"
     ]
    }
   ],
   "source": [
    "print(len(df_consolidation_atc_temp))\n",
    "df_consolidation_atc_temp = df_consolidation_atc_temp.drop_duplicates(subset = ['unique_id'])\n",
    "print(len(df_consolidation_atc_temp))"
   ]
  },
  {
   "cell_type": "markdown",
   "metadata": {},
   "source": [
    "Saving the consolidated data for ATC as a csv-file because it is used for assigning a running count of substitutes labelers later"
   ]
  },
  {
   "cell_type": "code",
   "execution_count": 97,
   "metadata": {},
   "outputs": [],
   "source": [
    "df_consolidation_atc_temp.to_csv('raw_consolidation_data_for_ATC.csv', sep = '~', index = False)"
   ]
  },
  {
   "cell_type": "markdown",
   "metadata": {},
   "source": [
    "Creating dummy variables for ATC and a list with all the names"
   ]
  },
  {
   "cell_type": "code",
   "execution_count": 98,
   "metadata": {},
   "outputs": [],
   "source": [
    "df_dummy_temp = pd.get_dummies(df_consolidation_atc_temp['ATC (level 2)'])"
   ]
  },
  {
   "cell_type": "markdown",
   "metadata": {},
   "source": [
    "Creating a list with ATC names for STATA"
   ]
  },
  {
   "cell_type": "code",
   "execution_count": 102,
   "metadata": {},
   "outputs": [
    {
     "name": "stdout",
     "output_type": "stream",
     "text": [
      "Number of ATC:  77\n",
      "['A01', 'A02', 'A03', 'A04', 'A05', 'A06', 'A07', 'A08', 'A10', 'A11', 'A12', 'A14', 'A16', 'B01', 'B02', 'B03', 'B05', 'B06', 'C01', 'C02', 'C03', 'C04', 'C05', 'C07', 'C08', 'C09', 'C10', 'D01', 'D04', 'D05', 'D06', 'D07', 'D08', 'D10', 'D11', 'G01', 'G02', 'G03', 'G04', 'H01', 'H02', 'H03', 'H04', 'H05', 'J01', 'J02', 'J04', 'J05', 'J06', 'L01', 'L02', 'L03', 'L04', 'M01', 'M03', 'M04', 'M05', 'M09', 'N01', 'N02', 'N03', 'N04', 'N05', 'N06', 'N07', 'P01', 'P02', 'P03', 'R01', 'R03', 'R05', 'R06', 'R07', 'S01', 'V03', 'V04', 'V08']\n"
     ]
    }
   ],
   "source": [
    "print('Number of ATC: ', len(list(df_dummy_temp.columns)))\n",
    "print(list(df_dummy_temp.columns))"
   ]
  },
  {
   "cell_type": "markdown",
   "metadata": {},
   "source": [
    "Merging with orig. data"
   ]
  },
  {
   "cell_type": "code",
   "execution_count": 61,
   "metadata": {},
   "outputs": [],
   "source": [
    "df_consolidation_atc_temp = pd.merge(df_consolidation_atc_temp, df_dummy_temp, left_index = True, right_index = True, how = 'inner')"
   ]
  },
  {
   "cell_type": "markdown",
   "metadata": {},
   "source": [
    "Grouping by name to include multiple ATC for each drug "
   ]
  },
  {
   "cell_type": "code",
   "execution_count": 62,
   "metadata": {},
   "outputs": [],
   "source": [
    "df_consolidation_atc_temp = df_consolidation_atc_temp.set_index(['unique_id']).groupby(level = ['unique_id']).agg('sum')\n",
    "df_consolidation_atc_temp = df_consolidation_atc_temp.reset_index()"
   ]
  },
  {
   "cell_type": "markdown",
   "metadata": {},
   "source": [
    "Changing the aggregated count to a dummy value"
   ]
  },
  {
   "cell_type": "code",
   "execution_count": 63,
   "metadata": {
    "scrolled": true
   },
   "outputs": [],
   "source": [
    "for (column_name, column_value) in df_consolidation_atc_temp.iteritems():\n",
    "    if column_name != 'unique_id':\n",
    "        df_consolidation_atc_temp[column_name] = np.where(df_consolidation_atc_temp[column_name] >= 1, 1, 0)"
   ]
  },
  {
   "cell_type": "markdown",
   "metadata": {},
   "source": [
    "Merging with the consolidated data"
   ]
  },
  {
   "cell_type": "code",
   "execution_count": 64,
   "metadata": {},
   "outputs": [],
   "source": [
    "df_consolidation_data = pd.merge(df_consolidation_data, df_consolidation_atc_temp, left_on = ['unique_id'], right_on = ['unique_id'], how = 'left')"
   ]
  },
  {
   "cell_type": "code",
   "execution_count": 65,
   "metadata": {},
   "outputs": [
    {
     "data": {
      "text/plain": [
       "549813"
      ]
     },
     "execution_count": 65,
     "metadata": {},
     "output_type": "execute_result"
    }
   ],
   "source": [
    "len(df_consolidation_data)"
   ]
  },
  {
   "cell_type": "markdown",
   "metadata": {},
   "source": [
    "# Grouping price and quantity"
   ]
  },
  {
   "cell_type": "markdown",
   "metadata": {},
   "source": [
    "Grouping price and quantity by unique id, labeler, year, and quarter and calculating price per unit adj. for the new data"
   ]
  },
  {
   "cell_type": "code",
   "execution_count": 66,
   "metadata": {},
   "outputs": [],
   "source": [
    "df_temp = df_consolidation_data"
   ]
  },
  {
   "cell_type": "code",
   "execution_count": 67,
   "metadata": {},
   "outputs": [],
   "source": [
    "df_temp = df_temp.set_index(['unique_id', 'labeler_name', 'year', 'quarter']).groupby(level = ['unique_id', 'labeler_name', 'year', 'quarter'])[['units_reimbursed', 'total_amount_reimbursed_adj']].agg('sum')\n",
    "df_temp = df_temp.reset_index()\n",
    "\n",
    "df_temp['price_per_unit_adj'] = df_temp['total_amount_reimbursed_adj'] / df_temp['units_reimbursed']"
   ]
  },
  {
   "cell_type": "markdown",
   "metadata": {},
   "source": [
    "Dropping the price and quantity and duplicates from the old data"
   ]
  },
  {
   "cell_type": "code",
   "execution_count": 68,
   "metadata": {},
   "outputs": [],
   "source": [
    "df_consolidation_data = df_consolidation_data.drop(columns = ['units_reimbursed', 'total_amount_reimbursed', 'price_per_unit', 'total_amount_reimbursed_adj', 'price_per_unit_adj'])\n",
    "df_consolidation_data = df_consolidation_data.drop_duplicates(subset = ['unique_id', 'labeler_name', 'year', 'quarter'])"
   ]
  },
  {
   "cell_type": "markdown",
   "metadata": {},
   "source": [
    "Merging the org. data"
   ]
  },
  {
   "cell_type": "code",
   "execution_count": 69,
   "metadata": {},
   "outputs": [],
   "source": [
    "df_consolidation_data = pd.merge(df_consolidation_data, df_temp, left_on = ['unique_id', 'labeler_name', 'year', 'quarter'], right_on = ['unique_id', 'labeler_name', 'year', 'quarter'], how = 'right')"
   ]
  },
  {
   "cell_type": "code",
   "execution_count": 70,
   "metadata": {},
   "outputs": [
    {
     "data": {
      "text/plain": [
       "515574"
      ]
     },
     "execution_count": 70,
     "metadata": {},
     "output_type": "execute_result"
    }
   ],
   "source": [
    "len(df_consolidation_data)"
   ]
  },
  {
   "cell_type": "markdown",
   "metadata": {},
   "source": [
    "# Downloading raw output"
   ]
  },
  {
   "cell_type": "code",
   "execution_count": 71,
   "metadata": {},
   "outputs": [],
   "source": [
    "df_consolidation_data.to_csv('raw_consolidation_data.csv', sep = '~', index = False)"
   ]
  },
  {
   "cell_type": "code",
   "execution_count": 411,
   "metadata": {},
   "outputs": [
    {
     "data": {
      "text/plain": [
       "17625"
      ]
     },
     "execution_count": 411,
     "metadata": {},
     "output_type": "execute_result"
    }
   ],
   "source": [
    "len(df_consolidation_data.drop_duplicates(subset = ['labeler_code', 'product_code'], keep = 'first'))"
   ]
  },
  {
   "cell_type": "code",
   "execution_count": 412,
   "metadata": {},
   "outputs": [
    {
     "data": {
      "text/plain": [
       "7214"
      ]
     },
     "execution_count": 412,
     "metadata": {},
     "output_type": "execute_result"
    }
   ],
   "source": [
    "len(df_consolidation_data.drop_duplicates(subset = ['unique_id'], keep = 'first'))"
   ]
  },
  {
   "cell_type": "code",
   "execution_count": 415,
   "metadata": {},
   "outputs": [
    {
     "data": {
      "text/html": [
       "<div>\n",
       "<style scoped>\n",
       "    .dataframe tbody tr th:only-of-type {\n",
       "        vertical-align: middle;\n",
       "    }\n",
       "\n",
       "    .dataframe tbody tr th {\n",
       "        vertical-align: top;\n",
       "    }\n",
       "\n",
       "    .dataframe thead th {\n",
       "        text-align: right;\n",
       "    }\n",
       "</style>\n",
       "<table border=\"1\" class=\"dataframe\">\n",
       "  <thead>\n",
       "    <tr style=\"text-align: right;\">\n",
       "      <th></th>\n",
       "      <th>Type</th>\n",
       "      <th>RXCUI</th>\n",
       "      <th>RxNorm Name</th>\n",
       "      <th>Source ID</th>\n",
       "      <th>Source Name</th>\n",
       "      <th>ATC (level 1)</th>\n",
       "      <th>ATC (level 2)</th>\n",
       "      <th>ATC (level 3)</th>\n",
       "      <th>ATC (level 4)</th>\n",
       "      <th>ATC (level 5)</th>\n",
       "    </tr>\n",
       "  </thead>\n",
       "  <tbody>\n",
       "    <tr>\n",
       "      <th>0</th>\n",
       "      <td>IN</td>\n",
       "      <td>10030.0</td>\n",
       "      <td>stannous fluoride</td>\n",
       "      <td>A01AA04</td>\n",
       "      <td>STANNOUS FLUORIDE</td>\n",
       "      <td>A</td>\n",
       "      <td>A01</td>\n",
       "      <td>A01A</td>\n",
       "      <td>A01AA</td>\n",
       "      <td>A01AA04</td>\n",
       "    </tr>\n",
       "    <tr>\n",
       "      <th>1</th>\n",
       "      <td>IN</td>\n",
       "      <td>10032.0</td>\n",
       "      <td>stanozolol</td>\n",
       "      <td>A14AA02</td>\n",
       "      <td>STANOZOLOL</td>\n",
       "      <td>A</td>\n",
       "      <td>A14</td>\n",
       "      <td>A14A</td>\n",
       "      <td>A14AA</td>\n",
       "      <td>A14AA02</td>\n",
       "    </tr>\n",
       "    <tr>\n",
       "      <th>2</th>\n",
       "      <td>IN</td>\n",
       "      <td>10109.0</td>\n",
       "      <td>streptomycin</td>\n",
       "      <td>A07AA04</td>\n",
       "      <td>STREPTOMYCIN</td>\n",
       "      <td>A</td>\n",
       "      <td>A07</td>\n",
       "      <td>A07A</td>\n",
       "      <td>A07AA</td>\n",
       "      <td>A07AA04</td>\n",
       "    </tr>\n",
       "    <tr>\n",
       "      <th>3</th>\n",
       "      <td>IN</td>\n",
       "      <td>10156.0</td>\n",
       "      <td>sucralfate</td>\n",
       "      <td>A02BX02</td>\n",
       "      <td>SUCRALFATE</td>\n",
       "      <td>A</td>\n",
       "      <td>A02</td>\n",
       "      <td>A02B</td>\n",
       "      <td>A02BX</td>\n",
       "      <td>A02BX02</td>\n",
       "    </tr>\n",
       "    <tr>\n",
       "      <th>4</th>\n",
       "      <td>IN</td>\n",
       "      <td>10174.0</td>\n",
       "      <td>sulfaguanidine</td>\n",
       "      <td>A07AB03</td>\n",
       "      <td>SULFAGUANIDINE</td>\n",
       "      <td>A</td>\n",
       "      <td>A07</td>\n",
       "      <td>A07A</td>\n",
       "      <td>A07AB</td>\n",
       "      <td>A07AB03</td>\n",
       "    </tr>\n",
       "  </tbody>\n",
       "</table>\n",
       "</div>"
      ],
      "text/plain": [
       "  Type    RXCUI        RxNorm Name Source ID        Source Name ATC (level 1)  \\\n",
       "0   IN  10030.0  stannous fluoride   A01AA04  STANNOUS FLUORIDE             A   \n",
       "1   IN  10032.0         stanozolol   A14AA02         STANOZOLOL             A   \n",
       "2   IN  10109.0       streptomycin   A07AA04       STREPTOMYCIN             A   \n",
       "3   IN  10156.0         sucralfate   A02BX02         SUCRALFATE             A   \n",
       "4   IN  10174.0     sulfaguanidine   A07AB03     SULFAGUANIDINE             A   \n",
       "\n",
       "  ATC (level 2) ATC (level 3) ATC (level 4) ATC (level 5)  \n",
       "0           A01          A01A         A01AA       A01AA04  \n",
       "1           A14          A14A         A14AA       A14AA02  \n",
       "2           A07          A07A         A07AA       A07AA04  \n",
       "3           A02          A02B         A02BX       A02BX02  \n",
       "4           A07          A07A         A07AB       A07AB03  "
      ]
     },
     "execution_count": 415,
     "metadata": {},
     "output_type": "execute_result"
    }
   ],
   "source": [
    "df_atc.head()"
   ]
  },
  {
   "cell_type": "code",
   "execution_count": null,
   "metadata": {},
   "outputs": [],
   "source": []
  }
 ],
 "metadata": {
  "kernelspec": {
   "display_name": "Python 3 (ipykernel)",
   "language": "python",
   "name": "python3"
  },
  "language_info": {
   "codemirror_mode": {
    "name": "ipython",
    "version": 3
   },
   "file_extension": ".py",
   "mimetype": "text/x-python",
   "name": "python",
   "nbconvert_exporter": "python",
   "pygments_lexer": "ipython3",
   "version": "3.9.7"
  }
 },
 "nbformat": 4,
 "nbformat_minor": 4
}
