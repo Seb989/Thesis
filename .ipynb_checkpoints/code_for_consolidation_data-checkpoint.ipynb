{
 "cells": [
  {
   "cell_type": "markdown",
   "metadata": {},
   "source": [
    "# Libraries"
   ]
  },
  {
   "cell_type": "code",
   "execution_count": 38,
   "metadata": {},
   "outputs": [],
   "source": [
    "import requests\n",
    "\n",
    "import numpy as np\n",
    "import pandas as pd\n",
    "\n",
    "import datetime as dt\n",
    "\n",
    "import matplotlib.pyplot as plt\n",
    "import seaborn as sns\n",
    "\n",
    "from ast import literal_eval\n",
    "\n",
    "pd.set_option('display.max_columns', None) # display all columns in DF"
   ]
  },
  {
   "cell_type": "markdown",
   "metadata": {},
   "source": [
    "# Uploading raw data"
   ]
  },
  {
   "cell_type": "code",
   "execution_count": 39,
   "metadata": {},
   "outputs": [],
   "source": [
    "df_orangebook = pd.read_excel('Orange Book.xlsx', skiprows = 1)\n",
    "df_openFDA_NDC = pd.read_csv('raw_openFDA_NDC_data.csv', sep = '~')  \n",
    "df_medicaid = pd.read_csv('raw_medicaid_data.csv', sep = '~')\n",
    "df_PPI = pd.read_excel('PPI industry data for Pharmaceutical preparation manufacturing.xlsx', skiprows = 10)"
   ]
  },
  {
   "cell_type": "markdown",
   "metadata": {},
   "source": [
    "# Data manipulation: Raw data"
   ]
  },
  {
   "cell_type": "markdown",
   "metadata": {},
   "source": [
    "### OpenFDA NDC"
   ]
  },
  {
   "cell_type": "markdown",
   "metadata": {},
   "source": [
    "Clearing nda"
   ]
  },
  {
   "cell_type": "code",
   "execution_count": 40,
   "metadata": {},
   "outputs": [],
   "source": [
    "df_openFDA_NDC['NDA #'] = df_openFDA_NDC['application_number'].str.replace(r'\\D', '')\n",
    "df_openFDA_NDC['NDA #'] = pd.to_numeric(df_openFDA_NDC['NDA #'])"
   ]
  },
  {
   "cell_type": "markdown",
   "metadata": {},
   "source": [
    "### Medicaid"
   ]
  },
  {
   "cell_type": "markdown",
   "metadata": {},
   "source": [
    "Clearing labeler and product code"
   ]
  },
  {
   "cell_type": "code",
   "execution_count": 41,
   "metadata": {},
   "outputs": [],
   "source": [
    "df_medicaid['labeler_code'] = pd.to_numeric(df_medicaid['labeler_code'])\n",
    "df_medicaid['product_code'] = pd.to_numeric(df_medicaid['product_code'])"
   ]
  },
  {
   "cell_type": "markdown",
   "metadata": {},
   "source": [
    "Creating a date"
   ]
  },
  {
   "cell_type": "code",
   "execution_count": 42,
   "metadata": {},
   "outputs": [],
   "source": [
    "df_medicaid['date'] = 'Q' + df_medicaid['quarter'].astype(str) + ' ' + df_medicaid['year'].astype(str)\n",
    "df_medicaid['date'] = pd.to_datetime(df_medicaid['date'].str.replace(r'(Q\\d) (\\d+)', r'\\2-\\1'), errors='coerce')"
   ]
  },
  {
   "cell_type": "markdown",
   "metadata": {},
   "source": [
    "### PPI"
   ]
  },
  {
   "cell_type": "markdown",
   "metadata": {},
   "source": [
    "Creating a date"
   ]
  },
  {
   "cell_type": "code",
   "execution_count": 43,
   "metadata": {},
   "outputs": [],
   "source": [
    "df_PPI['Period'] = df_PPI['Period'].str.replace(r'\\D', '')\n",
    "df_PPI['Period'] = pd.to_numeric(df_PPI['Period'])\n",
    "df_PPI['day'] = 1\n",
    "df_PPI['date'] = pd.to_datetime(dict(year = df_PPI['Year'], month = df_PPI['Period'], day= df_PPI['day']))"
   ]
  },
  {
   "cell_type": "markdown",
   "metadata": {},
   "source": [
    "Calculating PPI multiplier"
   ]
  },
  {
   "cell_type": "code",
   "execution_count": 44,
   "metadata": {},
   "outputs": [],
   "source": [
    "df_PPI['Value'] = pd.to_numeric(df_PPI['Value'])\n",
    "df_PPI['PPI_multiplier'] = df_PPI['Value'].iloc[-1] / df_PPI['Value']"
   ]
  },
  {
   "cell_type": "markdown",
   "metadata": {},
   "source": [
    "# Merging raw data"
   ]
  },
  {
   "cell_type": "markdown",
   "metadata": {},
   "source": [
    "### Orange Book and OpenFDA"
   ]
  },
  {
   "cell_type": "code",
   "execution_count": 45,
   "metadata": {},
   "outputs": [],
   "source": [
    "df = pd.merge(df_openFDA_NDC, df_orangebook, on = 'NDA #', how = 'left')"
   ]
  },
  {
   "cell_type": "markdown",
   "metadata": {},
   "source": [
    "### Medicaid and PPI"
   ]
  },
  {
   "cell_type": "code",
   "execution_count": 46,
   "metadata": {},
   "outputs": [],
   "source": [
    "df_medicaid = pd.merge(df_medicaid, df_PPI, on = 'date', how = 'left')"
   ]
  },
  {
   "cell_type": "markdown",
   "metadata": {},
   "source": [
    "Adjusting for inflation"
   ]
  },
  {
   "cell_type": "code",
   "execution_count": 47,
   "metadata": {},
   "outputs": [],
   "source": [
    "df_medicaid['price_per_unit_adj'] = df_medicaid['price_per_unit'] * df_medicaid['PPI_multiplier']"
   ]
  },
  {
   "cell_type": "markdown",
   "metadata": {},
   "source": [
    "Deleting redundant columns"
   ]
  },
  {
   "cell_type": "code",
   "execution_count": 48,
   "metadata": {},
   "outputs": [],
   "source": [
    "df_medicaid = df_medicaid.drop(columns=['Series ID', 'Year', 'Period', 'Value', 'Unnamed: 4', 'Unnamed: 5', 'day', 'PPI_multiplier'])"
   ]
  },
  {
   "cell_type": "markdown",
   "metadata": {},
   "source": [
    "### Orange Book, OpenFDA and Medicaid"
   ]
  },
  {
   "cell_type": "code",
   "execution_count": 49,
   "metadata": {},
   "outputs": [],
   "source": [
    "df_consolidation_data = pd.merge(df_medicaid, df_openFDA_NDC, on = ['labeler_code', 'product_code'], how = 'inner')"
   ]
  },
  {
   "cell_type": "markdown",
   "metadata": {},
   "source": [
    "# Raw output"
   ]
  },
  {
   "cell_type": "markdown",
   "metadata": {},
   "source": [
    "Calculating the average across drug strength "
   ]
  },
  {
   "cell_type": "code",
   "execution_count": 54,
   "metadata": {
    "scrolled": true
   },
   "outputs": [
    {
     "name": "stderr",
     "output_type": "stream",
     "text": [
      "<ipython-input-54-5b34c28d6e1c>:1: FutureWarning: Indexing with multiple keys (implicitly converted to a tuple of keys) will be deprecated, use a list instead.\n",
      "  df_consolidation_data = df_consolidation_data.groupby(['date', 'unique_id', 'marketing_category', 'brand_name', 'generic_name', 'labeler_name'])['units_reimbursed', 'total_amount_reimbursed', 'price_per_unit_adj'].mean()\n"
     ]
    }
   ],
   "source": [
    "df_consolidation_data = df_consolidation_data.groupby(['date', 'unique_id', 'marketing_category', 'brand_name', 'generic_name', 'labeler_name'])['units_reimbursed', 'total_amount_reimbursed', 'price_per_unit_adj'].mean()\n",
    "df_consolidation_data = df_consolidation_data.reset_index()"
   ]
  },
  {
   "cell_type": "markdown",
   "metadata": {},
   "source": [
    "# Downloading raw output"
   ]
  },
  {
   "cell_type": "code",
   "execution_count": 55,
   "metadata": {},
   "outputs": [],
   "source": [
    "df_consolidation_data.to_csv('raw_consolidation_data.csv', sep = '~', index = False)"
   ]
  },
  {
   "cell_type": "markdown",
   "metadata": {},
   "source": [
    "# Data manipulation: Regression"
   ]
  },
  {
   "cell_type": "code",
   "execution_count": 231,
   "metadata": {},
   "outputs": [],
   "source": [
    "df = df_consolidation_data"
   ]
  },
  {
   "cell_type": "markdown",
   "metadata": {},
   "source": [
    "Assigning entrance for each drug and labeller"
   ]
  },
  {
   "cell_type": "code",
   "execution_count": 232,
   "metadata": {},
   "outputs": [],
   "source": [
    "df = df.sort_values(by = ['unique_id', 'date', 'marketing_category'], ascending = [False, True, False], ignore_index = True) # Sorting\n",
    "\n",
    "df = df.drop_duplicates(subset = ['unique_id', 'labeler_name'], keep = 'first') # Finding the first entrance for each labeller \n",
    "\n",
    "df['labeler_name_count'] = df.groupby((df['unique_id'] != df['unique_id'].shift(1)).cumsum()).cumcount() + 1 # Running count for each drung"
   ]
  },
  {
   "cell_type": "markdown",
   "metadata": {},
   "source": [
    "Merging entrance to raw outout"
   ]
  },
  {
   "cell_type": "code",
   "execution_count": 233,
   "metadata": {},
   "outputs": [],
   "source": [
    "df = pd.merge(df[['unique_id', 'labeler_name', 'labeler_name_count']], df_consolidation_data, on = ['unique_id', 'labeler_name'], how = 'right')"
   ]
  },
  {
   "cell_type": "markdown",
   "metadata": {},
   "source": [
    "Creating a dummy that indicate if the first labeller is a NDA"
   ]
  },
  {
   "cell_type": "code",
   "execution_count": 234,
   "metadata": {},
   "outputs": [
    {
     "name": "stderr",
     "output_type": "stream",
     "text": [
      "<ipython-input-234-70533368ae5a>:2: SettingWithCopyWarning: \n",
      "A value is trying to be set on a copy of a slice from a DataFrame.\n",
      "Try using .loc[row_indexer,col_indexer] = value instead\n",
      "\n",
      "See the caveats in the documentation: https://pandas.pydata.org/pandas-docs/stable/user_guide/indexing.html#returning-a-view-versus-a-copy\n",
      "  df_dummy['first_nda'] = 1\n"
     ]
    }
   ],
   "source": [
    "df_dummy = df.loc[(df['labeler_name_count'] == 1) & (df['marketing_category'] == 'NDA')]\n",
    "df_dummy['first_nda'] = 1\n",
    "df_dummy = df_dummy.drop_duplicates(subset = ['unique_id'])"
   ]
  },
  {
   "cell_type": "code",
   "execution_count": 235,
   "metadata": {
    "scrolled": true
   },
   "outputs": [],
   "source": [
    "df = pd.merge(df_dummy[['unique_id', 'first_nda']], df, on = ['unique_id'], how = 'right')\n",
    "df['first_nda'] = df['first_nda'].fillna(0)"
   ]
  },
  {
   "cell_type": "markdown",
   "metadata": {},
   "source": [
    "Calculating the total monthly total amount reimbursed"
   ]
  },
  {
   "cell_type": "code",
   "execution_count": 236,
   "metadata": {
    "scrolled": true
   },
   "outputs": [
    {
     "name": "stderr",
     "output_type": "stream",
     "text": [
      "<ipython-input-236-e744b93779a1>:1: FutureWarning: Indexing with multiple keys (implicitly converted to a tuple of keys) will be deprecated, use a list instead.\n",
      "  df_sum = df.groupby(['date', 'unique_id'])['units_reimbursed', 'total_amount_reimbursed', 'price_per_unit_adj'].sum()\n"
     ]
    }
   ],
   "source": [
    "df_sum = df.groupby(['date', 'unique_id'])['units_reimbursed', 'total_amount_reimbursed'].sum()\n",
    "df_sum = df_sum.reset_index()\n",
    "df_sum = df_sum.rename(columns={\"units_reimbursed\": \"units_reimbursed_sum\", \"total_amount_reimbursed\": \"total_amount_reimbursed_sum\"})\n",
    "df_dummy = df_dummy.drop_duplicates(subset = ['date', 'unique_id'])"
   ]
  },
  {
   "cell_type": "code",
   "execution_count": 237,
   "metadata": {},
   "outputs": [],
   "source": [
    "df = pd.merge(df_sum[['date', 'unique_id', 'units_reimbursed_sum', 'total_amount_reimbursed_sum']], df, on = ['date', 'unique_id',], how = 'right')"
   ]
  },
  {
   "cell_type": "markdown",
   "metadata": {},
   "source": [
    "Selecting the second labeller's first entrance"
   ]
  },
  {
   "cell_type": "code",
   "execution_count": 238,
   "metadata": {},
   "outputs": [],
   "source": [
    "df['labeler_name_count'] = pd.to_numeric(df['labeler_name_count'])\n",
    "df['first_nda'] = pd.to_numeric(df['first_nda'])"
   ]
  },
  {
   "cell_type": "code",
   "execution_count": 239,
   "metadata": {
    "scrolled": true
   },
   "outputs": [],
   "source": [
    "df_sec = df.loc[(df['labeler_name_count'] == 2) & (df['first_nda'] == 1)]\n",
    "df_sec = df_sec.sort_values(by = ['date'], ascending = True)\n",
    "df_sec = df_sec.drop_duplicates(subset = ['unique_id'], keep = 'first')\n",
    "df_sec['entrance'] = 1"
   ]
  },
  {
   "cell_type": "code",
   "execution_count": 240,
   "metadata": {
    "scrolled": true
   },
   "outputs": [],
   "source": [
    "df = pd.merge(df_sec[['date', 'unique_id', 'entrance']], df, on = ['date', 'unique_id',], how = 'right')\n",
    "df['entrance'] = df['entrance'].fillna(0)"
   ]
  },
  {
   "cell_type": "markdown",
   "metadata": {},
   "source": [
    "Filtering on second labeller where the first labeller for the drug is a NDA"
   ]
  },
  {
   "cell_type": "code",
   "execution_count": 241,
   "metadata": {},
   "outputs": [],
   "source": [
    "df = df.loc[(df['labeler_name_count'] == 2) & (df['first_nda'] == 1)]\n",
    "df = df.loc[df['marketing_category'] != 'NDA']"
   ]
  },
  {
   "cell_type": "markdown",
   "metadata": {},
   "source": [
    "Downloading raw output"
   ]
  },
  {
   "cell_type": "code",
   "execution_count": 242,
   "metadata": {},
   "outputs": [],
   "source": [
    "df.to_csv('output_regression.csv', sep = '~', index = False)"
   ]
  },
  {
   "cell_type": "markdown",
   "metadata": {},
   "source": [
    "### Descriptive statistics"
   ]
  },
  {
   "cell_type": "code",
   "execution_count": null,
   "metadata": {},
   "outputs": [],
   "source": [
    "df = df_consolidation_data"
   ]
  },
  {
   "cell_type": "code",
   "execution_count": null,
   "metadata": {
    "scrolled": true
   },
   "outputs": [],
   "source": [
    "df_temp = df.drop_duplicates(subset = ['labeler_name', 'unique_id'])\n",
    "df_temp = df_temp.groupby(['marketing_category'])['unique_id'].count()\n",
    "df_temp = df_temp.reset_index()\n",
    "df_temp"
   ]
  },
  {
   "cell_type": "markdown",
   "metadata": {},
   "source": [
    "Number of unique drugs"
   ]
  },
  {
   "cell_type": "code",
   "execution_count": null,
   "metadata": {},
   "outputs": [],
   "source": [
    "df_temp = df.drop_duplicates(subset = ['unique_id'])\n",
    "len(df_temp)"
   ]
  },
  {
   "cell_type": "markdown",
   "metadata": {},
   "source": [
    "Number of entrance (event) for unique drugs"
   ]
  },
  {
   "cell_type": "code",
   "execution_count": null,
   "metadata": {},
   "outputs": [],
   "source": [
    "df = df_consolidation_data"
   ]
  },
  {
   "cell_type": "code",
   "execution_count": null,
   "metadata": {},
   "outputs": [],
   "source": [
    "df_temp = df.drop_duplicates(subset = ['labeler_name', 'unique_id'])\n",
    "df_temp = df_temp.groupby(['marketing_category', 'unique_id'])['labeler_name'].count()\n",
    "df_temp = df_temp.reset_index()\n",
    "df_temp['entrance_count'] = pd.to_numeric(df_temp['labeler_name'])\n",
    "df_temp['entrance_count'] = df_temp['entrance_count'] - 1\n",
    "df_temp = df_temp.drop(columns = ['labeler_name'])\n",
    "df_temp.sort_values(by = ['entrance_count'], ascending=False)"
   ]
  },
  {
   "cell_type": "code",
   "execution_count": null,
   "metadata": {},
   "outputs": [],
   "source": [
    "df_temp['entrance_count'].value_counts(bins = 17, sort = False)"
   ]
  },
  {
   "cell_type": "markdown",
   "metadata": {},
   "source": [
    "For BLA only"
   ]
  },
  {
   "cell_type": "code",
   "execution_count": null,
   "metadata": {},
   "outputs": [],
   "source": [
    "df_temp = df_temp[df_temp['marketing_category'] == 'BLA']"
   ]
  },
  {
   "cell_type": "code",
   "execution_count": null,
   "metadata": {},
   "outputs": [],
   "source": [
    "df_temp['entrance_count'].value_counts(bins = 4, sort = False)"
   ]
  },
  {
   "cell_type": "markdown",
   "metadata": {},
   "source": [
    "Number of companies"
   ]
  },
  {
   "cell_type": "code",
   "execution_count": null,
   "metadata": {},
   "outputs": [],
   "source": [
    "df = df_consolidation_data"
   ]
  },
  {
   "cell_type": "code",
   "execution_count": null,
   "metadata": {},
   "outputs": [],
   "source": [
    "df_temp = df.drop_duplicates(subset = ['labeler_name', 'unique_id'])\n",
    "df_temp = df_temp.groupby(['labeler_name'])['labeler_name'].count()\n",
    "df_temp.sort_values(ascending=False)"
   ]
  },
  {
   "cell_type": "markdown",
   "metadata": {},
   "source": [
    "# First figure"
   ]
  },
  {
   "cell_type": "code",
   "execution_count": 21,
   "metadata": {},
   "outputs": [],
   "source": [
    "df = df_consolidation_data"
   ]
  },
  {
   "cell_type": "code",
   "execution_count": 25,
   "metadata": {},
   "outputs": [],
   "source": [
    "df_figure = df.loc[df['unique_id'] == 'olanzapine-tablet-oral']"
   ]
  },
  {
   "cell_type": "code",
   "execution_count": 27,
   "metadata": {},
   "outputs": [],
   "source": [
    "df_figure = df_figure.groupby(['date', 'generic_name', 'labeler_name'])['price_per_unit_adj'].mean()\n",
    "df_figure = df_figure.reset_index()\n",
    "df_figure['ln_price_per_unit_adj'] = np.log(df_figure['price_per_unit_adj'])"
   ]
  },
  {
   "cell_type": "code",
   "execution_count": 28,
   "metadata": {},
   "outputs": [
    {
     "data": {
      "text/html": [
       "<div>\n",
       "<style scoped>\n",
       "    .dataframe tbody tr th:only-of-type {\n",
       "        vertical-align: middle;\n",
       "    }\n",
       "\n",
       "    .dataframe tbody tr th {\n",
       "        vertical-align: top;\n",
       "    }\n",
       "\n",
       "    .dataframe thead th {\n",
       "        text-align: right;\n",
       "    }\n",
       "</style>\n",
       "<table border=\"1\" class=\"dataframe\">\n",
       "  <thead>\n",
       "    <tr style=\"text-align: right;\">\n",
       "      <th></th>\n",
       "      <th>date</th>\n",
       "      <th>generic_name</th>\n",
       "      <th>labeler_name</th>\n",
       "      <th>price_per_unit_adj</th>\n",
       "      <th>ln_price_per_unit_adj</th>\n",
       "    </tr>\n",
       "  </thead>\n",
       "  <tbody>\n",
       "    <tr>\n",
       "      <th>0</th>\n",
       "      <td>1996-10-01</td>\n",
       "      <td>Olanzapine</td>\n",
       "      <td>Eli Lilly and Company</td>\n",
       "      <td>18.322532</td>\n",
       "      <td>2.908132</td>\n",
       "    </tr>\n",
       "    <tr>\n",
       "      <th>1</th>\n",
       "      <td>1997-01-01</td>\n",
       "      <td>Olanzapine</td>\n",
       "      <td>Eli Lilly and Company</td>\n",
       "      <td>18.038119</td>\n",
       "      <td>2.892487</td>\n",
       "    </tr>\n",
       "    <tr>\n",
       "      <th>2</th>\n",
       "      <td>1997-04-01</td>\n",
       "      <td>Olanzapine</td>\n",
       "      <td>Eli Lilly and Company</td>\n",
       "      <td>17.909794</td>\n",
       "      <td>2.885348</td>\n",
       "    </tr>\n",
       "    <tr>\n",
       "      <th>3</th>\n",
       "      <td>1997-07-01</td>\n",
       "      <td>Olanzapine</td>\n",
       "      <td>Eli Lilly and Company</td>\n",
       "      <td>16.692623</td>\n",
       "      <td>2.814967</td>\n",
       "    </tr>\n",
       "    <tr>\n",
       "      <th>4</th>\n",
       "      <td>1997-10-01</td>\n",
       "      <td>Olanzapine</td>\n",
       "      <td>Eli Lilly and Company</td>\n",
       "      <td>17.008858</td>\n",
       "      <td>2.833734</td>\n",
       "    </tr>\n",
       "    <tr>\n",
       "      <th>...</th>\n",
       "      <td>...</td>\n",
       "      <td>...</td>\n",
       "      <td>...</td>\n",
       "      <td>...</td>\n",
       "      <td>...</td>\n",
       "    </tr>\n",
       "    <tr>\n",
       "      <th>188</th>\n",
       "      <td>2021-01-01</td>\n",
       "      <td>Olanzapine</td>\n",
       "      <td>Aurobindo Pharma Limited</td>\n",
       "      <td>0.428775</td>\n",
       "      <td>-0.846822</td>\n",
       "    </tr>\n",
       "    <tr>\n",
       "      <th>189</th>\n",
       "      <td>2021-01-01</td>\n",
       "      <td>Olanzapine</td>\n",
       "      <td>Eli Lilly and Company</td>\n",
       "      <td>19.086235</td>\n",
       "      <td>2.948967</td>\n",
       "    </tr>\n",
       "    <tr>\n",
       "      <th>190</th>\n",
       "      <td>2021-01-01</td>\n",
       "      <td>Olanzapine</td>\n",
       "      <td>Prasco Laboratories</td>\n",
       "      <td>0.503014</td>\n",
       "      <td>-0.687137</td>\n",
       "    </tr>\n",
       "    <tr>\n",
       "      <th>191</th>\n",
       "      <td>2021-01-01</td>\n",
       "      <td>Olanzapine</td>\n",
       "      <td>Virtus Pharmaceuticals, LLC</td>\n",
       "      <td>0.470832</td>\n",
       "      <td>-0.753253</td>\n",
       "    </tr>\n",
       "    <tr>\n",
       "      <th>192</th>\n",
       "      <td>2021-01-01</td>\n",
       "      <td>olanzapine</td>\n",
       "      <td>Prasco Laboratories</td>\n",
       "      <td>0.255165</td>\n",
       "      <td>-1.365846</td>\n",
       "    </tr>\n",
       "  </tbody>\n",
       "</table>\n",
       "<p>193 rows × 5 columns</p>\n",
       "</div>"
      ],
      "text/plain": [
       "          date generic_name                 labeler_name  price_per_unit_adj  \\\n",
       "0   1996-10-01   Olanzapine        Eli Lilly and Company           18.322532   \n",
       "1   1997-01-01   Olanzapine        Eli Lilly and Company           18.038119   \n",
       "2   1997-04-01   Olanzapine        Eli Lilly and Company           17.909794   \n",
       "3   1997-07-01   Olanzapine        Eli Lilly and Company           16.692623   \n",
       "4   1997-10-01   Olanzapine        Eli Lilly and Company           17.008858   \n",
       "..         ...          ...                          ...                 ...   \n",
       "188 2021-01-01   Olanzapine     Aurobindo Pharma Limited            0.428775   \n",
       "189 2021-01-01   Olanzapine        Eli Lilly and Company           19.086235   \n",
       "190 2021-01-01   Olanzapine          Prasco Laboratories            0.503014   \n",
       "191 2021-01-01   Olanzapine  Virtus Pharmaceuticals, LLC            0.470832   \n",
       "192 2021-01-01   olanzapine          Prasco Laboratories            0.255165   \n",
       "\n",
       "     ln_price_per_unit_adj  \n",
       "0                 2.908132  \n",
       "1                 2.892487  \n",
       "2                 2.885348  \n",
       "3                 2.814967  \n",
       "4                 2.833734  \n",
       "..                     ...  \n",
       "188              -0.846822  \n",
       "189               2.948967  \n",
       "190              -0.687137  \n",
       "191              -0.753253  \n",
       "192              -1.365846  \n",
       "\n",
       "[193 rows x 5 columns]"
      ]
     },
     "execution_count": 28,
     "metadata": {},
     "output_type": "execute_result"
    }
   ],
   "source": [
    "df_figure"
   ]
  },
  {
   "cell_type": "code",
   "execution_count": 29,
   "metadata": {
    "scrolled": true
   },
   "outputs": [
    {
     "data": {
      "text/plain": [
       "[Text(0.5, 0, 'Year'),\n",
       " Text(0, 0.5, 'Price Per Unit Adj. for Inflation'),\n",
       " Text(0.5, 1.0, 'Olanzapine')]"
      ]
     },
     "execution_count": 29,
     "metadata": {},
     "output_type": "execute_result"
    },
    {
     "data": {
      "image/png": "[encoded data removed]",
      "text/plain": [
       "<Figure size 432x288 with 1 Axes>"
      ]
     },
     "metadata": {
      "needs_background": "light"
     },
     "output_type": "display_data"
    }
   ],
   "source": [
    "p = sns.lineplot(data = df_figure, x = 'date', y = 'price_per_unit_adj', hue = 'labeler_name', ci = 0)\n",
    "plt.legend(bbox_to_anchor = (1.02, 1), loc = 'upper left', borderaxespad = 0)\n",
    "p.set(xlabel = 'Year', ylabel = 'Price Per Unit Adj. for Inflation', title = df_figure['generic_name'][0])"
   ]
  },
  {
   "cell_type": "code",
   "execution_count": 30,
   "metadata": {},
   "outputs": [
    {
     "data": {
      "text/plain": [
       "[Text(0.5, 0, 'Year'),\n",
       " Text(0, 0.5, 'Price Per Unit Adj. for Inflation'),\n",
       " Text(0.5, 1.0, 'Olanzapine')]"
      ]
     },
     "execution_count": 30,
     "metadata": {},
     "output_type": "execute_result"
    },
    {
     "data": {
      "image/png": "[encoded data removed]",
      "text/plain": [
       "<Figure size 432x288 with 1 Axes>"
      ]
     },
     "metadata": {
      "needs_background": "light"
     },
     "output_type": "display_data"
    }
   ],
   "source": [
    "p = sns.lineplot(data = df_figure, x = 'date', y = 'ln_price_per_unit_adj', hue = 'labeler_name', ci = 0)\n",
    "plt.legend(bbox_to_anchor = (1.02, 1), loc = 'upper left', borderaxespad = 0)\n",
    "p.set(xlabel = 'Year', ylabel = 'Price Per Unit Adj. for Inflation', title = df_figure['generic_name'][0])"
   ]
  },
  {
   "cell_type": "code",
   "execution_count": null,
   "metadata": {},
   "outputs": [],
   "source": [
    "df_figure.to_excel('output_for_one_drug.xlsx', index = False)"
   ]
  },
  {
   "cell_type": "code",
   "execution_count": null,
   "metadata": {},
   "outputs": [],
   "source": []
  }
 ],
 "metadata": {
  "kernelspec": {
   "display_name": "Python 3",
   "language": "python",
   "name": "python3"
  },
  "language_info": {
   "codemirror_mode": {
    "name": "ipython",
    "version": 3
   },
   "file_extension": ".py",
   "mimetype": "text/x-python",
   "name": "python",
   "nbconvert_exporter": "python",
   "pygments_lexer": "ipython3",
   "version": "3.8.5"
  }
 },
 "nbformat": 4,
 "nbformat_minor": 4
}
