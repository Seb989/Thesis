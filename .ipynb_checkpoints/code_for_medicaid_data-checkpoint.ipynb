{
 "cells": [
  {
   "cell_type": "markdown",
   "metadata": {},
   "source": [
    "# Libraries"
   ]
  },
  {
   "cell_type": "code",
   "execution_count": 2,
   "metadata": {},
   "outputs": [],
   "source": [
    "import pandas as pd\n",
    "import requests\n",
    "\n",
    "pd.set_option('display.max_columns', None) # display all columns in DF"
   ]
  },
  {
   "cell_type": "markdown",
   "metadata": {},
   "source": [
    "# Data from Metastore"
   ]
  },
  {
   "cell_type": "code",
   "execution_count": 3,
   "metadata": {},
   "outputs": [],
   "source": [
    "r = requests.get('https://data.medicaid.gov/api/1/metastore/schemas/dataset/items') # requesting meta data\n",
    "data = r.json()\n",
    "\n",
    "df_metastore = pd.json_normalize(data, max_level = 1)\n",
    "df_metastore = df_metastore[df_metastore['title'].str.contains('State Drug Utilization Data')] # selecting datasets\n",
    "df_metastore = df_metastore.sort_values(['title']) # sorting datasets\n",
    "df_metastore['year'] = df_metastore['title'].str[-4:] # creating variable for year"
   ]
  },
  {
   "cell_type": "markdown",
   "metadata": {},
   "source": [
    "# Data from Medicaid"
   ]
  },
  {
   "cell_type": "code",
   "execution_count": 7,
   "metadata": {
    "scrolled": true
   },
   "outputs": [
    {
     "name": "stdout",
     "output_type": "stream",
     "text": [
      "State Drug Utilization Data 1999\n",
      "State Drug Utilization Data 2000\n",
      "State Drug Utilization Data 2001\n",
      "State Drug Utilization Data 2002\n",
      "State Drug Utilization Data 2003\n",
      "State Drug Utilization Data 2004\n",
      "State Drug Utilization Data 2005\n",
      "State Drug Utilization Data 2006\n",
      "State Drug Utilization Data 2007\n",
      "State Drug Utilization Data 2008\n",
      "State Drug Utilization Data 2009\n",
      "State Drug Utilization Data 2010\n",
      "State Drug Utilization Data 2011\n",
      "State Drug Utilization Data 2012\n",
      "State Drug Utilization Data 2013\n",
      "State Drug Utilization Data 2014\n",
      "State Drug Utilization Data 2015\n",
      "State Drug Utilization Data 2016\n",
      "State Drug Utilization Data 2017\n",
      "State Drug Utilization Data 2018\n",
      "State Drug Utilization Data 2019\n",
      "State Drug Utilization Data 2020\n",
      "State Drug Utilization Data 2021\n"
     ]
    }
   ],
   "source": [
    "start_year = 1999\n",
    "\n",
    "for index, row in df_metastore.iterrows(): # iterating through meta data\n",
    "\n",
    "    title_i = df_metastore['title'][index]\n",
    "    identifier_i = df_metastore['identifier'][index]\n",
    "    year_i = df_metastore['year'][index]\n",
    "\n",
    "    if int(year_i) >= start_year: # selecting meta data from start year and onward\n",
    "\n",
    "        start_url = 'https://data.medicaid.gov/api/1/datastore/query/'\n",
    "        middle_url = str(identifier_i)\n",
    "        end_url = '/0'\n",
    "        \n",
    "        r = requests.get(start_url + middle_url + end_url, timeout = 20)  # requesting part of dataset\n",
    "        data = r.json()\n",
    "        \n",
    "        data_n = data['count'] # finding the number of observations\n",
    "        \n",
    "        for offset_i in range(0, int(data_n), 10000): # iterating through data in smaller \n",
    "    \n",
    "            if offset_i == 0:\n",
    "\n",
    "                df = pd.json_normalize(data['results'], max_level = 1)\n",
    "                \n",
    "                df['units_reimbursed'] = pd.to_numeric(df['units_reimbursed'], errors='coerce') # removing empty observations\n",
    "                df['total_amount_reimbursed'] = pd.to_numeric(df['total_amount_reimbursed'], errors='coerce')\n",
    "                df.dropna(subset = ['units_reimbursed', 'total_amount_reimbursed'], inplace = True)\n",
    "            else:\n",
    "                offset = offset_i\n",
    "                offset_url = '?offset=' + str(offset)\n",
    "                r = requests.get(start_url + middle_url + end_url + offset_url, timeout = 20) # requesting part of dataset\n",
    "                data = r.json()\n",
    "                \n",
    "                df = pd.json_normalize(data['results'], max_level = 1)\n",
    "                \n",
    "                df['units_reimbursed'] = pd.to_numeric(df['units_reimbursed'], errors='coerce') # removing empty observations\n",
    "                df['total_amount_reimbursed'] = pd.to_numeric(df['total_amount_reimbursed'], errors='coerce')\n",
    "                df.dropna(subset = ['units_reimbursed', 'total_amount_reimbursed'], inplace = True)\n",
    "        \n",
    "            df['dataset'] = title_i # adding name of dataset\n",
    "\n",
    "            df['price_per_unit'] = df['total_amount_reimbursed'] / df['units_reimbursed'] # calculating price per unit\n",
    "\n",
    "            df = df.groupby(['dataset', 'labeler_code', 'product_code', 'year', 'quarter'])['price_per_unit'].mean()\n",
    "\n",
    "            if int(year_i) == start_year and offset_i == 0:\n",
    "                df_medicaid = df.reset_index()\n",
    "            else:\n",
    "                df = df.reset_index()\n",
    "                df_medicaid = df_medicaid.append(df, ignore_index = True)\n",
    "                \n",
    "            df_medicaid = df_medicaid.groupby(['dataset', 'labeler_code', 'product_code', 'year', 'quarter'])['price_per_unit'].mean() # grouping by for each NDA and year\n",
    "            df_medicaid = df_medicaid.reset_index()\n",
    "        \n",
    "        print(title_i)"
   ]
  },
  {
   "cell_type": "code",
   "execution_count": 8,
   "metadata": {},
   "outputs": [
    {
     "data": {
      "text/plain": [
       "1574630"
      ]
     },
     "execution_count": 8,
     "metadata": {},
     "output_type": "execute_result"
    }
   ],
   "source": [
    "len(df_medicaid)"
   ]
  },
  {
   "cell_type": "code",
   "execution_count": 9,
   "metadata": {
    "scrolled": true
   },
   "outputs": [
    {
     "data": {
      "text/html": [
       "<div>\n",
       "<style scoped>\n",
       "    .dataframe tbody tr th:only-of-type {\n",
       "        vertical-align: middle;\n",
       "    }\n",
       "\n",
       "    .dataframe tbody tr th {\n",
       "        vertical-align: top;\n",
       "    }\n",
       "\n",
       "    .dataframe thead th {\n",
       "        text-align: right;\n",
       "    }\n",
       "</style>\n",
       "<table border=\"1\" class=\"dataframe\">\n",
       "  <thead>\n",
       "    <tr style=\"text-align: right;\">\n",
       "      <th></th>\n",
       "      <th>dataset</th>\n",
       "      <th>labeler_code</th>\n",
       "      <th>product_code</th>\n",
       "      <th>year</th>\n",
       "      <th>quarter</th>\n",
       "      <th>price_per_unit</th>\n",
       "    </tr>\n",
       "  </thead>\n",
       "  <tbody>\n",
       "    <tr>\n",
       "      <th>0</th>\n",
       "      <td>State Drug Utilization Data 1999</td>\n",
       "      <td>00002</td>\n",
       "      <td>0125</td>\n",
       "      <td>1999</td>\n",
       "      <td>1</td>\n",
       "      <td>0.020499</td>\n",
       "    </tr>\n",
       "    <tr>\n",
       "      <th>1</th>\n",
       "      <td>State Drug Utilization Data 1999</td>\n",
       "      <td>00002</td>\n",
       "      <td>0125</td>\n",
       "      <td>1999</td>\n",
       "      <td>2</td>\n",
       "      <td>0.019720</td>\n",
       "    </tr>\n",
       "    <tr>\n",
       "      <th>2</th>\n",
       "      <td>State Drug Utilization Data 1999</td>\n",
       "      <td>00002</td>\n",
       "      <td>0125</td>\n",
       "      <td>1999</td>\n",
       "      <td>3</td>\n",
       "      <td>0.021717</td>\n",
       "    </tr>\n",
       "    <tr>\n",
       "      <th>3</th>\n",
       "      <td>State Drug Utilization Data 1999</td>\n",
       "      <td>00002</td>\n",
       "      <td>0125</td>\n",
       "      <td>1999</td>\n",
       "      <td>4</td>\n",
       "      <td>0.020933</td>\n",
       "    </tr>\n",
       "    <tr>\n",
       "      <th>4</th>\n",
       "      <td>State Drug Utilization Data 1999</td>\n",
       "      <td>00002</td>\n",
       "      <td>0313</td>\n",
       "      <td>1999</td>\n",
       "      <td>1</td>\n",
       "      <td>0.024479</td>\n",
       "    </tr>\n",
       "    <tr>\n",
       "      <th>...</th>\n",
       "      <td>...</td>\n",
       "      <td>...</td>\n",
       "      <td>...</td>\n",
       "      <td>...</td>\n",
       "      <td>...</td>\n",
       "      <td>...</td>\n",
       "    </tr>\n",
       "    <tr>\n",
       "      <th>1574625</th>\n",
       "      <td>State Drug Utilization Data 2021</td>\n",
       "      <td>78670</td>\n",
       "      <td>0130</td>\n",
       "      <td>2021</td>\n",
       "      <td>1</td>\n",
       "      <td>134.683129</td>\n",
       "    </tr>\n",
       "    <tr>\n",
       "      <th>1574626</th>\n",
       "      <td>State Drug Utilization Data 2021</td>\n",
       "      <td>78670</td>\n",
       "      <td>0131</td>\n",
       "      <td>2021</td>\n",
       "      <td>1</td>\n",
       "      <td>124.031333</td>\n",
       "    </tr>\n",
       "    <tr>\n",
       "      <th>1574627</th>\n",
       "      <td>State Drug Utilization Data 2021</td>\n",
       "      <td>89141</td>\n",
       "      <td>0123</td>\n",
       "      <td>2021</td>\n",
       "      <td>1</td>\n",
       "      <td>4.395548</td>\n",
       "    </tr>\n",
       "    <tr>\n",
       "      <th>1574628</th>\n",
       "      <td>State Drug Utilization Data 2021</td>\n",
       "      <td>99207</td>\n",
       "      <td>0240</td>\n",
       "      <td>2021</td>\n",
       "      <td>1</td>\n",
       "      <td>19.294980</td>\n",
       "    </tr>\n",
       "    <tr>\n",
       "      <th>1574629</th>\n",
       "      <td>State Drug Utilization Data 2021</td>\n",
       "      <td>99207</td>\n",
       "      <td>0260</td>\n",
       "      <td>2021</td>\n",
       "      <td>1</td>\n",
       "      <td>8.353472</td>\n",
       "    </tr>\n",
       "  </tbody>\n",
       "</table>\n",
       "<p>1574630 rows × 6 columns</p>\n",
       "</div>"
      ],
      "text/plain": [
       "                                  dataset labeler_code product_code  year  \\\n",
       "0        State Drug Utilization Data 1999        00002         0125  1999   \n",
       "1        State Drug Utilization Data 1999        00002         0125  1999   \n",
       "2        State Drug Utilization Data 1999        00002         0125  1999   \n",
       "3        State Drug Utilization Data 1999        00002         0125  1999   \n",
       "4        State Drug Utilization Data 1999        00002         0313  1999   \n",
       "...                                   ...          ...          ...   ...   \n",
       "1574625  State Drug Utilization Data 2021        78670         0130  2021   \n",
       "1574626  State Drug Utilization Data 2021        78670         0131  2021   \n",
       "1574627  State Drug Utilization Data 2021        89141         0123  2021   \n",
       "1574628  State Drug Utilization Data 2021        99207         0240  2021   \n",
       "1574629  State Drug Utilization Data 2021        99207         0260  2021   \n",
       "\n",
       "        quarter  price_per_unit  \n",
       "0             1        0.020499  \n",
       "1             2        0.019720  \n",
       "2             3        0.021717  \n",
       "3             4        0.020933  \n",
       "4             1        0.024479  \n",
       "...         ...             ...  \n",
       "1574625       1      134.683129  \n",
       "1574626       1      124.031333  \n",
       "1574627       1        4.395548  \n",
       "1574628       1       19.294980  \n",
       "1574629       1        8.353472  \n",
       "\n",
       "[1574630 rows x 6 columns]"
      ]
     },
     "execution_count": 9,
     "metadata": {},
     "output_type": "execute_result"
    }
   ],
   "source": [
    "df_medicaid"
   ]
  },
  {
   "cell_type": "markdown",
   "metadata": {},
   "source": [
    "# Downloading output"
   ]
  },
  {
   "cell_type": "code",
   "execution_count": 10,
   "metadata": {},
   "outputs": [],
   "source": [
    "df_medicaid.to_csv('raw_medicaid_data.csv', index = False)"
   ]
  },
  {
   "cell_type": "code",
   "execution_count": null,
   "metadata": {},
   "outputs": [],
   "source": []
  }
 ],
 "metadata": {
  "kernelspec": {
   "display_name": "Python 3",
   "language": "python",
   "name": "python3"
  },
  "language_info": {
   "codemirror_mode": {
    "name": "ipython",
    "version": 3
   },
   "file_extension": ".py",
   "mimetype": "text/x-python",
   "name": "python",
   "nbconvert_exporter": "python",
   "pygments_lexer": "ipython3",
   "version": "3.8.5"
  }
 },
 "nbformat": 4,
 "nbformat_minor": 4
}
