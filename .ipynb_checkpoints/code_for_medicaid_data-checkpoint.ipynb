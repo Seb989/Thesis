{
 "cells": [
  {
   "cell_type": "markdown",
   "metadata": {},
   "source": [
    "# Libraries"
   ]
  },
  {
   "cell_type": "code",
   "execution_count": 2,
   "metadata": {},
   "outputs": [],
   "source": [
    "import pandas as pd\n",
    "import requests\n",
    "\n",
    "pd.set_option('display.max_columns', None) # display all columns in DF"
   ]
  },
  {
   "cell_type": "markdown",
   "metadata": {},
   "source": [
    "# Data from Metastore"
   ]
  },
  {
   "cell_type": "code",
   "execution_count": 3,
   "metadata": {},
   "outputs": [],
   "source": [
    "r = requests.get('https://data.medicaid.gov/api/1/metastore/schemas/dataset/items') # requesting meta data\n",
    "data = r.json()\n",
    "\n",
    "df_metastore = pd.json_normalize(data, max_level = 1)\n",
    "df_metastore = df_metastore[df_metastore['title'].str.contains('State Drug Utilization Data')] # selecting datasets\n",
    "df_metastore = df_metastore.sort_values(['title']) # sorting datasets\n",
    "df_metastore['year'] = df_metastore['title'].str[-4:] # creating variable for year"
   ]
  },
  {
   "cell_type": "markdown",
   "metadata": {},
   "source": [
    "# Data from Medicaid"
   ]
  },
  {
   "cell_type": "code",
   "execution_count": 34,
   "metadata": {
    "scrolled": false
   },
   "outputs": [
    {
     "name": "stdout",
     "output_type": "stream",
     "text": [
      "State Drug Utilization Data 2020\n",
      "State Drug Utilization Data 2021\n"
     ]
    }
   ],
   "source": [
    "start_year = 2020\n",
    "\n",
    "for index, row in df_metastore.iterrows(): # iterating through meta data\n",
    "\n",
    "    title_i = df_metastore['title'][index]\n",
    "    identifier_i = df_metastore['identifier'][index]\n",
    "    year_i = df_metastore['year'][index]\n",
    "\n",
    "    if int(year_i) >= start_year: # selecting meta data from start year and onward\n",
    "        \n",
    "        print(title_i)\n",
    "        \n",
    "        start_url = 'https://data.medicaid.gov/api/1/datastore/query/'\n",
    "        middle_url = str(identifier_i)\n",
    "        end_url = '/0'\n",
    "        \n",
    "        r = requests.get(start_url + middle_url + end_url, timeout = 20)  # requesting part of dataset\n",
    "        data = r.json()\n",
    "        \n",
    "        data_n = data['count'] # finding the number of observations\n",
    "        \n",
    "        for offset_i in range(0, int(data_n), 10000): # iterating through data in smaller \n",
    "    \n",
    "            if offset_i == 0:\n",
    "\n",
    "                df = pd.json_normalize(data['results'], max_level = 1)\n",
    "                \n",
    "            else:\n",
    "                offset = offset_i\n",
    "                offset_url = '?offset=' + str(offset)\n",
    "                r = requests.get(start_url + middle_url + end_url + offset_url, timeout = 20) # requesting part of dataset\n",
    "                data = r.json()\n",
    "                \n",
    "                df = pd.json_normalize(data['results'], max_level = 1)\n",
    "                \n",
    "        \n",
    "            df['dataset'] = title_i # adding name of dataset\n",
    "\n",
    "            if int(year_i) == start_year and offset_i == 0:\n",
    "                df_medicaid = df\n",
    "            else:\n",
    "                df_medicaid = df_medicaid.append(df, ignore_index = True)"
   ]
  },
  {
   "cell_type": "code",
   "execution_count": 35,
   "metadata": {},
   "outputs": [
    {
     "data": {
      "text/plain": [
       "6091457"
      ]
     },
     "execution_count": 35,
     "metadata": {},
     "output_type": "execute_result"
    }
   ],
   "source": [
    "len(df_medicaid)"
   ]
  },
  {
   "cell_type": "code",
   "execution_count": 38,
   "metadata": {},
   "outputs": [],
   "source": [
    "# I need to remove zero for units_reimbursed and total_amount_reimbursed"
   ]
  },
  {
   "cell_type": "markdown",
   "metadata": {},
   "source": [
    "### Calculating price per unit and grouping"
   ]
  },
  {
   "cell_type": "code",
   "execution_count": 36,
   "metadata": {},
   "outputs": [],
   "source": [
    "df_medicaid['units_reimbursed'] = pd.to_numeric(df_medicaid['units_reimbursed'], errors='coerce') # removing empty observations\n",
    "df_medicaid['total_amount_reimbursed'] = pd.to_numeric(df_medicaid['total_amount_reimbursed'], errors='coerce')\n",
    "df_medicaid.dropna(subset = ['units_reimbursed', 'total_amount_reimbursed'], inplace = True)\n",
    "\n",
    "df_medicaid['price_per_unit'] = df_medicaid['total_amount_reimbursed'] / df_medicaid['units_reimbursed'] # calculating price per unit\n",
    "                \n",
    "df_medicaid = df_medicaid.groupby(['dataset', 'labeler_code', 'product_code', 'year', 'quarter'])['price_per_unit'].mean() # grouping by for each NDA and year\n",
    "df_medicaid = df_medicaid.reset_index()"
   ]
  },
  {
   "cell_type": "code",
   "execution_count": 37,
   "metadata": {},
   "outputs": [
    {
     "data": {
      "text/html": [
       "<div>\n",
       "<style scoped>\n",
       "    .dataframe tbody tr th:only-of-type {\n",
       "        vertical-align: middle;\n",
       "    }\n",
       "\n",
       "    .dataframe tbody tr th {\n",
       "        vertical-align: top;\n",
       "    }\n",
       "\n",
       "    .dataframe thead th {\n",
       "        text-align: right;\n",
       "    }\n",
       "</style>\n",
       "<table border=\"1\" class=\"dataframe\">\n",
       "  <thead>\n",
       "    <tr style=\"text-align: right;\">\n",
       "      <th></th>\n",
       "      <th>dataset</th>\n",
       "      <th>labeler_code</th>\n",
       "      <th>product_code</th>\n",
       "      <th>year</th>\n",
       "      <th>quarter</th>\n",
       "      <th>price_per_unit</th>\n",
       "    </tr>\n",
       "  </thead>\n",
       "  <tbody>\n",
       "    <tr>\n",
       "      <th>0</th>\n",
       "      <td>State Drug Utilization Data 2020</td>\n",
       "      <td>00002</td>\n",
       "      <td>0101</td>\n",
       "      <td>2020</td>\n",
       "      <td>1</td>\n",
       "      <td>55.137297</td>\n",
       "    </tr>\n",
       "    <tr>\n",
       "      <th>1</th>\n",
       "      <td>State Drug Utilization Data 2020</td>\n",
       "      <td>00002</td>\n",
       "      <td>0101</td>\n",
       "      <td>2020</td>\n",
       "      <td>2</td>\n",
       "      <td>31.812113</td>\n",
       "    </tr>\n",
       "    <tr>\n",
       "      <th>2</th>\n",
       "      <td>State Drug Utilization Data 2020</td>\n",
       "      <td>00002</td>\n",
       "      <td>0101</td>\n",
       "      <td>2020</td>\n",
       "      <td>3</td>\n",
       "      <td>0.000000</td>\n",
       "    </tr>\n",
       "    <tr>\n",
       "      <th>3</th>\n",
       "      <td>State Drug Utilization Data 2020</td>\n",
       "      <td>00002</td>\n",
       "      <td>0101</td>\n",
       "      <td>2020</td>\n",
       "      <td>4</td>\n",
       "      <td>0.000000</td>\n",
       "    </tr>\n",
       "    <tr>\n",
       "      <th>4</th>\n",
       "      <td>State Drug Utilization Data 2020</td>\n",
       "      <td>00002</td>\n",
       "      <td>1433</td>\n",
       "      <td>2020</td>\n",
       "      <td>1</td>\n",
       "      <td>372.331892</td>\n",
       "    </tr>\n",
       "  </tbody>\n",
       "</table>\n",
       "</div>"
      ],
      "text/plain": [
       "                            dataset labeler_code product_code  year quarter  \\\n",
       "0  State Drug Utilization Data 2020        00002         0101  2020       1   \n",
       "1  State Drug Utilization Data 2020        00002         0101  2020       2   \n",
       "2  State Drug Utilization Data 2020        00002         0101  2020       3   \n",
       "3  State Drug Utilization Data 2020        00002         0101  2020       4   \n",
       "4  State Drug Utilization Data 2020        00002         1433  2020       1   \n",
       "\n",
       "   price_per_unit  \n",
       "0       55.137297  \n",
       "1       31.812113  \n",
       "2        0.000000  \n",
       "3        0.000000  \n",
       "4      372.331892  "
      ]
     },
     "execution_count": 37,
     "metadata": {},
     "output_type": "execute_result"
    }
   ],
   "source": [
    "df_medicaid.head()"
   ]
  },
  {
   "cell_type": "markdown",
   "metadata": {},
   "source": [
    "# Downloading output"
   ]
  },
  {
   "cell_type": "code",
   "execution_count": 9,
   "metadata": {},
   "outputs": [],
   "source": [
    "df_medicaid.to_csv('raw_medicaid_data_test.csv', index = False)\n",
    "df_medicaid.to_excel('raw_medicaid_data_test.xlsx', index = False)"
   ]
  },
  {
   "cell_type": "code",
   "execution_count": null,
   "metadata": {},
   "outputs": [],
   "source": []
  }
 ],
 "metadata": {
  "kernelspec": {
   "display_name": "Python 3",
   "language": "python",
   "name": "python3"
  },
  "language_info": {
   "codemirror_mode": {
    "name": "ipython",
    "version": 3
   },
   "file_extension": ".py",
   "mimetype": "text/x-python",
   "name": "python",
   "nbconvert_exporter": "python",
   "pygments_lexer": "ipython3",
   "version": "3.8.5"
  }
 },
 "nbformat": 4,
 "nbformat_minor": 4
}
