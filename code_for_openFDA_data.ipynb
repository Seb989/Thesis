{
 "cells": [
  {
   "cell_type": "markdown",
   "metadata": {},
   "source": [
    "# Libraries"
   ]
  },
  {
   "cell_type": "code",
   "execution_count": 1,
   "metadata": {},
   "outputs": [],
   "source": [
    "import pandas as pd\n",
    "import requests\n",
    "\n",
    "pd.set_option('display.max_columns', None) # display all columns in DF"
   ]
  },
  {
   "cell_type": "markdown",
   "metadata": {},
   "source": [
    "# Data from OpenFDA"
   ]
  },
  {
   "cell_type": "code",
   "execution_count": 2,
   "metadata": {},
   "outputs": [
    {
     "name": "stdout",
     "output_type": "stream",
     "text": [
      "25374\n"
     ]
    }
   ],
   "source": [
    "for offset_i in range(0, 25374, 1000):\n",
    "    \n",
    "    payload = {'api_key': 'vJTYEEbNaMLaY4e8yZDGKYXwdmDdsPfZB05G87ea', 'limit': '1000', 'skip': offset_i}\n",
    "    r = requests.get('https://api.fda.gov/drug/drugsfda.json?', params=payload, timeout = 20)\n",
    "    data = r.json()\n",
    "        \n",
    "    df = pd.json_normalize(data['results'], max_level = 1)\n",
    "        \n",
    "    if offset_i == 0:\n",
    "        df_openFDA = df\n",
    "    else:\n",
    "        df_openFDA = df_openFDA.append(df, ignore_index = True)\n",
    "\n",
    "print(len(df_openFDA))"
   ]
  },
  {
   "cell_type": "markdown",
   "metadata": {},
   "source": [
    "# Downloading output"
   ]
  },
  {
   "cell_type": "code",
   "execution_count": 4,
   "metadata": {},
   "outputs": [],
   "source": [
    "df_openFDA.to_excel('raw_openFDA_data.xlsx', index = False)\n",
    "df_openFDA.to_csv('raw_openFDA_data.csv', index = False)"
   ]
  }
 ],
 "metadata": {
  "kernelspec": {
   "display_name": "Python 3",
   "language": "python",
   "name": "python3"
  },
  "language_info": {
   "codemirror_mode": {
    "name": "ipython",
    "version": 3
   },
   "file_extension": ".py",
   "mimetype": "text/x-python",
   "name": "python",
   "nbconvert_exporter": "python",
   "pygments_lexer": "ipython3",
   "version": "3.8.5"
  }
 },
 "nbformat": 4,
 "nbformat_minor": 4
}
