{
 "cells": [
  {
   "cell_type": "markdown",
   "metadata": {},
   "source": [
    "# Libraries"
   ]
  },
  {
   "cell_type": "code",
   "execution_count": null,
   "metadata": {},
   "outputs": [],
   "source": [
    "import requests\n",
    "\n",
    "import numpy as np\n",
    "import pandas as pd\n",
    "pd.options.mode.chained_assignment = None # removing some warnings\n",
    "pd.set_option('display.max_columns', None) # display all columns in DF\n",
    "\n",
    "\n",
    "import matplotlib.pyplot as plt\n",
    "import matplotlib.dates as mdate\n",
    "import seaborn as sns\n",
    "\n",
    "from ast import literal_eval\n",
    "\n",
    "import time\n",
    "import datetime as dt\n",
    "import math"
   ]
  },
  {
   "cell_type": "markdown",
   "metadata": {},
   "source": [
    "# Loading Data"
   ]
  },
  {
   "cell_type": "code",
   "execution_count": 1042,
   "metadata": {},
   "outputs": [
    {
     "name": "stderr",
     "output_type": "stream",
     "text": [
      "C:\\Users\\sebas\\anaconda3\\lib\\site-packages\\IPython\\core\\interactiveshell.py:3444: DtypeWarning: Columns (26,27,28) have mixed types.Specify dtype option on import or set low_memory=False.\n",
      "  exec(code_obj, self.user_global_ns, self.user_ns)\n"
     ]
    }
   ],
   "source": [
    "df_reg_org = pd.read_csv('raw_consolidation_data.csv', sep = '~')"
   ]
  },
  {
   "cell_type": "code",
   "execution_count": 1043,
   "metadata": {},
   "outputs": [],
   "source": [
    "df_temp = df_reg_org.loc[df_reg_org['is_original_packager'] == True]"
   ]
  },
  {
   "cell_type": "code",
   "execution_count": 1044,
   "metadata": {},
   "outputs": [],
   "source": [
    "df_temp = df_reg_org"
   ]
  },
  {
   "cell_type": "code",
   "execution_count": 1045,
   "metadata": {},
   "outputs": [
    {
     "data": {
      "text/plain": [
       "515574"
      ]
     },
     "execution_count": 1045,
     "metadata": {},
     "output_type": "execute_result"
    }
   ],
   "source": [
    "len(df_temp)"
   ]
  },
  {
   "cell_type": "code",
   "execution_count": 1046,
   "metadata": {},
   "outputs": [
    {
     "name": "stdout",
     "output_type": "stream",
     "text": [
      "Tabel:           date  unique_id\n",
      "0  1991-01-01        544\n",
      "1  1991-04-01        568\n",
      "2  1991-07-01        580\n",
      "3  1991-10-01        582\n",
      "4  1992-01-01        612\n",
      "Quarterly Average:  4260.94214876033\n",
      "Total:  7214\n",
      "Total (generic_name):  2117\n",
      "Total (labeler):  567\n"
     ]
    }
   ],
   "source": [
    "df_temp_count = df_temp.groupby(['date'])['unique_id'].count()\n",
    "df_temp_count = df_temp_count.reset_index()\n",
    "print('Tabel: ', df_temp_count.head())\n",
    "print('Quarterly Average: ', df_temp_count['unique_id'].mean())\n",
    "print('Total: ', df_temp['unique_id'].nunique())\n",
    "print('Total (generic_name): ', df_temp['generic_name'].nunique())\n",
    "print('Total (labeler): ', df_temp['labeler_name'].nunique())"
   ]
  },
  {
   "cell_type": "markdown",
   "metadata": {},
   "source": [
    "# Data manipulation"
   ]
  },
  {
   "cell_type": "markdown",
   "metadata": {},
   "source": [
    "Removing labeller that are original packager"
   ]
  },
  {
   "cell_type": "code",
   "execution_count": 1047,
   "metadata": {},
   "outputs": [
    {
     "name": "stdout",
     "output_type": "stream",
     "text": [
      "515574\n",
      "496657\n"
     ]
    }
   ],
   "source": [
    "print(len(df_reg_org))\n",
    "df_reg = df_reg_org.loc[df_reg_org['is_original_packager'] == True]\n",
    "print(len(df_reg))"
   ]
  },
  {
   "cell_type": "markdown",
   "metadata": {},
   "source": [
    "### Assigning order of entrance for each unique drug"
   ]
  },
  {
   "cell_type": "code",
   "execution_count": 1048,
   "metadata": {},
   "outputs": [],
   "source": [
    "df_temp = df_reg.sort_values(by = ['unique_id', 'date', 'marketing_category'], ascending = [False, True, False], ignore_index = True) # Sorting\n",
    "\n",
    "df_temp = df_temp.drop_duplicates(subset = ['unique_id', 'labeler_name'], keep = 'first') # Finding the first entrance for each labeller \n",
    "\n",
    "df_temp['labeler_name_count'] = df_temp.groupby((df_temp['unique_id'] != df_temp['unique_id'].shift(1)).cumsum()).cumcount() + 1 # Running count for each drung\n",
    "\n",
    "df_reg = pd.merge(df_temp[['unique_id', 'labeler_name', 'labeler_name_count']], df_reg, on = ['unique_id', 'labeler_name'], how = 'right') # Merging with org. data"
   ]
  },
  {
   "cell_type": "code",
   "execution_count": 1049,
   "metadata": {},
   "outputs": [
    {
     "name": "stdout",
     "output_type": "stream",
     "text": [
      "496657\n"
     ]
    }
   ],
   "source": [
    "print(len(df_reg))"
   ]
  },
  {
   "cell_type": "markdown",
   "metadata": {},
   "source": [
    "### Assigning a dummy for first entrance and NDA"
   ]
  },
  {
   "cell_type": "code",
   "execution_count": 1050,
   "metadata": {},
   "outputs": [],
   "source": [
    "df_temp = df_reg.loc[(df_reg['labeler_name_count'] == 1) & (df_reg['marketing_category'] == 'NDA')] # Filtering\n",
    "\n",
    "df_temp = df_temp.sort_values(by = ['date', 'unique_id'], ascending = [True, False], ignore_index = True) # Sorting\n",
    "df_temp = df_temp.drop_duplicates(subset = ['unique_id'], keep = 'first') # Removing dublicates\n",
    "\n",
    "df_temp['first_nda'] = 1 # Adding dummy\n",
    "\n",
    "df_reg = pd.merge(df_temp[['unique_id', 'first_nda']], df_reg, on = ['unique_id'], how = 'right') # Merging with reg. data\n",
    "\n",
    "df_reg['first_nda'] = df_reg['first_nda'].fillna(0)"
   ]
  },
  {
   "cell_type": "code",
   "execution_count": 1051,
   "metadata": {},
   "outputs": [
    {
     "name": "stdout",
     "output_type": "stream",
     "text": [
      "496657\n"
     ]
    }
   ],
   "source": [
    "print(len(df_reg))"
   ]
  },
  {
   "cell_type": "markdown",
   "metadata": {},
   "source": [
    "Removing unique drug where the first entrance is not a NDA"
   ]
  },
  {
   "cell_type": "code",
   "execution_count": 1052,
   "metadata": {},
   "outputs": [],
   "source": [
    "df_reg = df_reg.loc[(df_reg['first_nda'] == 1)]"
   ]
  },
  {
   "cell_type": "code",
   "execution_count": 1053,
   "metadata": {},
   "outputs": [
    {
     "data": {
      "text/plain": [
       "201875"
      ]
     },
     "execution_count": 1053,
     "metadata": {},
     "output_type": "execute_result"
    }
   ],
   "source": [
    "len(df_reg)"
   ]
  },
  {
   "cell_type": "markdown",
   "metadata": {},
   "source": [
    "### Assigning a running count for each unique drug from the start"
   ]
  },
  {
   "cell_type": "code",
   "execution_count": 1054,
   "metadata": {},
   "outputs": [],
   "source": [
    "df_temp = df_reg.drop_duplicates(subset = ['date', 'unique_id']) # Removing dublicates\n",
    "df_temp = df_temp[['date', 'unique_id']]\n",
    "df_temp = df_temp.sort_values(by = ['unique_id', 'date'])\n",
    "\n",
    "df_temp['running_count_from_start'] = df_temp.groupby((df_temp['unique_id'] != df_temp['unique_id'].shift(1)).cumsum()).cumcount() + 1 # Running count for each drung\n",
    "\n",
    "df_reg = pd.merge(df_temp[['date', 'unique_id', 'running_count_from_start']], df_reg, on = ['date', 'unique_id',], how = 'right')"
   ]
  },
  {
   "cell_type": "code",
   "execution_count": 1055,
   "metadata": {},
   "outputs": [
    {
     "data": {
      "text/plain": [
       "201875"
      ]
     },
     "execution_count": 1055,
     "metadata": {},
     "output_type": "execute_result"
    }
   ],
   "source": [
    "len(df_reg)"
   ]
  },
  {
   "cell_type": "markdown",
   "metadata": {
    "tags": []
   },
   "source": [
    "### Assigning a running count for each unique drug from second entrance"
   ]
  },
  {
   "cell_type": "code",
   "execution_count": 1056,
   "metadata": {},
   "outputs": [],
   "source": [
    "df_temp = df_reg[df_reg['labeler_name_count'] >= 2]\n",
    "\n",
    "df_temp = df_temp.drop_duplicates(subset = ['date', 'unique_id']) # Removing dublicates\n",
    "df_temp = df_temp[['date', 'unique_id']]\n",
    "df_temp = df_temp.sort_values(by = ['unique_id', 'date'])\n",
    "\n",
    "df_temp['running_count_from_second_entrance'] = df_temp.groupby((df_temp['unique_id'] != df_temp['unique_id'].shift(1)).cumsum()).cumcount() + 1 # Running count for each drug\n",
    "\n",
    "df_reg = pd.merge(df_temp[['date', 'unique_id', 'running_count_from_second_entrance']], df_reg, on = ['date', 'unique_id',], how = 'right')\n",
    "\n",
    "df_reg['running_count_from_second_entrance'] = df_reg['running_count_from_second_entrance'].fillna(0)"
   ]
  },
  {
   "cell_type": "code",
   "execution_count": 1057,
   "metadata": {},
   "outputs": [
    {
     "data": {
      "text/plain": [
       "201875"
      ]
     },
     "execution_count": 1057,
     "metadata": {},
     "output_type": "execute_result"
    }
   ],
   "source": [
    "len(df_reg)"
   ]
  },
  {
   "cell_type": "markdown",
   "metadata": {
    "tags": []
   },
   "source": [
    "### Assigning a total count of the labelers at the start (to exclude unique drug with multiple labelers from the start)"
   ]
  },
  {
   "cell_type": "code",
   "execution_count": 1058,
   "metadata": {},
   "outputs": [],
   "source": [
    "df_temp = df_reg.loc[(df_reg['running_count_from_start'] == 1)]\n",
    "          \n",
    "df_temp = df_temp.groupby(['unique_id'])['first_nda'].sum()\n",
    "df_temp = df_temp.reset_index()\n",
    "df_temp = df_temp.rename(columns = {\"first_nda\": \"number_of_first_entrance\"})\n",
    "\n",
    "df_temp = df_temp.loc[(df_temp['number_of_first_entrance'] > 1)]\n",
    "\n",
    "df_reg = pd.merge(df_temp[['unique_id', 'number_of_first_entrance']], df_reg, on = ['unique_id'], how = 'right') # Merging with reg. data\n",
    "\n",
    "df_reg['number_of_first_entrance'] = df_reg['number_of_first_entrance'].fillna(1)"
   ]
  },
  {
   "cell_type": "markdown",
   "metadata": {},
   "source": [
    "Removing unique drug which has multiple entrances at start"
   ]
  },
  {
   "cell_type": "code",
   "execution_count": 1059,
   "metadata": {},
   "outputs": [],
   "source": [
    "df_reg = df_reg.loc[(df_reg['number_of_first_entrance'] == 1)]"
   ]
  },
  {
   "cell_type": "code",
   "execution_count": 1060,
   "metadata": {},
   "outputs": [
    {
     "data": {
      "text/plain": [
       "193215"
      ]
     },
     "execution_count": 1060,
     "metadata": {},
     "output_type": "execute_result"
    }
   ],
   "source": [
    "len(df_reg)"
   ]
  },
  {
   "cell_type": "markdown",
   "metadata": {},
   "source": [
    "### Assigning a running count of generic labelers"
   ]
  },
  {
   "cell_type": "code",
   "execution_count": 1061,
   "metadata": {},
   "outputs": [],
   "source": [
    "df_temp = df_reg[['date', 'unique_id', 'labeler_name', 'labeler_name_count']]\n",
    "\n",
    "df_temp = df_temp.groupby(['date', 'unique_id'])\n",
    "\n",
    "df_temp = df_temp.max()\n",
    "\n",
    "df_temp = df_temp.reset_index()\n",
    "\n",
    "df_temp['running_count_generics'] = df_temp['labeler_name_count'] - 1 # Minus by one because org. labeler do not count\n",
    "\n",
    "df_reg = pd.merge(df_temp[['date', 'unique_id', 'running_count_generics']], df_reg, on = ['date', 'unique_id'], how = 'right') # Merging with org. data"
   ]
  },
  {
   "cell_type": "markdown",
   "metadata": {
    "tags": []
   },
   "source": [
    "### Assigning dummies for generic entries"
   ]
  },
  {
   "cell_type": "code",
   "execution_count": 1062,
   "metadata": {},
   "outputs": [],
   "source": [
    "df_temp = df_reg[['date', 'unique_id']]\n",
    "df_temp['labeler_name_count_2_dummy'] = df_reg['running_count_generics'].apply(lambda x: 1 if (x > 0)  else 0)\n",
    "df_temp['labeler_name_count_3_dummy'] = df_reg['running_count_generics'].apply(lambda x: 1 if (x > 1)  else 0)\n",
    "df_temp['labeler_name_count_4_dummy'] = df_reg['running_count_generics'].apply(lambda x: 1 if (x > 2)  else 0)\n",
    "df_temp['labeler_name_count_5_dummy'] = df_reg['running_count_generics'].apply(lambda x: 1 if (x > 3)  else 0)\n",
    "df_temp['labeler_name_count_6_dummy'] = df_reg['running_count_generics'].apply(lambda x: 1 if (x > 4)  else 0)\n",
    "df_temp['labeler_name_count_7_dummy'] = df_reg['running_count_generics'].apply(lambda x: 1 if (x > 5)  else 0)\n",
    "df_temp['labeler_name_count_8_dummy'] = df_reg['running_count_generics'].apply(lambda x: 1 if (x > 6)  else 0)\n",
    "df_temp['labeler_name_count_9_dummy'] = df_reg['running_count_generics'].apply(lambda x: 1 if (x > 7)  else 0)\n",
    "df_temp['labeler_name_count_10_dummy'] = df_reg['running_count_generics'].apply(lambda x: 1 if (x > 8)  else 0)"
   ]
  },
  {
   "cell_type": "code",
   "execution_count": 1063,
   "metadata": {},
   "outputs": [
    {
     "name": "stderr",
     "output_type": "stream",
     "text": [
      "C:\\Users\\sebas\\AppData\\Local\\Temp/ipykernel_3480/3182860570.py:1: FutureWarning: Indexing with multiple keys (implicitly converted to a tuple of keys) will be deprecated, use a list instead.\n",
      "  df_temp = df_temp.groupby(['date', 'unique_id'], as_index = False)['labeler_name_count_2_dummy', 'labeler_name_count_3_dummy', 'labeler_name_count_4_dummy', 'labeler_name_count_5_dummy', 'labeler_name_count_6_dummy', 'labeler_name_count_7_dummy', 'labeler_name_count_8_dummy', 'labeler_name_count_9_dummy', 'labeler_name_count_10_dummy'].sum()\n"
     ]
    }
   ],
   "source": [
    "df_temp = df_temp.groupby(['date', 'unique_id'], as_index = False)['labeler_name_count_2_dummy', 'labeler_name_count_3_dummy', 'labeler_name_count_4_dummy', 'labeler_name_count_5_dummy', 'labeler_name_count_6_dummy', 'labeler_name_count_7_dummy', 'labeler_name_count_8_dummy', 'labeler_name_count_9_dummy', 'labeler_name_count_10_dummy'].sum()\n",
    "\n",
    "number = 0\n",
    "for (column_name, column_value) in df_temp.iteritems():\n",
    "    number = number + 1\n",
    "    if number > 2:\n",
    "        df_temp[column_name] = np.where(df_temp[column_name] >= 1, 1, 0)"
   ]
  },
  {
   "cell_type": "code",
   "execution_count": 1064,
   "metadata": {},
   "outputs": [],
   "source": [
    "df_reg = pd.merge(df_temp[['date', 'unique_id', 'labeler_name_count_2_dummy', 'labeler_name_count_3_dummy', 'labeler_name_count_4_dummy', 'labeler_name_count_5_dummy', 'labeler_name_count_6_dummy', 'labeler_name_count_7_dummy', 'labeler_name_count_8_dummy', 'labeler_name_count_9_dummy', 'labeler_name_count_10_dummy']], df_reg, on = ['date', 'unique_id'], how = 'right') # Merging with reg. data"
   ]
  },
  {
   "cell_type": "code",
   "execution_count": 1065,
   "metadata": {},
   "outputs": [
    {
     "data": {
      "text/plain": [
       "193215"
      ]
     },
     "execution_count": 1065,
     "metadata": {},
     "output_type": "execute_result"
    }
   ],
   "source": [
    "len(df_reg)"
   ]
  },
  {
   "cell_type": "markdown",
   "metadata": {},
   "source": [
    "### Assigning a running count of substitutes labelers"
   ]
  },
  {
   "cell_type": "markdown",
   "metadata": {},
   "source": [
    "Unpacking pharm class to obtain EPC and MoA"
   ]
  },
  {
   "cell_type": "code",
   "execution_count": 1066,
   "metadata": {},
   "outputs": [],
   "source": [
    "df_temp = pd.DataFrame(df_reg[['unique_id', 'pharm_class']])\n",
    "\n",
    "df_temp = df_temp.drop_duplicates(subset = ['unique_id', 'pharm_class'])\n",
    "\n",
    "df_temp = df_temp.dropna(subset = ['pharm_class'])\n",
    "df_temp['pharm_class'] = df_temp['pharm_class'].apply(literal_eval)\n",
    "df_temp = df_temp.explode('pharm_class')\n",
    "\n",
    "df_temp['pharm_class_type'] = df_temp['pharm_class'].apply(lambda x: str(x)[-5:])\n",
    "df_temp['pharm_class_type'] = df_temp['pharm_class_type'].str.replace(r'[][]', '', regex=True)\n",
    "\n",
    "df_temp_EPC = df_temp[df_temp['pharm_class_type'] == 'EPC']\n",
    "df_temp_MoA = df_temp[df_temp['pharm_class_type'] == 'MoA']\n",
    "\n",
    "df_temp_EPC = df_temp_EPC.rename(columns = {\"pharm_class\": \"pharm_class_EPC\"})\n",
    "df_temp_MoA = df_temp_MoA.rename(columns = {\"pharm_class\": \"pharm_class_MoA\"})\n",
    "\n",
    "df_temp_EPC = df_temp_EPC.drop_duplicates(subset = ['unique_id', 'pharm_class_EPC'])\n",
    "df_temp_MoA = df_temp_MoA.drop_duplicates(subset = ['unique_id', 'pharm_class_MoA'])\n",
    "\n",
    "df_pharm_class_type = pd.merge(df_temp_EPC, df_temp_MoA,  on = 'unique_id', how = 'left')\n",
    "\n",
    "df_pharm_class_type = df_pharm_class_type.dropna(subset = ['pharm_class_EPC'])\n",
    "df_pharm_class_type = df_pharm_class_type.dropna(subset = ['pharm_class_MoA'])"
   ]
  },
  {
   "cell_type": "markdown",
   "metadata": {},
   "source": [
    "Adding route"
   ]
  },
  {
   "cell_type": "code",
   "execution_count": 1067,
   "metadata": {},
   "outputs": [],
   "source": [
    "df_openFDA_NDC = pd.read_csv('raw_openFDA_NDC_data.csv', sep = '~')"
   ]
  },
  {
   "cell_type": "code",
   "execution_count": 1068,
   "metadata": {},
   "outputs": [],
   "source": [
    "df_temp = df_openFDA_NDC.drop_duplicates(subset = ['unique_id'])\n",
    "\n",
    "df_temp = df_temp.dropna(subset = ['route'])\n",
    "\n",
    "df_pharm_class_type = pd.merge(df_pharm_class_type, df_temp[['unique_id', 'route']],  on = 'unique_id', how = 'left')"
   ]
  },
  {
   "cell_type": "markdown",
   "metadata": {},
   "source": [
    "Adding ATC (level 2)"
   ]
  },
  {
   "cell_type": "code",
   "execution_count": 1069,
   "metadata": {},
   "outputs": [],
   "source": [
    "df_ATC = pd.read_csv('raw_consolidation_data_for_ATC.csv', sep = '~')"
   ]
  },
  {
   "cell_type": "code",
   "execution_count": 1070,
   "metadata": {},
   "outputs": [],
   "source": [
    "df_temp = df_ATC.drop_duplicates(subset = ['unique_id'])\n",
    "\n",
    "df_temp = df_temp.dropna(subset = ['ATC (level 2)'])\n",
    "\n",
    "df_pharm_class_type = pd.merge(df_pharm_class_type, df_temp[['unique_id', 'ATC (level 2)']],  on = 'unique_id', how = 'left')"
   ]
  },
  {
   "cell_type": "markdown",
   "metadata": {},
   "source": [
    "Creating a unique id for substitutes"
   ]
  },
  {
   "cell_type": "code",
   "execution_count": 1071,
   "metadata": {},
   "outputs": [],
   "source": [
    "df_pharm_class_type['unique_substitute'] = df_pharm_class_type['ATC (level 2)'].astype(str) + '-' + df_pharm_class_type['pharm_class_EPC'].astype(str) + '-' + df_pharm_class_type['route'].astype(str) + '-' + df_pharm_class_type['pharm_class_MoA'].astype(str)\n",
    "df_pharm_class_type = df_pharm_class_type[['unique_id', 'unique_substitute']]\n",
    "\n",
    "df_pharm_class_type = df_pharm_class_type.drop_duplicates(subset = ['unique_id'])"
   ]
  },
  {
   "cell_type": "markdown",
   "metadata": {},
   "source": [
    "Merging with org. data"
   ]
  },
  {
   "cell_type": "code",
   "execution_count": 1072,
   "metadata": {},
   "outputs": [],
   "source": [
    "df_reg = pd.merge(df_reg, df_pharm_class_type[['unique_id', 'unique_substitute']],  on = 'unique_id', how = 'left')"
   ]
  },
  {
   "cell_type": "markdown",
   "metadata": {},
   "source": [
    "Calculating number of substitutes"
   ]
  },
  {
   "cell_type": "code",
   "execution_count": 1073,
   "metadata": {},
   "outputs": [],
   "source": [
    "df_temp = df_reg.groupby(['date', 'unique_substitute'])['unique_id'].agg('nunique')\n",
    "df_temp = df_temp.reset_index()\n",
    "\n",
    "df_temp['running_count_unique_substitute'] = df_temp['unique_id'] - 1\n",
    "\n",
    "df_reg = pd.merge(df_reg, df_temp[['date', 'unique_substitute', 'running_count_unique_substitute']],  on = ['date', 'unique_substitute'], how = 'left')"
   ]
  },
  {
   "cell_type": "code",
   "execution_count": 1074,
   "metadata": {},
   "outputs": [
    {
     "data": {
      "text/plain": [
       "193215"
      ]
     },
     "execution_count": 1074,
     "metadata": {},
     "output_type": "execute_result"
    }
   ],
   "source": [
    "len(df_reg)"
   ]
  },
  {
   "cell_type": "markdown",
   "metadata": {},
   "source": [
    "### Assigning a running count where the first entrance is the starting point"
   ]
  },
  {
   "cell_type": "markdown",
   "metadata": {},
   "source": [
    "Finding the running count from the start for unique drugs"
   ]
  },
  {
   "cell_type": "code",
   "execution_count": 1075,
   "metadata": {},
   "outputs": [],
   "source": [
    "df_temp = df_reg[['date', 'unique_id', 'running_count_from_start', 'running_count_from_second_entrance']]\n",
    "\n",
    "df_temp['col_temp'] = df_temp['running_count_from_second_entrance'].map(lambda x: True if (x == 1.0)  else False)\n",
    "\n",
    "df_temp = df_temp[df_temp['col_temp'] == True]\n",
    "df_temp = df_temp.drop(columns=['col_temp'])\n",
    "df_temp = df_temp.drop_duplicates(subset=['unique_id'])\n",
    "df_temp = df_temp.rename(columns = {\"running_count_from_start\": \"col_temp\"})\n",
    "df_temp = df_temp[['unique_id', 'col_temp']]"
   ]
  },
  {
   "cell_type": "markdown",
   "metadata": {},
   "source": [
    "Merging with org. data"
   ]
  },
  {
   "cell_type": "code",
   "execution_count": 1076,
   "metadata": {},
   "outputs": [],
   "source": [
    "df_reg = pd.merge(df_temp[['unique_id', 'col_temp']], df_reg, on = ['unique_id',], how = 'right')"
   ]
  },
  {
   "cell_type": "markdown",
   "metadata": {},
   "source": [
    "Calculationg the running count"
   ]
  },
  {
   "cell_type": "code",
   "execution_count": 1077,
   "metadata": {},
   "outputs": [],
   "source": [
    "df_reg['col_temp'] = df_reg['col_temp'].fillna(0)\n",
    "df_reg['col_temp'] = df_reg['running_count_from_start'] - df_reg['col_temp']\n",
    "\n",
    "df_reg['running_count_event'] = df_reg['col_temp'].where(df_reg['col_temp'] != df_reg['running_count_from_start'])\n",
    "\n",
    "df_reg = df_reg.drop(columns=['col_temp'])"
   ]
  },
  {
   "cell_type": "code",
   "execution_count": 1078,
   "metadata": {},
   "outputs": [
    {
     "data": {
      "text/plain": [
       "193215"
      ]
     },
     "execution_count": 1078,
     "metadata": {},
     "output_type": "execute_result"
    }
   ],
   "source": [
    "len(df_reg)"
   ]
  },
  {
   "cell_type": "code",
   "execution_count": 1079,
   "metadata": {},
   "outputs": [],
   "source": [
    "df_temp = df_reg.groupby(['unique_id']).agg({'running_count_event': [np.min,np.max]})\n",
    "df_temp = df_temp.reset_index()\n",
    "df_temp = df_temp.droplevel(0, axis=1) \n",
    "\n",
    "df_temp = df_temp.rename(columns = {\"\": \"unique_id\", \"amin\": \"min_quarter_before_second_entrance\", \"amax\": \"max_quarter_before_second_entrance\"})\n",
    "df_temp = df_temp.drop_duplicates(subset = ['unique_id'])"
   ]
  },
  {
   "cell_type": "markdown",
   "metadata": {},
   "source": [
    "Merging with org. data"
   ]
  },
  {
   "cell_type": "code",
   "execution_count": 1080,
   "metadata": {},
   "outputs": [],
   "source": [
    "df_reg = pd.merge(df_temp[['unique_id', 'min_quarter_before_second_entrance', 'max_quarter_before_second_entrance']], df_reg, on = ['unique_id',], how = 'right')"
   ]
  },
  {
   "cell_type": "markdown",
   "metadata": {},
   "source": [
    "### Assigning a dummy for 2006 (change in Medicare which affect Medicaid)"
   ]
  },
  {
   "cell_type": "code",
   "execution_count": 1081,
   "metadata": {},
   "outputs": [],
   "source": [
    "df_reg['dummy_2006'] = df_reg['year'].apply(lambda x: 1 if x == 2006 else 0)"
   ]
  },
  {
   "cell_type": "markdown",
   "metadata": {},
   "source": [
    "### Calculating the quarterly total amount reimbursed and units reimbursed for all labelers"
   ]
  },
  {
   "cell_type": "code",
   "execution_count": 1082,
   "metadata": {},
   "outputs": [],
   "source": [
    "df_temp = df_reg.set_index(['date', 'unique_id']).groupby(level = ['date', 'unique_id'])[['units_reimbursed', 'total_amount_reimbursed_adj']].agg('sum')\n",
    "df_temp = df_temp.reset_index()\n",
    "\n",
    "df_temp = df_temp.rename(columns = {\"units_reimbursed\": \"units_reimbursed_sum\", \"total_amount_reimbursed_adj\": \"total_amount_reimbursed_adj_sum\"})\n",
    "\n",
    "df_reg = pd.merge(df_temp[['date', 'unique_id', 'units_reimbursed_sum', 'total_amount_reimbursed_adj_sum']], df_reg, on = ['date', 'unique_id',], how = 'right')"
   ]
  },
  {
   "cell_type": "markdown",
   "metadata": {},
   "source": [
    "### Calculating the generic labelers' share of quarterly total amount reimbursed and units reimbursed"
   ]
  },
  {
   "cell_type": "code",
   "execution_count": 1083,
   "metadata": {},
   "outputs": [],
   "source": [
    "df_temp = df_reg[df_reg['labeler_name_count'] >= 2]\n",
    "\n",
    "df_temp = df_temp.set_index(['date', 'unique_id']).groupby(level = ['date', 'unique_id'])[['units_reimbursed', 'total_amount_reimbursed_adj']].agg('sum')\n",
    "df_temp = df_temp.reset_index()\n",
    "\n",
    "df_temp = df_temp.rename(columns = {\"units_reimbursed\": \"generic_units_reimbursed_sum\", \"total_amount_reimbursed_adj\": \"generic_total_amount_reimbursed_adj_sum\"})\n",
    "\n",
    "df_reg = pd.merge(df_temp[['date', 'unique_id', 'generic_units_reimbursed_sum', 'generic_total_amount_reimbursed_adj_sum']], df_reg, on = ['date', 'unique_id',], how = 'right')\n",
    "\n",
    "df_reg['generic_units_reimbursed_sum'] = df_reg['generic_units_reimbursed_sum'].fillna(0)\n",
    "df_reg['generic_total_amount_reimbursed_adj_sum'] = df_reg['generic_total_amount_reimbursed_adj_sum'].fillna(0)"
   ]
  },
  {
   "cell_type": "code",
   "execution_count": 1084,
   "metadata": {},
   "outputs": [],
   "source": [
    "df_reg['generic_share_units_reimbursed_sum'] = df_reg['generic_units_reimbursed_sum'] / df_reg['units_reimbursed_sum']\n",
    "df_reg['generic_share_total_amount_reimbursed_adj_sum'] = df_reg['generic_total_amount_reimbursed_adj_sum'] / df_reg['total_amount_reimbursed_adj_sum']\n",
    "\n",
    "df_reg['generic_share_units_reimbursed_sum'] = df_reg['generic_share_units_reimbursed_sum'].fillna(0)\n",
    "df_reg['generic_share_total_amount_reimbursed_adj_sum'] = df_reg['generic_share_total_amount_reimbursed_adj_sum'].fillna(0)"
   ]
  },
  {
   "cell_type": "markdown",
   "metadata": {},
   "source": [
    "..."
   ]
  },
  {
   "cell_type": "markdown",
   "metadata": {},
   "source": [
    "# Downloading Data"
   ]
  },
  {
   "cell_type": "code",
   "execution_count": 4,
   "metadata": {
    "tags": []
   },
   "outputs": [
    {
     "ename": "NameError",
     "evalue": "name 'df_reg' is not defined",
     "output_type": "error",
     "traceback": [
      "\u001b[1;31m---------------------------------------------------------------------------\u001b[0m",
      "\u001b[1;31mNameError\u001b[0m                                 Traceback (most recent call last)",
      "\u001b[1;32m~\\AppData\\Local\\Temp/ipykernel_12908/3372754161.py\u001b[0m in \u001b[0;36m<module>\u001b[1;34m\u001b[0m\n\u001b[1;32m----> 1\u001b[1;33m \u001b[0mdf_reg\u001b[0m\u001b[1;33m.\u001b[0m\u001b[0mto_csv\u001b[0m\u001b[1;33m(\u001b[0m\u001b[1;34m'output_regression_org.csv'\u001b[0m\u001b[1;33m,\u001b[0m \u001b[0msep\u001b[0m \u001b[1;33m=\u001b[0m \u001b[1;34m'~'\u001b[0m\u001b[1;33m,\u001b[0m \u001b[0mindex\u001b[0m \u001b[1;33m=\u001b[0m \u001b[1;32mFalse\u001b[0m\u001b[1;33m)\u001b[0m\u001b[1;33m\u001b[0m\u001b[1;33m\u001b[0m\u001b[0m\n\u001b[0m",
      "\u001b[1;31mNameError\u001b[0m: name 'df_reg' is not defined"
     ]
    }
   ],
   "source": [
    "df_reg.to_csv('output_regression_org.csv', sep = '~', index = False)"
   ]
  },
  {
   "cell_type": "markdown",
   "metadata": {
    "tags": []
   },
   "source": [
    "# Loading Data"
   ]
  },
  {
   "cell_type": "code",
   "execution_count": 86,
   "metadata": {},
   "outputs": [
    {
     "name": "stderr",
     "output_type": "stream",
     "text": [
      "C:\\Users\\sebas\\anaconda3\\lib\\site-packages\\IPython\\core\\interactiveshell.py:3444: DtypeWarning: Columns (48,49) have mixed types.Specify dtype option on import or set low_memory=False.\n",
      "  exec(code_obj, self.user_global_ns, self.user_ns)\n"
     ]
    }
   ],
   "source": [
    "df_reg = pd.read_csv('output_regression_org.csv', sep = '~')"
   ]
  },
  {
   "cell_type": "markdown",
   "metadata": {
    "tags": []
   },
   "source": [
    "# Descriptive of Data"
   ]
  },
  {
   "cell_type": "markdown",
   "metadata": {},
   "source": [
    "Counting number of unique drugs"
   ]
  },
  {
   "cell_type": "code",
   "execution_count": 4,
   "metadata": {},
   "outputs": [],
   "source": [
    "df_temp = df_reg"
   ]
  },
  {
   "cell_type": "code",
   "execution_count": 5,
   "metadata": {},
   "outputs": [],
   "source": [
    "df_temp = df_temp.dropna(subset = ['running_count_event'])"
   ]
  },
  {
   "cell_type": "code",
   "execution_count": 6,
   "metadata": {},
   "outputs": [
    {
     "data": {
      "text/plain": [
       "135076"
      ]
     },
     "execution_count": 6,
     "metadata": {},
     "output_type": "execute_result"
    }
   ],
   "source": [
    "len(df_temp)"
   ]
  },
  {
   "cell_type": "code",
   "execution_count": 7,
   "metadata": {},
   "outputs": [
    {
     "name": "stdout",
     "output_type": "stream",
     "text": [
      "Total of drug:  135076\n"
     ]
    }
   ],
   "source": [
    "print('Total of drug: ', df_temp['unique_id'].count())"
   ]
  },
  {
   "cell_type": "code",
   "execution_count": 8,
   "metadata": {},
   "outputs": [
    {
     "name": "stdout",
     "output_type": "stream",
     "text": [
      "Tabel:           date  unique_id\n",
      "0  1991-01-01         93\n",
      "1  1991-04-01         96\n",
      "2  1991-07-01         96\n",
      "3  1991-10-01         96\n",
      "4  1992-01-01        105\n",
      "Quarterly Average:  1116.3305785123966\n",
      "Total of unique drug:  1005\n",
      "Total of unique generic producers:  391\n",
      "Total of unique brand name producers:  289\n"
     ]
    }
   ],
   "source": [
    "df_temp_count = df_temp.groupby(['date'])['unique_id'].count()\n",
    "df_temp_count = df_temp_count.reset_index()\n",
    "print('Tabel: ', df_temp_count.head())\n",
    "print('Quarterly Average: ', df_temp_count['unique_id'].mean())\n",
    "print('Total of unique drug: ', df_temp['unique_id'].nunique())\n",
    "print('Total of unique generic producers: ', df_temp['generic_name'].nunique())\n",
    "print('Total of unique brand name producers: ', df_temp['labeler_name'].nunique())"
   ]
  },
  {
   "cell_type": "markdown",
   "metadata": {},
   "source": [
    "### Balanced data: Number of entrance with more than one generic producer"
   ]
  },
  {
   "cell_type": "code",
   "execution_count": 34,
   "metadata": {},
   "outputs": [],
   "source": [
    "df_temp = df_reg\n",
    "df_temp = df_temp.dropna(subset = ['running_count_event'])\n",
    "df_temp = df_temp[(df_temp['min_quarter_before_second_entrance'] <= -4) & (df_temp['max_quarter_before_second_entrance'] >= 16)]\n",
    "df_temp = df_temp[df_temp['running_count_event'] == 0]"
   ]
  },
  {
   "cell_type": "code",
   "execution_count": 35,
   "metadata": {},
   "outputs": [
    {
     "name": "stdout",
     "output_type": "stream",
     "text": [
      "621\n"
     ]
    }
   ],
   "source": [
    "print(df_temp['unique_id'].nunique())"
   ]
  },
  {
   "cell_type": "code",
   "execution_count": 31,
   "metadata": {},
   "outputs": [
    {
     "name": "stdout",
     "output_type": "stream",
     "text": [
      "108\n"
     ]
    }
   ],
   "source": [
    "df_temp = df_temp[df_temp['running_count_generics']  >= 2]\n",
    "print(df_temp['unique_id'].nunique())"
   ]
  },
  {
   "cell_type": "markdown",
   "metadata": {},
   "source": [
    "### Balanced data: Number of drugs and producers"
   ]
  },
  {
   "cell_type": "code",
   "execution_count": 87,
   "metadata": {},
   "outputs": [],
   "source": [
    "df_reg_trans = pd.read_csv('output_regression_transform.csv', sep = '~')"
   ]
  },
  {
   "cell_type": "code",
   "execution_count": 88,
   "metadata": {},
   "outputs": [],
   "source": [
    "df_temp = df_reg_trans\n",
    "df_temp = df_temp.dropna(subset = ['running_count_event'])\n",
    "df_temp = df_temp[(df_temp['min_quarter_before_second_entrance'] <= -4) & (df_temp['max_quarter_after_second_entrance'] >= 60)]\n",
    "#df_temp = df_temp[df_temp['running_count_event'] == 60]"
   ]
  },
  {
   "cell_type": "code",
   "execution_count": 89,
   "metadata": {},
   "outputs": [
    {
     "name": "stdout",
     "output_type": "stream",
     "text": [
      "84\n"
     ]
    }
   ],
   "source": [
    "print(df_temp['unique_id'].nunique())"
   ]
  },
  {
   "cell_type": "code",
   "execution_count": 90,
   "metadata": {},
   "outputs": [
    {
     "data": {
      "text/plain": [
       "2.7912678782664804"
      ]
     },
     "execution_count": 90,
     "metadata": {},
     "output_type": "execute_result"
    }
   ],
   "source": [
    "df_temp['running_count_generics'].mean() + 1"
   ]
  },
  {
   "cell_type": "markdown",
   "metadata": {},
   "source": [
    "# Outputting data for regression"
   ]
  },
  {
   "cell_type": "code",
   "execution_count": 7,
   "metadata": {},
   "outputs": [],
   "source": [
    "df_temp = df_reg"
   ]
  },
  {
   "cell_type": "markdown",
   "metadata": {},
   "source": [
    "Assigning a dummy for brand-name and generic price"
   ]
  },
  {
   "cell_type": "code",
   "execution_count": 60,
   "metadata": {},
   "outputs": [],
   "source": [
    "df_temp['producer_type'] = df_temp['labeler_name_count'].apply(lambda x: 'Brand-name producer' if x == 1 else 'Generic producer')"
   ]
  },
  {
   "cell_type": "markdown",
   "metadata": {},
   "source": [
    "Removing brand-name drugs without competition based on \"running_count_event\""
   ]
  },
  {
   "cell_type": "code",
   "execution_count": 61,
   "metadata": {},
   "outputs": [],
   "source": [
    "df_temp = df_temp.dropna(subset = ['running_count_event'])"
   ]
  },
  {
   "cell_type": "markdown",
   "metadata": {},
   "source": [
    "Grouping by"
   ]
  },
  {
   "cell_type": "code",
   "execution_count": 62,
   "metadata": {},
   "outputs": [],
   "source": [
    "df_temp = df_temp.groupby(['date', 'year', 'quarter', 'unique_id', 'producer_type', 'labeler_name_count', 'running_count_event', 'min_quarter_before_second_entrance', 'max_quarter_before_second_entrance'], as_index = False)[['price_per_unit_adj']].mean()"
   ]
  },
  {
   "cell_type": "markdown",
   "metadata": {},
   "source": [
    "Pivotting the data"
   ]
  },
  {
   "cell_type": "code",
   "execution_count": 63,
   "metadata": {},
   "outputs": [],
   "source": [
    "df_temp = df_temp.pivot(index = ['date', 'year', 'quarter', 'unique_id', 'running_count_event', 'min_quarter_before_second_entrance', 'max_quarter_before_second_entrance'], columns = 'labeler_name_count')['price_per_unit_adj']\n",
    "df_temp = df_temp.reset_index()\n",
    "df_temp = df_temp.rename_axis(None, axis=1)\n",
    "df_temp = df_temp.rename(columns = {\"producer_type\": \"index\", \"Brand-name producer\": \"price_per_unit_adj_b\", \"Generic producer\": \"price_per_unit_adj_g\", \"max_quarter_before_second_entrance\": \"max_quarter_after_second_entrance\"})"
   ]
  },
  {
   "cell_type": "markdown",
   "metadata": {},
   "source": [
    "Adding additional variable from org. data"
   ]
  },
  {
   "cell_type": "code",
   "execution_count": 64,
   "metadata": {},
   "outputs": [
    {
     "name": "stderr",
     "output_type": "stream",
     "text": [
      "C:\\Users\\sebas\\anaconda3\\lib\\site-packages\\IPython\\core\\interactiveshell.py:3444: DtypeWarning: Columns (48,49) have mixed types.Specify dtype option on import or set low_memory=False.\n",
      "  exec(code_obj, self.user_global_ns, self.user_ns)\n"
     ]
    }
   ],
   "source": [
    "df_reg = pd.read_csv('output_regression_org.csv', sep = '~')"
   ]
  },
  {
   "cell_type": "code",
   "execution_count": 65,
   "metadata": {},
   "outputs": [],
   "source": [
    "df_reg_temp = df_reg[['date', 'unique_id', 'units_reimbursed_sum', 'generic_units_reimbursed_sum', 'running_count_generics', 'running_count_unique_substitute', 'labeler_name_count_2_dummy', 'labeler_name_count_3_dummy', 'labeler_name_count_4_dummy', 'labeler_name_count_5_dummy', 'labeler_name_count_6_dummy', 'labeler_name_count_7_dummy', 'labeler_name_count_8_dummy', 'labeler_name_count_9_dummy', 'labeler_name_count_10_dummy', 'A01', 'A02', 'A03', 'A04', 'A05', 'A06', 'A07', 'A08', 'A10', 'A11', 'A12', 'A14', 'A16', 'B01', 'B02', 'B03', 'B05', 'B06', 'C01', 'C02', 'C03', 'C04', 'C05', 'C07', 'C08', 'C09', 'C10', 'D01', 'D04', 'D05', 'D06', 'D07', 'D08', 'D10', 'D11', 'G01', 'G02', 'G03', 'G04', 'H01', 'H02', 'H03', 'H04', 'H05', 'J01', 'J02', 'J04', 'J05', 'J06', 'L01', 'L02', 'L03', 'L04', 'M01', 'M03', 'M04', 'M05', 'M09', 'N01', 'N02', 'N03', 'N04', 'N05', 'N06', 'N07', 'P01', 'P02', 'P03', 'R01', 'R03', 'R05', 'R06', 'R07', 'S01', 'V03', 'V04', 'V08']]\n",
    "df_reg_temp = df_reg_temp.drop_duplicates(subset = ['date', 'unique_id'])\n",
    "df_reg_trans = pd.merge(df_temp, df_reg_temp, on = ['date', 'unique_id'], how = 'left')"
   ]
  },
  {
   "cell_type": "markdown",
   "metadata": {
    "tags": []
   },
   "source": [
    "### Downloading Data"
   ]
  },
  {
   "cell_type": "code",
   "execution_count": 15,
   "metadata": {},
   "outputs": [],
   "source": [
    "df_reg_trans.to_excel(\"output_regression_transform_excel.xlsx\") "
   ]
  },
  {
   "cell_type": "code",
   "execution_count": 16,
   "metadata": {},
   "outputs": [],
   "source": [
    "df_reg_trans.to_csv('output_regression_transform.csv', sep = '~', index = False)"
   ]
  },
  {
   "cell_type": "code",
   "execution_count": 17,
   "metadata": {
    "tags": []
   },
   "outputs": [
    {
     "name": "stderr",
     "output_type": "stream",
     "text": [
      "C:\\Users\\sebas\\anaconda3\\lib\\site-packages\\pandas\\io\\stata.py:2397: InvalidColumnName: \n",
      "Not all pandas column names were valid Stata variable names.\n",
      "The following replacements have been made:\n",
      "\n",
      "    min_quarter_before_second_entrance   ->   min_quarter_before_second_entran\n",
      "    max_quarter_after_second_entrance   ->   max_quarter_after_second_entranc\n",
      "    1   ->   _1\n",
      "    2   ->   _2\n",
      "    3   ->   _3\n",
      "    4   ->   _4\n",
      "    5   ->   _5\n",
      "    6   ->   _6\n",
      "    7   ->   _7\n",
      "    8   ->   _8\n",
      "    9   ->   _9\n",
      "    10   ->   _10\n",
      "    11   ->   _11\n",
      "    12   ->   _12\n",
      "    13   ->   _13\n",
      "    14   ->   _14\n",
      "    15   ->   _15\n",
      "    16   ->   _16\n",
      "    17   ->   _17\n",
      "    18   ->   _18\n",
      "    19   ->   _19\n",
      "    20   ->   _20\n",
      "    21   ->   _21\n",
      "\n",
      "If this is not what you expect, please make sure you have Stata-compliant\n",
      "column names in your DataFrame (strings only, max 32 characters, only\n",
      "alphanumerics and underscores, no Stata reserved words)\n",
      "\n",
      "  warnings.warn(ws, InvalidColumnName)\n"
     ]
    }
   ],
   "source": [
    "df_reg_trans.to_stata('data_reg.dta', version=117)"
   ]
  },
  {
   "cell_type": "markdown",
   "metadata": {
    "jp-MarkdownHeadingCollapsed": true,
    "tags": []
   },
   "source": [
    "# Output for welfare analysis"
   ]
  },
  {
   "cell_type": "code",
   "execution_count": 72,
   "metadata": {},
   "outputs": [],
   "source": [
    "df_reg.to_csv('output_regression_org.csv', sep = '~', index = False)"
   ]
  },
  {
   "cell_type": "code",
   "execution_count": 73,
   "metadata": {},
   "outputs": [],
   "source": [
    "df_temp = df_reg"
   ]
  },
  {
   "cell_type": "code",
   "execution_count": 74,
   "metadata": {},
   "outputs": [],
   "source": [
    "df_temp = df_temp.dropna(subset = ['running_count_event'])\n",
    "df_temp = df_temp[(df_temp['min_quarter_before_second_entrance'] <= -4) & (df_temp['max_quarter_before_second_entrance'] >= 16)]\n",
    "df_temp['producer_type'] = df_temp['labeler_name_count'].apply(lambda x: 'Brand-name producer' if x == 1 else 'Generic producer')"
   ]
  },
  {
   "cell_type": "code",
   "execution_count": 76,
   "metadata": {},
   "outputs": [],
   "source": [
    "df_temp_price = df_temp.groupby(['labeler_name_count', 'running_count_event'], as_index = False)['price_per_unit_adj'].mean()"
   ]
  },
  {
   "cell_type": "code",
   "execution_count": 78,
   "metadata": {},
   "outputs": [],
   "source": [
    "df_temp_price = df_temp_price.pivot(index = ['running_count_event'], columns = 'labeler_name_count')['price_per_unit_adj']\n",
    "df_temp_price = df_temp_price.reset_index()\n",
    "df_temp_price = df_temp_price.rename_axis(None, axis=1)"
   ]
  },
  {
   "cell_type": "code",
   "execution_count": 79,
   "metadata": {},
   "outputs": [
    {
     "data": {
      "text/html": [
       "<div>\n",
       "<style scoped>\n",
       "    .dataframe tbody tr th:only-of-type {\n",
       "        vertical-align: middle;\n",
       "    }\n",
       "\n",
       "    .dataframe tbody tr th {\n",
       "        vertical-align: top;\n",
       "    }\n",
       "\n",
       "    .dataframe thead th {\n",
       "        text-align: right;\n",
       "    }\n",
       "</style>\n",
       "<table border=\"1\" class=\"dataframe\">\n",
       "  <thead>\n",
       "    <tr style=\"text-align: right;\">\n",
       "      <th></th>\n",
       "      <th>running_count_event</th>\n",
       "      <th>1</th>\n",
       "      <th>2</th>\n",
       "      <th>3</th>\n",
       "      <th>4</th>\n",
       "      <th>5</th>\n",
       "      <th>6</th>\n",
       "      <th>7</th>\n",
       "      <th>8</th>\n",
       "      <th>9</th>\n",
       "      <th>10</th>\n",
       "      <th>11</th>\n",
       "      <th>12</th>\n",
       "      <th>13</th>\n",
       "      <th>14</th>\n",
       "      <th>15</th>\n",
       "      <th>16</th>\n",
       "      <th>17</th>\n",
       "      <th>18</th>\n",
       "      <th>19</th>\n",
       "      <th>20</th>\n",
       "      <th>21</th>\n",
       "    </tr>\n",
       "  </thead>\n",
       "  <tbody>\n",
       "    <tr>\n",
       "      <th>0</th>\n",
       "      <td>-101.0</td>\n",
       "      <td>2.954721</td>\n",
       "      <td>NaN</td>\n",
       "      <td>NaN</td>\n",
       "      <td>NaN</td>\n",
       "      <td>NaN</td>\n",
       "      <td>NaN</td>\n",
       "      <td>NaN</td>\n",
       "      <td>NaN</td>\n",
       "      <td>NaN</td>\n",
       "      <td>NaN</td>\n",
       "      <td>NaN</td>\n",
       "      <td>NaN</td>\n",
       "      <td>NaN</td>\n",
       "      <td>NaN</td>\n",
       "      <td>NaN</td>\n",
       "      <td>NaN</td>\n",
       "      <td>NaN</td>\n",
       "      <td>NaN</td>\n",
       "      <td>NaN</td>\n",
       "      <td>NaN</td>\n",
       "      <td>NaN</td>\n",
       "    </tr>\n",
       "    <tr>\n",
       "      <th>1</th>\n",
       "      <td>-100.0</td>\n",
       "      <td>2.743967</td>\n",
       "      <td>NaN</td>\n",
       "      <td>NaN</td>\n",
       "      <td>NaN</td>\n",
       "      <td>NaN</td>\n",
       "      <td>NaN</td>\n",
       "      <td>NaN</td>\n",
       "      <td>NaN</td>\n",
       "      <td>NaN</td>\n",
       "      <td>NaN</td>\n",
       "      <td>NaN</td>\n",
       "      <td>NaN</td>\n",
       "      <td>NaN</td>\n",
       "      <td>NaN</td>\n",
       "      <td>NaN</td>\n",
       "      <td>NaN</td>\n",
       "      <td>NaN</td>\n",
       "      <td>NaN</td>\n",
       "      <td>NaN</td>\n",
       "      <td>NaN</td>\n",
       "      <td>NaN</td>\n",
       "    </tr>\n",
       "    <tr>\n",
       "      <th>2</th>\n",
       "      <td>-99.0</td>\n",
       "      <td>2.941796</td>\n",
       "      <td>NaN</td>\n",
       "      <td>NaN</td>\n",
       "      <td>NaN</td>\n",
       "      <td>NaN</td>\n",
       "      <td>NaN</td>\n",
       "      <td>NaN</td>\n",
       "      <td>NaN</td>\n",
       "      <td>NaN</td>\n",
       "      <td>NaN</td>\n",
       "      <td>NaN</td>\n",
       "      <td>NaN</td>\n",
       "      <td>NaN</td>\n",
       "      <td>NaN</td>\n",
       "      <td>NaN</td>\n",
       "      <td>NaN</td>\n",
       "      <td>NaN</td>\n",
       "      <td>NaN</td>\n",
       "      <td>NaN</td>\n",
       "      <td>NaN</td>\n",
       "      <td>NaN</td>\n",
       "    </tr>\n",
       "    <tr>\n",
       "      <th>3</th>\n",
       "      <td>-98.0</td>\n",
       "      <td>5.852990</td>\n",
       "      <td>NaN</td>\n",
       "      <td>NaN</td>\n",
       "      <td>NaN</td>\n",
       "      <td>NaN</td>\n",
       "      <td>NaN</td>\n",
       "      <td>NaN</td>\n",
       "      <td>NaN</td>\n",
       "      <td>NaN</td>\n",
       "      <td>NaN</td>\n",
       "      <td>NaN</td>\n",
       "      <td>NaN</td>\n",
       "      <td>NaN</td>\n",
       "      <td>NaN</td>\n",
       "      <td>NaN</td>\n",
       "      <td>NaN</td>\n",
       "      <td>NaN</td>\n",
       "      <td>NaN</td>\n",
       "      <td>NaN</td>\n",
       "      <td>NaN</td>\n",
       "      <td>NaN</td>\n",
       "    </tr>\n",
       "    <tr>\n",
       "      <th>4</th>\n",
       "      <td>-97.0</td>\n",
       "      <td>5.039009</td>\n",
       "      <td>NaN</td>\n",
       "      <td>NaN</td>\n",
       "      <td>NaN</td>\n",
       "      <td>NaN</td>\n",
       "      <td>NaN</td>\n",
       "      <td>NaN</td>\n",
       "      <td>NaN</td>\n",
       "      <td>NaN</td>\n",
       "      <td>NaN</td>\n",
       "      <td>NaN</td>\n",
       "      <td>NaN</td>\n",
       "      <td>NaN</td>\n",
       "      <td>NaN</td>\n",
       "      <td>NaN</td>\n",
       "      <td>NaN</td>\n",
       "      <td>NaN</td>\n",
       "      <td>NaN</td>\n",
       "      <td>NaN</td>\n",
       "      <td>NaN</td>\n",
       "      <td>NaN</td>\n",
       "    </tr>\n",
       "  </tbody>\n",
       "</table>\n",
       "</div>"
      ],
      "text/plain": [
       "   running_count_event         1   2   3   4   5   6   7   8   9  10  11  12  \\\n",
       "0               -101.0  2.954721 NaN NaN NaN NaN NaN NaN NaN NaN NaN NaN NaN   \n",
       "1               -100.0  2.743967 NaN NaN NaN NaN NaN NaN NaN NaN NaN NaN NaN   \n",
       "2                -99.0  2.941796 NaN NaN NaN NaN NaN NaN NaN NaN NaN NaN NaN   \n",
       "3                -98.0  5.852990 NaN NaN NaN NaN NaN NaN NaN NaN NaN NaN NaN   \n",
       "4                -97.0  5.039009 NaN NaN NaN NaN NaN NaN NaN NaN NaN NaN NaN   \n",
       "\n",
       "   13  14  15  16  17  18  19  20  21  \n",
       "0 NaN NaN NaN NaN NaN NaN NaN NaN NaN  \n",
       "1 NaN NaN NaN NaN NaN NaN NaN NaN NaN  \n",
       "2 NaN NaN NaN NaN NaN NaN NaN NaN NaN  \n",
       "3 NaN NaN NaN NaN NaN NaN NaN NaN NaN  \n",
       "4 NaN NaN NaN NaN NaN NaN NaN NaN NaN  "
      ]
     },
     "execution_count": 79,
     "metadata": {},
     "output_type": "execute_result"
    }
   ],
   "source": [
    "df_temp_price.head()"
   ]
  },
  {
   "cell_type": "code",
   "execution_count": 80,
   "metadata": {},
   "outputs": [],
   "source": [
    "df_temp_quantity = df_temp_quantity.groupby(['running_count_event'], as_index = False)['units_reimbursed'].sum()"
   ]
  },
  {
   "cell_type": "code",
   "execution_count": 81,
   "metadata": {},
   "outputs": [],
   "source": [
    "df_wel = pd.merge(df_temp_price, df_temp_quantity, on = ['running_count_event'], how = 'inner') # Merging with reg. data"
   ]
  },
  {
   "cell_type": "code",
   "execution_count": 82,
   "metadata": {},
   "outputs": [],
   "source": [
    "df_wel = df_wel[(df_wel['running_count_event'] >= -4) & (df_wel['running_count_event'] <= 16)]"
   ]
  },
  {
   "cell_type": "code",
   "execution_count": 85,
   "metadata": {},
   "outputs": [],
   "source": [
    "df_wel.to_excel(\"output_welfare_excel.xlsx\") "
   ]
  },
  {
   "cell_type": "markdown",
   "metadata": {
    "jp-MarkdownHeadingCollapsed": true,
    "tags": []
   },
   "source": [
    "# Control of Final Data"
   ]
  },
  {
   "cell_type": "code",
   "execution_count": 20,
   "metadata": {},
   "outputs": [],
   "source": [
    "df_temp = df_reg_trans"
   ]
  },
  {
   "cell_type": "markdown",
   "metadata": {},
   "source": [
    "Number of obs. in the effect window"
   ]
  },
  {
   "cell_type": "code",
   "execution_count": 32,
   "metadata": {},
   "outputs": [
    {
     "data": {
      "text/plain": [
       "41307"
      ]
     },
     "execution_count": 32,
     "metadata": {},
     "output_type": "execute_result"
    }
   ],
   "source": [
    "df_temp = df_temp[(df_temp['running_count_event'] >= -20) & (df_temp['running_count_event'] <= 40)]\n",
    "len(df_temp)"
   ]
  },
  {
   "cell_type": "markdown",
   "metadata": {},
   "source": [
    "Number of obs. with brand name price (model 1)"
   ]
  },
  {
   "cell_type": "code",
   "execution_count": 29,
   "metadata": {},
   "outputs": [
    {
     "data": {
      "text/plain": [
       "38024"
      ]
     },
     "execution_count": 29,
     "metadata": {},
     "output_type": "execute_result"
    }
   ],
   "source": [
    "len(df_temp.dropna(subset = ['price_per_unit_adj_b']))"
   ]
  },
  {
   "cell_type": "markdown",
   "metadata": {},
   "source": [
    "Number of obs. with brand name price and ATC (model 1)"
   ]
  },
  {
   "cell_type": "code",
   "execution_count": 28,
   "metadata": {},
   "outputs": [
    {
     "data": {
      "text/plain": [
       "37194"
      ]
     },
     "execution_count": 28,
     "metadata": {},
     "output_type": "execute_result"
    }
   ],
   "source": [
    "len(df_temp.dropna(subset = ['price_per_unit_adj_b', 'A01']))"
   ]
  },
  {
   "cell_type": "markdown",
   "metadata": {},
   "source": [
    "Number of obs. with brand name and generic price (model 2)"
   ]
  },
  {
   "cell_type": "code",
   "execution_count": 37,
   "metadata": {},
   "outputs": [
    {
     "data": {
      "text/plain": [
       "20120"
      ]
     },
     "execution_count": 37,
     "metadata": {},
     "output_type": "execute_result"
    }
   ],
   "source": [
    "len(df_temp.dropna(subset = ['price_per_unit_adj_b', 'price_per_unit_adj_g']))"
   ]
  },
  {
   "cell_type": "markdown",
   "metadata": {},
   "source": [
    "Number of obs. with brand name and generic price, and ATC (model 2)"
   ]
  },
  {
   "cell_type": "code",
   "execution_count": 36,
   "metadata": {},
   "outputs": [
    {
     "data": {
      "text/plain": [
       "19676"
      ]
     },
     "execution_count": 36,
     "metadata": {},
     "output_type": "execute_result"
    }
   ],
   "source": [
    "len(df_temp.dropna(subset = ['price_per_unit_adj_b', 'price_per_unit_adj_g', 'A01']))"
   ]
  },
  {
   "cell_type": "markdown",
   "metadata": {},
   "source": [
    "Number of obs. with brand name, price, ATC, and dummies (model 3)"
   ]
  },
  {
   "cell_type": "code",
   "execution_count": 40,
   "metadata": {},
   "outputs": [
    {
     "data": {
      "text/plain": [
       "37194"
      ]
     },
     "execution_count": 40,
     "metadata": {},
     "output_type": "execute_result"
    }
   ],
   "source": [
    "len(df_temp.dropna(subset = ['price_per_unit_adj_b', 'labeler_name_count_2_dummy', 'A01']))"
   ]
  },
  {
   "cell_type": "code",
   "execution_count": 41,
   "metadata": {},
   "outputs": [
    {
     "data": {
      "text/plain": [
       "22889"
      ]
     },
     "execution_count": 41,
     "metadata": {},
     "output_type": "execute_result"
    }
   ],
   "source": [
    "len(df_temp.dropna(subset = ['price_per_unit_adj_g', 'labeler_name_count_2_dummy', 'A01']))"
   ]
  },
  {
   "cell_type": "markdown",
   "metadata": {},
   "source": [
    "Counting number of unique drugs"
   ]
  },
  {
   "cell_type": "code",
   "execution_count": 50,
   "metadata": {},
   "outputs": [],
   "source": [
    "df_temp = df_reg"
   ]
  },
  {
   "cell_type": "code",
   "execution_count": 51,
   "metadata": {},
   "outputs": [
    {
     "data": {
      "text/plain": [
       "96593"
      ]
     },
     "execution_count": 51,
     "metadata": {},
     "output_type": "execute_result"
    }
   ],
   "source": [
    "df_temp = df_temp[(df_temp['running_count_event'] >= -20) & (df_temp['running_count_event'] <= 40)]\n",
    "len(df_temp)"
   ]
  },
  {
   "cell_type": "code",
   "execution_count": 52,
   "metadata": {},
   "outputs": [
    {
     "name": "stdout",
     "output_type": "stream",
     "text": [
      "Tabel:           date  unique_id\n",
      "0  1991-01-01         15\n",
      "1  1991-04-01         17\n",
      "2  1991-07-01         17\n",
      "3  1991-10-01         17\n",
      "4  1992-01-01         18\n",
      "Quarterly Average:  798.2892561983471\n",
      "Total of unique drug:  1005\n",
      "Total of unique generic producers:  391\n",
      "Total of unique brand name producers:  278\n"
     ]
    }
   ],
   "source": [
    "df_temp_count = df_temp.groupby(['date'])['unique_id'].count()\n",
    "df_temp_count = df_temp_count.reset_index()\n",
    "print('Tabel: ', df_temp_count.head())\n",
    "print('Quarterly Average: ', df_temp_count['unique_id'].mean())\n",
    "print('Total of unique drug: ', df_temp['unique_id'].nunique())\n",
    "print('Total of unique generic producers: ', df_temp['generic_name'].nunique())\n",
    "print('Total of unique brand name producers: ', df_temp['labeler_name'].nunique())"
   ]
  },
  {
   "cell_type": "markdown",
   "metadata": {},
   "source": [
    "# Descriptive of Final Data"
   ]
  },
  {
   "cell_type": "markdown",
   "metadata": {},
   "source": [
    "## For ATC"
   ]
  },
  {
   "cell_type": "code",
   "execution_count": 9,
   "metadata": {},
   "outputs": [],
   "source": [
    "df_descriptive_act = df_reg_trans"
   ]
  },
  {
   "cell_type": "markdown",
   "metadata": {},
   "source": [
    "Filtering the variables and setting the range as well as normalizing"
   ]
  },
  {
   "cell_type": "code",
   "execution_count": 10,
   "metadata": {},
   "outputs": [],
   "source": [
    "df_descriptive_act = df_descriptive_act[['running_count_event', 'unique_id', 'price_per_unit_adj_b', 'price_per_unit_adj_g']]\n",
    "df_descriptive_act = df_descriptive_act[(df_descriptive_act['running_count_event'] >= 0) & (df_descriptive_act['running_count_event'] <= 40)]\n",
    "df_descriptive_act = df_descriptive_act[df_descriptive_act['running_count_event'] != -1]"
   ]
  },
  {
   "cell_type": "markdown",
   "metadata": {},
   "source": [
    "Loading the consolidated data for ATC"
   ]
  },
  {
   "cell_type": "code",
   "execution_count": 11,
   "metadata": {},
   "outputs": [],
   "source": [
    "df_atc = pd.read_csv('raw_consolidation_data_for_ATC.csv', sep = '~')"
   ]
  },
  {
   "cell_type": "markdown",
   "metadata": {},
   "source": [
    "Merging the transposed and ATC data"
   ]
  },
  {
   "cell_type": "code",
   "execution_count": 12,
   "metadata": {},
   "outputs": [],
   "source": [
    "df_descriptive_act = pd.merge(df_descriptive_act, df_atc[['unique_id', 'ATC (level 2)']], on = ['unique_id'], how = 'left')"
   ]
  },
  {
   "cell_type": "markdown",
   "metadata": {},
   "source": [
    "Grouping the data"
   ]
  },
  {
   "cell_type": "code",
   "execution_count": 13,
   "metadata": {},
   "outputs": [
    {
     "name": "stderr",
     "output_type": "stream",
     "text": [
      "C:\\Users\\sebas\\AppData\\Local\\Temp/ipykernel_2388/4219451389.py:1: FutureWarning: Indexing with multiple keys (implicitly converted to a tuple of keys) will be deprecated, use a list instead.\n",
      "  df_descriptive_act = df_descriptive_act.groupby(['ATC (level 2)', 'unique_id', 'running_count_event'], as_index = False)['price_per_unit_adj_b', 'price_per_unit_adj_g'].sum()\n"
     ]
    }
   ],
   "source": [
    "df_descriptive_act = df_descriptive_act.groupby(['ATC (level 2)', 'unique_id', 'running_count_event'], as_index = False)['price_per_unit_adj_b', 'price_per_unit_adj_g'].sum()"
   ]
  },
  {
   "cell_type": "markdown",
   "metadata": {},
   "source": [
    "### Brand Name Price"
   ]
  },
  {
   "cell_type": "markdown",
   "metadata": {},
   "source": [
    "Pivotting the data to ensure the correct format"
   ]
  },
  {
   "cell_type": "code",
   "execution_count": 14,
   "metadata": {},
   "outputs": [],
   "source": [
    "df_descriptive_act_brand_name = df_descriptive_act.pivot(index = ['unique_id', 'running_count_event'], columns = 'ATC (level 2)')['price_per_unit_adj_b']\n",
    "df_descriptive_act_brand_name = df_descriptive_act_brand_name.reset_index()"
   ]
  },
  {
   "cell_type": "markdown",
   "metadata": {},
   "source": [
    "Describing the data and changing the format"
   ]
  },
  {
   "cell_type": "code",
   "execution_count": 15,
   "metadata": {},
   "outputs": [],
   "source": [
    "df_descriptive_act_brand_name = df_descriptive_act_brand_name.describe()\n",
    "df_descriptive_act_brand_name = df_descriptive_act_brand_name.drop(columns = ['running_count_event'])\n",
    "df_descriptive_act_brand_name = df_descriptive_act_brand_name.T\n",
    "df_descriptive_act_brand_name = df_descriptive_act_brand_name.round(2)"
   ]
  },
  {
   "cell_type": "markdown",
   "metadata": {},
   "source": [
    "Printing the describing the data as latex-table"
   ]
  },
  {
   "cell_type": "code",
   "execution_count": 16,
   "metadata": {
    "tags": []
   },
   "outputs": [
    {
     "name": "stdout",
     "output_type": "stream",
     "text": [
      "\\begin{tabular}{lrrrrrrrr}\n",
      "\\toprule\n",
      "{} &   count &    mean &     std &     min &     25\\% &     50\\% &     75\\% &      max \\\\\n",
      "ATC (level 2) &         &         &         &         &         &         &         &          \\\\\n",
      "\\midrule\n",
      "A01           &   317.0 &    4.79 &    8.51 &    0.00 &    0.21 &    1.01 &    6.30 &    70.52 \\\\\n",
      "A02           &   236.0 &    7.30 &    5.53 &    0.00 &    2.87 &    5.09 &   12.89 &    40.75 \\\\\n",
      "A04           &    51.0 &  385.08 &  478.22 &    0.00 &  143.89 &  210.65 &  351.21 &  2358.95 \\\\\n",
      "A06           &    42.0 &   10.71 &   32.77 &    0.00 &    0.51 &    5.90 &   10.42 &   215.48 \\\\\n",
      "A07           &   198.0 &    7.89 &   15.50 &    0.00 &    0.70 &    5.38 &    6.89 &   137.55 \\\\\n",
      "A10           &   321.0 &    6.61 &    7.49 &    0.00 &    0.72 &    2.68 &   12.96 &    61.70 \\\\\n",
      "A11           &    36.0 &    5.67 &    4.49 &    1.37 &    1.99 &    4.23 &    7.63 &    21.15 \\\\\n",
      "A12           &   302.0 &    1.32 &    2.00 &    0.00 &    0.09 &    0.60 &    1.71 &    20.24 \\\\\n",
      "A16           &    93.0 &   37.75 &   99.15 &    0.33 &    0.47 &    1.19 &    1.58 &   315.86 \\\\\n",
      "B01           &    51.0 &   43.70 &   95.29 &    0.00 &    0.00 &    0.00 &    0.00 &   303.99 \\\\\n",
      "B02           &    46.0 &    4.74 &    4.73 &    0.00 &    0.00 &    4.73 &    8.15 &    14.42 \\\\\n",
      "B05           &    18.0 &    2.26 &    0.81 &    1.39 &    1.60 &    1.91 &    2.78 &     3.72 \\\\\n",
      "C01           &   153.0 &   33.12 &  200.99 &    0.00 &    4.49 &    9.83 &   12.05 &  1797.58 \\\\\n",
      "C02           &   353.0 &   53.86 &   78.60 &    0.00 &    0.00 &   10.46 &   98.12 &   348.40 \\\\\n",
      "C03           &   221.0 &   11.42 &   58.62 &    0.00 &    0.90 &    2.69 &    6.45 &   514.20 \\\\\n",
      "C05           &    59.0 &    1.11 &    2.83 &    0.00 &    0.00 &    0.32 &    1.58 &    19.95 \\\\\n",
      "C07           &   164.0 &    7.19 &   16.34 &    1.06 &    2.70 &    3.62 &    4.70 &   189.01 \\\\\n",
      "C08           &   123.0 &    5.94 &    7.61 &    0.00 &    3.46 &    5.60 &    6.55 &    81.36 \\\\\n",
      "C09           &   536.0 &    4.80 &    3.21 &    0.00 &    2.82 &    5.53 &    7.09 &    10.71 \\\\\n",
      "C10           &   361.0 &    4.73 &    7.35 &    0.00 &    0.00 &    3.49 &    7.64 &    94.59 \\\\\n",
      "D01           &   218.0 &   51.21 &  391.29 &    0.00 &    0.49 &    8.85 &   22.87 &  4998.11 \\\\\n",
      "D05           &    62.0 &   47.06 &    6.76 &   24.69 &   42.33 &   45.49 &   52.32 &    60.65 \\\\\n",
      "D06           &    51.0 &    7.88 &   19.36 &    0.00 &    0.30 &    0.34 &    0.46 &    74.88 \\\\\n",
      "D07           &   238.0 &    2.37 &    2.40 &    0.00 &    0.00 &    1.97 &    3.41 &    11.01 \\\\\n",
      "D10           &   202.0 &    7.93 &    6.58 &    0.00 &    2.04 &    7.57 &   12.00 &    33.00 \\\\\n",
      "D11           &   170.0 &    5.46 &    5.73 &    0.00 &    0.00 &    4.31 &    6.28 &    22.71 \\\\\n",
      "G01           &    44.0 &    0.20 &    0.63 &    0.01 &    0.01 &    0.02 &    0.03 &     3.61 \\\\\n",
      "G03           &   464.0 &   74.39 &  235.04 &    0.00 &   16.02 &   19.04 &   23.82 &  1981.87 \\\\\n",
      "G04           &    86.0 &   19.13 &   25.04 &    0.00 &    4.45 &    7.83 &   11.35 &    70.57 \\\\\n",
      "H01           &    82.0 &   33.09 &   54.31 &    0.00 &    0.00 &   28.56 &   36.87 &   265.86 \\\\\n",
      "H03           &   567.0 &   23.00 &   78.14 &    0.00 &    1.03 &    1.34 &    2.22 &   534.16 \\\\\n",
      "H05           &    56.0 &  136.08 &  269.13 &    0.00 &   45.37 &   84.22 &  128.52 &  1514.57 \\\\\n",
      "J01           &   473.0 &   59.56 &  134.47 &    0.00 &    0.00 &   11.87 &   29.75 &  1650.59 \\\\\n",
      "J02           &   203.0 &   46.17 &  105.52 &    0.00 &    0.00 &   18.58 &   67.70 &  1277.94 \\\\\n",
      "J04           &    28.0 &    8.78 &   12.11 &    0.00 &    0.00 &    0.00 &   23.12 &    32.47 \\\\\n",
      "J05           &   371.0 &   44.41 &  130.55 &    0.00 &    7.86 &   16.44 &   45.00 &   870.55 \\\\\n",
      "L01           &   609.0 &  156.71 &  363.65 &    0.00 &    0.00 &   14.08 &  134.99 &  3618.43 \\\\\n",
      "L02           &    87.0 &   45.21 &   39.92 &   18.00 &   24.57 &   28.11 &   37.30 &   181.44 \\\\\n",
      "L03           &    36.0 &  314.95 &  103.19 &  226.50 &  240.03 &  250.68 &  448.34 &   480.72 \\\\\n",
      "L04           &   199.0 &   22.17 &   23.79 &    0.00 &    5.03 &   12.49 &   39.19 &   134.70 \\\\\n",
      "M01           &   207.0 &    8.67 &   35.14 &    0.00 &    3.76 &    5.74 &    7.02 &   504.04 \\\\\n",
      "M03           &    54.0 &    3.14 &    3.02 &    0.00 &    0.00 &    3.00 &    6.24 &     8.56 \\\\\n",
      "M04           &    21.0 &    8.32 &    2.13 &    5.31 &    6.49 &    6.91 &   10.46 &    10.65 \\\\\n",
      "M05           &    73.0 &   20.75 &   15.60 &    0.00 &    3.37 &   24.63 &   35.88 &    38.56 \\\\\n",
      "N01           &    62.0 &    8.35 &   16.94 &    0.46 &    1.53 &    2.50 &    5.04 &    96.26 \\\\\n",
      "N02           &   218.0 &  111.93 &  110.67 &    0.00 &   61.93 &   82.21 &  118.31 &   425.49 \\\\\n",
      "N03           &  1696.0 &    9.98 &   18.16 &    0.34 &    2.68 &    6.92 &   11.04 &   169.86 \\\\\n",
      "N04           &    34.0 &    5.67 &    3.06 &    0.00 &    5.73 &    6.62 &    7.82 &    10.07 \\\\\n",
      "N05           &  2145.0 &   24.43 &   64.63 &    0.00 &    6.59 &   13.53 &   24.86 &  2143.57 \\\\\n",
      "N06           &   963.0 &   12.40 &   11.68 &    0.00 &    5.58 &    8.06 &   13.27 &   114.93 \\\\\n",
      "P01           &    33.0 &   93.53 &  241.23 &    0.00 &    5.23 &    6.99 &    7.85 &   750.41 \\\\\n",
      "P02           &    12.0 &   62.93 &   38.07 &    0.00 &   58.39 &   84.21 &   85.38 &    87.74 \\\\\n",
      "R03           &    56.0 &   66.27 &  154.15 &    3.15 &    3.36 &    3.85 &   12.33 &   515.20 \\\\\n",
      "R05           &    52.0 &    6.82 &    3.00 &    1.37 &    4.66 &    6.63 &    8.10 &    13.53 \\\\\n",
      "S01           &    67.0 &   44.77 &   31.81 &    0.00 &    0.00 &   58.54 &   68.34 &    85.41 \\\\\n",
      "V03           &   144.0 &   29.61 &   49.51 &    0.00 &    0.76 &   11.74 &   40.13 &   172.29 \\\\\n",
      "\\bottomrule\n",
      "\\end{tabular}\n",
      "\n"
     ]
    }
   ],
   "source": [
    "print(df_descriptive_act_brand_name.to_latex(index = True)) "
   ]
  },
  {
   "cell_type": "markdown",
   "metadata": {},
   "source": [
    "### Gerenic Price"
   ]
  },
  {
   "cell_type": "markdown",
   "metadata": {},
   "source": [
    "Following the same approach as before"
   ]
  },
  {
   "cell_type": "code",
   "execution_count": 17,
   "metadata": {
    "tags": []
   },
   "outputs": [
    {
     "name": "stdout",
     "output_type": "stream",
     "text": [
      "\\begin{tabular}{lrrrrrrrr}\n",
      "\\toprule\n",
      "{} &   count &    mean &     std &    min &     25\\% &     50\\% &     75\\% &      max \\\\\n",
      "ATC (level 2) &         &         &         &        &         &         &         &          \\\\\n",
      "\\midrule\n",
      "A01           &   317.0 &    2.89 &    4.91 &   0.04 &    0.32 &    0.84 &    2.73 &    24.74 \\\\\n",
      "A02           &   236.0 &    4.91 &   15.64 &   0.38 &    1.21 &    1.85 &    3.46 &   145.73 \\\\\n",
      "A04           &    51.0 &  150.51 &   60.53 &  42.81 &  106.08 &  144.32 &  192.59 &   259.81 \\\\\n",
      "A06           &    42.0 &    2.35 &    4.05 &   0.00 &    0.00 &    0.10 &    3.12 &    15.18 \\\\\n",
      "A07           &   198.0 &    6.38 &   12.75 &   0.26 &    0.48 &    3.82 &    4.93 &    97.19 \\\\\n",
      "A10           &   321.0 &    2.32 &    3.25 &   0.14 &    0.32 &    0.65 &    3.42 &    27.37 \\\\\n",
      "A11           &    36.0 &    5.87 &    1.11 &   3.47 &    4.98 &    5.87 &    6.85 &     7.49 \\\\\n",
      "A12           &   302.0 &    1.01 &    1.46 &   0.00 &    0.25 &    0.57 &    1.11 &     7.29 \\\\\n",
      "A16           &    93.0 &   30.34 &   80.28 &   0.25 &    0.36 &    0.84 &    1.23 &   299.50 \\\\\n",
      "B01           &    51.0 &   47.55 &   79.20 &   7.58 &    8.22 &    9.01 &   24.14 &   262.99 \\\\\n",
      "B02           &    46.0 &    7.98 &    9.59 &   0.00 &    2.48 &    4.07 &    9.15 &    54.92 \\\\\n",
      "B05           &    18.0 &    1.06 &    1.01 &   0.20 &    0.51 &    0.67 &    1.38 &     4.50 \\\\\n",
      "C01           &   153.0 &    6.51 &    6.29 &   0.00 &    2.66 &    4.41 &    7.30 &    42.83 \\\\\n",
      "C02           &   353.0 &   22.43 &   38.39 &   0.22 &    0.66 &    1.73 &   31.40 &   279.07 \\\\\n",
      "C03           &   221.0 &   14.21 &   65.89 &   0.59 &    1.80 &    2.87 &    5.06 &   751.83 \\\\\n",
      "C05           &    59.0 &    4.86 &    4.71 &   0.49 &    0.99 &    3.37 &    7.16 &    15.00 \\\\\n",
      "C07           &   164.0 &    0.43 &    1.00 &   0.09 &    0.15 &    0.22 &    0.30 &     8.24 \\\\\n",
      "C08           &   123.0 &    8.19 &   46.45 &   0.53 &    1.07 &    1.82 &    2.98 &   488.94 \\\\\n",
      "C09           &   536.0 &    0.99 &    1.36 &   0.11 &    0.28 &    0.51 &    0.88 &     8.00 \\\\\n",
      "C10           &   361.0 &    4.20 &   17.28 &   0.11 &    0.36 &    0.88 &    3.18 &   312.37 \\\\\n",
      "D01           &   218.0 &   52.21 &  376.89 &   0.25 &    1.17 &    1.78 &    4.93 &  3820.82 \\\\\n",
      "D05           &    62.0 &   23.48 &   10.88 &   9.79 &   13.32 &   20.09 &   32.95 &    49.55 \\\\\n",
      "D06           &    51.0 &   28.37 &   57.82 &   0.13 &    0.17 &    0.20 &    0.24 &   170.71 \\\\\n",
      "D07           &   238.0 &    3.22 &    2.06 &   0.00 &    1.58 &    2.69 &    4.35 &    10.23 \\\\\n",
      "D10           &   202.0 &    4.29 &    1.58 &   1.32 &    3.04 &    4.08 &    5.34 &     8.49 \\\\\n",
      "D11           &   170.0 &    2.62 &    2.76 &   0.00 &    0.56 &    1.35 &    4.14 &    15.48 \\\\\n",
      "G01           &    44.0 &    0.15 &    0.44 &   0.01 &    0.02 &    0.02 &    0.03 &     1.69 \\\\\n",
      "G03           &   464.0 &   66.40 &  364.53 &   1.15 &    9.08 &   14.06 &   16.23 &  7059.47 \\\\\n",
      "G04           &    86.0 &    8.14 &   12.41 &   0.45 &    1.36 &    2.51 &    9.20 &    60.68 \\\\\n",
      "H01           &    82.0 &   43.11 &   89.22 &   0.00 &   13.59 &   25.57 &   42.49 &   722.73 \\\\\n",
      "H03           &   567.0 &   14.47 &   57.03 &   0.00 &    0.53 &    0.73 &    1.01 &   470.98 \\\\\n",
      "H05           &    56.0 &   76.33 &  202.47 &   0.00 &    4.32 &    9.39 &   25.11 &   993.28 \\\\\n",
      "J01           &   473.0 &   31.61 &   64.49 &   0.00 &    3.25 &    8.11 &   29.76 &   707.81 \\\\\n",
      "J02           &   203.0 &   20.81 &   20.04 &   1.48 &    9.08 &   12.95 &   22.96 &   107.55 \\\\\n",
      "J04           &    28.0 &   14.20 &    2.55 &  10.77 &   11.97 &   13.83 &   15.99 &    19.51 \\\\\n",
      "J05           &   371.0 &   18.58 &   43.55 &   0.30 &    3.72 &    9.09 &   15.66 &   295.14 \\\\\n",
      "L01           &   609.0 &  177.29 &  436.14 &   0.00 &    5.21 &   28.87 &  208.44 &  5713.54 \\\\\n",
      "L02           &    87.0 &   21.92 &   42.40 &   0.34 &    1.10 &    4.34 &   14.36 &   170.84 \\\\\n",
      "L03           &    36.0 &  204.00 &   91.87 &  89.45 &  126.26 &  189.12 &  244.99 &   423.76 \\\\\n",
      "L04           &   199.0 &   10.40 &   13.08 &   1.49 &    3.23 &    5.52 &   11.86 &    85.75 \\\\\n",
      "M01           &   207.0 &    3.17 &   21.22 &   0.15 &    0.35 &    0.54 &    0.90 &   261.72 \\\\\n",
      "M03           &    54.0 &    4.82 &    6.90 &   1.39 &    2.25 &    3.29 &    4.14 &    48.18 \\\\\n",
      "M04           &    21.0 &    4.26 &    0.84 &   2.78 &    3.65 &    4.16 &    4.92 &     5.89 \\\\\n",
      "M05           &    73.0 &    4.06 &    3.31 &   1.19 &    1.61 &    2.57 &    5.64 &    13.62 \\\\\n",
      "N01           &    62.0 &    5.31 &    4.39 &   0.00 &    1.99 &    4.02 &    7.29 &    19.82 \\\\\n",
      "N02           &   218.0 &   35.36 &   36.53 &   0.68 &    8.29 &   21.55 &   48.45 &   227.59 \\\\\n",
      "N03           &  1696.0 &    3.46 &   11.35 &   0.00 &    0.39 &    1.22 &    2.93 &   114.38 \\\\\n",
      "N04           &    34.0 &    2.64 &    1.40 &   0.75 &    1.32 &    2.51 &    3.92 &     4.84 \\\\\n",
      "N05           &  2145.0 &   10.03 &   36.61 &   0.00 &    0.64 &    1.68 &    5.49 &   319.08 \\\\\n",
      "N06           &   963.0 &    5.56 &   28.28 &   0.14 &    0.50 &    1.58 &    3.45 &   509.81 \\\\\n",
      "P01           &    33.0 &   51.34 &  130.07 &   1.93 &    2.76 &    4.54 &    6.10 &   444.87 \\\\\n",
      "P02           &    12.0 &   63.96 &    2.44 &  60.74 &   62.53 &   63.04 &   65.16 &    69.90 \\\\\n",
      "R03           &    56.0 &  101.15 &  233.42 &   3.77 &    7.85 &    8.08 &    8.49 &   727.74 \\\\\n",
      "R05           &    52.0 &    5.41 &    3.17 &   0.00 &    3.07 &    5.52 &    7.51 &    16.61 \\\\\n",
      "S01           &    67.0 &   18.58 &   15.69 &   3.66 &    4.65 &   10.35 &   33.83 &    51.14 \\\\\n",
      "V03           &   144.0 &   19.23 &   27.51 &   0.29 &    1.16 &    9.31 &   17.17 &   138.59 \\\\\n",
      "\\bottomrule\n",
      "\\end{tabular}\n",
      "\n"
     ]
    }
   ],
   "source": [
    "df_descriptive_act_gerenic = df_descriptive_act.pivot(index = ['unique_id', 'running_count_event'], columns = 'ATC (level 2)')['price_per_unit_adj_g']\n",
    "df_descriptive_act_gerenic = df_descriptive_act_gerenic.reset_index()\n",
    "df_descriptive_act_gerenic = df_descriptive_act_gerenic.describe()\n",
    "df_descriptive_act_gerenic = df_descriptive_act_gerenic.drop(columns = ['running_count_event'])\n",
    "df_descriptive_act_gerenic = df_descriptive_act_gerenic.T\n",
    "df_descriptive_act_gerenic = df_descriptive_act_gerenic.round(2)\n",
    "print(df_descriptive_act_gerenic.to_latex(index = True)) "
   ]
  },
  {
   "cell_type": "code",
   "execution_count": null,
   "metadata": {},
   "outputs": [],
   "source": []
  }
 ],
 "metadata": {
  "kernelspec": {
   "display_name": "Python 3 (ipykernel)",
   "language": "python",
   "name": "python3"
  },
  "language_info": {
   "codemirror_mode": {
    "name": "ipython",
    "version": 3
   },
   "file_extension": ".py",
   "mimetype": "text/x-python",
   "name": "python",
   "nbconvert_exporter": "python",
   "pygments_lexer": "ipython3",
   "version": "3.9.7"
  }
 },
 "nbformat": 4,
 "nbformat_minor": 4
}
