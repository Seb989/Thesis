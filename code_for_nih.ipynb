{
 "cells": [
  {
   "cell_type": "code",
   "execution_count": 2,
   "metadata": {},
   "outputs": [],
   "source": [
    "import requests\n",
    "\n",
    "import numpy as np\n",
    "import pandas as pd\n",
    "\n",
    "import datetime as dt\n",
    "\n",
    "import matplotlib.pyplot as plt\n",
    "import seaborn as sns\n",
    "\n",
    "from ast import literal_eval\n",
    "\n",
    "pd.set_option('display.max_columns', None) # display all columns in DF\n",
    "pd.set_option('display.max_rows', None) # display all columns in DF"
   ]
  },
  {
   "cell_type": "markdown",
   "metadata": {},
   "source": [
    "# Data from openFDA NDC"
   ]
  },
  {
   "cell_type": "markdown",
   "metadata": {},
   "source": [
    "Load data"
   ]
  },
  {
   "cell_type": "code",
   "execution_count": 3,
   "metadata": {},
   "outputs": [],
   "source": [
    "df_openFDA_NDC = pd.read_csv('raw_openFDA_NDC_data.csv', sep = '~')"
   ]
  },
  {
   "cell_type": "markdown",
   "metadata": {},
   "source": [
    "Clear data and remove duplicates"
   ]
  },
  {
   "cell_type": "code",
   "execution_count": 6,
   "metadata": {},
   "outputs": [],
   "source": [
    "df_openFDA_NDC = df_openFDA_NDC['name'].str.lower()\n",
    "df_openFDA_NDC = pd.DataFrame(df_openFDA_NDC.drop_duplicates())"
   ]
  },
  {
   "cell_type": "markdown",
   "metadata": {},
   "source": [
    "# Data from NIH"
   ]
  },
  {
   "cell_type": "code",
   "execution_count": 7,
   "metadata": {},
   "outputs": [],
   "source": [
    "count = 0\n",
    "\n",
    "for index, row in df_openFDA_NDC.iterrows(): # iterating through drugs\n",
    "    \n",
    "    try:\n",
    "        count = count + 1\n",
    "        \n",
    "        drug_name = row[0]\n",
    "\n",
    "        start_url = 'https://rxnav.nlm.nih.gov/REST/rxclass/class/byDrugName.json?drugName='\n",
    "        middle_url = str(drug_name)\n",
    "\n",
    "        r = requests.get(start_url + middle_url, timeout = 20) # requesting meta data\n",
    "        data_raw = r.json()\n",
    "        \n",
    "        data = data_raw['rxclassDrugInfoList']\n",
    "\n",
    "        df_temp = pd.json_normalize(data['rxclassDrugInfo'])\n",
    "\n",
    "        df_temp_epc = df_temp.loc[(df_temp['rela'] == 'has_epc') & (df_temp['relaSource'] == 'DAILYMED')]\n",
    "        df_temp_dis = df_temp.loc[(df_temp['rela'] == 'may_treat') & (df_temp['relaSource'] == 'MEDRT')]\n",
    "        \n",
    "        df_temp = pd.concat([df_temp_epc, df_temp_dis], ignore_index=True)\n",
    "        \n",
    "        if count == 1:\n",
    "            df_NIH = df_temp\n",
    "        else:\n",
    "            df_NIH = pd.concat([df_NIH, df_temp])\n",
    "        \n",
    "    except:\n",
    "        continue"
   ]
  },
  {
   "cell_type": "markdown",
   "metadata": {},
   "source": [
    "Removing duplicates based on generic name"
   ]
  },
  {
   "cell_type": "code",
   "execution_count": null,
   "metadata": {},
   "outputs": [],
   "source": [
    "df_NIH = df_NIH.drop_duplicates(subset = ['minConcept.name'])"
   ]
  },
  {
   "cell_type": "markdown",
   "metadata": {},
   "source": [
    "# Downloading Data"
   ]
  },
  {
   "cell_type": "code",
   "execution_count": null,
   "metadata": {},
   "outputs": [],
   "source": [
    "df_NIH.to_csv('nih_data.csv', sep = '~', index = False)"
   ]
  },
  {
   "cell_type": "markdown",
   "metadata": {},
   "source": [
    "# Data Overview"
   ]
  },
  {
   "cell_type": "markdown",
   "metadata": {},
   "source": [
    "Groupping by disease and drug class"
   ]
  },
  {
   "cell_type": "code",
   "execution_count": null,
   "metadata": {},
   "outputs": [],
   "source": [
    "len(df_NIH)"
   ]
  },
  {
   "cell_type": "code",
   "execution_count": null,
   "metadata": {},
   "outputs": [],
   "source": [
    "df_NIH_gro_class = pd.DataFrame(df_NIH.groupby(['rxclassMinConceptItem.classType', 'rxclassMinConceptItem.className'])['minConcept.name'].count())\n",
    "df_NIH_gro_class = df_NIH_gro_class.sort_values(by = ['minConcept.name'], ascending=False)\n",
    "df_NIH_gro_class.head(20)"
   ]
  }
 ],
 "metadata": {
  "kernelspec": {
   "display_name": "Python 3",
   "language": "python",
   "name": "python3"
  },
  "language_info": {
   "codemirror_mode": {
    "name": "ipython",
    "version": 3
   },
   "file_extension": ".py",
   "mimetype": "text/x-python",
   "name": "python",
   "nbconvert_exporter": "python",
   "pygments_lexer": "ipython3",
   "version": "3.8.5"
  }
 },
 "nbformat": 4,
 "nbformat_minor": 4
}
