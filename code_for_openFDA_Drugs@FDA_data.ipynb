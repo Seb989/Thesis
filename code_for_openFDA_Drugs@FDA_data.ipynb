{
 "cells": [
  {
   "cell_type": "markdown",
   "metadata": {},
   "source": [
    "# Libraries"
   ]
  },
  {
   "cell_type": "code",
   "execution_count": 2,
   "metadata": {},
   "outputs": [],
   "source": [
    "import requests\n",
    "import json\n",
    "from ast import literal_eval\n",
    "\n",
    "import pandas as pd\n",
    "\n",
    "pd.set_option('display.max_columns', None) # display all columns in DF"
   ]
  },
  {
   "cell_type": "markdown",
   "metadata": {},
   "source": [
    "# Data from OpenFDA Drug@FDA"
   ]
  },
  {
   "cell_type": "code",
   "execution_count": 118,
   "metadata": {},
   "outputs": [
    {
     "name": "stdout",
     "output_type": "stream",
     "text": [
      "25374\n"
     ]
    }
   ],
   "source": [
    "for offset_i in range(0, 25374, 1000):\n",
    "    \n",
    "    payload = {'api_key': 'vJTYEEbNaMLaY4e8yZDGKYXwdmDdsPfZB05G87ea', 'limit': '1000', 'skip': offset_i}\n",
    "    r = requests.get('https://api.fda.gov/drug/drugsfda.json?', params=payload, timeout = 20)\n",
    "    data = r.json()\n",
    "        \n",
    "    df = pd.json_normalize(data['results'])\n",
    "        \n",
    "    if offset_i == 0:\n",
    "        df_openFDA = df\n",
    "    else:\n",
    "        df_openFDA = df_openFDA.append(df, ignore_index = True)\n",
    "\n",
    "print(len(df_openFDA))"
   ]
  },
  {
   "cell_type": "markdown",
   "metadata": {},
   "source": [
    "Saving data as csv to save time"
   ]
  },
  {
   "cell_type": "code",
   "execution_count": 119,
   "metadata": {},
   "outputs": [],
   "source": [
    "df_openFDA.to_csv('raw_openFDA_org_data.csv', sep = '~', index = False)"
   ]
  },
  {
   "cell_type": "code",
   "execution_count": 3,
   "metadata": {},
   "outputs": [],
   "source": [
    "df_openFDA = pd.read_csv('raw_openFDA_org_data.csv', sep = '~')"
   ]
  },
  {
   "cell_type": "markdown",
   "metadata": {},
   "source": [
    "### Data manipulation"
   ]
  },
  {
   "cell_type": "markdown",
   "metadata": {},
   "source": [
    "Normalizing products and active ingredients"
   ]
  },
  {
   "cell_type": "code",
   "execution_count": 4,
   "metadata": {},
   "outputs": [],
   "source": [
    "df_openFDA = df_openFDA.dropna(subset = ['products'])\n",
    "df_openFDA['products'] = df_openFDA['products'].apply(literal_eval)\n",
    "\n",
    "df_products = pd.DataFrame(df_openFDA['products'].dropna()) \n",
    "df_products['id'] = df_products.index\n",
    "\n",
    "for i, j in zip(df_products['products'], df_products['id']): # normalizing product and adding id for merge\n",
    "    df_temp = pd.DataFrame(pd.json_normalize(i))\n",
    "    df_temp['id'] = j\n",
    "    \n",
    "    if j == 0:\n",
    "        df_products_nor = df_temp\n",
    "    else:\n",
    "        df_products_nor = pd.concat([df_products_nor, df_temp])\n",
    "        \n",
    "df_products_nor = df_products_nor.set_index('id') # using id as index\n",
    "\n",
    "df_openFDA = pd.merge(df_openFDA, df_products_nor, left_index = True, right_index = True) # merging normalized product to enrich the orig. data\n",
    "df_openFDA = df_openFDA.drop(columns=['products'])"
   ]
  },
  {
   "cell_type": "markdown",
   "metadata": {},
   "source": [
    "Filtering on first product number and removing drugs sold over-the-counter"
   ]
  },
  {
   "cell_type": "code",
   "execution_count": 5,
   "metadata": {},
   "outputs": [],
   "source": [
    "df_openFDA['product_number'] = pd.to_numeric(df_openFDA['product_number'])\n",
    "df_openFDA = df_openFDA.loc[df_openFDA['product_number'] == 1]\n",
    "df_openFDA = df_openFDA.loc[df_openFDA['marketing_status'] != 'Over-the-counter']"
   ]
  },
  {
   "cell_type": "markdown",
   "metadata": {},
   "source": [
    "Unpacking generic name"
   ]
  },
  {
   "cell_type": "code",
   "execution_count": 6,
   "metadata": {},
   "outputs": [],
   "source": [
    "df_openFDA = df_openFDA.dropna(subset = ['openfda.generic_name'])\n",
    "df_openFDA['openfda.generic_name'] = df_openFDA['openfda.generic_name'].apply(literal_eval)\n",
    "df_openFDA = df_openFDA.explode('openfda.generic_name')"
   ]
  },
  {
   "cell_type": "markdown",
   "metadata": {},
   "source": [
    "Creating an unique id"
   ]
  },
  {
   "cell_type": "code",
   "execution_count": 7,
   "metadata": {},
   "outputs": [],
   "source": [
    "df_openFDA['unique_id'] = df_openFDA['openfda.generic_name'].astype(str) + '-' + df_openFDA['dosage_form'].astype(str) + '-' + df_openFDA['route'].astype(str)"
   ]
  },
  {
   "cell_type": "markdown",
   "metadata": {},
   "source": [
    "Unpacking list for ndc"
   ]
  },
  {
   "cell_type": "code",
   "execution_count": 8,
   "metadata": {},
   "outputs": [],
   "source": [
    "df_openFDA = df_openFDA.dropna(subset = ['openfda.product_ndc'])\n",
    "df_openFDA['openfda.product_ndc'] = df_openFDA['openfda.product_ndc'].apply(literal_eval)\n",
    "df_openFDA = df_openFDA.explode('openfda.product_ndc')"
   ]
  },
  {
   "cell_type": "markdown",
   "metadata": {},
   "source": [
    "Splitting ndc into labeler and product code"
   ]
  },
  {
   "cell_type": "code",
   "execution_count": 9,
   "metadata": {},
   "outputs": [],
   "source": [
    "df_temp = df_openFDA['openfda.product_ndc'].str.split(\"-\", n = 1, expand = True)\n",
    "df_openFDA['labeler_code']= df_temp[0]\n",
    "df_openFDA['labeler_code'] = pd.to_numeric(df_openFDA['labeler_code'])\n",
    "df_openFDA['product_code']= df_temp[1]\n",
    "df_openFDA['product_code'] = pd.to_numeric(df_openFDA['product_code'])"
   ]
  },
  {
   "cell_type": "markdown",
   "metadata": {},
   "source": [
    "Removing duplicates based on unique id, labeler and product code"
   ]
  },
  {
   "cell_type": "code",
   "execution_count": 10,
   "metadata": {},
   "outputs": [
    {
     "name": "stdout",
     "output_type": "stream",
     "text": [
      "Before: 34248\n",
      "After: 32375\n"
     ]
    }
   ],
   "source": [
    "print('Before:', len(df_openFDA))\n",
    "df_openFDA = df_openFDA.drop_duplicates(subset = ['unique_id', 'labeler_code', 'product_code'])\n",
    "print('After:', len(df_openFDA))"
   ]
  },
  {
   "cell_type": "markdown",
   "metadata": {},
   "source": [
    "# Downloading output"
   ]
  },
  {
   "cell_type": "code",
   "execution_count": 11,
   "metadata": {},
   "outputs": [],
   "source": [
    "df_openFDA.to_csv('raw_openFDA_data.csv', sep = '~', index = False)"
   ]
  },
  {
   "cell_type": "code",
   "execution_count": null,
   "metadata": {},
   "outputs": [],
   "source": []
  }
 ],
 "metadata": {
  "kernelspec": {
   "display_name": "Python 3",
   "language": "python",
   "name": "python3"
  },
  "language_info": {
   "codemirror_mode": {
    "name": "ipython",
    "version": 3
   },
   "file_extension": ".py",
   "mimetype": "text/x-python",
   "name": "python",
   "nbconvert_exporter": "python",
   "pygments_lexer": "ipython3",
   "version": "3.8.5"
  }
 },
 "nbformat": 4,
 "nbformat_minor": 4
}
