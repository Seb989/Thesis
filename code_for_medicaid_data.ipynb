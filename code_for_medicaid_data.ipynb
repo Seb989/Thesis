{
 "cells": [
  {
   "cell_type": "markdown",
   "metadata": {},
   "source": [
    "# Libraries"
   ]
  },
  {
   "cell_type": "code",
   "execution_count": 1,
   "metadata": {},
   "outputs": [],
   "source": [
    "import pandas as pd\n",
    "import requests\n",
    "\n",
    "pd.set_option('display.max_columns', None) # display all columns in DF"
   ]
  },
  {
   "cell_type": "markdown",
   "metadata": {},
   "source": [
    "# Data from Metastore"
   ]
  },
  {
   "cell_type": "code",
   "execution_count": 2,
   "metadata": {},
   "outputs": [],
   "source": [
    "r = requests.get('https://data.medicaid.gov/api/1/metastore/schemas/dataset/items') # requesting meta data\n",
    "data = r.json()\n",
    "\n",
    "df_metastore = pd.json_normalize(data, max_level = 1)\n",
    "df_metastore = df_metastore[df_metastore['title'].str.contains('State Drug Utilization Data')] # selecting datasets\n",
    "df_metastore = df_metastore.sort_values(['title']) # sorting datasets\n",
    "df_metastore['year'] = df_metastore['title'].str[-4:] # creating variable for year"
   ]
  },
  {
   "cell_type": "markdown",
   "metadata": {},
   "source": [
    "# Data from Medicaid"
   ]
  },
  {
   "cell_type": "code",
   "execution_count": 5,
   "metadata": {
    "scrolled": true
   },
   "outputs": [
    {
     "name": "stdout",
     "output_type": "stream",
     "text": [
      "State Drug Utilization Data 1999\n",
      "hello State Drug Utilization Data 1999\n",
      "State Drug Utilization Data 2000\n",
      "hello State Drug Utilization Data 2000\n",
      "State Drug Utilization Data 2001\n",
      "hello State Drug Utilization Data 2001\n",
      "State Drug Utilization Data 2002\n",
      "hello State Drug Utilization Data 2002\n",
      "State Drug Utilization Data 2003\n",
      "hello State Drug Utilization Data 2003\n",
      "State Drug Utilization Data 2004\n",
      "hello State Drug Utilization Data 2004\n",
      "State Drug Utilization Data 2005\n",
      "hello State Drug Utilization Data 2005\n",
      "State Drug Utilization Data 2006\n",
      "hello State Drug Utilization Data 2006\n",
      "State Drug Utilization Data 2007\n",
      "hello State Drug Utilization Data 2007\n",
      "State Drug Utilization Data 2008\n",
      "hello State Drug Utilization Data 2008\n",
      "State Drug Utilization Data 2009\n",
      "hello State Drug Utilization Data 2009\n",
      "State Drug Utilization Data 2010\n",
      "hello State Drug Utilization Data 2010\n",
      "State Drug Utilization Data 2011\n",
      "hello State Drug Utilization Data 2011\n",
      "State Drug Utilization Data 2012\n",
      "hello State Drug Utilization Data 2012\n",
      "State Drug Utilization Data 2013\n",
      "hello State Drug Utilization Data 2013\n",
      "State Drug Utilization Data 2014\n",
      "hello State Drug Utilization Data 2014\n",
      "State Drug Utilization Data 2015\n",
      "hello State Drug Utilization Data 2015\n",
      "State Drug Utilization Data 2016\n",
      "hello State Drug Utilization Data 2016\n",
      "State Drug Utilization Data 2017\n",
      "hello State Drug Utilization Data 2017\n",
      "State Drug Utilization Data 2018\n",
      "hello State Drug Utilization Data 2018\n",
      "State Drug Utilization Data 2019\n",
      "hello State Drug Utilization Data 2019\n",
      "State Drug Utilization Data 2020\n",
      "hello State Drug Utilization Data 2020\n",
      "State Drug Utilization Data 2021\n",
      "hello State Drug Utilization Data 2021\n"
     ]
    }
   ],
   "source": [
    "start_year = 1999\n",
    "\n",
    "for index, row in df_metastore.iterrows(): # iterating through meta data\n",
    "\n",
    "    title_i = df_metastore['title'][index]\n",
    "    identifier_i = df_metastore['identifier'][index]\n",
    "    year_i = df_metastore['year'][index]\n",
    "\n",
    "    if int(year_i) >= start_year: # selecting meta data from start year and onward\n",
    "        \n",
    "        print(title_i)\n",
    "        \n",
    "        start_url = 'https://data.medicaid.gov/api/1/datastore/query/'\n",
    "        middle_url = str(identifier_i)\n",
    "        end_url = '/0'\n",
    "        \n",
    "        r = requests.get(start_url + middle_url + end_url, timeout = 20)  # requesting part of dataset\n",
    "        data = r.json()\n",
    "        \n",
    "        data_n = data['count'] # finding the number of observations\n",
    "        \n",
    "        for offset_i in range(0, int(data_n), 10000): # iterating through data in smaller \n",
    "    \n",
    "            if offset_i == 0:\n",
    "\n",
    "                df_temp = pd.json_normalize(data['results'], max_level = 1)\n",
    "                \n",
    "                df_temp['units_reimbursed'] = pd.to_numeric(df_temp['units_reimbursed'], errors='coerce') # removing empty observations\n",
    "                df_temp['total_amount_reimbursed'] = pd.to_numeric(df_temp['total_amount_reimbursed'], errors='coerce')\n",
    "                df_temp.dropna(subset = ['units_reimbursed', 'total_amount_reimbursed'], inplace = True)\n",
    "\n",
    "                df_temp = df_temp[(df_temp['units_reimbursed'] != 0)] # removing zero observations\n",
    "                df_temp = df_temp[(df_temp['total_amount_reimbursed'] != 0)]\n",
    "                \n",
    "            else:\n",
    "                offset = offset_i\n",
    "                offset_url = '?offset=' + str(offset)\n",
    "                r = requests.get(start_url + middle_url + end_url + offset_url, timeout = 20) # requesting part of dataset\n",
    "                data = r.json()\n",
    "                \n",
    "                df_temp = pd.json_normalize(data['results'], max_level = 1)\n",
    "                \n",
    "                df_temp['units_reimbursed'] = pd.to_numeric(df_temp['units_reimbursed'], errors='coerce') # removing empty observations\n",
    "                df_temp['total_amount_reimbursed'] = pd.to_numeric(df_temp['total_amount_reimbursed'], errors='coerce')\n",
    "                df_temp.dropna(subset = ['units_reimbursed', 'total_amount_reimbursed'], inplace = True)\n",
    "\n",
    "                df_temp = df_temp[(df_temp['units_reimbursed'] != 0)] # removing zero observations\n",
    "                df_temp = df_temp[(df_temp['total_amount_reimbursed'] != 0)]\n",
    "\n",
    "            if offset_i == 0:\n",
    "                df = df_temp\n",
    "            else:\n",
    "                df = df.append(df_temp, ignore_index = True)\n",
    "        \n",
    "    if int(year_i) == start_year:\n",
    "        df['dataset'] = title_i # adding name of dataset\n",
    "        \n",
    "        df['price_per_unit'] = df['total_amount_reimbursed'] / df['units_reimbursed'] # calculating price per unit\n",
    "        df = df.groupby(['dataset', 'labeler_code', 'product_code', 'year', 'quarter'])['price_per_unit'].mean() # grouping by for each NDA and year    \n",
    "        \n",
    "        df_medicaid = df.reset_index()\n",
    "        print('hello', title_i)\n",
    "\n",
    "    elif int(year_i) >= start_year:\n",
    "        df['dataset'] = title_i # adding name of dataset\n",
    "        \n",
    "        df['price_per_unit'] = df['total_amount_reimbursed'] / df['units_reimbursed'] # calculating price per unit\n",
    "        df = df.groupby(['dataset', 'labeler_code', 'product_code', 'year', 'quarter'])['price_per_unit'].mean() # grouping by for each NDA and year\n",
    "        df = df.reset_index()\n",
    "        \n",
    "        df_medicaid = df_medicaid.append(df, ignore_index = True)\n",
    "        print('hello', title_i)"
   ]
  },
  {
   "cell_type": "markdown",
   "metadata": {},
   "source": [
    "# Downloading output"
   ]
  },
  {
   "cell_type": "code",
   "execution_count": 7,
   "metadata": {},
   "outputs": [],
   "source": [
    "df_medicaid.to_csv('raw_medicaid_data.csv', index = False)\n",
    "#df_medicaid.to_excel('raw_medicaid_data.xlsx', index = False)"
   ]
  },
  {
   "cell_type": "code",
   "execution_count": null,
   "metadata": {},
   "outputs": [],
   "source": []
  }
 ],
 "metadata": {
  "kernelspec": {
   "display_name": "Python 3",
   "language": "python",
   "name": "python3"
  },
  "language_info": {
   "codemirror_mode": {
    "name": "ipython",
    "version": 3
   },
   "file_extension": ".py",
   "mimetype": "text/x-python",
   "name": "python",
   "nbconvert_exporter": "python",
   "pygments_lexer": "ipython3",
   "version": "3.8.5"
  }
 },
 "nbformat": 4,
 "nbformat_minor": 4
}
