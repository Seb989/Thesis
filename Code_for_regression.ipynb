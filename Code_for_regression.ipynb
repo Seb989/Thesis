{
 "cells": [
  {
   "cell_type": "markdown",
   "metadata": {},
   "source": [
    "# Libraries"
   ]
  },
  {
   "cell_type": "code",
   "execution_count": 64,
   "metadata": {},
   "outputs": [],
   "source": [
    "import requests\n",
    "\n",
    "import numpy as np\n",
    "import pandas as pd\n",
    "pd.options.mode.chained_assignment = None # removing some warnings\n",
    "pd.set_option('display.max_columns', None) # display all columns in DF\n",
    "\n",
    "\n",
    "import matplotlib.pyplot as plt\n",
    "import matplotlib.dates as mdate\n",
    "import seaborn as sns\n",
    "\n",
    "from ast import literal_eval\n",
    "\n",
    "import time\n",
    "import datetime as dt\n",
    "\n",
    "from linearmodels import PooledOLS\n",
    "import statsmodels.api as sm"
   ]
  },
  {
   "cell_type": "markdown",
   "metadata": {},
   "source": [
    "# Loading Data"
   ]
  },
  {
   "cell_type": "code",
   "execution_count": 65,
   "metadata": {},
   "outputs": [
    {
     "name": "stderr",
     "output_type": "stream",
     "text": [
      "C:\\Users\\sebas\\anaconda3\\lib\\site-packages\\IPython\\core\\interactiveshell.py:3146: DtypeWarning: Columns (27) have mixed types.Specify dtype option on import or set low_memory=False.\n",
      "  has_raised = await self.run_ast_nodes(code_ast.body, cell_name,\n"
     ]
    }
   ],
   "source": [
    "df_reg_org = pd.read_csv('raw_consolidation_data.csv', sep = '~')"
   ]
  },
  {
   "cell_type": "markdown",
   "metadata": {},
   "source": [
    "# Data manipulation"
   ]
  },
  {
   "cell_type": "markdown",
   "metadata": {},
   "source": [
    "Removing labeller that are original packager"
   ]
  },
  {
   "cell_type": "code",
   "execution_count": 66,
   "metadata": {},
   "outputs": [
    {
     "name": "stdout",
     "output_type": "stream",
     "text": [
      "523938\n",
      "499057\n"
     ]
    }
   ],
   "source": [
    "print(len(df_reg_org))\n",
    "df_reg = df_reg_org.loc[df_reg_org['is_original_packager'] == True]\n",
    "print(len(df_reg))"
   ]
  },
  {
   "cell_type": "markdown",
   "metadata": {},
   "source": [
    "### Assigning order of entrance for each unique drug"
   ]
  },
  {
   "cell_type": "code",
   "execution_count": 67,
   "metadata": {},
   "outputs": [],
   "source": [
    "df_temp = df_reg.sort_values(by = ['unique_id', 'date', 'marketing_category'], ascending = [False, True, False], ignore_index = True) # Sorting\n",
    "\n",
    "df_temp = df_temp.drop_duplicates(subset = ['unique_id', 'labeler_name'], keep = 'first') # Finding the first entrance for each labeller \n",
    "\n",
    "df_temp['labeler_name_count'] = df_temp.groupby((df_temp['unique_id'] != df_temp['unique_id'].shift(1)).cumsum()).cumcount() + 1 # Running count for each drung\n",
    "\n",
    "df_reg = pd.merge(df_temp[['unique_id', 'labeler_name', 'labeler_name_count']], df_reg, on = ['unique_id', 'labeler_name'], how = 'right') # Merging with org. data"
   ]
  },
  {
   "cell_type": "markdown",
   "metadata": {},
   "source": [
    "### Assigning a dummy for first entrance and NDA"
   ]
  },
  {
   "cell_type": "code",
   "execution_count": 68,
   "metadata": {},
   "outputs": [],
   "source": [
    "df_temp = df_reg.loc[(df_reg['labeler_name_count'] == 1) & (df_reg['marketing_category'] == 'NDA')] # Filtering\n",
    "\n",
    "df_temp = df_temp.sort_values(by = ['date', 'unique_id'], ascending = [True, False], ignore_index = True) # Sorting\n",
    "df_temp = df_temp.drop_duplicates(subset = ['unique_id'], keep = 'first') # Removing dublicates\n",
    "\n",
    "df_temp['first_nda'] = 1 # Adding dummy\n",
    "\n",
    "df_reg = pd.merge(df_temp[['unique_id', 'first_nda']], df_reg, on = ['unique_id'], how = 'right') # Merging with reg. data\n",
    "\n",
    "df_reg['first_nda'] = df_reg['first_nda'].fillna(0)"
   ]
  },
  {
   "cell_type": "markdown",
   "metadata": {},
   "source": [
    "Removing unique drug where the first entrance is not a NDA"
   ]
  },
  {
   "cell_type": "code",
   "execution_count": 69,
   "metadata": {},
   "outputs": [],
   "source": [
    "df_reg = df_reg.loc[(df_reg['first_nda'] == 1)]"
   ]
  },
  {
   "cell_type": "markdown",
   "metadata": {},
   "source": [
    "### Assigning a running count for each unique drug from the start"
   ]
  },
  {
   "cell_type": "code",
   "execution_count": 70,
   "metadata": {},
   "outputs": [],
   "source": [
    "df_temp = df_reg[df_reg['labeler_name_count'] == 1]\n",
    "\n",
    "df_temp = df_temp.drop_duplicates(subset = ['date', 'unique_id'], keep = 'first') # Removing dublicates\n",
    "\n",
    "df_temp['running_count_from_start'] = df_temp.groupby((df_temp['unique_id'] != df_temp['unique_id'].shift(1)).cumsum()).cumcount() + 1 # Running count for each drung\n",
    "\n",
    "df_reg = pd.merge(df_temp[['date', 'unique_id', 'running_count_from_start']], df_reg, on = ['date', 'unique_id',], how = 'right')"
   ]
  },
  {
   "cell_type": "markdown",
   "metadata": {},
   "source": [
    "### Assigning a running count for each unique drug from second entrance"
   ]
  },
  {
   "cell_type": "code",
   "execution_count": 71,
   "metadata": {},
   "outputs": [],
   "source": [
    "df_temp = df_reg[df_reg['labeler_name_count'] >= 2]\n",
    "\n",
    "df_temp = df_temp.drop_duplicates(subset = ['date', 'unique_id'], keep = 'first') # Removing dublicates\n",
    "\n",
    "df_temp['running_count_from_second_entrance'] = df_temp.groupby((df_temp['unique_id'] != df_temp['unique_id'].shift(1)).cumsum()).cumcount() + 1 # Running count for each drung\n",
    "\n",
    "df_reg = pd.merge(df_temp[['date', 'unique_id', 'running_count_from_second_entrance']], df_reg, on = ['date', 'unique_id',], how = 'right')\n",
    "\n",
    "df_reg['running_count_from_second_entrance'] = df_reg['running_count_from_second_entrance'].fillna(0)"
   ]
  },
  {
   "cell_type": "markdown",
   "metadata": {},
   "source": [
    "### Assigning a running count for each unique drug from third entrance"
   ]
  },
  {
   "cell_type": "code",
   "execution_count": 72,
   "metadata": {},
   "outputs": [],
   "source": [
    "df_temp = df_reg[df_reg['labeler_name_count'] >= 3]\n",
    "\n",
    "df_temp = df_temp.drop_duplicates(subset = ['date', 'unique_id'], keep = 'first') # Removing dublicates\n",
    "\n",
    "df_temp['running_count_from_third_entrance'] = df_temp.groupby((df_temp['unique_id'] != df_temp['unique_id'].shift(1)).cumsum()).cumcount() + 1 # Running count for each drung\n",
    "\n",
    "df_reg = pd.merge(df_temp[['date', 'unique_id', 'running_count_from_third_entrance']], df_reg, on = ['date', 'unique_id',], how = 'right')\n",
    "\n",
    "df_reg['running_count_from_third_entrance'] = df_reg['running_count_from_third_entrance'].fillna(0)"
   ]
  },
  {
   "cell_type": "markdown",
   "metadata": {},
   "source": [
    "### Assigning a running count for each unique drug from fourth entrance"
   ]
  },
  {
   "cell_type": "code",
   "execution_count": 73,
   "metadata": {},
   "outputs": [],
   "source": [
    "df_temp = df_reg[df_reg['labeler_name_count'] >= 4]\n",
    "\n",
    "df_temp = df_temp.drop_duplicates(subset = ['date', 'unique_id'], keep = 'first') # Removing dublicates\n",
    "\n",
    "df_temp['running_count_from_fourth_entrance'] = df_temp.groupby((df_temp['unique_id'] != df_temp['unique_id'].shift(1)).cumsum()).cumcount() + 1 # Running count for each drung\n",
    "\n",
    "df_reg = pd.merge(df_temp[['date', 'unique_id', 'running_count_from_fourth_entrance']], df_reg, on = ['date', 'unique_id',], how = 'right')\n",
    "\n",
    "df_reg['running_count_from_fourth_entrance'] = df_reg['running_count_from_fourth_entrance'].fillna(0)"
   ]
  },
  {
   "cell_type": "markdown",
   "metadata": {},
   "source": [
    "### Assigning a total count of the labelers at the start (to exclude unique drug with multiple labelers from the start)"
   ]
  },
  {
   "cell_type": "code",
   "execution_count": 74,
   "metadata": {},
   "outputs": [],
   "source": [
    "df_temp = df_reg.loc[(df_reg['running_count_from_start'] == 1)]\n",
    "          \n",
    "df_temp = df_temp.groupby(['unique_id'])['first_nda'].sum()\n",
    "df_temp = df_temp.reset_index()\n",
    "df_temp = df_temp.rename(columns = {\"first_nda\": \"number_of_first_entrance\"})\n",
    "\n",
    "df_temp = df_temp.loc[(df_temp['number_of_first_entrance'] > 1)]\n",
    "\n",
    "df_reg = pd.merge(df_temp[['unique_id', 'number_of_first_entrance']], df_reg, on = ['unique_id'], how = 'right') # Merging with reg. data\n",
    "\n",
    "df_reg['number_of_first_entrance'] = df_reg['number_of_first_entrance'].fillna(1)"
   ]
  },
  {
   "cell_type": "markdown",
   "metadata": {},
   "source": [
    "Removing unique drug which has multiple entrances at start"
   ]
  },
  {
   "cell_type": "code",
   "execution_count": 75,
   "metadata": {},
   "outputs": [],
   "source": [
    "df_reg = df_reg.loc[(df_reg['number_of_first_entrance'] == 1)]"
   ]
  },
  {
   "cell_type": "markdown",
   "metadata": {},
   "source": [
    "### Assigning a running count of generic labelers"
   ]
  },
  {
   "cell_type": "code",
   "execution_count": 76,
   "metadata": {},
   "outputs": [],
   "source": [
    "df_temp = df_reg[['date', 'unique_id', 'labeler_name', 'labeler_name_count']]\n",
    "\n",
    "df_temp = df_temp.groupby(['date', 'unique_id'])\n",
    "\n",
    "df_temp = df_temp.max()\n",
    "\n",
    "df_temp = df_temp.reset_index()\n",
    "\n",
    "df_temp['running_count_generics'] = df_temp['labeler_name_count'] - 1 # Minus by one because org. labeler do not count\n",
    "\n",
    "df_reg = pd.merge(df_temp[['date', 'unique_id', 'running_count_generics']], df_reg, on = ['date', 'unique_id'], how = 'right') # Merging with org. data"
   ]
  },
  {
   "cell_type": "markdown",
   "metadata": {},
   "source": [
    "### Assigning a running count of substitutes labelers"
   ]
  },
  {
   "cell_type": "markdown",
   "metadata": {},
   "source": [
    "Unpacking pharm class to obtain EPC and MoA"
   ]
  },
  {
   "cell_type": "code",
   "execution_count": 77,
   "metadata": {},
   "outputs": [],
   "source": [
    "df_temp = pd.DataFrame(df_reg[['unique_id', 'pharm_class']])\n",
    "\n",
    "df_temp = df_temp.drop_duplicates(subset = ['unique_id', 'pharm_class'])\n",
    "\n",
    "#df_temp['pharm_class'] = df_temp['pharm_class'].apply(literal_eval)\n",
    "df_temp = df_temp.explode('pharm_class')\n",
    "\n",
    "df_temp['pharm_class_type'] = df_temp['pharm_class'].apply(lambda x: str(x)[-5:])\n",
    "df_temp['pharm_class_type'] = df_temp['pharm_class_type'].str.replace(r'[][]', '', regex=True)\n",
    "\n",
    "df_temp_EPC = df_temp[df_temp['pharm_class_type'] == 'EPC']\n",
    "df_temp_MoA = df_temp[df_temp['pharm_class_type'] == 'MoA']\n",
    "\n",
    "df_temp_EPC = df_temp_EPC.rename(columns = {\"pharm_class\": \"pharm_class_EPC\"})\n",
    "df_temp_MoA = df_temp_MoA.rename(columns = {\"pharm_class\": \"pharm_class_MoA\"})\n",
    "\n",
    "df_temp_EPC = df_temp_EPC.drop_duplicates(subset = ['unique_id', 'pharm_class_EPC'])\n",
    "df_temp_MoA = df_temp_MoA.drop_duplicates(subset = ['unique_id', 'pharm_class_MoA'])\n",
    "\n",
    "df_pharm_class_type = pd.merge(df_temp_EPC, df_temp_MoA,  on = 'unique_id', how = 'left')"
   ]
  },
  {
   "cell_type": "markdown",
   "metadata": {},
   "source": [
    "Adding a route"
   ]
  },
  {
   "cell_type": "code",
   "execution_count": 78,
   "metadata": {},
   "outputs": [],
   "source": [
    "df_openFDA_NDC = pd.read_csv('raw_openFDA_NDC_data.csv', sep = '~')"
   ]
  },
  {
   "cell_type": "code",
   "execution_count": 79,
   "metadata": {},
   "outputs": [],
   "source": [
    "df_temp = df_openFDA_NDC.drop_duplicates(subset = ['unique_id'])\n",
    "df_pharm_class_type = pd.merge(df_pharm_class_type, df_temp[['unique_id', 'route']],  on = 'unique_id', how = 'left')"
   ]
  },
  {
   "cell_type": "markdown",
   "metadata": {},
   "source": [
    "Creating a unique id for substitutes"
   ]
  },
  {
   "cell_type": "code",
   "execution_count": 80,
   "metadata": {},
   "outputs": [],
   "source": [
    "df_pharm_class_type['unique_substitute'] = df_pharm_class_type['pharm_class_EPC'].astype(str) + '-' + df_pharm_class_type['route'].astype(str) + '-' + df_pharm_class_type['pharm_class_MoA'].astype(str)\n",
    "df_pharm_class_type = df_pharm_class_type[['unique_id', 'unique_substitute']]\n",
    "\n",
    "df_pharm_class_type = df_pharm_class_type.drop_duplicates(subset = ['unique_id'])"
   ]
  },
  {
   "cell_type": "markdown",
   "metadata": {},
   "source": [
    "Merging with org. data"
   ]
  },
  {
   "cell_type": "code",
   "execution_count": 81,
   "metadata": {},
   "outputs": [],
   "source": [
    "df_reg = pd.merge(df_reg, df_pharm_class_type[['unique_id', 'unique_substitute']],  on = 'unique_id', how = 'outer')"
   ]
  },
  {
   "cell_type": "markdown",
   "metadata": {},
   "source": [
    "Calculating number of substitutes"
   ]
  },
  {
   "cell_type": "code",
   "execution_count": 82,
   "metadata": {},
   "outputs": [],
   "source": [
    "df_temp = df_reg.groupby(['date', 'unique_substitute'])['unique_id'].count()\n",
    "df_temp = df_temp.reset_index()\n",
    "\n",
    "df_temp['running_count_unique_substitute'] = df_temp['unique_id'] - 1\n",
    "\n",
    "df_reg = pd.merge(df_reg, df_temp[['date', 'unique_substitute', 'running_count_unique_substitute']],  on = ['date', 'unique_substitute'], how = 'left')"
   ]
  },
  {
   "cell_type": "markdown",
   "metadata": {},
   "source": [
    "### Assigning a running count where the first entrance is the starting point"
   ]
  },
  {
   "cell_type": "markdown",
   "metadata": {},
   "source": [
    "Finding the running count from the start for unique drugs"
   ]
  },
  {
   "cell_type": "code",
   "execution_count": 83,
   "metadata": {},
   "outputs": [],
   "source": [
    "df_temp = df_reg[['date', 'unique_id', 'running_count_from_start', 'running_count_from_second_entrance']]\n",
    "\n",
    "df_temp['col_temp'] = df_temp['running_count_from_second_entrance'].map(lambda x: True if (x == 1.0)  else False)\n",
    "\n",
    "df_temp = df_temp[df_temp['col_temp'] == True]\n",
    "df_temp = df_temp.drop(columns=['col_temp'])\n",
    "df_temp = df_temp.drop_duplicates(subset=['unique_id'])\n",
    "df_temp = df_temp.rename(columns = {\"running_count_from_start\": \"col_temp\"})\n",
    "df_temp = df_temp[['unique_id', 'col_temp']]"
   ]
  },
  {
   "cell_type": "markdown",
   "metadata": {},
   "source": [
    "Merging with org. data"
   ]
  },
  {
   "cell_type": "code",
   "execution_count": 84,
   "metadata": {},
   "outputs": [],
   "source": [
    "df_reg = pd.merge(df_temp[['unique_id', 'col_temp']], df_reg, on = ['unique_id',], how = 'right')"
   ]
  },
  {
   "cell_type": "markdown",
   "metadata": {},
   "source": [
    "Calculationg the running count"
   ]
  },
  {
   "cell_type": "code",
   "execution_count": 85,
   "metadata": {},
   "outputs": [],
   "source": [
    "df_reg['col_temp'] = df_reg['col_temp'].fillna(0)\n",
    "df_reg['col_temp'] = df_reg['running_count_from_start'] - df_reg['col_temp']\n",
    "\n",
    "df_reg['running_count_event'] = df_reg['col_temp'].where(df_reg['col_temp'] != df_reg['running_count_from_start'])\n",
    "\n",
    "df_temp = df_temp.drop(columns=['col_temp'])"
   ]
  },
  {
   "cell_type": "markdown",
   "metadata": {},
   "source": [
    "### Calculating the quarterly total amount reimbursed and units reimbursed for all labelers"
   ]
  },
  {
   "cell_type": "code",
   "execution_count": 86,
   "metadata": {},
   "outputs": [],
   "source": [
    "df_temp = df_reg.set_index(['date', 'unique_id']).groupby(level = ['date', 'unique_id'])[['units_reimbursed', 'total_amount_reimbursed_adj']].agg('sum')\n",
    "df_temp = df_temp.reset_index()\n",
    "\n",
    "df_temp = df_temp.rename(columns = {\"units_reimbursed\": \"units_reimbursed_sum\", \"total_amount_reimbursed_adj\": \"total_amount_reimbursed_adj_sum\"})\n",
    "\n",
    "df_reg = pd.merge(df_temp[['date', 'unique_id', 'units_reimbursed_sum', 'total_amount_reimbursed_adj_sum']], df_reg, on = ['date', 'unique_id',], how = 'right')"
   ]
  },
  {
   "cell_type": "markdown",
   "metadata": {},
   "source": [
    "### Calculating the generic labelers' share of quarterly total amount reimbursed and units reimbursed"
   ]
  },
  {
   "cell_type": "code",
   "execution_count": 87,
   "metadata": {},
   "outputs": [],
   "source": [
    "df_temp = df_reg[df_reg['labeler_name_count'] >= 2]\n",
    "\n",
    "df_temp = df_temp.set_index(['date', 'unique_id']).groupby(level = ['date', 'unique_id'])[['units_reimbursed', 'total_amount_reimbursed_adj']].agg('sum')\n",
    "df_temp = df_temp.reset_index()\n",
    "\n",
    "df_temp = df_temp.rename(columns = {\"units_reimbursed\": \"generic_units_reimbursed_sum\", \"total_amount_reimbursed_adj\": \"generic_total_amount_reimbursed_adj_sum\"})\n",
    "\n",
    "df_reg = pd.merge(df_temp[['date', 'unique_id', 'generic_units_reimbursed_sum', 'generic_total_amount_reimbursed_adj_sum']], df_reg, on = ['date', 'unique_id',], how = 'right')\n",
    "\n",
    "df_reg['generic_units_reimbursed_sum'] = df_reg['generic_units_reimbursed_sum'].fillna(0)\n",
    "df_reg['generic_total_amount_reimbursed_adj_sum'] = df_reg['generic_total_amount_reimbursed_adj_sum'].fillna(0)"
   ]
  },
  {
   "cell_type": "code",
   "execution_count": 88,
   "metadata": {},
   "outputs": [],
   "source": [
    "df_reg['generic_share_units_reimbursed_sum'] = df_reg['generic_units_reimbursed_sum'] / df_reg['units_reimbursed_sum']\n",
    "df_reg['generic_share_total_amount_reimbursed_adj_sum'] = df_reg['generic_total_amount_reimbursed_adj_sum'] / df_reg['total_amount_reimbursed_adj_sum']\n",
    "\n",
    "df_reg['generic_share_units_reimbursed_sum'] = df_reg['generic_share_units_reimbursed_sum'].fillna(0)\n",
    "df_reg['generic_share_total_amount_reimbursed_adj_sum'] = df_reg['generic_share_total_amount_reimbursed_adj_sum'].fillna(0)"
   ]
  },
  {
   "cell_type": "markdown",
   "metadata": {},
   "source": [
    "# Check for issue"
   ]
  },
  {
   "cell_type": "code",
   "execution_count": 89,
   "metadata": {},
   "outputs": [
    {
     "name": "stdout",
     "output_type": "stream",
     "text": [
      "193557\n",
      "193557\n"
     ]
    }
   ],
   "source": [
    "print(len(df_reg))\n",
    "df_reg_issue = df_reg.drop_duplicates(subset = ['unique_id', 'date', 'labeler_name'])\n",
    "print(len(df_reg))"
   ]
  },
  {
   "cell_type": "markdown",
   "metadata": {},
   "source": [
    "# Downloading Data"
   ]
  },
  {
   "cell_type": "code",
   "execution_count": 90,
   "metadata": {},
   "outputs": [],
   "source": [
    "df_reg.to_csv('output_regression_org.csv', sep = '~', index = False)"
   ]
  },
  {
   "cell_type": "markdown",
   "metadata": {},
   "source": [
    "# Loading Data"
   ]
  },
  {
   "cell_type": "code",
   "execution_count": 91,
   "metadata": {},
   "outputs": [
    {
     "name": "stderr",
     "output_type": "stream",
     "text": [
      "C:\\Users\\sebas\\anaconda3\\lib\\site-packages\\IPython\\core\\interactiveshell.py:3146: DtypeWarning: Columns (40,41) have mixed types.Specify dtype option on import or set low_memory=False.\n",
      "  has_raised = await self.run_ast_nodes(code_ast.body, cell_name,\n"
     ]
    }
   ],
   "source": [
    "df_reg = pd.read_csv('output_regression_org.csv', sep = '~')"
   ]
  },
  {
   "cell_type": "code",
   "execution_count": 92,
   "metadata": {},
   "outputs": [
    {
     "data": {
      "text/html": [
       "<div>\n",
       "<style scoped>\n",
       "    .dataframe tbody tr th:only-of-type {\n",
       "        vertical-align: middle;\n",
       "    }\n",
       "\n",
       "    .dataframe tbody tr th {\n",
       "        vertical-align: top;\n",
       "    }\n",
       "\n",
       "    .dataframe thead th {\n",
       "        text-align: right;\n",
       "    }\n",
       "</style>\n",
       "<table border=\"1\" class=\"dataframe\">\n",
       "  <thead>\n",
       "    <tr style=\"text-align: right;\">\n",
       "      <th></th>\n",
       "      <th>date</th>\n",
       "      <th>unique_id</th>\n",
       "      <th>generic_units_reimbursed_sum</th>\n",
       "      <th>generic_total_amount_reimbursed_adj_sum</th>\n",
       "      <th>units_reimbursed_sum</th>\n",
       "      <th>total_amount_reimbursed_adj_sum</th>\n",
       "      <th>col_temp</th>\n",
       "      <th>running_count_generics</th>\n",
       "      <th>number_of_first_entrance</th>\n",
       "      <th>running_count_from_fourth_entrance</th>\n",
       "      <th>running_count_from_third_entrance</th>\n",
       "      <th>running_count_from_second_entrance</th>\n",
       "      <th>running_count_from_start</th>\n",
       "      <th>first_nda</th>\n",
       "      <th>labeler_name</th>\n",
       "      <th>labeler_name_count</th>\n",
       "      <th>dataset</th>\n",
       "      <th>labeler_code</th>\n",
       "      <th>product_code</th>\n",
       "      <th>year</th>\n",
       "      <th>quarter</th>\n",
       "      <th>product_ndc</th>\n",
       "      <th>generic_name</th>\n",
       "      <th>brand_name</th>\n",
       "      <th>finished</th>\n",
       "      <th>packaging</th>\n",
       "      <th>listing_expiration_date</th>\n",
       "      <th>openfda</th>\n",
       "      <th>marketing_category</th>\n",
       "      <th>dosage_form</th>\n",
       "      <th>spl_id</th>\n",
       "      <th>product_type</th>\n",
       "      <th>marketing_start_date</th>\n",
       "      <th>product_id</th>\n",
       "      <th>application_number</th>\n",
       "      <th>brand_name_base</th>\n",
       "      <th>marketing_end_date</th>\n",
       "      <th>active_ingredients</th>\n",
       "      <th>route</th>\n",
       "      <th>pharm_class</th>\n",
       "      <th>brand_name_suffix</th>\n",
       "      <th>dea_schedule</th>\n",
       "      <th>is_original_packager</th>\n",
       "      <th>name</th>\n",
       "      <th>strength</th>\n",
       "      <th>NDA #</th>\n",
       "      <th>Alimentary Tract And Metabolism</th>\n",
       "      <th>Antiinfectives For Systemic Use</th>\n",
       "      <th>Antineoplastic And Immunomodulating Agents</th>\n",
       "      <th>Antiparasitic Products, Insecticides And Repellents</th>\n",
       "      <th>Blood And Blood Forming Organs</th>\n",
       "      <th>Cardiovascular System</th>\n",
       "      <th>Dermatologicals</th>\n",
       "      <th>Genito Urinary System And Sex Hormones</th>\n",
       "      <th>Musculo-Skeletal System</th>\n",
       "      <th>Nervous System</th>\n",
       "      <th>Respiratory System</th>\n",
       "      <th>Sensory Organs</th>\n",
       "      <th>Systemic Hormonal Preparations, Excl. Sex Hormones And Insulins</th>\n",
       "      <th>Various</th>\n",
       "      <th>units_reimbursed</th>\n",
       "      <th>total_amount_reimbursed_adj</th>\n",
       "      <th>price_per_unit_adj</th>\n",
       "      <th>unique_substitute</th>\n",
       "      <th>running_count_unique_substitute</th>\n",
       "      <th>running_count_event</th>\n",
       "      <th>generic_share_units_reimbursed_sum</th>\n",
       "      <th>generic_share_total_amount_reimbursed_adj_sum</th>\n",
       "    </tr>\n",
       "  </thead>\n",
       "  <tbody>\n",
       "    <tr>\n",
       "      <th>0</th>\n",
       "      <td>2020-10-01</td>\n",
       "      <td>(calcium, magnesium, potassium, and sodium oxy...</td>\n",
       "      <td>0.0</td>\n",
       "      <td>0.0</td>\n",
       "      <td>38610.000</td>\n",
       "      <td>1.143621e+06</td>\n",
       "      <td>1.0</td>\n",
       "      <td>0</td>\n",
       "      <td>1.0</td>\n",
       "      <td>0.0</td>\n",
       "      <td>0.0</td>\n",
       "      <td>0.0</td>\n",
       "      <td>1.0</td>\n",
       "      <td>1.0</td>\n",
       "      <td>Jazz Pharmaceuticals, Inc.</td>\n",
       "      <td>1</td>\n",
       "      <td>State Drug Utilization Data 2020</td>\n",
       "      <td>68727</td>\n",
       "      <td>150</td>\n",
       "      <td>2020</td>\n",
       "      <td>4</td>\n",
       "      <td>68727-150</td>\n",
       "      <td>(CALCIUM, MAGNESIUM, POTASSIUM, AND SODIUM OXY...</td>\n",
       "      <td>XYWAV</td>\n",
       "      <td>True</td>\n",
       "      <td>[{'package_ndc': '68727-150-01', 'description'...</td>\n",
       "      <td>20221231.0</td>\n",
       "      <td>{'manufacturer_name': ['Jazz Pharmaceuticals, ...</td>\n",
       "      <td>NDA</td>\n",
       "      <td>SOLUTION</td>\n",
       "      <td>78a7a9e9-9f25-4f8a-8f1e-a6c6420801c3</td>\n",
       "      <td>HUMAN PRESCRIPTION DRUG</td>\n",
       "      <td>20201102</td>\n",
       "      <td>68727-150_78a7a9e9-9f25-4f8a-8f1e-a6c6420801c3</td>\n",
       "      <td>NDA212690</td>\n",
       "      <td>XYWAV</td>\n",
       "      <td>NaN</td>\n",
       "      <td>[{'name': 'CALCIUM OXYBATE', 'strength': '.5 g...</td>\n",
       "      <td>ORAL</td>\n",
       "      <td>['Central Nervous System Depressant [EPC]', 'C...</td>\n",
       "      <td>NaN</td>\n",
       "      <td>CIII</td>\n",
       "      <td>True</td>\n",
       "      <td>['CALCIUM OXYBATE', 'MAGNESIUM OXYBATE', 'POTA...</td>\n",
       "      <td>['.5 g/mL', '.5 g/mL', '.5 g/mL', '.5 g/mL']</td>\n",
       "      <td>212690</td>\n",
       "      <td>NaN</td>\n",
       "      <td>NaN</td>\n",
       "      <td>NaN</td>\n",
       "      <td>NaN</td>\n",
       "      <td>NaN</td>\n",
       "      <td>NaN</td>\n",
       "      <td>NaN</td>\n",
       "      <td>NaN</td>\n",
       "      <td>NaN</td>\n",
       "      <td>NaN</td>\n",
       "      <td>NaN</td>\n",
       "      <td>NaN</td>\n",
       "      <td>NaN</td>\n",
       "      <td>NaN</td>\n",
       "      <td>38610.000</td>\n",
       "      <td>1.143621e+06</td>\n",
       "      <td>29.619826</td>\n",
       "      <td>NaN</td>\n",
       "      <td>NaN</td>\n",
       "      <td>NaN</td>\n",
       "      <td>0.0</td>\n",
       "      <td>0.0</td>\n",
       "    </tr>\n",
       "    <tr>\n",
       "      <th>1</th>\n",
       "      <td>2021-01-01</td>\n",
       "      <td>(calcium, magnesium, potassium, and sodium oxy...</td>\n",
       "      <td>0.0</td>\n",
       "      <td>0.0</td>\n",
       "      <td>303030.000</td>\n",
       "      <td>8.858441e+06</td>\n",
       "      <td>2.0</td>\n",
       "      <td>0</td>\n",
       "      <td>1.0</td>\n",
       "      <td>0.0</td>\n",
       "      <td>0.0</td>\n",
       "      <td>0.0</td>\n",
       "      <td>2.0</td>\n",
       "      <td>1.0</td>\n",
       "      <td>Jazz Pharmaceuticals, Inc.</td>\n",
       "      <td>1</td>\n",
       "      <td>State Drug Utilization Data 2021</td>\n",
       "      <td>68727</td>\n",
       "      <td>150</td>\n",
       "      <td>2021</td>\n",
       "      <td>1</td>\n",
       "      <td>68727-150</td>\n",
       "      <td>(CALCIUM, MAGNESIUM, POTASSIUM, AND SODIUM OXY...</td>\n",
       "      <td>XYWAV</td>\n",
       "      <td>True</td>\n",
       "      <td>[{'package_ndc': '68727-150-01', 'description'...</td>\n",
       "      <td>20221231.0</td>\n",
       "      <td>{'manufacturer_name': ['Jazz Pharmaceuticals, ...</td>\n",
       "      <td>NDA</td>\n",
       "      <td>SOLUTION</td>\n",
       "      <td>78a7a9e9-9f25-4f8a-8f1e-a6c6420801c3</td>\n",
       "      <td>HUMAN PRESCRIPTION DRUG</td>\n",
       "      <td>20201102</td>\n",
       "      <td>68727-150_78a7a9e9-9f25-4f8a-8f1e-a6c6420801c3</td>\n",
       "      <td>NDA212690</td>\n",
       "      <td>XYWAV</td>\n",
       "      <td>NaN</td>\n",
       "      <td>[{'name': 'CALCIUM OXYBATE', 'strength': '.5 g...</td>\n",
       "      <td>ORAL</td>\n",
       "      <td>['Central Nervous System Depressant [EPC]', 'C...</td>\n",
       "      <td>NaN</td>\n",
       "      <td>CIII</td>\n",
       "      <td>True</td>\n",
       "      <td>['CALCIUM OXYBATE', 'MAGNESIUM OXYBATE', 'POTA...</td>\n",
       "      <td>['.5 g/mL', '.5 g/mL', '.5 g/mL', '.5 g/mL']</td>\n",
       "      <td>212690</td>\n",
       "      <td>NaN</td>\n",
       "      <td>NaN</td>\n",
       "      <td>NaN</td>\n",
       "      <td>NaN</td>\n",
       "      <td>NaN</td>\n",
       "      <td>NaN</td>\n",
       "      <td>NaN</td>\n",
       "      <td>NaN</td>\n",
       "      <td>NaN</td>\n",
       "      <td>NaN</td>\n",
       "      <td>NaN</td>\n",
       "      <td>NaN</td>\n",
       "      <td>NaN</td>\n",
       "      <td>NaN</td>\n",
       "      <td>303030.000</td>\n",
       "      <td>8.858441e+06</td>\n",
       "      <td>29.232883</td>\n",
       "      <td>NaN</td>\n",
       "      <td>NaN</td>\n",
       "      <td>NaN</td>\n",
       "      <td>0.0</td>\n",
       "      <td>0.0</td>\n",
       "    </tr>\n",
       "    <tr>\n",
       "      <th>2</th>\n",
       "      <td>2019-04-01</td>\n",
       "      <td>(daunorubicin and cytarabine) liposome-injecti...</td>\n",
       "      <td>0.0</td>\n",
       "      <td>0.0</td>\n",
       "      <td>43.234</td>\n",
       "      <td>3.285997e+05</td>\n",
       "      <td>1.0</td>\n",
       "      <td>0</td>\n",
       "      <td>1.0</td>\n",
       "      <td>0.0</td>\n",
       "      <td>0.0</td>\n",
       "      <td>0.0</td>\n",
       "      <td>1.0</td>\n",
       "      <td>1.0</td>\n",
       "      <td>Jazz Pharmaceuticals, Inc.</td>\n",
       "      <td>1</td>\n",
       "      <td>State Drug Utilization Data 2019</td>\n",
       "      <td>68727</td>\n",
       "      <td>745</td>\n",
       "      <td>2019</td>\n",
       "      <td>2</td>\n",
       "      <td>68727-745</td>\n",
       "      <td>(DAUNORUBICIN AND CYTARABINE) LIPOSOME</td>\n",
       "      <td>VYXEOS</td>\n",
       "      <td>True</td>\n",
       "      <td>[{'package_ndc': '68727-745-01', 'description'...</td>\n",
       "      <td>20221231.0</td>\n",
       "      <td>{'manufacturer_name': ['Jazz Pharmaceuticals, ...</td>\n",
       "      <td>NDA</td>\n",
       "      <td>INJECTION, POWDER, LYOPHILIZED, FOR SUSPENSION</td>\n",
       "      <td>31000140-b8f4-4608-903a-d755b8067c68</td>\n",
       "      <td>HUMAN PRESCRIPTION DRUG</td>\n",
       "      <td>20170803</td>\n",
       "      <td>68727-745_31000140-b8f4-4608-903a-d755b8067c68</td>\n",
       "      <td>NDA209401</td>\n",
       "      <td>VYXEOS</td>\n",
       "      <td>NaN</td>\n",
       "      <td>[{'name': 'CYTARABINE', 'strength': '100 mg/20...</td>\n",
       "      <td>INTRAVENOUS</td>\n",
       "      <td>['Anthracycline Topoisomerase Inhibitor [EPC]'...</td>\n",
       "      <td>NaN</td>\n",
       "      <td>NaN</td>\n",
       "      <td>True</td>\n",
       "      <td>['CYTARABINE', 'DAUNORUBICIN']</td>\n",
       "      <td>['100 mg/20mL', '44 mg/20mL']</td>\n",
       "      <td>209401</td>\n",
       "      <td>NaN</td>\n",
       "      <td>NaN</td>\n",
       "      <td>NaN</td>\n",
       "      <td>NaN</td>\n",
       "      <td>NaN</td>\n",
       "      <td>NaN</td>\n",
       "      <td>NaN</td>\n",
       "      <td>NaN</td>\n",
       "      <td>NaN</td>\n",
       "      <td>NaN</td>\n",
       "      <td>NaN</td>\n",
       "      <td>NaN</td>\n",
       "      <td>NaN</td>\n",
       "      <td>NaN</td>\n",
       "      <td>43.234</td>\n",
       "      <td>3.285997e+05</td>\n",
       "      <td>7600.491715</td>\n",
       "      <td>NaN</td>\n",
       "      <td>NaN</td>\n",
       "      <td>NaN</td>\n",
       "      <td>0.0</td>\n",
       "      <td>0.0</td>\n",
       "    </tr>\n",
       "    <tr>\n",
       "      <th>3</th>\n",
       "      <td>2019-07-01</td>\n",
       "      <td>(daunorubicin and cytarabine) liposome-injecti...</td>\n",
       "      <td>0.0</td>\n",
       "      <td>0.0</td>\n",
       "      <td>37.590</td>\n",
       "      <td>2.845977e+05</td>\n",
       "      <td>2.0</td>\n",
       "      <td>0</td>\n",
       "      <td>1.0</td>\n",
       "      <td>0.0</td>\n",
       "      <td>0.0</td>\n",
       "      <td>0.0</td>\n",
       "      <td>2.0</td>\n",
       "      <td>1.0</td>\n",
       "      <td>Jazz Pharmaceuticals, Inc.</td>\n",
       "      <td>1</td>\n",
       "      <td>State Drug Utilization Data 2019</td>\n",
       "      <td>68727</td>\n",
       "      <td>745</td>\n",
       "      <td>2019</td>\n",
       "      <td>3</td>\n",
       "      <td>68727-745</td>\n",
       "      <td>(DAUNORUBICIN AND CYTARABINE) LIPOSOME</td>\n",
       "      <td>VYXEOS</td>\n",
       "      <td>True</td>\n",
       "      <td>[{'package_ndc': '68727-745-01', 'description'...</td>\n",
       "      <td>20221231.0</td>\n",
       "      <td>{'manufacturer_name': ['Jazz Pharmaceuticals, ...</td>\n",
       "      <td>NDA</td>\n",
       "      <td>INJECTION, POWDER, LYOPHILIZED, FOR SUSPENSION</td>\n",
       "      <td>31000140-b8f4-4608-903a-d755b8067c68</td>\n",
       "      <td>HUMAN PRESCRIPTION DRUG</td>\n",
       "      <td>20170803</td>\n",
       "      <td>68727-745_31000140-b8f4-4608-903a-d755b8067c68</td>\n",
       "      <td>NDA209401</td>\n",
       "      <td>VYXEOS</td>\n",
       "      <td>NaN</td>\n",
       "      <td>[{'name': 'CYTARABINE', 'strength': '100 mg/20...</td>\n",
       "      <td>INTRAVENOUS</td>\n",
       "      <td>['Anthracycline Topoisomerase Inhibitor [EPC]'...</td>\n",
       "      <td>NaN</td>\n",
       "      <td>NaN</td>\n",
       "      <td>True</td>\n",
       "      <td>['CYTARABINE', 'DAUNORUBICIN']</td>\n",
       "      <td>['100 mg/20mL', '44 mg/20mL']</td>\n",
       "      <td>209401</td>\n",
       "      <td>NaN</td>\n",
       "      <td>NaN</td>\n",
       "      <td>NaN</td>\n",
       "      <td>NaN</td>\n",
       "      <td>NaN</td>\n",
       "      <td>NaN</td>\n",
       "      <td>NaN</td>\n",
       "      <td>NaN</td>\n",
       "      <td>NaN</td>\n",
       "      <td>NaN</td>\n",
       "      <td>NaN</td>\n",
       "      <td>NaN</td>\n",
       "      <td>NaN</td>\n",
       "      <td>NaN</td>\n",
       "      <td>37.590</td>\n",
       "      <td>2.845977e+05</td>\n",
       "      <td>7571.101676</td>\n",
       "      <td>NaN</td>\n",
       "      <td>NaN</td>\n",
       "      <td>NaN</td>\n",
       "      <td>0.0</td>\n",
       "      <td>0.0</td>\n",
       "    </tr>\n",
       "    <tr>\n",
       "      <th>4</th>\n",
       "      <td>2019-10-01</td>\n",
       "      <td>(daunorubicin and cytarabine) liposome-injecti...</td>\n",
       "      <td>0.0</td>\n",
       "      <td>0.0</td>\n",
       "      <td>8.204</td>\n",
       "      <td>1.567996e+04</td>\n",
       "      <td>3.0</td>\n",
       "      <td>0</td>\n",
       "      <td>1.0</td>\n",
       "      <td>0.0</td>\n",
       "      <td>0.0</td>\n",
       "      <td>0.0</td>\n",
       "      <td>3.0</td>\n",
       "      <td>1.0</td>\n",
       "      <td>Jazz Pharmaceuticals, Inc.</td>\n",
       "      <td>1</td>\n",
       "      <td>State Drug Utilization Data 2019</td>\n",
       "      <td>68727</td>\n",
       "      <td>745</td>\n",
       "      <td>2019</td>\n",
       "      <td>4</td>\n",
       "      <td>68727-745</td>\n",
       "      <td>(DAUNORUBICIN AND CYTARABINE) LIPOSOME</td>\n",
       "      <td>VYXEOS</td>\n",
       "      <td>True</td>\n",
       "      <td>[{'package_ndc': '68727-745-01', 'description'...</td>\n",
       "      <td>20221231.0</td>\n",
       "      <td>{'manufacturer_name': ['Jazz Pharmaceuticals, ...</td>\n",
       "      <td>NDA</td>\n",
       "      <td>INJECTION, POWDER, LYOPHILIZED, FOR SUSPENSION</td>\n",
       "      <td>31000140-b8f4-4608-903a-d755b8067c68</td>\n",
       "      <td>HUMAN PRESCRIPTION DRUG</td>\n",
       "      <td>20170803</td>\n",
       "      <td>68727-745_31000140-b8f4-4608-903a-d755b8067c68</td>\n",
       "      <td>NDA209401</td>\n",
       "      <td>VYXEOS</td>\n",
       "      <td>NaN</td>\n",
       "      <td>[{'name': 'CYTARABINE', 'strength': '100 mg/20...</td>\n",
       "      <td>INTRAVENOUS</td>\n",
       "      <td>['Anthracycline Topoisomerase Inhibitor [EPC]'...</td>\n",
       "      <td>NaN</td>\n",
       "      <td>NaN</td>\n",
       "      <td>True</td>\n",
       "      <td>['CYTARABINE', 'DAUNORUBICIN']</td>\n",
       "      <td>['100 mg/20mL', '44 mg/20mL']</td>\n",
       "      <td>209401</td>\n",
       "      <td>NaN</td>\n",
       "      <td>NaN</td>\n",
       "      <td>NaN</td>\n",
       "      <td>NaN</td>\n",
       "      <td>NaN</td>\n",
       "      <td>NaN</td>\n",
       "      <td>NaN</td>\n",
       "      <td>NaN</td>\n",
       "      <td>NaN</td>\n",
       "      <td>NaN</td>\n",
       "      <td>NaN</td>\n",
       "      <td>NaN</td>\n",
       "      <td>NaN</td>\n",
       "      <td>NaN</td>\n",
       "      <td>8.204</td>\n",
       "      <td>1.567996e+04</td>\n",
       "      <td>1911.257854</td>\n",
       "      <td>NaN</td>\n",
       "      <td>NaN</td>\n",
       "      <td>NaN</td>\n",
       "      <td>0.0</td>\n",
       "      <td>0.0</td>\n",
       "    </tr>\n",
       "  </tbody>\n",
       "</table>\n",
       "</div>"
      ],
      "text/plain": [
       "         date                                          unique_id  \\\n",
       "0  2020-10-01  (calcium, magnesium, potassium, and sodium oxy...   \n",
       "1  2021-01-01  (calcium, magnesium, potassium, and sodium oxy...   \n",
       "2  2019-04-01  (daunorubicin and cytarabine) liposome-injecti...   \n",
       "3  2019-07-01  (daunorubicin and cytarabine) liposome-injecti...   \n",
       "4  2019-10-01  (daunorubicin and cytarabine) liposome-injecti...   \n",
       "\n",
       "   generic_units_reimbursed_sum  generic_total_amount_reimbursed_adj_sum  \\\n",
       "0                           0.0                                      0.0   \n",
       "1                           0.0                                      0.0   \n",
       "2                           0.0                                      0.0   \n",
       "3                           0.0                                      0.0   \n",
       "4                           0.0                                      0.0   \n",
       "\n",
       "   units_reimbursed_sum  total_amount_reimbursed_adj_sum  col_temp  \\\n",
       "0             38610.000                     1.143621e+06       1.0   \n",
       "1            303030.000                     8.858441e+06       2.0   \n",
       "2                43.234                     3.285997e+05       1.0   \n",
       "3                37.590                     2.845977e+05       2.0   \n",
       "4                 8.204                     1.567996e+04       3.0   \n",
       "\n",
       "   running_count_generics  number_of_first_entrance  \\\n",
       "0                       0                       1.0   \n",
       "1                       0                       1.0   \n",
       "2                       0                       1.0   \n",
       "3                       0                       1.0   \n",
       "4                       0                       1.0   \n",
       "\n",
       "   running_count_from_fourth_entrance  running_count_from_third_entrance  \\\n",
       "0                                 0.0                                0.0   \n",
       "1                                 0.0                                0.0   \n",
       "2                                 0.0                                0.0   \n",
       "3                                 0.0                                0.0   \n",
       "4                                 0.0                                0.0   \n",
       "\n",
       "   running_count_from_second_entrance  running_count_from_start  first_nda  \\\n",
       "0                                 0.0                       1.0        1.0   \n",
       "1                                 0.0                       2.0        1.0   \n",
       "2                                 0.0                       1.0        1.0   \n",
       "3                                 0.0                       2.0        1.0   \n",
       "4                                 0.0                       3.0        1.0   \n",
       "\n",
       "                 labeler_name  labeler_name_count  \\\n",
       "0  Jazz Pharmaceuticals, Inc.                   1   \n",
       "1  Jazz Pharmaceuticals, Inc.                   1   \n",
       "2  Jazz Pharmaceuticals, Inc.                   1   \n",
       "3  Jazz Pharmaceuticals, Inc.                   1   \n",
       "4  Jazz Pharmaceuticals, Inc.                   1   \n",
       "\n",
       "                            dataset  labeler_code  product_code  year  \\\n",
       "0  State Drug Utilization Data 2020         68727           150  2020   \n",
       "1  State Drug Utilization Data 2021         68727           150  2021   \n",
       "2  State Drug Utilization Data 2019         68727           745  2019   \n",
       "3  State Drug Utilization Data 2019         68727           745  2019   \n",
       "4  State Drug Utilization Data 2019         68727           745  2019   \n",
       "\n",
       "   quarter product_ndc                                       generic_name  \\\n",
       "0        4   68727-150  (CALCIUM, MAGNESIUM, POTASSIUM, AND SODIUM OXY...   \n",
       "1        1   68727-150  (CALCIUM, MAGNESIUM, POTASSIUM, AND SODIUM OXY...   \n",
       "2        2   68727-745             (DAUNORUBICIN AND CYTARABINE) LIPOSOME   \n",
       "3        3   68727-745             (DAUNORUBICIN AND CYTARABINE) LIPOSOME   \n",
       "4        4   68727-745             (DAUNORUBICIN AND CYTARABINE) LIPOSOME   \n",
       "\n",
       "  brand_name  finished                                          packaging  \\\n",
       "0      XYWAV      True  [{'package_ndc': '68727-150-01', 'description'...   \n",
       "1      XYWAV      True  [{'package_ndc': '68727-150-01', 'description'...   \n",
       "2     VYXEOS      True  [{'package_ndc': '68727-745-01', 'description'...   \n",
       "3     VYXEOS      True  [{'package_ndc': '68727-745-01', 'description'...   \n",
       "4     VYXEOS      True  [{'package_ndc': '68727-745-01', 'description'...   \n",
       "\n",
       "   listing_expiration_date                                            openfda  \\\n",
       "0               20221231.0  {'manufacturer_name': ['Jazz Pharmaceuticals, ...   \n",
       "1               20221231.0  {'manufacturer_name': ['Jazz Pharmaceuticals, ...   \n",
       "2               20221231.0  {'manufacturer_name': ['Jazz Pharmaceuticals, ...   \n",
       "3               20221231.0  {'manufacturer_name': ['Jazz Pharmaceuticals, ...   \n",
       "4               20221231.0  {'manufacturer_name': ['Jazz Pharmaceuticals, ...   \n",
       "\n",
       "  marketing_category                                     dosage_form  \\\n",
       "0                NDA                                        SOLUTION   \n",
       "1                NDA                                        SOLUTION   \n",
       "2                NDA  INJECTION, POWDER, LYOPHILIZED, FOR SUSPENSION   \n",
       "3                NDA  INJECTION, POWDER, LYOPHILIZED, FOR SUSPENSION   \n",
       "4                NDA  INJECTION, POWDER, LYOPHILIZED, FOR SUSPENSION   \n",
       "\n",
       "                                 spl_id             product_type  \\\n",
       "0  78a7a9e9-9f25-4f8a-8f1e-a6c6420801c3  HUMAN PRESCRIPTION DRUG   \n",
       "1  78a7a9e9-9f25-4f8a-8f1e-a6c6420801c3  HUMAN PRESCRIPTION DRUG   \n",
       "2  31000140-b8f4-4608-903a-d755b8067c68  HUMAN PRESCRIPTION DRUG   \n",
       "3  31000140-b8f4-4608-903a-d755b8067c68  HUMAN PRESCRIPTION DRUG   \n",
       "4  31000140-b8f4-4608-903a-d755b8067c68  HUMAN PRESCRIPTION DRUG   \n",
       "\n",
       "   marketing_start_date                                      product_id  \\\n",
       "0              20201102  68727-150_78a7a9e9-9f25-4f8a-8f1e-a6c6420801c3   \n",
       "1              20201102  68727-150_78a7a9e9-9f25-4f8a-8f1e-a6c6420801c3   \n",
       "2              20170803  68727-745_31000140-b8f4-4608-903a-d755b8067c68   \n",
       "3              20170803  68727-745_31000140-b8f4-4608-903a-d755b8067c68   \n",
       "4              20170803  68727-745_31000140-b8f4-4608-903a-d755b8067c68   \n",
       "\n",
       "  application_number brand_name_base  marketing_end_date  \\\n",
       "0          NDA212690           XYWAV                 NaN   \n",
       "1          NDA212690           XYWAV                 NaN   \n",
       "2          NDA209401          VYXEOS                 NaN   \n",
       "3          NDA209401          VYXEOS                 NaN   \n",
       "4          NDA209401          VYXEOS                 NaN   \n",
       "\n",
       "                                  active_ingredients        route  \\\n",
       "0  [{'name': 'CALCIUM OXYBATE', 'strength': '.5 g...         ORAL   \n",
       "1  [{'name': 'CALCIUM OXYBATE', 'strength': '.5 g...         ORAL   \n",
       "2  [{'name': 'CYTARABINE', 'strength': '100 mg/20...  INTRAVENOUS   \n",
       "3  [{'name': 'CYTARABINE', 'strength': '100 mg/20...  INTRAVENOUS   \n",
       "4  [{'name': 'CYTARABINE', 'strength': '100 mg/20...  INTRAVENOUS   \n",
       "\n",
       "                                         pharm_class brand_name_suffix  \\\n",
       "0  ['Central Nervous System Depressant [EPC]', 'C...               NaN   \n",
       "1  ['Central Nervous System Depressant [EPC]', 'C...               NaN   \n",
       "2  ['Anthracycline Topoisomerase Inhibitor [EPC]'...               NaN   \n",
       "3  ['Anthracycline Topoisomerase Inhibitor [EPC]'...               NaN   \n",
       "4  ['Anthracycline Topoisomerase Inhibitor [EPC]'...               NaN   \n",
       "\n",
       "  dea_schedule  is_original_packager  \\\n",
       "0         CIII                  True   \n",
       "1         CIII                  True   \n",
       "2          NaN                  True   \n",
       "3          NaN                  True   \n",
       "4          NaN                  True   \n",
       "\n",
       "                                                name  \\\n",
       "0  ['CALCIUM OXYBATE', 'MAGNESIUM OXYBATE', 'POTA...   \n",
       "1  ['CALCIUM OXYBATE', 'MAGNESIUM OXYBATE', 'POTA...   \n",
       "2                     ['CYTARABINE', 'DAUNORUBICIN']   \n",
       "3                     ['CYTARABINE', 'DAUNORUBICIN']   \n",
       "4                     ['CYTARABINE', 'DAUNORUBICIN']   \n",
       "\n",
       "                                       strength   NDA #  \\\n",
       "0  ['.5 g/mL', '.5 g/mL', '.5 g/mL', '.5 g/mL']  212690   \n",
       "1  ['.5 g/mL', '.5 g/mL', '.5 g/mL', '.5 g/mL']  212690   \n",
       "2                 ['100 mg/20mL', '44 mg/20mL']  209401   \n",
       "3                 ['100 mg/20mL', '44 mg/20mL']  209401   \n",
       "4                 ['100 mg/20mL', '44 mg/20mL']  209401   \n",
       "\n",
       "   Alimentary Tract And Metabolism   Antiinfectives For Systemic Use  \\\n",
       "0                               NaN                              NaN   \n",
       "1                               NaN                              NaN   \n",
       "2                               NaN                              NaN   \n",
       "3                               NaN                              NaN   \n",
       "4                               NaN                              NaN   \n",
       "\n",
       "   Antineoplastic And Immunomodulating Agents  \\\n",
       "0                                         NaN   \n",
       "1                                         NaN   \n",
       "2                                         NaN   \n",
       "3                                         NaN   \n",
       "4                                         NaN   \n",
       "\n",
       "   Antiparasitic Products, Insecticides And Repellents  \\\n",
       "0                                                NaN     \n",
       "1                                                NaN     \n",
       "2                                                NaN     \n",
       "3                                                NaN     \n",
       "4                                                NaN     \n",
       "\n",
       "   Blood And Blood Forming Organs  Cardiovascular System  Dermatologicals  \\\n",
       "0                             NaN                    NaN              NaN   \n",
       "1                             NaN                    NaN              NaN   \n",
       "2                             NaN                    NaN              NaN   \n",
       "3                             NaN                    NaN              NaN   \n",
       "4                             NaN                    NaN              NaN   \n",
       "\n",
       "   Genito Urinary System And Sex Hormones  Musculo-Skeletal System  \\\n",
       "0                                     NaN                      NaN   \n",
       "1                                     NaN                      NaN   \n",
       "2                                     NaN                      NaN   \n",
       "3                                     NaN                      NaN   \n",
       "4                                     NaN                      NaN   \n",
       "\n",
       "   Nervous System  Respiratory System  Sensory Organs  \\\n",
       "0             NaN                 NaN             NaN   \n",
       "1             NaN                 NaN             NaN   \n",
       "2             NaN                 NaN             NaN   \n",
       "3             NaN                 NaN             NaN   \n",
       "4             NaN                 NaN             NaN   \n",
       "\n",
       "   Systemic Hormonal Preparations, Excl. Sex Hormones And Insulins  Various  \\\n",
       "0                                                NaN                    NaN   \n",
       "1                                                NaN                    NaN   \n",
       "2                                                NaN                    NaN   \n",
       "3                                                NaN                    NaN   \n",
       "4                                                NaN                    NaN   \n",
       "\n",
       "   units_reimbursed  total_amount_reimbursed_adj  price_per_unit_adj  \\\n",
       "0         38610.000                 1.143621e+06           29.619826   \n",
       "1        303030.000                 8.858441e+06           29.232883   \n",
       "2            43.234                 3.285997e+05         7600.491715   \n",
       "3            37.590                 2.845977e+05         7571.101676   \n",
       "4             8.204                 1.567996e+04         1911.257854   \n",
       "\n",
       "   unique_substitute  running_count_unique_substitute  running_count_event  \\\n",
       "0                NaN                              NaN                  NaN   \n",
       "1                NaN                              NaN                  NaN   \n",
       "2                NaN                              NaN                  NaN   \n",
       "3                NaN                              NaN                  NaN   \n",
       "4                NaN                              NaN                  NaN   \n",
       "\n",
       "   generic_share_units_reimbursed_sum  \\\n",
       "0                                 0.0   \n",
       "1                                 0.0   \n",
       "2                                 0.0   \n",
       "3                                 0.0   \n",
       "4                                 0.0   \n",
       "\n",
       "   generic_share_total_amount_reimbursed_adj_sum  \n",
       "0                                            0.0  \n",
       "1                                            0.0  \n",
       "2                                            0.0  \n",
       "3                                            0.0  \n",
       "4                                            0.0  "
      ]
     },
     "execution_count": 92,
     "metadata": {},
     "output_type": "execute_result"
    }
   ],
   "source": [
    "df_reg.head()"
   ]
  },
  {
   "cell_type": "markdown",
   "metadata": {},
   "source": [
    "# Descriptive of Data"
   ]
  },
  {
   "cell_type": "markdown",
   "metadata": {},
   "source": [
    "Counting number of unique drugs"
   ]
  },
  {
   "cell_type": "code",
   "execution_count": 93,
   "metadata": {},
   "outputs": [],
   "source": [
    "df_temp = df_reg"
   ]
  },
  {
   "cell_type": "code",
   "execution_count": 94,
   "metadata": {},
   "outputs": [
    {
     "name": "stdout",
     "output_type": "stream",
     "text": [
      "Tabel:           date  unique_id\n",
      "0  1991-01-01        148\n",
      "1  1991-04-01        159\n",
      "2  1991-07-01        165\n",
      "3  1991-10-01        165\n",
      "4  1992-01-01        181\n",
      "Quarterly Average:  1599.6446280991736\n",
      "Total:  2886\n",
      "Total (generic_name):  1155\n"
     ]
    }
   ],
   "source": [
    "df_temp_count = df_temp.groupby(['date'])['unique_id'].count()\n",
    "df_temp_count = df_temp_count.reset_index()\n",
    "print('Tabel: ', df_temp_count.head())\n",
    "print('Quarterly Average: ', df_temp_count['unique_id'].mean())\n",
    "print('Total: ', df_temp['unique_id'].nunique())\n",
    "print('Total (generic_name): ', df_temp['generic_name'].nunique())"
   ]
  },
  {
   "cell_type": "markdown",
   "metadata": {},
   "source": [
    "# Regression for generic paradox"
   ]
  },
  {
   "cell_type": "markdown",
   "metadata": {},
   "source": [
    "## For org. labeler"
   ]
  },
  {
   "cell_type": "code",
   "execution_count": 108,
   "metadata": {},
   "outputs": [
    {
     "data": {
      "text/plain": [
       "193557"
      ]
     },
     "execution_count": 108,
     "metadata": {},
     "output_type": "execute_result"
    }
   ],
   "source": [
    "df_temp = df_reg\n",
    "len(df_temp)"
   ]
  },
  {
   "cell_type": "markdown",
   "metadata": {},
   "source": [
    "Filtering on orig. labeler"
   ]
  },
  {
   "cell_type": "code",
   "execution_count": 109,
   "metadata": {},
   "outputs": [
    {
     "data": {
      "text/plain": [
       "122378"
      ]
     },
     "execution_count": 109,
     "metadata": {},
     "output_type": "execute_result"
    }
   ],
   "source": [
    "df_temp = df_temp[df_temp['marketing_category'] == \"NDA\"]\n",
    "len(df_temp)"
   ]
  },
  {
   "cell_type": "markdown",
   "metadata": {},
   "source": [
    "Calculating the log of price per unit"
   ]
  },
  {
   "cell_type": "code",
   "execution_count": 110,
   "metadata": {},
   "outputs": [],
   "source": [
    "df_temp['ln_price_per_unit_adj'] = np.log(df_temp['price_per_unit_adj'])"
   ]
  },
  {
   "cell_type": "markdown",
   "metadata": {},
   "source": [
    "Calculating the share of units reimbursed for the org. labeler"
   ]
  },
  {
   "cell_type": "code",
   "execution_count": 111,
   "metadata": {},
   "outputs": [],
   "source": [
    "df_temp['org_share_units_reimbursed_sum'] = 1 - df_temp['generic_share_units_reimbursed_sum']"
   ]
  },
  {
   "cell_type": "markdown",
   "metadata": {},
   "source": [
    "Change the format of the date to a integer"
   ]
  },
  {
   "cell_type": "code",
   "execution_count": 112,
   "metadata": {},
   "outputs": [],
   "source": [
    "df_temp['date_int'] = df_temp['date'].str.replace('-', '')\n",
    "df_temp['date_int'] = df_temp['date_int'].apply(pd.to_numeric)"
   ]
  },
  {
   "cell_type": "markdown",
   "metadata": {},
   "source": [
    "Setting the index"
   ]
  },
  {
   "cell_type": "code",
   "execution_count": 113,
   "metadata": {},
   "outputs": [],
   "source": [
    "df_OLS_ndc_gp = df_temp.set_index(['unique_id', 'date_int'])"
   ]
  },
  {
   "cell_type": "markdown",
   "metadata": {},
   "source": [
    "Estimating the regression"
   ]
  },
  {
   "cell_type": "code",
   "execution_count": 114,
   "metadata": {},
   "outputs": [
    {
     "data": {
      "text/plain": [
       "date                                              object\n",
       "generic_units_reimbursed_sum                     float64\n",
       "generic_total_amount_reimbursed_adj_sum          float64\n",
       "units_reimbursed_sum                             float64\n",
       "total_amount_reimbursed_adj_sum                  float64\n",
       "                                                  ...   \n",
       "running_count_event                              float64\n",
       "generic_share_units_reimbursed_sum               float64\n",
       "generic_share_total_amount_reimbursed_adj_sum    float64\n",
       "ln_price_per_unit_adj                            float64\n",
       "org_share_units_reimbursed_sum                   float64\n",
       "Length: 69, dtype: object"
      ]
     },
     "execution_count": 114,
     "metadata": {},
     "output_type": "execute_result"
    }
   ],
   "source": [
    "df_OLS_ndc_gp.dtypes"
   ]
  },
  {
   "cell_type": "code",
   "execution_count": 115,
   "metadata": {},
   "outputs": [],
   "source": [
    "df_OLS_ndc_gp['running_count_generics'] = pd.to_numeric(df_OLS_ndc_gp['running_count_generics'], errors='coerce').fillna(0, downcast='infer')\n",
    "df_OLS_ndc_gp['running_count_unique_substitute'] = pd.to_numeric(df_OLS_ndc_gp['running_count_unique_substitute'], errors='coerce').fillna(0, downcast='infer')\n",
    "df_OLS_ndc_gp['org_share_units_reimbursed_sum'] = pd.to_numeric(df_OLS_ndc_gp['org_share_units_reimbursed_sum'], errors='coerce').fillna(0, downcast='infer')\n",
    "df_OLS_ndc_gp['running_count_from_second_entrance'] = pd.to_numeric(df_OLS_ndc_gp['running_count_from_second_entrance'], errors='coerce').fillna(0, downcast='infer')"
   ]
  },
  {
   "cell_type": "code",
   "execution_count": 122,
   "metadata": {},
   "outputs": [
    {
     "name": "stdout",
     "output_type": "stream",
     "text": [
      "                            PooledOLS Estimation Summary                           \n",
      "===================================================================================\n",
      "Dep. Variable:     ln_price_per_unit_adj   R-squared:                        0.0033\n",
      "Estimator:                     PooledOLS   R-squared (Between):             -0.0429\n",
      "No. Observations:                 122378   R-squared (Within):              -0.0306\n",
      "Date:                   Tue, Mar 22 2022   R-squared (Overall):              0.0033\n",
      "Time:                           21:50:26   Log-likelihood                -2.729e+05\n",
      "Cov. Estimator:               Unadjusted                                           \n",
      "                                           F-statistic:                      407.14\n",
      "Entities:                           2886   P-value                           0.0000\n",
      "Avg Obs:                          42.404   Distribution:                F(1,122376)\n",
      "Min Obs:                          1.0000                                           \n",
      "Max Obs:                          190.00   F-statistic (robust):             407.14\n",
      "                                           P-value                           0.0000\n",
      "Time periods:                        121   Distribution:                F(1,122376)\n",
      "Avg Obs:                          1011.4                                           \n",
      "Min Obs:                          147.00                                           \n",
      "Max Obs:                          2509.0                                           \n",
      "                                                                                   \n",
      "                                       Parameter Estimates                                        \n",
      "==================================================================================================\n",
      "                                Parameter  Std. Err.     T-stat    P-value    Lower CI    Upper CI\n",
      "--------------------------------------------------------------------------------------------------\n",
      "const                              1.8042     0.0176     102.76     0.0000      1.7698      1.8386\n",
      "org_share_units_reimbursed_sum     0.3916     0.0194     20.178     0.0000      0.3536      0.4297\n",
      "==================================================================================================\n"
     ]
    }
   ],
   "source": [
    "endog = df_OLS_ndc_gp['ln_price_per_unit_adj']\n",
    "exog_vars = ['org_share_units_reimbursed_sum'] # ['running_count_generics', 'running_count_unique_substitute', 'org_share_units_reimbursed_sum', 'running_count_from_second_entrance']\n",
    "exog = sm.add_constant(df_OLS_ndc_gp[exog_vars])\n",
    "\n",
    "mod = PooledOLS(endog, exog)\n",
    "pooled_res = mod.fit()\n",
    "print(pooled_res)"
   ]
  },
  {
   "cell_type": "markdown",
   "metadata": {},
   "source": [
    "# Regression for probability of entrance"
   ]
  },
  {
   "cell_type": "markdown",
   "metadata": {},
   "source": [
    "### Second entrance"
   ]
  },
  {
   "cell_type": "code",
   "execution_count": 123,
   "metadata": {},
   "outputs": [],
   "source": [
    "df_temp = df_reg"
   ]
  },
  {
   "cell_type": "markdown",
   "metadata": {},
   "source": [
    "Assign a dummy for second entrance"
   ]
  },
  {
   "cell_type": "code",
   "execution_count": 124,
   "metadata": {},
   "outputs": [],
   "source": [
    "df_temp['second_entrance'] = df_temp['labeler_name_count'].apply(lambda x: 1 if x == 2 else 0)\n",
    "df_temp['second_entrance'] = df_temp['second_entrance'].apply(pd.to_numeric)"
   ]
  },
  {
   "cell_type": "markdown",
   "metadata": {},
   "source": [
    "Calculating the log of the sum of total amount reimbursed"
   ]
  },
  {
   "cell_type": "code",
   "execution_count": 125,
   "metadata": {},
   "outputs": [],
   "source": [
    "df_temp['ln_total_amount_reimbursed_adj_sum'] = np.log(df_temp['total_amount_reimbursed_adj_sum'])"
   ]
  },
  {
   "cell_type": "markdown",
   "metadata": {},
   "source": [
    "Change the format of the date to a integer"
   ]
  },
  {
   "cell_type": "code",
   "execution_count": 126,
   "metadata": {},
   "outputs": [],
   "source": [
    "df_temp['date'] = df_temp['date'].str.replace('-', '')\n",
    "df_temp['date'] = df_temp['date'].apply(pd.to_numeric)"
   ]
  },
  {
   "cell_type": "markdown",
   "metadata": {},
   "source": [
    "Setting index"
   ]
  },
  {
   "cell_type": "code",
   "execution_count": 127,
   "metadata": {},
   "outputs": [],
   "source": [
    "df_OLS = df_temp.set_index(['unique_id', 'date'])"
   ]
  },
  {
   "cell_type": "markdown",
   "metadata": {},
   "source": [
    "Estimating the regression"
   ]
  },
  {
   "cell_type": "code",
   "execution_count": 128,
   "metadata": {
    "scrolled": true
   },
   "outputs": [
    {
     "name": "stdout",
     "output_type": "stream",
     "text": [
      "                          PooledOLS Estimation Summary                          \n",
      "================================================================================\n",
      "Dep. Variable:        second_entrance   R-squared:                      4.81e-07\n",
      "Estimator:                  PooledOLS   R-squared (Between):             -0.2692\n",
      "No. Observations:              193557   R-squared (Within):            4.417e-05\n",
      "Date:                Tue, Mar 22 2022   R-squared (Overall):            4.81e-07\n",
      "Time:                        21:50:43   Log-likelihood                 -6.99e+04\n",
      "Cov. Estimator:            Unadjusted                                           \n",
      "                                        F-statistic:                      0.0931\n",
      "Entities:                        2886   P-value                           0.7603\n",
      "Avg Obs:                       67.068   Distribution:                F(1,193555)\n",
      "Min Obs:                       1.0000                                           \n",
      "Max Obs:                       612.00   F-statistic (robust):             0.0931\n",
      "                                        P-value                           0.7603\n",
      "Time periods:                     121   Distribution:                F(1,193555)\n",
      "Avg Obs:                       1599.6                                           \n",
      "Min Obs:                       148.00                                           \n",
      "Max Obs:                       5578.0                                           \n",
      "                                                                                \n",
      "                                         Parameter Estimates                                          \n",
      "======================================================================================================\n",
      "                                    Parameter  Std. Err.     T-stat    P-value    Lower CI    Upper CI\n",
      "------------------------------------------------------------------------------------------------------\n",
      "const                                  0.1415     0.0042     33.362     0.0000      0.1332      0.1498\n",
      "ln_total_amount_reimbursed_adj_sum -9.189e-05     0.0003    -0.3051     0.7603     -0.0007      0.0005\n",
      "======================================================================================================\n"
     ]
    }
   ],
   "source": [
    "exog_vars = ['ln_total_amount_reimbursed_adj_sum']\n",
    "exog = sm.add_constant(df_OLS[exog_vars])\n",
    "endog = df_OLS['second_entrance']\n",
    "\n",
    "mod = PooledOLS(endog, exog)\n",
    "pooled_res = mod.fit()\n",
    "print(pooled_res)"
   ]
  },
  {
   "cell_type": "markdown",
   "metadata": {},
   "source": [
    "### Third entrance"
   ]
  },
  {
   "cell_type": "code",
   "execution_count": 54,
   "metadata": {},
   "outputs": [],
   "source": [
    "df_temp = df_reg"
   ]
  },
  {
   "cell_type": "markdown",
   "metadata": {},
   "source": [
    "Assign a dummy for second entrance"
   ]
  },
  {
   "cell_type": "code",
   "execution_count": 55,
   "metadata": {},
   "outputs": [],
   "source": [
    "df_temp['third_entrance'] = df_temp['labeler_name_count'].apply(lambda x: 1 if x == 3 else 0)\n",
    "df_temp['third_entrance'] = df_temp['third_entrance'].apply(pd.to_numeric)"
   ]
  },
  {
   "cell_type": "markdown",
   "metadata": {},
   "source": [
    "Calculating the log of the sum of total amount reimbursed"
   ]
  },
  {
   "cell_type": "code",
   "execution_count": 56,
   "metadata": {},
   "outputs": [],
   "source": [
    "df_temp['ln_total_amount_reimbursed_adj_sum'] = np.log(df_temp['total_amount_reimbursed_adj_sum'])"
   ]
  },
  {
   "cell_type": "markdown",
   "metadata": {},
   "source": [
    "Setting index"
   ]
  },
  {
   "cell_type": "code",
   "execution_count": 57,
   "metadata": {},
   "outputs": [],
   "source": [
    "df_OLS = df_temp.set_index(['unique_id', 'date'])"
   ]
  },
  {
   "cell_type": "markdown",
   "metadata": {},
   "source": [
    "Estimating the regression"
   ]
  },
  {
   "cell_type": "code",
   "execution_count": 58,
   "metadata": {
    "scrolled": true
   },
   "outputs": [
    {
     "name": "stdout",
     "output_type": "stream",
     "text": [
      "                          PooledOLS Estimation Summary                          \n",
      "================================================================================\n",
      "Dep. Variable:        second_entrance   R-squared:                        0.0011\n",
      "Estimator:                  PooledOLS   R-squared (Between):             -0.2013\n",
      "No. Observations:              225135   R-squared (Within):              -0.0011\n",
      "Date:                Fri, Mar 18 2022   R-squared (Overall):              0.0011\n",
      "Time:                        12:24:48   Log-likelihood                -7.836e+04\n",
      "Cov. Estimator:            Unadjusted                                           \n",
      "                                        F-statistic:                      242.12\n",
      "Entities:                        3012   P-value                           0.0000\n",
      "Avg Obs:                       74.746   Distribution:                F(1,225133)\n",
      "Min Obs:                       1.0000                                           \n",
      "Max Obs:                       1255.0   F-statistic (robust):             242.12\n",
      "                                        P-value                           0.0000\n",
      "Time periods:                     121   Distribution:                F(1,225133)\n",
      "Avg Obs:                       1860.6                                           \n",
      "Min Obs:                       145.00                                           \n",
      "Max Obs:                       6558.0                                           \n",
      "                                                                                \n",
      "                                         Parameter Estimates                                          \n",
      "======================================================================================================\n",
      "                                    Parameter  Std. Err.     T-stat    P-value    Lower CI    Upper CI\n",
      "------------------------------------------------------------------------------------------------------\n",
      "const                                  0.0775     0.0038     20.188     0.0000      0.0699      0.0850\n",
      "ln_total_amount_reimbursed_adj_sum     0.0042     0.0003     15.560     0.0000      0.0037      0.0047\n",
      "======================================================================================================\n"
     ]
    }
   ],
   "source": [
    "exog_vars = ['ln_total_amount_reimbursed_adj_sum']\n",
    "exog = sm.add_constant(df_OLS[exog_vars])\n",
    "endog = df_OLS['second_entrance']\n",
    "\n",
    "mod = PooledOLS(endog, exog)\n",
    "pooled_res = mod.fit()\n",
    "print(pooled_res)"
   ]
  },
  {
   "cell_type": "code",
   "execution_count": null,
   "metadata": {},
   "outputs": [],
   "source": []
  },
  {
   "cell_type": "code",
   "execution_count": null,
   "metadata": {},
   "outputs": [],
   "source": []
  }
 ],
 "metadata": {
  "kernelspec": {
   "display_name": "Python 3",
   "language": "python",
   "name": "python3"
  },
  "language_info": {
   "codemirror_mode": {
    "name": "ipython",
    "version": 3
   },
   "file_extension": ".py",
   "mimetype": "text/x-python",
   "name": "python",
   "nbconvert_exporter": "python",
   "pygments_lexer": "ipython3",
   "version": "3.8.5"
  }
 },
 "nbformat": 4,
 "nbformat_minor": 4
}
