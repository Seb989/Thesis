{
 "cells": [
  {
   "cell_type": "markdown",
   "metadata": {},
   "source": [
    "# Libraries"
   ]
  },
  {
   "cell_type": "code",
   "execution_count": 27,
   "metadata": {},
   "outputs": [],
   "source": [
    "import requests\n",
    "\n",
    "import numpy as np\n",
    "import pandas as pd\n",
    "\n",
    "import datetime as dt\n",
    "\n",
    "import matplotlib.pyplot as plt\n",
    "import seaborn as sns\n",
    "\n",
    "from ast import literal_eval\n",
    "\n",
    "import time\n",
    "import datetime\n",
    "import matplotlib.pyplot as plt\n",
    "import matplotlib.dates as mdate\n",
    "\n",
    "from linearmodels import PooledOLS\n",
    "import statsmodels.api as sm\n",
    "\n",
    "pd.set_option('display.max_columns', None) # display all columns in DF"
   ]
  },
  {
   "cell_type": "markdown",
   "metadata": {},
   "source": [
    "# Loading Data"
   ]
  },
  {
   "cell_type": "code",
   "execution_count": 28,
   "metadata": {},
   "outputs": [],
   "source": [
    "df_reg_org = pd.read_csv('raw_consolidation_data.csv', sep = '~')"
   ]
  },
  {
   "cell_type": "code",
   "execution_count": 29,
   "metadata": {},
   "outputs": [
    {
     "data": {
      "text/html": [
       "<div>\n",
       "<style scoped>\n",
       "    .dataframe tbody tr th:only-of-type {\n",
       "        vertical-align: middle;\n",
       "    }\n",
       "\n",
       "    .dataframe tbody tr th {\n",
       "        vertical-align: top;\n",
       "    }\n",
       "\n",
       "    .dataframe thead th {\n",
       "        text-align: right;\n",
       "    }\n",
       "</style>\n",
       "<table border=\"1\" class=\"dataframe\">\n",
       "  <thead>\n",
       "    <tr style=\"text-align: right;\">\n",
       "      <th></th>\n",
       "      <th>date</th>\n",
       "      <th>unique_id</th>\n",
       "      <th>marketing_category</th>\n",
       "      <th>brand_name</th>\n",
       "      <th>generic_name</th>\n",
       "      <th>labeler_name</th>\n",
       "      <th>is_original_packager</th>\n",
       "      <th>units_reimbursed</th>\n",
       "      <th>total_amount_reimbursed_adj</th>\n",
       "      <th>price_per_unit_adj</th>\n",
       "    </tr>\n",
       "  </thead>\n",
       "  <tbody>\n",
       "    <tr>\n",
       "      <th>0</th>\n",
       "      <td>1991-01-01</td>\n",
       "      <td>acetaminophen and codeine phosphate-tablet-ora...</td>\n",
       "      <td>ANDA</td>\n",
       "      <td>Acetaminophen and Codeine Phosphate</td>\n",
       "      <td>Acetaminophen and Codeine Phosphate</td>\n",
       "      <td>Teva Pharmaceuticals USA, Inc.</td>\n",
       "      <td>True</td>\n",
       "      <td>3.863183e+05</td>\n",
       "      <td>2.311662e+05</td>\n",
       "      <td>0.598383</td>\n",
       "    </tr>\n",
       "    <tr>\n",
       "      <th>1</th>\n",
       "      <td>1991-01-01</td>\n",
       "      <td>acetaminophen and codeine phosphate-tablet-ora...</td>\n",
       "      <td>ANDA</td>\n",
       "      <td>Acetaminophen and Codeine Phosphate</td>\n",
       "      <td>Acetaminophen and Codeine Phosphate</td>\n",
       "      <td>Teva Pharmaceuticals USA, Inc.</td>\n",
       "      <td>True</td>\n",
       "      <td>6.832267e+06</td>\n",
       "      <td>4.071327e+06</td>\n",
       "      <td>0.595897</td>\n",
       "    </tr>\n",
       "    <tr>\n",
       "      <th>2</th>\n",
       "      <td>1991-01-01</td>\n",
       "      <td>acetaminophen and codeine phosphate-tablet-ora...</td>\n",
       "      <td>ANDA</td>\n",
       "      <td>Acetaminophen and Codeine Phosphate</td>\n",
       "      <td>Acetaminophen and Codeine Phosphate</td>\n",
       "      <td>Teva Pharmaceuticals USA, Inc.</td>\n",
       "      <td>True</td>\n",
       "      <td>2.599944e+06</td>\n",
       "      <td>1.554268e+06</td>\n",
       "      <td>0.604724</td>\n",
       "    </tr>\n",
       "    <tr>\n",
       "      <th>3</th>\n",
       "      <td>1991-01-01</td>\n",
       "      <td>acetaminophen and codeine phosphate-tablet-ora...</td>\n",
       "      <td>ANDA</td>\n",
       "      <td>Acetaminophen and Codeine Phosphate</td>\n",
       "      <td>Acetaminophen and Codeine Phosphate</td>\n",
       "      <td>Teva Pharmaceuticals USA, Inc.</td>\n",
       "      <td>True</td>\n",
       "      <td>5.812483e+05</td>\n",
       "      <td>3.603117e+05</td>\n",
       "      <td>0.619893</td>\n",
       "    </tr>\n",
       "    <tr>\n",
       "      <th>4</th>\n",
       "      <td>1991-01-01</td>\n",
       "      <td>acetazolamide-tablet-oral-250 mg/1</td>\n",
       "      <td>ANDA</td>\n",
       "      <td>AcetaZOLAMIDE</td>\n",
       "      <td>Acetazolamide</td>\n",
       "      <td>Lannett Company, Inc.</td>\n",
       "      <td>True</td>\n",
       "      <td>8.400000e+02</td>\n",
       "      <td>3.450244e+02</td>\n",
       "      <td>0.410743</td>\n",
       "    </tr>\n",
       "  </tbody>\n",
       "</table>\n",
       "</div>"
      ],
      "text/plain": [
       "         date                                          unique_id  \\\n",
       "0  1991-01-01  acetaminophen and codeine phosphate-tablet-ora...   \n",
       "1  1991-01-01  acetaminophen and codeine phosphate-tablet-ora...   \n",
       "2  1991-01-01  acetaminophen and codeine phosphate-tablet-ora...   \n",
       "3  1991-01-01  acetaminophen and codeine phosphate-tablet-ora...   \n",
       "4  1991-01-01                 acetazolamide-tablet-oral-250 mg/1   \n",
       "\n",
       "  marketing_category                           brand_name  \\\n",
       "0               ANDA  Acetaminophen and Codeine Phosphate   \n",
       "1               ANDA  Acetaminophen and Codeine Phosphate   \n",
       "2               ANDA  Acetaminophen and Codeine Phosphate   \n",
       "3               ANDA  Acetaminophen and Codeine Phosphate   \n",
       "4               ANDA                        AcetaZOLAMIDE   \n",
       "\n",
       "                          generic_name                    labeler_name  \\\n",
       "0  Acetaminophen and Codeine Phosphate  Teva Pharmaceuticals USA, Inc.   \n",
       "1  Acetaminophen and Codeine Phosphate  Teva Pharmaceuticals USA, Inc.   \n",
       "2  Acetaminophen and Codeine Phosphate  Teva Pharmaceuticals USA, Inc.   \n",
       "3  Acetaminophen and Codeine Phosphate  Teva Pharmaceuticals USA, Inc.   \n",
       "4                        Acetazolamide           Lannett Company, Inc.   \n",
       "\n",
       "   is_original_packager  units_reimbursed  total_amount_reimbursed_adj  \\\n",
       "0                  True      3.863183e+05                 2.311662e+05   \n",
       "1                  True      6.832267e+06                 4.071327e+06   \n",
       "2                  True      2.599944e+06                 1.554268e+06   \n",
       "3                  True      5.812483e+05                 3.603117e+05   \n",
       "4                  True      8.400000e+02                 3.450244e+02   \n",
       "\n",
       "   price_per_unit_adj  \n",
       "0            0.598383  \n",
       "1            0.595897  \n",
       "2            0.604724  \n",
       "3            0.619893  \n",
       "4            0.410743  "
      ]
     },
     "execution_count": 29,
     "metadata": {},
     "output_type": "execute_result"
    }
   ],
   "source": [
    "df_reg_org.head()"
   ]
  },
  {
   "cell_type": "markdown",
   "metadata": {},
   "source": [
    "### Calculating the quarterly total amount reimbursed"
   ]
  },
  {
   "cell_type": "code",
   "execution_count": 30,
   "metadata": {},
   "outputs": [],
   "source": [
    "df_temp = df_reg_org.set_index(['date', 'unique_id']).groupby(level = ['date', 'unique_id'])[['units_reimbursed', 'total_amount_reimbursed_adj']].agg('sum')\n",
    "df_temp = df_temp.reset_index()\n",
    "\n",
    "df_temp = df_temp.rename(columns = {\"units_reimbursed\": \"units_reimbursed_sum\", \"total_amount_reimbursed_adj\": \"total_amount_reimbursed_adj_sum\"})\n",
    "\n",
    "df_reg = pd.merge(df_temp[['date', 'unique_id', 'units_reimbursed_sum', 'total_amount_reimbursed_adj_sum']], df_reg_org, on = ['date', 'unique_id',], how = 'right')"
   ]
  },
  {
   "cell_type": "markdown",
   "metadata": {},
   "source": [
    "Removing labeller that are original packager"
   ]
  },
  {
   "cell_type": "code",
   "execution_count": 31,
   "metadata": {},
   "outputs": [],
   "source": [
    "df_reg = df_reg.loc[df_reg['is_original_packager'] == True]"
   ]
  },
  {
   "cell_type": "markdown",
   "metadata": {},
   "source": [
    "# Data manipulation"
   ]
  },
  {
   "cell_type": "markdown",
   "metadata": {},
   "source": [
    "### Assigning order of entrance for each unique drug"
   ]
  },
  {
   "cell_type": "code",
   "execution_count": 32,
   "metadata": {},
   "outputs": [],
   "source": [
    "df_temp = df_reg.sort_values(by = ['unique_id', 'date', 'marketing_category'], ascending = [False, True, False], ignore_index = True) # Sorting\n",
    "\n",
    "df_temp = df_temp.drop_duplicates(subset = ['unique_id', 'labeler_name'], keep = 'first') # Finding the first entrance for each labeller \n",
    "\n",
    "df_temp['labeler_name_count'] = df_temp.groupby((df_temp['unique_id'] != df_temp['unique_id'].shift(1)).cumsum()).cumcount() + 1 # Running count for each drung\n",
    "\n",
    "df_reg = pd.merge(df_temp[['unique_id', 'labeler_name', 'labeler_name_count']], df_reg, on = ['unique_id', 'labeler_name'], how = 'right') # Merging with org. data"
   ]
  },
  {
   "cell_type": "markdown",
   "metadata": {},
   "source": [
    "### Assigning a dummy for first entrance and NDA"
   ]
  },
  {
   "cell_type": "code",
   "execution_count": 33,
   "metadata": {},
   "outputs": [],
   "source": [
    "df_temp = df_reg.loc[(df_reg['labeler_name_count'] == 1) & (df_reg['marketing_category'] == 'NDA')] # Filtering\n",
    "\n",
    "df_temp = df_temp.sort_values(by = ['date', 'unique_id'], ascending = [True, False], ignore_index = True) # Sorting\n",
    "df_temp = df_temp.drop_duplicates(subset = ['unique_id'], keep = 'first') # Removing dublicates\n",
    "\n",
    "df_temp['first_nda'] = 1 # Adding dummy\n",
    "\n",
    "df_reg = pd.merge(df_temp[['unique_id', 'first_nda']], df_reg, on = ['unique_id'], how = 'right') # Merging with reg. data\n",
    "\n",
    "df_reg['first_nda'] = df_reg['first_nda'].fillna(0)"
   ]
  },
  {
   "cell_type": "markdown",
   "metadata": {},
   "source": [
    "Removing unique drug where the first entrance is not a NDA"
   ]
  },
  {
   "cell_type": "code",
   "execution_count": 34,
   "metadata": {},
   "outputs": [],
   "source": [
    "df_reg = df_reg.loc[(df_reg['first_nda'] == 1)]"
   ]
  },
  {
   "cell_type": "markdown",
   "metadata": {},
   "source": [
    "### Assigning a running count for each unique drug"
   ]
  },
  {
   "cell_type": "code",
   "execution_count": 35,
   "metadata": {},
   "outputs": [],
   "source": [
    "df_temp = df_reg.sort_values(by = ['unique_id', 'date'], ascending = [False, True], ignore_index = True) # Sorting\n",
    "df_temp = df_temp.drop_duplicates(subset = ['date', 'unique_id'], keep = 'first') # Removing dublicates\n",
    "\n",
    "df_temp['running_count'] = df_temp.groupby((df_temp['unique_id'] != df_temp['unique_id'].shift(1)).cumsum()).cumcount() + 1 # Running count for each drung\n",
    "\n",
    "df_reg = pd.merge(df_temp[['date', 'unique_id', 'running_count']], df_reg, on = ['date', 'unique_id'], how = 'right') # Merging with org. data"
   ]
  },
  {
   "cell_type": "markdown",
   "metadata": {},
   "source": [
    "### Assigning a total count of the first entrance (to exclude unique drug with multiple entrances)"
   ]
  },
  {
   "cell_type": "code",
   "execution_count": 36,
   "metadata": {},
   "outputs": [],
   "source": [
    "df_temp = df_reg.loc[(df_reg['running_count'] == 1)]\n",
    "          \n",
    "df_temp = df_temp.groupby(['unique_id'])['first_nda'].sum()\n",
    "df_temp = df_temp.reset_index()\n",
    "df_temp = df_temp.rename(columns = {\"first_nda\": \"number_of_first_entrance\"})\n",
    "\n",
    "df_temp = df_temp.loc[(df_temp['number_of_first_entrance'] > 1)]\n",
    "\n",
    "df_reg = pd.merge(df_temp[['unique_id', 'number_of_first_entrance']], df_reg, on = ['unique_id'], how = 'right') # Merging with reg. data\n",
    "\n",
    "df_reg['number_of_first_entrance'] = df_reg['number_of_first_entrance'].fillna(1)"
   ]
  },
  {
   "cell_type": "markdown",
   "metadata": {},
   "source": [
    "Removing unique drug which has multiple entrances"
   ]
  },
  {
   "cell_type": "code",
   "execution_count": 37,
   "metadata": {},
   "outputs": [],
   "source": [
    "df_reg = df_reg.loc[(df_reg['number_of_first_entrance'] == 1)]"
   ]
  },
  {
   "cell_type": "markdown",
   "metadata": {},
   "source": [
    "# Check for issue"
   ]
  },
  {
   "cell_type": "code",
   "execution_count": 38,
   "metadata": {},
   "outputs": [
    {
     "name": "stdout",
     "output_type": "stream",
     "text": [
      "229525\n",
      "229525\n"
     ]
    }
   ],
   "source": [
    "print(len(df_reg))\n",
    "df_reg_issue = df_reg.drop_duplicates(subset = ['unique_id', 'date', 'labeler_name'])\n",
    "print(len(df_reg))"
   ]
  },
  {
   "cell_type": "markdown",
   "metadata": {},
   "source": [
    "# Downloading Data"
   ]
  },
  {
   "cell_type": "code",
   "execution_count": 17,
   "metadata": {},
   "outputs": [],
   "source": [
    "df_reg.to_csv('output_regression_org.csv', sep = '~', index = False)"
   ]
  },
  {
   "cell_type": "markdown",
   "metadata": {},
   "source": [
    "# Loading Data"
   ]
  },
  {
   "cell_type": "code",
   "execution_count": 373,
   "metadata": {},
   "outputs": [],
   "source": [
    "df_reg = pd.read_csv('output_regression_org.csv', sep = '~')"
   ]
  },
  {
   "cell_type": "markdown",
   "metadata": {},
   "source": [
    "# Regression"
   ]
  },
  {
   "cell_type": "code",
   "execution_count": 51,
   "metadata": {},
   "outputs": [
    {
     "name": "stdout",
     "output_type": "stream",
     "text": [
      "<class 'pandas.core.frame.DataFrame'>\n",
      "Int64Index: 229525 entries, 0 to 239153\n",
      "Data columns (total 17 columns):\n",
      " #   Column                           Non-Null Count   Dtype  \n",
      "---  ------                           --------------   -----  \n",
      " 0   unique_id                        229525 non-null  object \n",
      " 1   number_of_first_entrance         229525 non-null  float64\n",
      " 2   date                             229525 non-null  object \n",
      " 3   running_count                    229525 non-null  int64  \n",
      " 4   first_nda                        229525 non-null  float64\n",
      " 5   labeler_name                     229525 non-null  object \n",
      " 6   labeler_name_count               229525 non-null  int64  \n",
      " 7   units_reimbursed_sum             229525 non-null  float64\n",
      " 8   total_amount_reimbursed_adj_sum  229525 non-null  float64\n",
      " 9   marketing_category               229525 non-null  object \n",
      " 10  brand_name                       229525 non-null  object \n",
      " 11  generic_name                     229525 non-null  object \n",
      " 12  is_original_packager             229525 non-null  bool   \n",
      " 13  units_reimbursed                 229525 non-null  float64\n",
      " 14  total_amount_reimbursed_adj      229525 non-null  float64\n",
      " 15  price_per_unit_adj               229525 non-null  float64\n",
      " 16  second_entrance                  229525 non-null  int64  \n",
      "dtypes: bool(1), float64(7), int64(3), object(6)\n",
      "memory usage: 30.0+ MB\n"
     ]
    }
   ],
   "source": [
    "df_reg.info()"
   ]
  },
  {
   "cell_type": "code",
   "execution_count": 52,
   "metadata": {},
   "outputs": [],
   "source": [
    "df_temp = df_reg"
   ]
  },
  {
   "cell_type": "markdown",
   "metadata": {},
   "source": [
    "Assign a dummy for second entrance"
   ]
  },
  {
   "cell_type": "code",
   "execution_count": 53,
   "metadata": {},
   "outputs": [],
   "source": [
    "df_temp['second_entrance'] = df_temp['labeler_name_count'].apply(lambda x: 1 if x == 2 else 0)\n",
    "df_temp['second_entrance'] = df_temp['second_entrance'].apply(pd.to_numeric)"
   ]
  },
  {
   "cell_type": "markdown",
   "metadata": {},
   "source": [
    "Calculating the log of the sum of total amount reimbursed"
   ]
  },
  {
   "cell_type": "code",
   "execution_count": 54,
   "metadata": {},
   "outputs": [],
   "source": [
    "df_temp['ln_total_amount_reimbursed_adj_sum'] = np.log(df_temp['total_amount_reimbursed_adj_sum'])"
   ]
  },
  {
   "cell_type": "markdown",
   "metadata": {},
   "source": [
    "Change the format of the date to a integer"
   ]
  },
  {
   "cell_type": "code",
   "execution_count": 55,
   "metadata": {},
   "outputs": [],
   "source": [
    "df_temp['date'] = df_temp['date'].str.replace('-', '')\n",
    "df_temp['date'] = df_temp['date'].apply(pd.to_numeric)"
   ]
  },
  {
   "cell_type": "code",
   "execution_count": 56,
   "metadata": {},
   "outputs": [],
   "source": [
    "df_OLS = df_temp.set_index(['unique_id', 'date'])"
   ]
  },
  {
   "cell_type": "markdown",
   "metadata": {},
   "source": [
    "Estimating the regression"
   ]
  },
  {
   "cell_type": "markdown",
   "metadata": {},
   "source": [
    "<p style=\"color:red\">Possible issue: Should we remove unique drugs that do not have a second entrance?</p>"
   ]
  },
  {
   "cell_type": "code",
   "execution_count": 59,
   "metadata": {},
   "outputs": [
    {
     "name": "stdout",
     "output_type": "stream",
     "text": [
      "                          PooledOLS Estimation Summary                          \n",
      "================================================================================\n",
      "Dep. Variable:        second_entrance   R-squared:                        0.0005\n",
      "Estimator:                  PooledOLS   R-squared (Between):             -0.2420\n",
      "No. Observations:              229525   R-squared (Within):              -0.0015\n",
      "Date:                Tue, Mar 08 2022   R-squared (Overall):              0.0005\n",
      "Time:                        09:25:55   Log-likelihood                -7.596e+04\n",
      "Cov. Estimator:            Unadjusted                                           \n",
      "                                        F-statistic:                      119.34\n",
      "Entities:                        3582   P-value                           0.0000\n",
      "Avg Obs:                       64.077   Distribution:                F(1,229523)\n",
      "Min Obs:                       1.0000                                           \n",
      "Max Obs:                       612.00   F-statistic (robust):             119.34\n",
      "                                        P-value                           0.0000\n",
      "Time periods:                     121   Distribution:                F(1,229523)\n",
      "Avg Obs:                       1896.9                                           \n",
      "Min Obs:                       182.00                                           \n",
      "Max Obs:                       6383.0                                           \n",
      "                                                                                \n",
      "                                         Parameter Estimates                                          \n",
      "======================================================================================================\n",
      "                                    Parameter  Std. Err.     T-stat    P-value    Lower CI    Upper CI\n",
      "------------------------------------------------------------------------------------------------------\n",
      "const                                  0.0916     0.0036     25.198     0.0000      0.0845      0.0988\n",
      "ln_total_amount_reimbursed_adj_sum     0.0029     0.0003     10.924     0.0000      0.0023      0.0034\n",
      "======================================================================================================\n"
     ]
    }
   ],
   "source": [
    "exog_vars = ['ln_total_amount_reimbursed_adj_sum']\n",
    "exog = sm.add_constant(df_OLS[exog_vars])\n",
    "endog = df_OLS['second_entrance']\n",
    "\n",
    "mod = PooledOLS(endog, exog)\n",
    "pooled_res = mod.fit()\n",
    "print(pooled_res)"
   ]
  },
  {
   "cell_type": "code",
   "execution_count": 60,
   "metadata": {},
   "outputs": [
    {
     "name": "stdout",
     "output_type": "stream",
     "text": [
      "                          PooledOLS Estimation Summary                          \n",
      "================================================================================\n",
      "Dep. Variable:        second_entrance   R-squared:                        0.0308\n",
      "Estimator:                  PooledOLS   R-squared (Between):              0.1133\n",
      "No. Observations:              229525   R-squared (Within):               0.0210\n",
      "Date:                Tue, Mar 08 2022   R-squared (Overall):              0.0308\n",
      "Time:                        09:33:41   Log-likelihood                -7.242e+04\n",
      "Cov. Estimator:            Unadjusted                                           \n",
      "                                        F-statistic:                      3651.6\n",
      "Entities:                        3582   P-value                           0.0000\n",
      "Avg Obs:                       64.077   Distribution:                F(2,229522)\n",
      "Min Obs:                       1.0000                                           \n",
      "Max Obs:                       612.00   F-statistic (robust):             3651.6\n",
      "                                        P-value                           0.0000\n",
      "Time periods:                     121   Distribution:                F(2,229522)\n",
      "Avg Obs:                       1896.9                                           \n",
      "Min Obs:                       182.00                                           \n",
      "Max Obs:                       6383.0                                           \n",
      "                                                                                \n",
      "                                         Parameter Estimates                                          \n",
      "======================================================================================================\n",
      "                                    Parameter  Std. Err.     T-stat    P-value    Lower CI    Upper CI\n",
      "------------------------------------------------------------------------------------------------------\n",
      "const                                  0.0421     0.0036     11.606     0.0000      0.0350      0.0492\n",
      "ln_total_amount_reimbursed_adj_sum     0.0002     0.0003     0.6305     0.5284     -0.0003      0.0007\n",
      "running_count                          0.0019  2.298e-05     84.735     0.0000      0.0019      0.0020\n",
      "======================================================================================================\n"
     ]
    }
   ],
   "source": [
    "exog_vars = ['ln_total_amount_reimbursed_adj_sum', 'running_count']\n",
    "exog = sm.add_constant(df_OLS[exog_vars])\n",
    "endog = df_OLS['second_entrance']\n",
    "\n",
    "mod = PooledOLS(endog, exog)\n",
    "pooled_res = mod.fit()\n",
    "print(pooled_res)"
   ]
  },
  {
   "cell_type": "code",
   "execution_count": null,
   "metadata": {},
   "outputs": [],
   "source": []
  }
 ],
 "metadata": {
  "kernelspec": {
   "display_name": "Python 3",
   "language": "python",
   "name": "python3"
  },
  "language_info": {
   "codemirror_mode": {
    "name": "ipython",
    "version": 3
   },
   "file_extension": ".py",
   "mimetype": "text/x-python",
   "name": "python",
   "nbconvert_exporter": "python",
   "pygments_lexer": "ipython3",
   "version": "3.8.5"
  }
 },
 "nbformat": 4,
 "nbformat_minor": 4
}
